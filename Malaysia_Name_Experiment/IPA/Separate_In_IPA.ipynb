{
 "cells": [
  {
   "cell_type": "code",
   "execution_count": 1,
   "metadata": {
    "ExecuteTime": {
     "end_time": "2019-12-16T09:36:21.182980Z",
     "start_time": "2019-12-16T09:36:20.154035Z"
    }
   },
   "outputs": [],
   "source": [
    "import pandas as pd\n",
    "import numpy as np\n",
    "import eng_to_ipa as ipa\n",
    "import panphon as panphon"
   ]
  },
  {
   "cell_type": "code",
   "execution_count": 59,
   "metadata": {
    "ExecuteTime": {
     "end_time": "2019-12-17T10:13:50.054388Z",
     "start_time": "2019-12-17T10:13:50.043443Z"
    }
   },
   "outputs": [],
   "source": [
    "import multiprocessing\n",
    "\n",
    "def _apply(pool_map_args):\n",
    "    df = pool_map_args[0]\n",
    "    func = pool_map_args[1]\n",
    "    args = pool_map_args[2]\n",
    "#     print(args)\n",
    "    \n",
    "    return df.apply(func,axis = 1, args = args)\n",
    "\n",
    "def parallel_apply(df, func, args):\n",
    "    #指定主機有多少CPU，並把df 平均分配size\n",
    "    num_processes = 32\n",
    "    chunk_size = int(df.shape[0]/num_processes)\n",
    "\n",
    "    #將df 拆解成 num_processes 個 chunk 的df list\n",
    "    chunks = [df.ix[df.index[i:i + chunk_size]] for i in range(0, df.shape[0], chunk_size)]\n",
    "    pool_map_args = [(df, func, args) for df in chunks]\n",
    "    pool = multiprocessing.Pool(processes = num_processes)\n",
    "    result = pool.map(_apply, pool_map_args)\n",
    "    result = pd.concat([i for i in result])\n",
    "    pool.terminate()\n",
    "    pool.join()\n",
    "    return result"
   ]
  },
  {
   "cell_type": "code",
   "execution_count": 36,
   "metadata": {
    "ExecuteTime": {
     "end_time": "2019-12-16T12:22:35.920861Z",
     "start_time": "2019-12-16T12:22:35.843005Z"
    }
   },
   "outputs": [],
   "source": [
    "# READ MY DATA INTO CSV FILE\n",
    "msadata = pd.read_csv('../MY_TESTDATA.csv', parse_dates = True)"
   ]
  },
  {
   "cell_type": "code",
   "execution_count": 37,
   "metadata": {
    "ExecuteTime": {
     "end_time": "2019-12-16T12:22:36.123299Z",
     "start_time": "2019-12-16T12:22:36.115098Z"
    }
   },
   "outputs": [],
   "source": [
    "msadata['FN1_sonin'] = msadata['FN1_sonin'].fillna(\"-1\")\n",
    "msadata['FN2_sonin'] = msadata['FN2_sonin'].fillna(\"-1\")"
   ]
  },
  {
   "cell_type": "code",
   "execution_count": 56,
   "metadata": {
    "ExecuteTime": {
     "end_time": "2019-12-17T07:12:31.540194Z",
     "start_time": "2019-12-17T07:12:31.528291Z"
    }
   },
   "outputs": [
    {
     "data": {
      "text/html": [
       "<div>\n",
       "<style scoped>\n",
       "    .dataframe tbody tr th:only-of-type {\n",
       "        vertical-align: middle;\n",
       "    }\n",
       "\n",
       "    .dataframe tbody tr th {\n",
       "        vertical-align: top;\n",
       "    }\n",
       "\n",
       "    .dataframe thead th {\n",
       "        text-align: right;\n",
       "    }\n",
       "</style>\n",
       "<table border=\"1\" class=\"dataframe\">\n",
       "  <thead>\n",
       "    <tr style=\"text-align: right;\">\n",
       "      <th></th>\n",
       "      <th>FN1_sonin</th>\n",
       "      <th>FN2_sonin</th>\n",
       "    </tr>\n",
       "  </thead>\n",
       "  <tbody>\n",
       "    <tr>\n",
       "      <th>0</th>\n",
       "      <td>H</td>\n",
       "      <td>S</td>\n",
       "    </tr>\n",
       "    <tr>\n",
       "      <th>1</th>\n",
       "      <td>Y</td>\n",
       "      <td>F</td>\n",
       "    </tr>\n",
       "    <tr>\n",
       "      <th>2</th>\n",
       "      <td>S</td>\n",
       "      <td>S</td>\n",
       "    </tr>\n",
       "    <tr>\n",
       "      <th>3</th>\n",
       "      <td>K</td>\n",
       "      <td>S</td>\n",
       "    </tr>\n",
       "    <tr>\n",
       "      <th>4</th>\n",
       "      <td>Kh</td>\n",
       "      <td>Th</td>\n",
       "    </tr>\n",
       "    <tr>\n",
       "      <th>...</th>\n",
       "      <td>...</td>\n",
       "      <td>...</td>\n",
       "    </tr>\n",
       "    <tr>\n",
       "      <th>1908</th>\n",
       "      <td>K</td>\n",
       "      <td>Y</td>\n",
       "    </tr>\n",
       "    <tr>\n",
       "      <th>1909</th>\n",
       "      <td>H</td>\n",
       "      <td>Ch</td>\n",
       "    </tr>\n",
       "    <tr>\n",
       "      <th>1910</th>\n",
       "      <td>W</td>\n",
       "      <td>K</td>\n",
       "    </tr>\n",
       "    <tr>\n",
       "      <th>1911</th>\n",
       "      <td>Y</td>\n",
       "      <td>L</td>\n",
       "    </tr>\n",
       "    <tr>\n",
       "      <th>1912</th>\n",
       "      <td>J</td>\n",
       "      <td>L</td>\n",
       "    </tr>\n",
       "  </tbody>\n",
       "</table>\n",
       "<p>1913 rows × 2 columns</p>\n",
       "</div>"
      ],
      "text/plain": [
       "     FN1_sonin FN2_sonin\n",
       "0            H         S\n",
       "1            Y         F\n",
       "2            S         S\n",
       "3            K         S\n",
       "4           Kh        Th\n",
       "...        ...       ...\n",
       "1908         K         Y\n",
       "1909         H        Ch\n",
       "1910         W         K\n",
       "1911         Y         L\n",
       "1912         J         L\n",
       "\n",
       "[1913 rows x 2 columns]"
      ]
     },
     "execution_count": 56,
     "metadata": {},
     "output_type": "execute_result"
    }
   ],
   "source": [
    "msadata[['FN1_sonin','FN2_sonin']][:1913]"
   ]
  },
  {
   "cell_type": "code",
   "execution_count": 57,
   "metadata": {
    "ExecuteTime": {
     "end_time": "2019-12-17T07:13:24.146560Z",
     "start_time": "2019-12-17T07:13:24.142158Z"
    }
   },
   "outputs": [],
   "source": [
    "def convertFN1S(row):\n",
    "    return ipa.convert(row['FN1_sonin'])\n",
    "    \n",
    "def convertFN2S(row):\n",
    "    return ipa.convert(row['FN2_sonin'])"
   ]
  },
  {
   "cell_type": "code",
   "execution_count": 60,
   "metadata": {
    "ExecuteTime": {
     "end_time": "2019-12-17T10:26:10.978010Z",
     "start_time": "2019-12-17T10:13:52.548857Z"
    },
    "scrolled": true
   },
   "outputs": [
    {
     "name": "stderr",
     "output_type": "stream",
     "text": [
      "/home/yvonnechow/.local/lib/python3.6/site-packages/ipykernel_launcher.py:17: FutureWarning: \n",
      ".ix is deprecated. Please use\n",
      ".loc for label based indexing or\n",
      ".iloc for positional indexing\n",
      "\n",
      "See the documentation here:\n",
      "http://pandas.pydata.org/pandas-docs/stable/user_guide/indexing.html#ix-indexer-is-deprecated\n"
     ]
    }
   ],
   "source": [
    "msadata['FN1_sonin_IPA'] = parallel_apply(msadata, convertFN1S, args = ())"
   ]
  },
  {
   "cell_type": "code",
   "execution_count": 61,
   "metadata": {
    "ExecuteTime": {
     "end_time": "2019-12-17T10:37:57.721314Z",
     "start_time": "2019-12-17T10:26:10.980013Z"
    }
   },
   "outputs": [
    {
     "name": "stderr",
     "output_type": "stream",
     "text": [
      "/home/yvonnechow/.local/lib/python3.6/site-packages/ipykernel_launcher.py:17: FutureWarning: \n",
      ".ix is deprecated. Please use\n",
      ".loc for label based indexing or\n",
      ".iloc for positional indexing\n",
      "\n",
      "See the documentation here:\n",
      "http://pandas.pydata.org/pandas-docs/stable/user_guide/indexing.html#ix-indexer-is-deprecated\n"
     ]
    }
   ],
   "source": [
    "msadata['FN2_sonin_IPA'] = parallel_apply(msadata, convertFN2S, args = ())"
   ]
  },
  {
   "cell_type": "code",
   "execution_count": 62,
   "metadata": {
    "ExecuteTime": {
     "end_time": "2019-12-17T10:37:57.746443Z",
     "start_time": "2019-12-17T10:37:57.723077Z"
    }
   },
   "outputs": [
    {
     "data": {
      "text/html": [
       "<div>\n",
       "<style scoped>\n",
       "    .dataframe tbody tr th:only-of-type {\n",
       "        vertical-align: middle;\n",
       "    }\n",
       "\n",
       "    .dataframe tbody tr th {\n",
       "        vertical-align: top;\n",
       "    }\n",
       "\n",
       "    .dataframe thead th {\n",
       "        text-align: right;\n",
       "    }\n",
       "</style>\n",
       "<table border=\"1\" class=\"dataframe\">\n",
       "  <thead>\n",
       "    <tr style=\"text-align: right;\">\n",
       "      <th></th>\n",
       "      <th>FN1_sonin</th>\n",
       "      <th>FN1_sonin_IPA</th>\n",
       "      <th>FN2_sonin</th>\n",
       "      <th>FN2_sonin_IPA</th>\n",
       "    </tr>\n",
       "  </thead>\n",
       "  <tbody>\n",
       "    <tr>\n",
       "      <th>0</th>\n",
       "      <td>H</td>\n",
       "      <td>eʧ</td>\n",
       "      <td>S</td>\n",
       "      <td>ɛs</td>\n",
       "    </tr>\n",
       "    <tr>\n",
       "      <th>1</th>\n",
       "      <td>Y</td>\n",
       "      <td>waɪ</td>\n",
       "      <td>F</td>\n",
       "      <td>ɛf</td>\n",
       "    </tr>\n",
       "    <tr>\n",
       "      <th>2</th>\n",
       "      <td>S</td>\n",
       "      <td>ɛs</td>\n",
       "      <td>S</td>\n",
       "      <td>ɛs</td>\n",
       "    </tr>\n",
       "    <tr>\n",
       "      <th>3</th>\n",
       "      <td>K</td>\n",
       "      <td>ke</td>\n",
       "      <td>S</td>\n",
       "      <td>ɛs</td>\n",
       "    </tr>\n",
       "    <tr>\n",
       "      <th>4</th>\n",
       "      <td>Kh</td>\n",
       "      <td>kh*</td>\n",
       "      <td>Th</td>\n",
       "      <td>ˈtiˈeʧ</td>\n",
       "    </tr>\n",
       "    <tr>\n",
       "      <th>...</th>\n",
       "      <td>...</td>\n",
       "      <td>...</td>\n",
       "      <td>...</td>\n",
       "      <td>...</td>\n",
       "    </tr>\n",
       "    <tr>\n",
       "      <th>30560</th>\n",
       "      <td>-1</td>\n",
       "      <td>1</td>\n",
       "      <td>K</td>\n",
       "      <td>ke</td>\n",
       "    </tr>\n",
       "    <tr>\n",
       "      <th>30561</th>\n",
       "      <td>J</td>\n",
       "      <td>ʤe</td>\n",
       "      <td>X</td>\n",
       "      <td>ɛks</td>\n",
       "    </tr>\n",
       "    <tr>\n",
       "      <th>30562</th>\n",
       "      <td>Y</td>\n",
       "      <td>waɪ</td>\n",
       "      <td>K</td>\n",
       "      <td>ke</td>\n",
       "    </tr>\n",
       "    <tr>\n",
       "      <th>30563</th>\n",
       "      <td>H</td>\n",
       "      <td>eʧ</td>\n",
       "      <td>Sz</td>\n",
       "      <td>sz*</td>\n",
       "    </tr>\n",
       "    <tr>\n",
       "      <th>30564</th>\n",
       "      <td>W</td>\n",
       "      <td>ˈdəbəlju</td>\n",
       "      <td>L</td>\n",
       "      <td>ɛl</td>\n",
       "    </tr>\n",
       "  </tbody>\n",
       "</table>\n",
       "<p>30565 rows × 4 columns</p>\n",
       "</div>"
      ],
      "text/plain": [
       "      FN1_sonin FN1_sonin_IPA FN2_sonin FN2_sonin_IPA\n",
       "0             H            eʧ         S            ɛs\n",
       "1             Y           waɪ         F            ɛf\n",
       "2             S            ɛs         S            ɛs\n",
       "3             K            ke         S            ɛs\n",
       "4            Kh           kh*        Th        ˈtiˈeʧ\n",
       "...         ...           ...       ...           ...\n",
       "30560        -1             1         K            ke\n",
       "30561         J            ʤe         X           ɛks\n",
       "30562         Y           waɪ         K            ke\n",
       "30563         H            eʧ        Sz           sz*\n",
       "30564         W      ˈdəbəlju         L            ɛl\n",
       "\n",
       "[30565 rows x 4 columns]"
      ]
     },
     "execution_count": 62,
     "metadata": {},
     "output_type": "execute_result"
    }
   ],
   "source": [
    "msadata[['FN1_sonin','FN1_sonin_IPA','FN2_sonin','FN2_sonin_IPA']]"
   ]
  },
  {
   "cell_type": "code",
   "execution_count": 63,
   "metadata": {
    "ExecuteTime": {
     "end_time": "2019-12-17T11:28:02.228400Z",
     "start_time": "2019-12-17T11:28:01.528997Z"
    }
   },
   "outputs": [],
   "source": [
    "# SAVE NEW MSA DATA INTO CSV FILE\n",
    "msadata.to_csv('MSA_SEP_IPA12.csv', index = False)"
   ]
  },
  {
   "cell_type": "code",
   "execution_count": null,
   "metadata": {},
   "outputs": [],
   "source": []
  }
 ],
 "metadata": {
  "kernelspec": {
   "display_name": "Python 3",
   "language": "python",
   "name": "python3"
  },
  "language_info": {
   "codemirror_mode": {
    "name": "ipython",
    "version": 3
   },
   "file_extension": ".py",
   "mimetype": "text/x-python",
   "name": "python",
   "nbconvert_exporter": "python",
   "pygments_lexer": "ipython3",
   "version": "3.6.8"
  }
 },
 "nbformat": 4,
 "nbformat_minor": 2
}
