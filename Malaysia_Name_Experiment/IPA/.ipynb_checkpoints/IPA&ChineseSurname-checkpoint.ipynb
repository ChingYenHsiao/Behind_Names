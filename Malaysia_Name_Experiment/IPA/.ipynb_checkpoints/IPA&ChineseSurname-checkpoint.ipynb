{
 "cells": [
  {
   "cell_type": "code",
   "execution_count": 1,
   "metadata": {
    "ExecuteTime": {
     "end_time": "2019-10-04T15:11:09.994842Z",
     "start_time": "2019-10-04T15:11:09.708781Z"
    }
   },
   "outputs": [],
   "source": [
    "import pandas as pd\n",
    "import numpy as np\n",
    "import eng_to_ipa as ipa\n",
    "import panphon as panphon"
   ]
  },
  {
   "cell_type": "code",
   "execution_count": 2,
   "metadata": {
    "ExecuteTime": {
     "end_time": "2019-10-04T15:11:10.060384Z",
     "start_time": "2019-10-04T15:11:09.996400Z"
    }
   },
   "outputs": [],
   "source": [
    "chinesedata = pd.read_csv('chineserace.csv', parse_dates = True)"
   ]
  },
  {
   "cell_type": "code",
   "execution_count": 3,
   "metadata": {
    "ExecuteTime": {
     "end_time": "2019-10-04T15:11:10.066932Z",
     "start_time": "2019-10-04T15:11:10.061952Z"
    }
   },
   "outputs": [],
   "source": [
    "import multiprocessing\n",
    "\n",
    "def _apply(pool_map_args):\n",
    "    df = pool_map_args[0]\n",
    "    func = pool_map_args[1]\n",
    "    args = pool_map_args[2]\n",
    "#     print(args)\n",
    "    \n",
    "    return df.apply(func,axis = 1, args = args)\n",
    "\n",
    "def parallel_apply(df, func, args):\n",
    "    #指定主機有多少CPU，並把df 平均分配size\n",
    "    num_processes = 10\n",
    "    chunk_size = int(df.shape[0]/num_processes)\n",
    "\n",
    "    #將df 拆解成 num_processes 個 chunk 的df list\n",
    "    chunks = [df.ix[df.index[i:i + chunk_size]] for i in range(0, df.shape[0], chunk_size)]\n",
    "    pool_map_args = [(df, func, args) for df in chunks]\n",
    "    pool = multiprocessing.Pool(processes = num_processes)\n",
    "    result = pool.map(_apply, pool_map_args)\n",
    "    result = pd.concat([i for i in result])\n",
    "    pool.terminate()\n",
    "    pool.join()\n",
    "    return result"
   ]
  },
  {
   "cell_type": "code",
   "execution_count": 4,
   "metadata": {
    "ExecuteTime": {
     "end_time": "2019-10-04T15:11:10.073716Z",
     "start_time": "2019-10-04T15:11:10.068517Z"
    }
   },
   "outputs": [],
   "source": [
    "def convert(row):\n",
    "    return ipa.convert(row['First Name'])"
   ]
  },
  {
   "cell_type": "code",
   "execution_count": 5,
   "metadata": {
    "ExecuteTime": {
     "end_time": "2019-10-04T15:17:11.650410Z",
     "start_time": "2019-10-04T15:11:10.075027Z"
    }
   },
   "outputs": [
    {
     "name": "stderr",
     "output_type": "stream",
     "text": [
      "/home/yvonnechow/.local/lib/python3.6/site-packages/ipykernel_launcher.py:17: DeprecationWarning: \n",
      ".ix is deprecated. Please use\n",
      ".loc for label based indexing or\n",
      ".iloc for positional indexing\n",
      "\n",
      "See the documentation here:\n",
      "http://pandas.pydata.org/pandas-docs/stable/indexing.html#ix-indexer-is-deprecated\n"
     ]
    }
   ],
   "source": [
    "chinesedata['IPA Name'] = parallel_apply(chinesedata, convert, args = ())"
   ]
  },
  {
   "cell_type": "code",
   "execution_count": 6,
   "metadata": {
    "ExecuteTime": {
     "end_time": "2019-10-04T15:17:11.738263Z",
     "start_time": "2019-10-04T15:17:11.652080Z"
    }
   },
   "outputs": [],
   "source": [
    "# SAVE IPA DATA INTO CSV FILE\n",
    "# chinesedata.to_csv('withIPAName.csv', index = False)\n",
    "\n",
    "# READ IPA DATA\n",
    "IPAdata = pd.read_csv('withIPAName.csv', parse_dates = True)\n",
    "lastnamelist = pd.read_csv('LastNameList.csv', parse_dates = True)"
   ]
  },
  {
   "cell_type": "code",
   "execution_count": 7,
   "metadata": {
    "ExecuteTime": {
     "end_time": "2019-10-04T15:17:11.741688Z",
     "start_time": "2019-10-04T15:17:11.739518Z"
    }
   },
   "outputs": [],
   "source": [
    "target = lastnamelist['Last Name'].tolist()"
   ]
  },
  {
   "cell_type": "code",
   "execution_count": 8,
   "metadata": {
    "ExecuteTime": {
     "end_time": "2019-10-04T15:17:11.769598Z",
     "start_time": "2019-10-04T15:17:11.742876Z"
    }
   },
   "outputs": [],
   "source": [
    "chiEthicsdata = pd.merge(IPAdata, lastnamelist, on = 'Last Name', how = 'left')"
   ]
  },
  {
   "cell_type": "code",
   "execution_count": 9,
   "metadata": {
    "ExecuteTime": {
     "end_time": "2019-10-04T15:17:11.806380Z",
     "start_time": "2019-10-04T15:17:11.771405Z"
    }
   },
   "outputs": [],
   "source": [
    "chiEthicsdata = chiEthicsdata.fillna('')"
   ]
  },
  {
   "cell_type": "code",
   "execution_count": 10,
   "metadata": {
    "ExecuteTime": {
     "end_time": "2019-10-04T15:17:11.810850Z",
     "start_time": "2019-10-04T15:17:11.807710Z"
    }
   },
   "outputs": [],
   "source": [
    "def merge_on_last_name(row):\n",
    "    last_name = row['Last Name']\n",
    "    if(row['姓氏'] == ''):\n",
    "        for target_last_name in target:\n",
    "            if(target_last_name in last_name.split()):\n",
    "                return lastnamelist[lastnamelist['Last Name'] == target_last_name]['姓氏'].tolist()[0]\n",
    "                \n",
    "    return row['姓氏']"
   ]
  },
  {
   "cell_type": "code",
   "execution_count": 11,
   "metadata": {
    "ExecuteTime": {
     "end_time": "2019-10-04T15:17:11.818061Z",
     "start_time": "2019-10-04T15:17:11.812061Z"
    }
   },
   "outputs": [],
   "source": [
    "def merge_on_ethnic(row):\n",
    "    last_name = row['Last Name']\n",
    "    if(row['Ethnic'] == ''):\n",
    "        for target_last_name in target:\n",
    "            if(target_last_name in last_name.split()):\n",
    "                return lastnamelist[lastnamelist['Last Name'] == target_last_name]['Ethnic'].tolist()[0]\n",
    "                \n",
    "    return row['Ethnic']"
   ]
  },
  {
   "cell_type": "code",
   "execution_count": 12,
   "metadata": {
    "ExecuteTime": {
     "end_time": "2019-10-04T15:17:12.959407Z",
     "start_time": "2019-10-04T15:17:11.819606Z"
    }
   },
   "outputs": [
    {
     "name": "stderr",
     "output_type": "stream",
     "text": [
      "/home/yvonnechow/.local/lib/python3.6/site-packages/ipykernel_launcher.py:17: DeprecationWarning: \n",
      ".ix is deprecated. Please use\n",
      ".loc for label based indexing or\n",
      ".iloc for positional indexing\n",
      "\n",
      "See the documentation here:\n",
      "http://pandas.pydata.org/pandas-docs/stable/indexing.html#ix-indexer-is-deprecated\n"
     ]
    }
   ],
   "source": [
    "chiEthicsdata['姓氏'] = parallel_apply(chiEthicsdata, merge_on_last_name, ())\n",
    "chiEthicsdata['Ethnic'] = parallel_apply(chiEthicsdata, merge_on_ethnic, ())"
   ]
  },
  {
   "cell_type": "code",
   "execution_count": 13,
   "metadata": {
    "ExecuteTime": {
     "end_time": "2019-10-04T15:17:12.968838Z",
     "start_time": "2019-10-04T15:17:12.960709Z"
    }
   },
   "outputs": [
    {
     "data": {
      "text/plain": [
       "0"
      ]
     },
     "execution_count": 13,
     "metadata": {},
     "output_type": "execute_result"
    }
   ],
   "source": [
    "chiEthicsdata['姓氏'].isnull().sum()"
   ]
  },
  {
   "cell_type": "code",
   "execution_count": 14,
   "metadata": {
    "ExecuteTime": {
     "end_time": "2019-10-04T15:17:13.218605Z",
     "start_time": "2019-10-04T15:17:12.969960Z"
    }
   },
   "outputs": [],
   "source": [
    "# SAVE 姓氏 DATA INTO CSV FILE\n",
    "chiEthicsdata.to_csv('withChiEthics.csv', index = False)\n",
    "\n",
    "# READ IPA DATA\n",
    "chiEthicsdata = pd.read_csv('withChiEthics.csv', parse_dates = True)"
   ]
  },
  {
   "cell_type": "code",
   "execution_count": 15,
   "metadata": {
    "ExecuteTime": {
     "end_time": "2019-10-04T15:17:13.225195Z",
     "start_time": "2019-10-04T15:17:13.219724Z"
    }
   },
   "outputs": [],
   "source": [
    "# DROP COLUMN ''\n",
    "chiEthicsdata = chiEthicsdata.drop(columns = ['Degree','Intake Date','Intake Year','Name','Race'])"
   ]
  },
  {
   "cell_type": "code",
   "execution_count": 16,
   "metadata": {
    "ExecuteTime": {
     "end_time": "2019-10-04T15:17:13.243387Z",
     "start_time": "2019-10-04T15:17:13.226317Z"
    }
   },
   "outputs": [
    {
     "data": {
      "text/html": [
       "<div>\n",
       "<style scoped>\n",
       "    .dataframe tbody tr th:only-of-type {\n",
       "        vertical-align: middle;\n",
       "    }\n",
       "\n",
       "    .dataframe tbody tr th {\n",
       "        vertical-align: top;\n",
       "    }\n",
       "\n",
       "    .dataframe thead th {\n",
       "        text-align: right;\n",
       "    }\n",
       "</style>\n",
       "<table border=\"1\" class=\"dataframe\">\n",
       "  <thead>\n",
       "    <tr style=\"text-align: right;\">\n",
       "      <th></th>\n",
       "      <th>Last Name</th>\n",
       "      <th>First Name</th>\n",
       "      <th>DTitle</th>\n",
       "      <th>Year</th>\n",
       "      <th>Age</th>\n",
       "      <th>IPA Name</th>\n",
       "      <th>姓氏</th>\n",
       "      <th>Ethnic</th>\n",
       "    </tr>\n",
       "  </thead>\n",
       "  <tbody>\n",
       "    <tr>\n",
       "      <th>0</th>\n",
       "      <td>TEOH</td>\n",
       "      <td>HAN SEN</td>\n",
       "      <td>BACHELOR</td>\n",
       "      <td>1977.0</td>\n",
       "      <td>42.0</td>\n",
       "      <td>hɑn sɛn</td>\n",
       "      <td>張</td>\n",
       "      <td>Hokkien/Teowchew</td>\n",
       "    </tr>\n",
       "    <tr>\n",
       "      <th>1</th>\n",
       "      <td>LIM</td>\n",
       "      <td>YOKE FOONG</td>\n",
       "      <td>BACHELOR</td>\n",
       "      <td>1977.0</td>\n",
       "      <td>42.0</td>\n",
       "      <td>joʊk fuŋ</td>\n",
       "      <td>林</td>\n",
       "      <td>Hokkien</td>\n",
       "    </tr>\n",
       "    <tr>\n",
       "      <th>2</th>\n",
       "      <td>ANG</td>\n",
       "      <td>SOO SAN</td>\n",
       "      <td>BACHELOR</td>\n",
       "      <td>1977.0</td>\n",
       "      <td>42.0</td>\n",
       "      <td>su sæn</td>\n",
       "      <td>洪</td>\n",
       "      <td>Teochew</td>\n",
       "    </tr>\n",
       "    <tr>\n",
       "      <th>3</th>\n",
       "      <td>CALVIN TAN</td>\n",
       "      <td>KIAN SIN</td>\n",
       "      <td>BACHELOR</td>\n",
       "      <td>1977.0</td>\n",
       "      <td>42.0</td>\n",
       "      <td>ˈkiən sɪn</td>\n",
       "      <td>陳</td>\n",
       "      <td>Hokkien</td>\n",
       "    </tr>\n",
       "    <tr>\n",
       "      <th>4</th>\n",
       "      <td>CHAN</td>\n",
       "      <td>KHAN THAI</td>\n",
       "      <td>BACHELOR</td>\n",
       "      <td>1977.0</td>\n",
       "      <td>42.0</td>\n",
       "      <td>kɑn taɪ</td>\n",
       "      <td>陳</td>\n",
       "      <td>Cantonese</td>\n",
       "    </tr>\n",
       "  </tbody>\n",
       "</table>\n",
       "</div>"
      ],
      "text/plain": [
       "    Last Name  First Name    DTitle    Year   Age   IPA Name 姓氏  \\\n",
       "0        TEOH     HAN SEN  BACHELOR  1977.0  42.0    hɑn sɛn  張   \n",
       "1         LIM  YOKE FOONG  BACHELOR  1977.0  42.0   joʊk fuŋ  林   \n",
       "2         ANG     SOO SAN  BACHELOR  1977.0  42.0     su sæn  洪   \n",
       "3  CALVIN TAN    KIAN SIN  BACHELOR  1977.0  42.0  ˈkiən sɪn  陳   \n",
       "4        CHAN   KHAN THAI  BACHELOR  1977.0  42.0    kɑn taɪ  陳   \n",
       "\n",
       "             Ethnic  \n",
       "0  Hokkien/Teowchew  \n",
       "1           Hokkien  \n",
       "2           Teochew  \n",
       "3           Hokkien  \n",
       "4         Cantonese  "
      ]
     },
     "execution_count": 16,
     "metadata": {},
     "output_type": "execute_result"
    }
   ],
   "source": [
    "chiEthicsdata.head()"
   ]
  },
  {
   "cell_type": "code",
   "execution_count": null,
   "metadata": {},
   "outputs": [],
   "source": []
  }
 ],
 "metadata": {
  "kernelspec": {
   "display_name": "Python 3",
   "language": "python",
   "name": "python3"
  },
  "language_info": {
   "codemirror_mode": {
    "name": "ipython",
    "version": 3
   },
   "file_extension": ".py",
   "mimetype": "text/x-python",
   "name": "python",
   "nbconvert_exporter": "python",
   "pygments_lexer": "ipython3",
   "version": "3.6.8"
  }
 },
 "nbformat": 4,
 "nbformat_minor": 2
}
