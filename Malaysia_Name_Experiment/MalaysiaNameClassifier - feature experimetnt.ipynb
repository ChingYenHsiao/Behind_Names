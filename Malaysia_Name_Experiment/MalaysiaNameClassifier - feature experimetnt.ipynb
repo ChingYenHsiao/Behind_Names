{
 "cells": [
  {
   "cell_type": "code",
   "execution_count": 1,
   "source": [
    "import pandas as pd\r\n",
    "import csv\r\n",
    "import os\r\n",
    "\r\n",
    "import linecache\r\n",
    "import sys\r\n",
    "\r\n",
    "import matplotlib.pyplot as plt\r\n",
    "import math\r\n",
    "from plotly.offline import download_plotlyjs, init_notebook_mode, plot, iplot\r\n",
    "\r\n",
    "import plotly.graph_objs as go\r\n",
    "\r\n",
    "#from prettytable import PrettyTable\r\n",
    "\r\n",
    "#簡轉繁用 \r\n",
    "#https://pypi.python.org/pypi/hanziconv/0.2.1\r\n",
    "from hanziconv import HanziConv\r\n",
    "\r\n",
    "import matplotlib_venn \r\n",
    "from matplotlib_venn import venn2, venn2_circles\r\n",
    "\r\n",
    "import collections\r\n",
    "from collections import Counter\r\n",
    "import numpy as np\r\n",
    "from sklearn.model_selection import train_test_split\r\n",
    "\r\n",
    "from sklearn.metrics import mean_squared_error\r\n",
    "from numpy import mean, sqrt, square, arange\r\n",
    "\r\n",
    "import pickle\r\n",
    "\r\n",
    "import random\r\n",
    "import datetime\r\n",
    "import operator\r\n",
    "\r\n",
    "#https://stackoverflow.com/questions/14519177/python-exception-handling-line-number\r\n",
    "def PrintException():\r\n",
    "    exc_type, exc_obj, tb = sys.exc_info()\r\n",
    "    f = tb.tb_frame\r\n",
    "    lineno = tb.tb_lineno\r\n",
    "    filename = f.f_code.co_filename\r\n",
    "    linecache.checkcache(filename)\r\n",
    "    line = linecache.getline(filename, lineno, f.f_globals)\r\n",
    "    print ('EXCEPTION IN ({}, LINE {} \"{}\"): {}'.format(filename, lineno, line.strip(), exc_obj))\r\n"
   ],
   "outputs": [],
   "metadata": {
    "ExecuteTime": {
     "end_time": "2020-01-08T02:12:46.392638Z",
     "start_time": "2020-01-08T02:12:35.878436Z"
    }
   }
  },
  {
   "cell_type": "code",
   "execution_count": 2,
   "source": [
    "import multiprocessing\r\n",
    "\r\n",
    "def _apply(pool_map_args):\r\n",
    "    df = pool_map_args[0]\r\n",
    "    func = pool_map_args[1]\r\n",
    "    args = pool_map_args[2]\r\n",
    "#     print(args)\r\n",
    "    \r\n",
    "    return df.apply(func,axis = 1, args = args)\r\n",
    "\r\n",
    "def parallel_apply(df, func, args):\r\n",
    "    #指定主機有多少CPU，並把df 平均分配size\r\n",
    "    num_processes = 32\r\n",
    "    chunk_size = int(df.shape[0]/num_processes)\r\n",
    "\r\n",
    "    #將df 拆解成 num_processes 個 chunk 的df list\r\n",
    "    chunks = [df.ix[df.index[i:i + chunk_size]] for i in range(0, df.shape[0], chunk_size)]\r\n",
    "    pool_map_args = [(df, func, args) for df in chunks]\r\n",
    "    pool = multiprocessing.Pool(processes = num_processes)\r\n",
    "    result = pool.map(_apply, pool_map_args)\r\n",
    "    result = pd.concat([i for i in result])\r\n",
    "    pool.terminate()\r\n",
    "    pool.join()\r\n",
    "    return result"
   ],
   "outputs": [],
   "metadata": {
    "ExecuteTime": {
     "end_time": "2020-01-08T02:12:46.398540Z",
     "start_time": "2020-01-08T02:12:46.394042Z"
    }
   }
  },
  {
   "cell_type": "code",
   "execution_count": 3,
   "source": [
    "with open('./pkl_data/special_word_dict.pkl', 'rb') as handle:\r\n",
    "    special_word_dict = pickle.loads(handle.read())\r\n",
    "    \r\n",
    "with open('./pkl_data/moe_additional_dict.pkl', 'rb') as handle:\r\n",
    "    moe_additional_dict = pickle.loads(handle.read())\r\n",
    "\r\n",
    "with open('./pkl_data/Totalname_list.pkl', 'rb') as handle:\r\n",
    "    Totalname_list = pickle.loads(handle.read())\r\n",
    "    \r\n",
    "with open('./pkl_data/son_in_list.pkl', 'rb') as handle:\r\n",
    "    son_in_list = pickle.loads(handle.read())\r\n",
    "    \r\n",
    "with open('./pkl_data/mu_in_list.pkl', 'rb') as handle:\r\n",
    "    mu_in_list = pickle.loads(handle.read())"
   ],
   "outputs": [],
   "metadata": {
    "ExecuteTime": {
     "end_time": "2020-01-08T02:12:54.480860Z",
     "start_time": "2020-01-08T02:12:46.400154Z"
    }
   }
  },
  {
   "cell_type": "code",
   "execution_count": 4,
   "source": [
    "# READ MY DATA INTO CSV FILE\r\n",
    "msadata = pd.read_csv('./NameData/EnglishReconcateRealTaiwan.csv', parse_dates = True)"
   ],
   "outputs": [],
   "metadata": {
    "ExecuteTime": {
     "end_time": "2020-01-08T02:12:54.885462Z",
     "start_time": "2020-01-08T02:12:54.482013Z"
    }
   }
  },
  {
   "cell_type": "code",
   "execution_count": 5,
   "source": [
    "# READ RECONCATE DATA\r\n",
    "reconcatedata = pd.read_csv('./NameData/EnglishReconcateRealTaiwan.csv', parse_dates = True)"
   ],
   "outputs": [
    {
     "output_type": "stream",
     "name": "stderr",
     "text": [
      "/home/yvonnechow/.local/lib/python3.6/site-packages/IPython/core/interactiveshell.py:3058: DtypeWarning:\n",
      "\n",
      "Columns (220) have mixed types. Specify dtype option on import or set low_memory=False.\n",
      "\n"
     ]
    }
   ],
   "metadata": {
    "ExecuteTime": {
     "end_time": "2020-01-08T02:14:40.327006Z",
     "start_time": "2020-01-08T02:12:54.886495Z"
    }
   }
  },
  {
   "cell_type": "code",
   "execution_count": 6,
   "source": [
    "age_range_list = msadata['BirthYear'].tolist()"
   ],
   "outputs": [],
   "metadata": {
    "ExecuteTime": {
     "end_time": "2020-01-08T02:14:40.330955Z",
     "start_time": "2020-01-08T02:14:40.328276Z"
    }
   }
  },
  {
   "cell_type": "markdown",
   "source": [
    "# RFC"
   ],
   "metadata": {}
  },
  {
   "cell_type": "code",
   "execution_count": 7,
   "source": [
    "from sklearn.model_selection import train_test_split\r\n",
    "from sklearn.ensemble import RandomForestClassifier\r\n",
    "from sklearn.metrics import accuracy_score\r\n",
    "from sklearn.metrics import confusion_matrix\r\n",
    "from sklearn.metrics import classification_report\r\n",
    "\r\n",
    "def dataset_statistics(dataset):\r\n",
    "    \"\"\"\r\n",
    "    Basic statistics of the dataset\r\n",
    "    :param dataset: Pandas dataframe\r\n",
    "    :return: None, print the basic statistics of the dataset\r\n",
    "    \"\"\"\r\n",
    "    print (dataset.describe())\r\n",
    "    \r\n",
    "#http://dataaspirant.com/2017/06/26/random-forest-classifier-python-scikit-learn/\r\n",
    "#Split train and test\r\n",
    "def split_dataset(dataset, train_percentage, feature_headers, target_header):\r\n",
    "    \"\"\"\r\n",
    "    Split the dataset with train_percentage\r\n",
    "    :param dataset:\r\n",
    "    :param train_percentage:\r\n",
    "    :param feature_headers:\r\n",
    "    :param target_header:\r\n",
    "    :return: train_x, test_x, train_y, test_y\r\n",
    "    \"\"\"\r\n",
    "\r\n",
    "    # Split dataset into train and test dataset\r\n",
    "    train_x, test_x, train_y, test_y = train_test_split(dataset[feature_headers], dataset[target_header],\r\n",
    "                                                        train_size = train_percentage)\r\n",
    "    return train_x, test_x, train_y, test_y\r\n",
    "\r\n",
    "def random_forest_classifier(features, target):\r\n",
    "    \"\"\"\r\n",
    "    To train the random forest classifier with features and target data\r\n",
    "    :param features:\r\n",
    "    :param target:\r\n",
    "    :return: trained random forest classifier\r\n",
    "    \"\"\"\r\n",
    "    clf = RandomForestClassifier(n_estimators = 101, n_jobs = -1 , min_samples_leaf = 1)\r\n",
    "    clf.fit(features, target)\r\n",
    "    return clf"
   ],
   "outputs": [],
   "metadata": {
    "ExecuteTime": {
     "end_time": "2020-01-08T02:14:40.377333Z",
     "start_time": "2020-01-08T02:14:40.332635Z"
    }
   }
  },
  {
   "cell_type": "code",
   "execution_count": 8,
   "source": [
    "def basic_RFClassifier(data_df,x_feature,y_feature,Validation_times):\r\n",
    "\r\n",
    "    #N fold cross-validation\r\n",
    "    Train_accuracy_score = 0\r\n",
    "    Test_accuracy_score = 0\r\n",
    "    \r\n",
    "    for i in range(Validation_times):\r\n",
    "        train_x, test_x, train_y, test_y = split_dataset(data_df, 0.7, x_feature, y_feature)\r\n",
    "        train_index = train_x.index\r\n",
    "        test_index = test_x.index\r\n",
    " \r\n",
    "        # Create random forest classifier instance\r\n",
    "        trained_model = random_forest_classifier(train_x, train_y)\r\n",
    "        \r\n",
    "        predictions = trained_model.predict(test_x)\r\n",
    "#         print(predictions)\r\n",
    "\r\n",
    "        # Train and Test Accuracy\r\n",
    "        if(Validation_times!=1):\r\n",
    "            print('Run times:', i+1)\r\n",
    "        print (\"Train Accuracy :: \", accuracy_score(train_y, trained_model.predict(train_x)))\r\n",
    "        print (\"Test Accuracy  :: \", accuracy_score(test_y, predictions))\r\n",
    "        #print (\"Confusion matrix\\n \", confusion_matrix(test_y, predictions))\r\n",
    "\r\n",
    "        Train_accuracy_score += accuracy_score(train_y, trained_model.predict(train_x))\r\n",
    "        Test_accuracy_score += accuracy_score(test_y, predictions)\r\n",
    "        #calculate_error(predictions, test_y )\r\n",
    "        #validate_error(predictions, test_y, test_x , data_df)\r\n",
    "        \r\n",
    "    if(Validation_times != 1):\r\n",
    "        Train_accuracy_score /= Validation_times\r\n",
    "        Test_accuracy_score /= Validation_times\r\n",
    "        print (\"Average Train Accuracy :: \", Train_accuracy_score)\r\n",
    "        print (\"Average Test Accuracy  :: \", Test_accuracy_score)\r\n",
    "    \r\n",
    "    return trained_model"
   ],
   "outputs": [],
   "metadata": {
    "ExecuteTime": {
     "end_time": "2020-01-08T02:14:40.386169Z",
     "start_time": "2020-01-08T02:14:40.379527Z"
    }
   }
  },
  {
   "cell_type": "code",
   "execution_count": 9,
   "source": [
    "# # READ TRAIN TEST INDEX\r\n",
    "with open('./NameData/train_test_data/Englishtrain_index', 'rb') as handle:\r\n",
    "    train_index = pickle.loads(handle.read())\r\n",
    "    \r\n",
    "with open('./NameData/train_test_data/Englishtest_index', 'rb') as handle:\r\n",
    "    test_index = pickle.loads(handle.read())"
   ],
   "outputs": [],
   "metadata": {
    "ExecuteTime": {
     "end_time": "2020-01-08T02:14:40.635384Z",
     "start_time": "2020-01-08T02:14:40.387322Z"
    }
   }
  },
  {
   "cell_type": "code",
   "execution_count": 10,
   "source": [
    "# y_feature = 'BirthYear'\r\n",
    "\r\n",
    "test_x = msadata.copy()\r\n",
    "# test_y = msadata.y_feature\r\n",
    "test_index = test_x.index\r\n",
    "print(len(test_index))\r\n",
    "\r\n",
    "%xdel test_x\r\n",
    "# %xdel test_y"
   ],
   "outputs": [
    {
     "output_type": "stream",
     "name": "stdout",
     "text": [
      "30565\n"
     ]
    }
   ],
   "metadata": {
    "ExecuteTime": {
     "end_time": "2020-01-08T02:14:40.645444Z",
     "start_time": "2020-01-08T02:14:40.637061Z"
    }
   }
  },
  {
   "cell_type": "markdown",
   "source": [
    "# Save model"
   ],
   "metadata": {
    "heading_collapsed": true
   }
  },
  {
   "cell_type": "code",
   "execution_count": 11,
   "source": [
    "# FN1\r\n",
    "\r\n",
    "x_feature = ['FN1']\r\n",
    "y_feature = ['BirthYear']\r\n",
    "    \r\n",
    "age_test = basic_RFClassifier(reconcatedata, x_feature, y_feature, 10)\r\n",
    "\r\n",
    "# Save the model to disk\r\n",
    "filename = './concate_age_model/age_predicton_FN1.sav'\r\n",
    "pickle.dump(age_test, open(filename, 'wb'))\r\n",
    "print(\"Model save successfully!\")"
   ],
   "outputs": [
    {
     "output_type": "stream",
     "name": "stderr",
     "text": [
      "/home/yvonnechow/.local/lib/python3.6/site-packages/ipykernel_launcher.py:40: DataConversionWarning:\n",
      "\n",
      "A column-vector y was passed when a 1d array was expected. Please change the shape of y to (n_samples,), for example using ravel().\n",
      "\n"
     ]
    },
    {
     "output_type": "stream",
     "name": "stdout",
     "text": [
      "Run times: 1\n",
      "Train Accuracy ::  0.20618465158612118\n",
      "Test Accuracy  ::  0.18004765357919816\n"
     ]
    },
    {
     "output_type": "stream",
     "name": "stderr",
     "text": [
      "/home/yvonnechow/.local/lib/python3.6/site-packages/ipykernel_launcher.py:40: DataConversionWarning:\n",
      "\n",
      "A column-vector y was passed when a 1d array was expected. Please change the shape of y to (n_samples,), for example using ravel().\n",
      "\n"
     ]
    },
    {
     "output_type": "stream",
     "name": "stdout",
     "text": [
      "Run times: 2\n",
      "Train Accuracy ::  0.20565631451595\n",
      "Test Accuracy  ::  0.1813633067440174\n"
     ]
    },
    {
     "output_type": "stream",
     "name": "stderr",
     "text": [
      "/home/yvonnechow/.local/lib/python3.6/site-packages/ipykernel_launcher.py:40: DataConversionWarning:\n",
      "\n",
      "A column-vector y was passed when a 1d array was expected. Please change the shape of y to (n_samples,), for example using ravel().\n",
      "\n"
     ]
    },
    {
     "output_type": "stream",
     "name": "stdout",
     "text": [
      "Run times: 3\n",
      "Train Accuracy ::  0.20527005127977446\n",
      "Test Accuracy  ::  0.18173624779861183\n"
     ]
    },
    {
     "output_type": "stream",
     "name": "stderr",
     "text": [
      "/home/yvonnechow/.local/lib/python3.6/site-packages/ipykernel_launcher.py:40: DataConversionWarning:\n",
      "\n",
      "A column-vector y was passed when a 1d array was expected. Please change the shape of y to (n_samples,), for example using ravel().\n",
      "\n"
     ]
    },
    {
     "output_type": "stream",
     "name": "stdout",
     "text": [
      "Run times: 4\n",
      "Train Accuracy ::  0.2055275601038915\n",
      "Test Accuracy  ::  0.180638143582306\n"
     ]
    },
    {
     "output_type": "stream",
     "name": "stderr",
     "text": [
      "/home/yvonnechow/.local/lib/python3.6/site-packages/ipykernel_launcher.py:40: DataConversionWarning:\n",
      "\n",
      "A column-vector y was passed when a 1d array was expected. Please change the shape of y to (n_samples,), for example using ravel().\n",
      "\n"
     ]
    },
    {
     "output_type": "stream",
     "name": "stdout",
     "text": [
      "Run times: 5\n",
      "Train Accuracy ::  0.20497258418984615\n",
      "Test Accuracy  ::  0.1828861493836113\n"
     ]
    },
    {
     "output_type": "stream",
     "name": "stderr",
     "text": [
      "/home/yvonnechow/.local/lib/python3.6/site-packages/ipykernel_launcher.py:40: DataConversionWarning:\n",
      "\n",
      "A column-vector y was passed when a 1d array was expected. Please change the shape of y to (n_samples,), for example using ravel().\n",
      "\n"
     ]
    },
    {
     "output_type": "stream",
     "name": "stdout",
     "text": [
      "Run times: 6\n",
      "Train Accuracy ::  0.2060248185228761\n",
      "Test Accuracy  ::  0.18033771884388272\n"
     ]
    },
    {
     "output_type": "stream",
     "name": "stderr",
     "text": [
      "/home/yvonnechow/.local/lib/python3.6/site-packages/ipykernel_launcher.py:40: DataConversionWarning:\n",
      "\n",
      "A column-vector y was passed when a 1d array was expected. Please change the shape of y to (n_samples,), for example using ravel().\n",
      "\n"
     ]
    },
    {
     "output_type": "stream",
     "name": "stdout",
     "text": [
      "Run times: 7\n",
      "Train Accuracy ::  0.2052167735920261\n",
      "Test Accuracy  ::  0.18082461410960324\n"
     ]
    },
    {
     "output_type": "stream",
     "name": "stderr",
     "text": [
      "/home/yvonnechow/.local/lib/python3.6/site-packages/ipykernel_launcher.py:40: DataConversionWarning:\n",
      "\n",
      "A column-vector y was passed when a 1d array was expected. Please change the shape of y to (n_samples,), for example using ravel().\n",
      "\n"
     ]
    },
    {
     "output_type": "stream",
     "name": "stdout",
     "text": [
      "Run times: 8\n",
      "Train Accuracy ::  0.2053810464625835\n",
      "Test Accuracy  ::  0.1815497772713146\n"
     ]
    },
    {
     "output_type": "stream",
     "name": "stderr",
     "text": [
      "/home/yvonnechow/.local/lib/python3.6/site-packages/ipykernel_launcher.py:40: DataConversionWarning:\n",
      "\n",
      "A column-vector y was passed when a 1d array was expected. Please change the shape of y to (n_samples,), for example using ravel().\n",
      "\n"
     ]
    },
    {
     "output_type": "stream",
     "name": "stdout",
     "text": [
      "Run times: 9\n",
      "Train Accuracy ::  0.20526117166514973\n",
      "Test Accuracy  ::  0.18036879726509894\n"
     ]
    },
    {
     "output_type": "stream",
     "name": "stderr",
     "text": [
      "/home/yvonnechow/.local/lib/python3.6/site-packages/ipykernel_launcher.py:40: DataConversionWarning:\n",
      "\n",
      "A column-vector y was passed when a 1d array was expected. Please change the shape of y to (n_samples,), for example using ravel().\n",
      "\n"
     ]
    },
    {
     "output_type": "stream",
     "name": "stdout",
     "text": [
      "Run times: 10\n",
      "Train Accuracy ::  0.2050968987945923\n",
      "Test Accuracy  ::  0.18337304464933182\n",
      "Average Train Accuracy ::  0.20545918707128114\n",
      "Average Test Accuracy  ::  0.18131254532269758\n",
      "Model save successfully!\n"
     ]
    }
   ],
   "metadata": {
    "ExecuteTime": {
     "end_time": "2020-01-06T05:15:33.665695Z",
     "start_time": "2020-01-06T05:14:51.117720Z"
    },
    "hidden": true,
    "scrolled": true
   }
  },
  {
   "cell_type": "code",
   "execution_count": 12,
   "source": [
    "# FN2\r\n",
    "\r\n",
    "x_feature = ['FN2']\r\n",
    "y_feature = ['BirthYear']\r\n",
    "    \r\n",
    "age_test = basic_RFClassifier(reconcatedata, x_feature, y_feature, 10)\r\n",
    "\r\n",
    "# Save the model to disk\r\n",
    "filename = './concate_age_model/age_predicton_FN2.sav'\r\n",
    "pickle.dump(age_test, open(filename, 'wb'))\r\n",
    "print(\"Model save successfully!\")"
   ],
   "outputs": [
    {
     "output_type": "stream",
     "name": "stderr",
     "text": [
      "/home/yvonnechow/.local/lib/python3.6/site-packages/ipykernel_launcher.py:40: DataConversionWarning:\n",
      "\n",
      "A column-vector y was passed when a 1d array was expected. Please change the shape of y to (n_samples,), for example using ravel().\n",
      "\n"
     ]
    },
    {
     "output_type": "stream",
     "name": "stdout",
     "text": [
      "Run times: 1\n",
      "Train Accuracy ::  0.21486003507447776\n",
      "Test Accuracy  ::  0.18743395835491558\n"
     ]
    },
    {
     "output_type": "stream",
     "name": "stderr",
     "text": [
      "/home/yvonnechow/.local/lib/python3.6/site-packages/ipykernel_launcher.py:40: DataConversionWarning:\n",
      "\n",
      "A column-vector y was passed when a 1d array was expected. Please change the shape of y to (n_samples,), for example using ravel().\n",
      "\n"
     ]
    },
    {
     "output_type": "stream",
     "name": "stdout",
     "text": [
      "Run times: 2\n",
      "Train Accuracy ::  0.21505982640353408\n",
      "Test Accuracy  ::  0.1865637625608619\n"
     ]
    },
    {
     "output_type": "stream",
     "name": "stderr",
     "text": [
      "/home/yvonnechow/.local/lib/python3.6/site-packages/ipykernel_launcher.py:40: DataConversionWarning:\n",
      "\n",
      "A column-vector y was passed when a 1d array was expected. Please change the shape of y to (n_samples,), for example using ravel().\n",
      "\n"
     ]
    },
    {
     "output_type": "stream",
     "name": "stdout",
     "text": [
      "Run times: 3\n",
      "Train Accuracy ::  0.21411414744600085\n",
      "Test Accuracy  ::  0.1879933699368072\n"
     ]
    },
    {
     "output_type": "stream",
     "name": "stderr",
     "text": [
      "/home/yvonnechow/.local/lib/python3.6/site-packages/ipykernel_launcher.py:40: DataConversionWarning:\n",
      "\n",
      "A column-vector y was passed when a 1d array was expected. Please change the shape of y to (n_samples,), for example using ravel().\n",
      "\n"
     ]
    },
    {
     "output_type": "stream",
     "name": "stdout",
     "text": [
      "Run times: 4\n",
      "Train Accuracy ::  0.21521521965946677\n",
      "Test Accuracy  ::  0.1865637625608619\n"
     ]
    },
    {
     "output_type": "stream",
     "name": "stderr",
     "text": [
      "/home/yvonnechow/.local/lib/python3.6/site-packages/ipykernel_launcher.py:40: DataConversionWarning:\n",
      "\n",
      "A column-vector y was passed when a 1d array was expected. Please change the shape of y to (n_samples,), for example using ravel().\n",
      "\n"
     ]
    },
    {
     "output_type": "stream",
     "name": "stdout",
     "text": [
      "Run times: 5\n",
      "Train Accuracy ::  0.21503762736697227\n",
      "Test Accuracy  ::  0.18581788045167305\n"
     ]
    },
    {
     "output_type": "stream",
     "name": "stderr",
     "text": [
      "/home/yvonnechow/.local/lib/python3.6/site-packages/ipykernel_launcher.py:40: DataConversionWarning:\n",
      "\n",
      "A column-vector y was passed when a 1d array was expected. Please change the shape of y to (n_samples,), for example using ravel().\n",
      "\n"
     ]
    },
    {
     "output_type": "stream",
     "name": "stdout",
     "text": [
      "Run times: 6\n",
      "Train Accuracy ::  0.2144870912602393\n",
      "Test Accuracy  ::  0.1880451673055009\n"
     ]
    },
    {
     "output_type": "stream",
     "name": "stderr",
     "text": [
      "/home/yvonnechow/.local/lib/python3.6/site-packages/ipykernel_launcher.py:40: DataConversionWarning:\n",
      "\n",
      "A column-vector y was passed when a 1d array was expected. Please change the shape of y to (n_samples,), for example using ravel().\n",
      "\n"
     ]
    },
    {
     "output_type": "stream",
     "name": "stdout",
     "text": [
      "Run times: 7\n",
      "Train Accuracy ::  0.21498434967922392\n",
      "Test Accuracy  ::  0.1875893504609966\n"
     ]
    },
    {
     "output_type": "stream",
     "name": "stderr",
     "text": [
      "/home/yvonnechow/.local/lib/python3.6/site-packages/ipykernel_launcher.py:40: DataConversionWarning:\n",
      "\n",
      "A column-vector y was passed when a 1d array was expected. Please change the shape of y to (n_samples,), for example using ravel().\n",
      "\n"
     ]
    },
    {
     "output_type": "stream",
     "name": "stdout",
     "text": [
      "Run times: 8\n",
      "Train Accuracy ::  0.2144515728017404\n",
      "Test Accuracy  ::  0.18699886045788874\n"
     ]
    },
    {
     "output_type": "stream",
     "name": "stderr",
     "text": [
      "/home/yvonnechow/.local/lib/python3.6/site-packages/ipykernel_launcher.py:40: DataConversionWarning:\n",
      "\n",
      "A column-vector y was passed when a 1d array was expected. Please change the shape of y to (n_samples,), for example using ravel().\n",
      "\n"
     ]
    },
    {
     "output_type": "stream",
     "name": "stdout",
     "text": [
      "Run times: 9\n",
      "Train Accuracy ::  0.2154860479055209\n",
      "Test Accuracy  ::  0.18607686729514142\n"
     ]
    },
    {
     "output_type": "stream",
     "name": "stderr",
     "text": [
      "/home/yvonnechow/.local/lib/python3.6/site-packages/ipykernel_launcher.py:40: DataConversionWarning:\n",
      "\n",
      "A column-vector y was passed when a 1d array was expected. Please change the shape of y to (n_samples,), for example using ravel().\n",
      "\n"
     ]
    },
    {
     "output_type": "stream",
     "name": "stdout",
     "text": [
      "Run times: 10\n",
      "Train Accuracy ::  0.21468688258929564\n",
      "Test Accuracy  ::  0.18755827203978037\n",
      "Average Train Accuracy ::  0.2148382800186472\n",
      "Average Test Accuracy  ::  0.18706412514244278\n",
      "Model save successfully!\n"
     ]
    }
   ],
   "metadata": {
    "ExecuteTime": {
     "end_time": "2020-01-06T05:16:17.346124Z",
     "start_time": "2020-01-06T05:15:33.668118Z"
    },
    "hidden": true,
    "scrolled": true
   }
  },
  {
   "cell_type": "code",
   "execution_count": 13,
   "source": [
    "# 2F\r\n",
    "\r\n",
    "x_feature = ['FN1','FN2']\r\n",
    "y_feature = ['BirthYear']\r\n",
    "    \r\n",
    "age_test = basic_RFClassifier(reconcatedata, x_feature, y_feature, 10)\r\n",
    "\r\n",
    "# Save the model to disk\r\n",
    "filename = './concate_age_model/age_predicton_FN12.sav'\r\n",
    "pickle.dump(age_test, open(filename, 'wb'))\r\n",
    "print(\"Model save successfully!\")"
   ],
   "outputs": [
    {
     "output_type": "stream",
     "name": "stderr",
     "text": [
      "/home/yvonnechow/.local/lib/python3.6/site-packages/ipykernel_launcher.py:40: DataConversionWarning:\n",
      "\n",
      "A column-vector y was passed when a 1d array was expected. Please change the shape of y to (n_samples,), for example using ravel().\n",
      "\n"
     ]
    },
    {
     "output_type": "stream",
     "name": "stdout",
     "text": [
      "Run times: 1\n",
      "Train Accuracy ::  0.556978267143206\n",
      "Test Accuracy  ::  0.2006940847404952\n"
     ]
    },
    {
     "output_type": "stream",
     "name": "stderr",
     "text": [
      "/home/yvonnechow/.local/lib/python3.6/site-packages/ipykernel_launcher.py:40: DataConversionWarning:\n",
      "\n",
      "A column-vector y was passed when a 1d array was expected. Please change the shape of y to (n_samples,), for example using ravel().\n",
      "\n"
     ]
    },
    {
     "output_type": "stream",
     "name": "stdout",
     "text": [
      "Run times: 2\n",
      "Train Accuracy ::  0.5556552045641219\n",
      "Test Accuracy  ::  0.19937843157567595\n"
     ]
    },
    {
     "output_type": "stream",
     "name": "stderr",
     "text": [
      "/home/yvonnechow/.local/lib/python3.6/site-packages/ipykernel_launcher.py:40: DataConversionWarning:\n",
      "\n",
      "A column-vector y was passed when a 1d array was expected. Please change the shape of y to (n_samples,), for example using ravel().\n",
      "\n"
     ]
    },
    {
     "output_type": "stream",
     "name": "stdout",
     "text": [
      "Run times: 3\n",
      "Train Accuracy ::  0.5562368193220414\n",
      "Test Accuracy  ::  0.19832176525432507\n"
     ]
    },
    {
     "output_type": "stream",
     "name": "stderr",
     "text": [
      "/home/yvonnechow/.local/lib/python3.6/site-packages/ipykernel_launcher.py:40: DataConversionWarning:\n",
      "\n",
      "A column-vector y was passed when a 1d array was expected. Please change the shape of y to (n_samples,), for example using ravel().\n",
      "\n"
     ]
    },
    {
     "output_type": "stream",
     "name": "stdout",
     "text": [
      "Run times: 4\n",
      "Train Accuracy ::  0.5577108353497459\n",
      "Test Accuracy  ::  0.1975966020926137\n"
     ]
    },
    {
     "output_type": "stream",
     "name": "stderr",
     "text": [
      "/home/yvonnechow/.local/lib/python3.6/site-packages/ipykernel_launcher.py:40: DataConversionWarning:\n",
      "\n",
      "A column-vector y was passed when a 1d array was expected. Please change the shape of y to (n_samples,), for example using ravel().\n",
      "\n"
     ]
    },
    {
     "output_type": "stream",
     "name": "stdout",
     "text": [
      "Run times: 5\n",
      "Train Accuracy ::  0.5575199236353142\n",
      "Test Accuracy  ::  0.19846679788666735\n"
     ]
    },
    {
     "output_type": "stream",
     "name": "stderr",
     "text": [
      "/home/yvonnechow/.local/lib/python3.6/site-packages/ipykernel_launcher.py:40: DataConversionWarning:\n",
      "\n",
      "A column-vector y was passed when a 1d array was expected. Please change the shape of y to (n_samples,), for example using ravel().\n",
      "\n"
     ]
    },
    {
     "output_type": "stream",
     "name": "stdout",
     "text": [
      "Run times: 6\n",
      "Train Accuracy ::  0.5574044886451928\n",
      "Test Accuracy  ::  0.1976898373562623\n"
     ]
    },
    {
     "output_type": "stream",
     "name": "stderr",
     "text": [
      "/home/yvonnechow/.local/lib/python3.6/site-packages/ipykernel_launcher.py:40: DataConversionWarning:\n",
      "\n",
      "A column-vector y was passed when a 1d array was expected. Please change the shape of y to (n_samples,), for example using ravel().\n",
      "\n"
     ]
    },
    {
     "output_type": "stream",
     "name": "stdout",
     "text": [
      "Run times: 7\n",
      "Train Accuracy ::  0.5570981419406398\n",
      "Test Accuracy  ::  0.19838392209675748\n"
     ]
    },
    {
     "output_type": "stream",
     "name": "stderr",
     "text": [
      "/home/yvonnechow/.local/lib/python3.6/site-packages/ipykernel_launcher.py:40: DataConversionWarning:\n",
      "\n",
      "A column-vector y was passed when a 1d array was expected. Please change the shape of y to (n_samples,), for example using ravel().\n",
      "\n"
     ]
    },
    {
     "output_type": "stream",
     "name": "stdout",
     "text": [
      "Run times: 8\n",
      "Train Accuracy ::  0.5561968610562301\n",
      "Test Accuracy  ::  0.19933699368072103\n"
     ]
    },
    {
     "output_type": "stream",
     "name": "stderr",
     "text": [
      "/home/yvonnechow/.local/lib/python3.6/site-packages/ipykernel_launcher.py:40: DataConversionWarning:\n",
      "\n",
      "A column-vector y was passed when a 1d array was expected. Please change the shape of y to (n_samples,), for example using ravel().\n",
      "\n"
     ]
    },
    {
     "output_type": "stream",
     "name": "stdout",
     "text": [
      "Run times: 9\n",
      "Train Accuracy ::  0.5572224565453859\n",
      "Test Accuracy  ::  0.19838392209675748\n"
     ]
    },
    {
     "output_type": "stream",
     "name": "stderr",
     "text": [
      "/home/yvonnechow/.local/lib/python3.6/site-packages/ipykernel_launcher.py:40: DataConversionWarning:\n",
      "\n",
      "A column-vector y was passed when a 1d array was expected. Please change the shape of y to (n_samples,), for example using ravel().\n",
      "\n"
     ]
    },
    {
     "output_type": "stream",
     "name": "stdout",
     "text": [
      "Run times: 10\n",
      "Train Accuracy ::  0.5567473971629632\n",
      "Test Accuracy  ::  0.19870506578265823\n",
      "Average Train Accuracy ::  0.5568770395364842\n",
      "Average Test Accuracy  ::  0.19869574225629338\n",
      "Model save successfully!\n"
     ]
    }
   ],
   "metadata": {
    "ExecuteTime": {
     "end_time": "2020-01-06T05:20:06.258560Z",
     "start_time": "2020-01-06T05:16:17.348803Z"
    },
    "hidden": true,
    "scrolled": true
   }
  },
  {
   "cell_type": "code",
   "execution_count": 14,
   "source": [
    "# sonin\r\n",
    "\r\n",
    "x_feature = ['FN1_sonin_index','FN2_sonin_index']\r\n",
    "y_feature = ['BirthYear']\r\n",
    "    \r\n",
    "age_test = basic_RFClassifier(reconcatedata, x_feature, y_feature, 10)\r\n",
    "\r\n",
    "# Save the model to disk\r\n",
    "filename = './concate_age_model/age_predicton_sonin.sav'\r\n",
    "pickle.dump(age_test, open(filename, 'wb'))\r\n",
    "print(\"Model save successfully!\")"
   ],
   "outputs": [
    {
     "output_type": "stream",
     "name": "stderr",
     "text": [
      "/home/yvonnechow/.local/lib/python3.6/site-packages/ipykernel_launcher.py:40: DataConversionWarning:\n",
      "\n",
      "A column-vector y was passed when a 1d array was expected. Please change the shape of y to (n_samples,), for example using ravel().\n",
      "\n"
     ]
    },
    {
     "output_type": "stream",
     "name": "stdout",
     "text": [
      "Run times: 1\n",
      "Train Accuracy ::  0.1657602060070593\n",
      "Test Accuracy  ::  0.14692841603646534\n"
     ]
    },
    {
     "output_type": "stream",
     "name": "stderr",
     "text": [
      "/home/yvonnechow/.local/lib/python3.6/site-packages/ipykernel_launcher.py:40: DataConversionWarning:\n",
      "\n",
      "A column-vector y was passed when a 1d array was expected. Please change the shape of y to (n_samples,), for example using ravel().\n",
      "\n"
     ]
    },
    {
     "output_type": "stream",
     "name": "stdout",
     "text": [
      "Run times: 2\n",
      "Train Accuracy ::  0.16515195240526562\n",
      "Test Accuracy  ::  0.14867916709831142\n"
     ]
    },
    {
     "output_type": "stream",
     "name": "stderr",
     "text": [
      "/home/yvonnechow/.local/lib/python3.6/site-packages/ipykernel_launcher.py:40: DataConversionWarning:\n",
      "\n",
      "A column-vector y was passed when a 1d array was expected. Please change the shape of y to (n_samples,), for example using ravel().\n",
      "\n"
     ]
    },
    {
     "output_type": "stream",
     "name": "stdout",
     "text": [
      "Run times: 3\n",
      "Train Accuracy ::  0.16575576619974694\n",
      "Test Accuracy  ::  0.1468558997202942\n"
     ]
    },
    {
     "output_type": "stream",
     "name": "stderr",
     "text": [
      "/home/yvonnechow/.local/lib/python3.6/site-packages/ipykernel_launcher.py:40: DataConversionWarning:\n",
      "\n",
      "A column-vector y was passed when a 1d array was expected. Please change the shape of y to (n_samples,), for example using ravel().\n",
      "\n"
     ]
    },
    {
     "output_type": "stream",
     "name": "stdout",
     "text": [
      "Run times: 4\n",
      "Train Accuracy ::  0.1653695029635714\n",
      "Test Accuracy  ::  0.1480990365689423\n"
     ]
    },
    {
     "output_type": "stream",
     "name": "stderr",
     "text": [
      "/home/yvonnechow/.local/lib/python3.6/site-packages/ipykernel_launcher.py:40: DataConversionWarning:\n",
      "\n",
      "A column-vector y was passed when a 1d array was expected. Please change the shape of y to (n_samples,), for example using ravel().\n",
      "\n"
     ]
    },
    {
     "output_type": "stream",
     "name": "stdout",
     "text": [
      "Run times: 5\n",
      "Train Accuracy ::  0.16545829910981863\n",
      "Test Accuracy  ::  0.14641044234952866\n"
     ]
    },
    {
     "output_type": "stream",
     "name": "stderr",
     "text": [
      "/home/yvonnechow/.local/lib/python3.6/site-packages/ipykernel_launcher.py:40: DataConversionWarning:\n",
      "\n",
      "A column-vector y was passed when a 1d array was expected. Please change the shape of y to (n_samples,), for example using ravel().\n",
      "\n"
     ]
    },
    {
     "output_type": "stream",
     "name": "stdout",
     "text": [
      "Run times: 6\n",
      "Train Accuracy ::  0.16544497968788155\n",
      "Test Accuracy  ::  0.14805759867398735\n"
     ]
    },
    {
     "output_type": "stream",
     "name": "stderr",
     "text": [
      "/home/yvonnechow/.local/lib/python3.6/site-packages/ipykernel_launcher.py:40: DataConversionWarning:\n",
      "\n",
      "A column-vector y was passed when a 1d array was expected. Please change the shape of y to (n_samples,), for example using ravel().\n",
      "\n"
     ]
    },
    {
     "output_type": "stream",
     "name": "stdout",
     "text": [
      "Run times: 7\n",
      "Train Accuracy ::  0.16516971163451505\n",
      "Test Accuracy  ::  0.14727027866984357\n"
     ]
    },
    {
     "output_type": "stream",
     "name": "stderr",
     "text": [
      "/home/yvonnechow/.local/lib/python3.6/site-packages/ipykernel_launcher.py:40: DataConversionWarning:\n",
      "\n",
      "A column-vector y was passed when a 1d array was expected. Please change the shape of y to (n_samples,), for example using ravel().\n",
      "\n"
     ]
    },
    {
     "output_type": "stream",
     "name": "stdout",
     "text": [
      "Run times: 8\n",
      "Train Accuracy ::  0.1655248962195041\n",
      "Test Accuracy  ::  0.1479850823578162\n"
     ]
    },
    {
     "output_type": "stream",
     "name": "stderr",
     "text": [
      "/home/yvonnechow/.local/lib/python3.6/site-packages/ipykernel_launcher.py:40: DataConversionWarning:\n",
      "\n",
      "A column-vector y was passed when a 1d array was expected. Please change the shape of y to (n_samples,), for example using ravel().\n",
      "\n"
     ]
    },
    {
     "output_type": "stream",
     "name": "stdout",
     "text": [
      "Run times: 9\n",
      "Train Accuracy ::  0.16485004550802496\n",
      "Test Accuracy  ::  0.14873096446700507\n"
     ]
    },
    {
     "output_type": "stream",
     "name": "stderr",
     "text": [
      "/home/yvonnechow/.local/lib/python3.6/site-packages/ipykernel_launcher.py:40: DataConversionWarning:\n",
      "\n",
      "A column-vector y was passed when a 1d array was expected. Please change the shape of y to (n_samples,), for example using ravel().\n",
      "\n"
     ]
    },
    {
     "output_type": "stream",
     "name": "stdout",
     "text": [
      "Run times: 10\n",
      "Train Accuracy ::  0.16517415144182743\n",
      "Test Accuracy  ::  0.14860665078214028\n",
      "Average Train Accuracy ::  0.1653659511177215\n",
      "Average Test Accuracy  ::  0.14776235367243343\n",
      "Model save successfully!\n"
     ]
    }
   ],
   "metadata": {
    "ExecuteTime": {
     "end_time": "2020-01-06T05:20:40.945635Z",
     "start_time": "2020-01-06T05:20:06.260896Z"
    },
    "hidden": true,
    "scrolled": true
   }
  },
  {
   "cell_type": "code",
   "execution_count": 15,
   "source": [
    "# muin\r\n",
    "\r\n",
    "x_feature = ['FN1_muin_index','FN2_muin_index']\r\n",
    "y_feature = ['BirthYear']\r\n",
    "    \r\n",
    "age_test = basic_RFClassifier(reconcatedata, x_feature, y_feature, 10)\r\n",
    "\r\n",
    "# Save the model to disk\r\n",
    "filename = './concate_age_model/age_predicton_muin.sav'\r\n",
    "pickle.dump(age_test, open(filename, 'wb'))\r\n",
    "print(\"Model save successfully!\")"
   ],
   "outputs": [
    {
     "output_type": "stream",
     "name": "stderr",
     "text": [
      "/home/yvonnechow/.local/lib/python3.6/site-packages/ipykernel_launcher.py:40: DataConversionWarning:\n",
      "\n",
      "A column-vector y was passed when a 1d array was expected. Please change the shape of y to (n_samples,), for example using ravel().\n",
      "\n"
     ]
    },
    {
     "output_type": "stream",
     "name": "stdout",
     "text": [
      "Run times: 1\n",
      "Train Accuracy ::  0.15528226074988347\n",
      "Test Accuracy  ::  0.13874443178286544\n"
     ]
    },
    {
     "output_type": "stream",
     "name": "stderr",
     "text": [
      "/home/yvonnechow/.local/lib/python3.6/site-packages/ipykernel_launcher.py:40: DataConversionWarning:\n",
      "\n",
      "A column-vector y was passed when a 1d array was expected. Please change the shape of y to (n_samples,), for example using ravel().\n",
      "\n"
     ]
    },
    {
     "output_type": "stream",
     "name": "stdout",
     "text": [
      "Run times: 2\n",
      "Train Accuracy ::  0.15542877439119143\n",
      "Test Accuracy  ::  0.13894126178390137\n"
     ]
    },
    {
     "output_type": "stream",
     "name": "stderr",
     "text": [
      "/home/yvonnechow/.local/lib/python3.6/site-packages/ipykernel_launcher.py:40: DataConversionWarning:\n",
      "\n",
      "A column-vector y was passed when a 1d array was expected. Please change the shape of y to (n_samples,), for example using ravel().\n",
      "\n"
     ]
    },
    {
     "output_type": "stream",
     "name": "stdout",
     "text": [
      "Run times: 3\n",
      "Train Accuracy ::  0.15500699269651697\n",
      "Test Accuracy  ::  0.13909665388998238\n"
     ]
    },
    {
     "output_type": "stream",
     "name": "stderr",
     "text": [
      "/home/yvonnechow/.local/lib/python3.6/site-packages/ipykernel_launcher.py:40: DataConversionWarning:\n",
      "\n",
      "A column-vector y was passed when a 1d array was expected. Please change the shape of y to (n_samples,), for example using ravel().\n",
      "\n"
     ]
    },
    {
     "output_type": "stream",
     "name": "stdout",
     "text": [
      "Run times: 4\n",
      "Train Accuracy ::  0.15554420938131286\n",
      "Test Accuracy  ::  0.13726302703822646\n"
     ]
    },
    {
     "output_type": "stream",
     "name": "stderr",
     "text": [
      "/home/yvonnechow/.local/lib/python3.6/site-packages/ipykernel_launcher.py:40: DataConversionWarning:\n",
      "\n",
      "A column-vector y was passed when a 1d array was expected. Please change the shape of y to (n_samples,), for example using ravel().\n",
      "\n"
     ]
    },
    {
     "output_type": "stream",
     "name": "stdout",
     "text": [
      "Run times: 5\n",
      "Train Accuracy ::  0.15560636668368594\n",
      "Test Accuracy  ::  0.13738734072309128\n"
     ]
    },
    {
     "output_type": "stream",
     "name": "stderr",
     "text": [
      "/home/yvonnechow/.local/lib/python3.6/site-packages/ipykernel_launcher.py:40: DataConversionWarning:\n",
      "\n",
      "A column-vector y was passed when a 1d array was expected. Please change the shape of y to (n_samples,), for example using ravel().\n",
      "\n"
     ]
    },
    {
     "output_type": "stream",
     "name": "stdout",
     "text": [
      "Run times: 6\n",
      "Train Accuracy ::  0.1562989766244145\n",
      "Test Accuracy  ::  0.13557443281881282\n"
     ]
    },
    {
     "output_type": "stream",
     "name": "stderr",
     "text": [
      "/home/yvonnechow/.local/lib/python3.6/site-packages/ipykernel_launcher.py:40: DataConversionWarning:\n",
      "\n",
      "A column-vector y was passed when a 1d array was expected. Please change the shape of y to (n_samples,), for example using ravel().\n",
      "\n"
     ]
    },
    {
     "output_type": "stream",
     "name": "stdout",
     "text": [
      "Run times: 7\n",
      "Train Accuracy ::  0.15516682575976204\n",
      "Test Accuracy  ::  0.1384647259919196\n"
     ]
    },
    {
     "output_type": "stream",
     "name": "stderr",
     "text": [
      "/home/yvonnechow/.local/lib/python3.6/site-packages/ipykernel_launcher.py:40: DataConversionWarning:\n",
      "\n",
      "A column-vector y was passed when a 1d array was expected. Please change the shape of y to (n_samples,), for example using ravel().\n",
      "\n"
     ]
    },
    {
     "output_type": "stream",
     "name": "stdout",
     "text": [
      "Run times: 8\n",
      "Train Accuracy ::  0.15572624148111971\n",
      "Test Accuracy  ::  0.13839220967574847\n"
     ]
    },
    {
     "output_type": "stream",
     "name": "stderr",
     "text": [
      "/home/yvonnechow/.local/lib/python3.6/site-packages/ipykernel_launcher.py:40: DataConversionWarning:\n",
      "\n",
      "A column-vector y was passed when a 1d array was expected. Please change the shape of y to (n_samples,), for example using ravel().\n",
      "\n"
     ]
    },
    {
     "output_type": "stream",
     "name": "stdout",
     "text": [
      "Run times: 9\n",
      "Train Accuracy ::  0.1555619686105623\n",
      "Test Accuracy  ::  0.13748057598673988\n"
     ]
    },
    {
     "output_type": "stream",
     "name": "stderr",
     "text": [
      "/home/yvonnechow/.local/lib/python3.6/site-packages/ipykernel_launcher.py:40: DataConversionWarning:\n",
      "\n",
      "A column-vector y was passed when a 1d array was expected. Please change the shape of y to (n_samples,), for example using ravel().\n",
      "\n"
     ]
    },
    {
     "output_type": "stream",
     "name": "stdout",
     "text": [
      "Run times: 10\n",
      "Train Accuracy ::  0.1555486491886252\n",
      "Test Accuracy  ::  0.1382471770434062\n",
      "Average Train Accuracy ::  0.15551712655670746\n",
      "Average Test Accuracy  ::  0.13795918367346938\n",
      "Model save successfully!\n"
     ]
    }
   ],
   "metadata": {
    "ExecuteTime": {
     "end_time": "2020-01-06T05:21:15.623683Z",
     "start_time": "2020-01-06T05:20:40.947768Z"
    },
    "hidden": true,
    "scrolled": true
   }
  },
  {
   "cell_type": "code",
   "execution_count": 16,
   "source": [
    "# FN1+sonin1\r\n",
    "\r\n",
    "x_feature = ['FN1','FN1_sonin_index']\r\n",
    "y_feature = ['BirthYear']\r\n",
    "    \r\n",
    "age_test = basic_RFClassifier(reconcatedata, x_feature, y_feature, 10)\r\n",
    "\r\n",
    "# Save the model to disk\r\n",
    "filename = './concate_age_model/age_predicton_FN1sonin1.sav'\r\n",
    "pickle.dump(age_test, open(filename, 'wb'))\r\n",
    "print(\"Model save successfully!\")"
   ],
   "outputs": [
    {
     "output_type": "stream",
     "name": "stderr",
     "text": [
      "/home/yvonnechow/.local/lib/python3.6/site-packages/ipykernel_launcher.py:40: DataConversionWarning:\n",
      "\n",
      "A column-vector y was passed when a 1d array was expected. Please change the shape of y to (n_samples,), for example using ravel().\n",
      "\n"
     ]
    },
    {
     "output_type": "stream",
     "name": "stdout",
     "text": [
      "Run times: 1\n",
      "Train Accuracy ::  0.2054565231868937\n",
      "Test Accuracy  ::  0.182274940433026\n"
     ]
    },
    {
     "output_type": "stream",
     "name": "stderr",
     "text": [
      "/home/yvonnechow/.local/lib/python3.6/site-packages/ipykernel_launcher.py:40: DataConversionWarning:\n",
      "\n",
      "A column-vector y was passed when a 1d array was expected. Please change the shape of y to (n_samples,), for example using ravel().\n",
      "\n"
     ]
    },
    {
     "output_type": "stream",
     "name": "stdout",
     "text": [
      "Run times: 2\n",
      "Train Accuracy ::  0.20522121339933846\n",
      "Test Accuracy  ::  0.1804516730550088\n"
     ]
    },
    {
     "output_type": "stream",
     "name": "stderr",
     "text": [
      "/home/yvonnechow/.local/lib/python3.6/site-packages/ipykernel_launcher.py:40: DataConversionWarning:\n",
      "\n",
      "A column-vector y was passed when a 1d array was expected. Please change the shape of y to (n_samples,), for example using ravel().\n",
      "\n"
     ]
    },
    {
     "output_type": "stream",
     "name": "stdout",
     "text": [
      "Run times: 3\n",
      "Train Accuracy ::  0.20531000954558573\n",
      "Test Accuracy  ::  0.18229565938050346\n"
     ]
    },
    {
     "output_type": "stream",
     "name": "stderr",
     "text": [
      "/home/yvonnechow/.local/lib/python3.6/site-packages/ipykernel_launcher.py:40: DataConversionWarning:\n",
      "\n",
      "A column-vector y was passed when a 1d array was expected. Please change the shape of y to (n_samples,), for example using ravel().\n",
      "\n"
     ]
    },
    {
     "output_type": "stream",
     "name": "stdout",
     "text": [
      "Run times: 4\n",
      "Train Accuracy ::  0.20506138033609342\n",
      "Test Accuracy  ::  0.18350771780793534\n"
     ]
    },
    {
     "output_type": "stream",
     "name": "stderr",
     "text": [
      "/home/yvonnechow/.local/lib/python3.6/site-packages/ipykernel_launcher.py:40: DataConversionWarning:\n",
      "\n",
      "A column-vector y was passed when a 1d array was expected. Please change the shape of y to (n_samples,), for example using ravel().\n",
      "\n"
     ]
    },
    {
     "output_type": "stream",
     "name": "stdout",
     "text": [
      "Run times: 5\n",
      "Train Accuracy ::  0.20523897262858792\n",
      "Test Accuracy  ::  0.1817569667460893\n"
     ]
    },
    {
     "output_type": "stream",
     "name": "stderr",
     "text": [
      "/home/yvonnechow/.local/lib/python3.6/site-packages/ipykernel_launcher.py:40: DataConversionWarning:\n",
      "\n",
      "A column-vector y was passed when a 1d array was expected. Please change the shape of y to (n_samples,), for example using ravel().\n",
      "\n"
     ]
    },
    {
     "output_type": "stream",
     "name": "stdout",
     "text": [
      "Run times: 6\n",
      "Train Accuracy ::  0.20461739960485714\n",
      "Test Accuracy  ::  0.18231637832798095\n"
     ]
    },
    {
     "output_type": "stream",
     "name": "stderr",
     "text": [
      "/home/yvonnechow/.local/lib/python3.6/site-packages/ipykernel_launcher.py:40: DataConversionWarning:\n",
      "\n",
      "A column-vector y was passed when a 1d array was expected. Please change the shape of y to (n_samples,), for example using ravel().\n",
      "\n"
     ]
    },
    {
     "output_type": "stream",
     "name": "stdout",
     "text": [
      "Run times: 7\n",
      "Train Accuracy ::  0.20490598708016072\n",
      "Test Accuracy  ::  0.18222314306433232\n"
     ]
    },
    {
     "output_type": "stream",
     "name": "stderr",
     "text": [
      "/home/yvonnechow/.local/lib/python3.6/site-packages/ipykernel_launcher.py:40: DataConversionWarning:\n",
      "\n",
      "A column-vector y was passed when a 1d array was expected. Please change the shape of y to (n_samples,), for example using ravel().\n",
      "\n"
     ]
    },
    {
     "output_type": "stream",
     "name": "stdout",
     "text": [
      "Run times: 8\n",
      "Train Accuracy ::  0.20500810264834507\n",
      "Test Accuracy  ::  0.18190199937843157\n"
     ]
    },
    {
     "output_type": "stream",
     "name": "stderr",
     "text": [
      "/home/yvonnechow/.local/lib/python3.6/site-packages/ipykernel_launcher.py:40: DataConversionWarning:\n",
      "\n",
      "A column-vector y was passed when a 1d array was expected. Please change the shape of y to (n_samples,), for example using ravel().\n",
      "\n"
     ]
    },
    {
     "output_type": "stream",
     "name": "stdout",
     "text": [
      "Run times: 9\n",
      "Train Accuracy ::  0.20526561147246208\n",
      "Test Accuracy  ::  0.18096964674194552\n"
     ]
    },
    {
     "output_type": "stream",
     "name": "stderr",
     "text": [
      "/home/yvonnechow/.local/lib/python3.6/site-packages/ipykernel_launcher.py:40: DataConversionWarning:\n",
      "\n",
      "A column-vector y was passed when a 1d array was expected. Please change the shape of y to (n_samples,), for example using ravel().\n",
      "\n"
     ]
    },
    {
     "output_type": "stream",
     "name": "stdout",
     "text": [
      "Run times: 10\n",
      "Train Accuracy ::  0.20580726796457033\n",
      "Test Accuracy  ::  0.18064850305604474\n",
      "Average Train Accuracy ::  0.20518924678668946\n",
      "Average Test Accuracy  ::  0.18183466279912983\n",
      "Model save successfully!\n"
     ]
    }
   ],
   "metadata": {
    "ExecuteTime": {
     "end_time": "2020-01-06T05:21:54.445102Z",
     "start_time": "2020-01-06T05:21:15.625663Z"
    },
    "hidden": true,
    "scrolled": true
   }
  },
  {
   "cell_type": "code",
   "execution_count": 17,
   "source": [
    "# FN1+muin1\r\n",
    "\r\n",
    "x_feature = ['FN1','FN1_muin_index']\r\n",
    "y_feature = ['BirthYear']\r\n",
    "    \r\n",
    "age_test = basic_RFClassifier(reconcatedata, x_feature, y_feature, 10)\r\n",
    "\r\n",
    "# Save the model to disk\r\n",
    "filename = './concate_age_model/age_predicton_FN1muin1.sav'\r\n",
    "pickle.dump(age_test, open(filename, 'wb'))\r\n",
    "print(\"Model save successfully!\")"
   ],
   "outputs": [
    {
     "output_type": "stream",
     "name": "stderr",
     "text": [
      "/home/yvonnechow/.local/lib/python3.6/site-packages/ipykernel_launcher.py:40: DataConversionWarning:\n",
      "\n",
      "A column-vector y was passed when a 1d array was expected. Please change the shape of y to (n_samples,), for example using ravel().\n",
      "\n"
     ]
    },
    {
     "output_type": "stream",
     "name": "stdout",
     "text": [
      "Run times: 1\n",
      "Train Accuracy ::  0.2056918329744489\n",
      "Test Accuracy  ::  0.18074173831969337\n"
     ]
    },
    {
     "output_type": "stream",
     "name": "stderr",
     "text": [
      "/home/yvonnechow/.local/lib/python3.6/site-packages/ipykernel_launcher.py:40: DataConversionWarning:\n",
      "\n",
      "A column-vector y was passed when a 1d array was expected. Please change the shape of y to (n_samples,), for example using ravel().\n",
      "\n"
     ]
    },
    {
     "output_type": "stream",
     "name": "stdout",
     "text": [
      "Run times: 2\n",
      "Train Accuracy ::  0.20511465802384177\n",
      "Test Accuracy  ::  0.18159121516626955\n"
     ]
    },
    {
     "output_type": "stream",
     "name": "stderr",
     "text": [
      "/home/yvonnechow/.local/lib/python3.6/site-packages/ipykernel_launcher.py:40: DataConversionWarning:\n",
      "\n",
      "A column-vector y was passed when a 1d array was expected. Please change the shape of y to (n_samples,), for example using ravel().\n",
      "\n"
     ]
    },
    {
     "output_type": "stream",
     "name": "stdout",
     "text": [
      "Run times: 3\n",
      "Train Accuracy ::  0.20497702399715853\n",
      "Test Accuracy  ::  0.18117683621672018\n"
     ]
    },
    {
     "output_type": "stream",
     "name": "stderr",
     "text": [
      "/home/yvonnechow/.local/lib/python3.6/site-packages/ipykernel_launcher.py:40: DataConversionWarning:\n",
      "\n",
      "A column-vector y was passed when a 1d array was expected. Please change the shape of y to (n_samples,), for example using ravel().\n",
      "\n"
     ]
    },
    {
     "output_type": "stream",
     "name": "stdout",
     "text": [
      "Run times: 4\n",
      "Train Accuracy ::  0.20524785224321265\n",
      "Test Accuracy  ::  0.18245105148658447\n"
     ]
    },
    {
     "output_type": "stream",
     "name": "stderr",
     "text": [
      "/home/yvonnechow/.local/lib/python3.6/site-packages/ipykernel_launcher.py:40: DataConversionWarning:\n",
      "\n",
      "A column-vector y was passed when a 1d array was expected. Please change the shape of y to (n_samples,), for example using ravel().\n",
      "\n"
     ]
    },
    {
     "output_type": "stream",
     "name": "stdout",
     "text": [
      "Run times: 5\n",
      "Train Accuracy ::  0.2051812551335272\n",
      "Test Accuracy  ::  0.1819123588521703\n"
     ]
    },
    {
     "output_type": "stream",
     "name": "stderr",
     "text": [
      "/home/yvonnechow/.local/lib/python3.6/site-packages/ipykernel_launcher.py:40: DataConversionWarning:\n",
      "\n",
      "A column-vector y was passed when a 1d array was expected. Please change the shape of y to (n_samples,), for example using ravel().\n",
      "\n"
     ]
    },
    {
     "output_type": "stream",
     "name": "stdout",
     "text": [
      "Run times: 6\n",
      "Train Accuracy ::  0.20514129686771593\n",
      "Test Accuracy  ::  0.18316585517455714\n"
     ]
    },
    {
     "output_type": "stream",
     "name": "stderr",
     "text": [
      "/home/yvonnechow/.local/lib/python3.6/site-packages/ipykernel_launcher.py:40: DataConversionWarning:\n",
      "\n",
      "A column-vector y was passed when a 1d array was expected. Please change the shape of y to (n_samples,), for example using ravel().\n",
      "\n"
     ]
    },
    {
     "output_type": "stream",
     "name": "stdout",
     "text": [
      "Run times: 7\n",
      "Train Accuracy ::  0.20553199991120386\n",
      "Test Accuracy  ::  0.18113539832176526\n"
     ]
    },
    {
     "output_type": "stream",
     "name": "stderr",
     "text": [
      "/home/yvonnechow/.local/lib/python3.6/site-packages/ipykernel_launcher.py:40: DataConversionWarning:\n",
      "\n",
      "A column-vector y was passed when a 1d array was expected. Please change the shape of y to (n_samples,), for example using ravel().\n",
      "\n"
     ]
    },
    {
     "output_type": "stream",
     "name": "stdout",
     "text": [
      "Run times: 8\n",
      "Train Accuracy ::  0.20485714919972473\n",
      "Test Accuracy  ::  0.1820677509582513\n"
     ]
    },
    {
     "output_type": "stream",
     "name": "stderr",
     "text": [
      "/home/yvonnechow/.local/lib/python3.6/site-packages/ipykernel_launcher.py:40: DataConversionWarning:\n",
      "\n",
      "A column-vector y was passed when a 1d array was expected. Please change the shape of y to (n_samples,), for example using ravel().\n",
      "\n"
     ]
    },
    {
     "output_type": "stream",
     "name": "stdout",
     "text": [
      "Run times: 9\n",
      "Train Accuracy ::  0.20587830488156814\n",
      "Test Accuracy  ::  0.18113539832176526\n"
     ]
    },
    {
     "output_type": "stream",
     "name": "stderr",
     "text": [
      "/home/yvonnechow/.local/lib/python3.6/site-packages/ipykernel_launcher.py:40: DataConversionWarning:\n",
      "\n",
      "A column-vector y was passed when a 1d array was expected. Please change the shape of y to (n_samples,), for example using ravel().\n",
      "\n"
     ]
    },
    {
     "output_type": "stream",
     "name": "stdout",
     "text": [
      "Run times: 10\n",
      "Train Accuracy ::  0.2054920416453926\n",
      "Test Accuracy  ::  0.1810525225318554\n",
      "Average Train Accuracy ::  0.2053113414877794\n",
      "Average Test Accuracy  ::  0.1816430125349632\n",
      "Model save successfully!\n"
     ]
    }
   ],
   "metadata": {
    "ExecuteTime": {
     "end_time": "2020-01-06T05:22:33.039967Z",
     "start_time": "2020-01-06T05:21:54.447017Z"
    },
    "hidden": true,
    "scrolled": true
   }
  },
  {
   "cell_type": "code",
   "execution_count": 18,
   "source": [
    "# FN2+sonin2\r\n",
    "\r\n",
    "x_feature = ['FN2','FN2_sonin_index']\r\n",
    "y_feature = ['BirthYear']\r\n",
    "    \r\n",
    "age_test = basic_RFClassifier(reconcatedata, x_feature, y_feature, 10)\r\n",
    "\r\n",
    "# Save the model to disk\r\n",
    "filename = './concate_age_model/age_predicton_FN2sonin2.sav'\r\n",
    "pickle.dump(age_test, open(filename, 'wb'))\r\n",
    "print(\"Model save successfully!\")"
   ],
   "outputs": [
    {
     "output_type": "stream",
     "name": "stderr",
     "text": [
      "/home/yvonnechow/.local/lib/python3.6/site-packages/ipykernel_launcher.py:40: DataConversionWarning:\n",
      "\n",
      "A column-vector y was passed when a 1d array was expected. Please change the shape of y to (n_samples,), for example using ravel().\n",
      "\n"
     ]
    },
    {
     "output_type": "stream",
     "name": "stdout",
     "text": [
      "Run times: 1\n",
      "Train Accuracy ::  0.2151175438985948\n",
      "Test Accuracy  ::  0.18676059256189786\n"
     ]
    },
    {
     "output_type": "stream",
     "name": "stderr",
     "text": [
      "/home/yvonnechow/.local/lib/python3.6/site-packages/ipykernel_launcher.py:40: DataConversionWarning:\n",
      "\n",
      "A column-vector y was passed when a 1d array was expected. Please change the shape of y to (n_samples,), for example using ravel().\n",
      "\n"
     ]
    },
    {
     "output_type": "stream",
     "name": "stdout",
     "text": [
      "Run times: 2\n",
      "Train Accuracy ::  0.21444713299442805\n",
      "Test Accuracy  ::  0.1885631409924376\n"
     ]
    },
    {
     "output_type": "stream",
     "name": "stderr",
     "text": [
      "/home/yvonnechow/.local/lib/python3.6/site-packages/ipykernel_launcher.py:40: DataConversionWarning:\n",
      "\n",
      "A column-vector y was passed when a 1d array was expected. Please change the shape of y to (n_samples,), for example using ravel().\n",
      "\n"
     ]
    },
    {
     "output_type": "stream",
     "name": "stdout",
     "text": [
      "Run times: 3\n",
      "Train Accuracy ::  0.21418518436299866\n",
      "Test Accuracy  ::  0.18785869677820366\n"
     ]
    },
    {
     "output_type": "stream",
     "name": "stderr",
     "text": [
      "/home/yvonnechow/.local/lib/python3.6/site-packages/ipykernel_launcher.py:40: DataConversionWarning:\n",
      "\n",
      "A column-vector y was passed when a 1d array was expected. Please change the shape of y to (n_samples,), for example using ravel().\n",
      "\n"
     ]
    },
    {
     "output_type": "stream",
     "name": "stdout",
     "text": [
      "Run times: 4\n",
      "Train Accuracy ::  0.21450485048948875\n",
      "Test Accuracy  ::  0.18678131150937533\n"
     ]
    },
    {
     "output_type": "stream",
     "name": "stderr",
     "text": [
      "/home/yvonnechow/.local/lib/python3.6/site-packages/ipykernel_launcher.py:40: DataConversionWarning:\n",
      "\n",
      "A column-vector y was passed when a 1d array was expected. Please change the shape of y to (n_samples,), for example using ravel().\n",
      "\n"
     ]
    },
    {
     "output_type": "stream",
     "name": "stdout",
     "text": [
      "Run times: 5\n",
      "Train Accuracy ::  0.21441161453592913\n",
      "Test Accuracy  ::  0.18681238993059152\n"
     ]
    },
    {
     "output_type": "stream",
     "name": "stderr",
     "text": [
      "/home/yvonnechow/.local/lib/python3.6/site-packages/ipykernel_launcher.py:40: DataConversionWarning:\n",
      "\n",
      "A column-vector y was passed when a 1d array was expected. Please change the shape of y to (n_samples,), for example using ravel().\n",
      "\n"
     ]
    },
    {
     "output_type": "stream",
     "name": "stdout",
     "text": [
      "Run times: 6\n",
      "Train Accuracy ::  0.2149399516061003\n",
      "Test Accuracy  ::  0.18757899098725786\n"
     ]
    },
    {
     "output_type": "stream",
     "name": "stderr",
     "text": [
      "/home/yvonnechow/.local/lib/python3.6/site-packages/ipykernel_launcher.py:40: DataConversionWarning:\n",
      "\n",
      "A column-vector y was passed when a 1d array was expected. Please change the shape of y to (n_samples,), for example using ravel().\n",
      "\n"
     ]
    },
    {
     "output_type": "stream",
     "name": "stdout",
     "text": [
      "Run times: 7\n",
      "Train Accuracy ::  0.21463360490154726\n",
      "Test Accuracy  ::  0.18602506992644774\n"
     ]
    },
    {
     "output_type": "stream",
     "name": "stderr",
     "text": [
      "/home/yvonnechow/.local/lib/python3.6/site-packages/ipykernel_launcher.py:40: DataConversionWarning:\n",
      "\n",
      "A column-vector y was passed when a 1d array was expected. Please change the shape of y to (n_samples,), for example using ravel().\n",
      "\n"
     ]
    },
    {
     "output_type": "stream",
     "name": "stdout",
     "text": [
      "Run times: 8\n",
      "Train Accuracy ::  0.21418518436299866\n",
      "Test Accuracy  ::  0.18836631099140164\n"
     ]
    },
    {
     "output_type": "stream",
     "name": "stderr",
     "text": [
      "/home/yvonnechow/.local/lib/python3.6/site-packages/ipykernel_launcher.py:40: DataConversionWarning:\n",
      "\n",
      "A column-vector y was passed when a 1d array was expected. Please change the shape of y to (n_samples,), for example using ravel().\n",
      "\n"
     ]
    },
    {
     "output_type": "stream",
     "name": "stdout",
     "text": [
      "Run times: 9\n",
      "Train Accuracy ::  0.21582347326126047\n",
      "Test Accuracy  ::  0.18489588728892573\n"
     ]
    },
    {
     "output_type": "stream",
     "name": "stderr",
     "text": [
      "/home/yvonnechow/.local/lib/python3.6/site-packages/ipykernel_launcher.py:40: DataConversionWarning:\n",
      "\n",
      "A column-vector y was passed when a 1d array was expected. Please change the shape of y to (n_samples,), for example using ravel().\n",
      "\n"
     ]
    },
    {
     "output_type": "stream",
     "name": "stdout",
     "text": [
      "Run times: 10\n",
      "Train Accuracy ::  0.2148555952671654\n",
      "Test Accuracy  ::  0.18608722676888015\n",
      "Average Train Accuracy ::  0.21471041356805118\n",
      "Average Test Accuracy  ::  0.18697296177354192\n",
      "Model save successfully!\n"
     ]
    }
   ],
   "metadata": {
    "ExecuteTime": {
     "end_time": "2020-01-06T05:23:14.150886Z",
     "start_time": "2020-01-06T05:22:33.043071Z"
    },
    "hidden": true,
    "scrolled": true
   }
  },
  {
   "cell_type": "code",
   "execution_count": 19,
   "source": [
    "# FN2+muin2\r\n",
    "\r\n",
    "x_feature = ['FN2','FN2_muin_index']\r\n",
    "y_feature = ['BirthYear']\r\n",
    "    \r\n",
    "age_test = basic_RFClassifier(reconcatedata, x_feature, y_feature, 10)\r\n",
    "\r\n",
    "# Save the model to disk\r\n",
    "filename = './concate_age_model/age_predicton_FN2muin2.sav'\r\n",
    "pickle.dump(age_test, open(filename, 'wb'))\r\n",
    "print(\"Model save successfully!\")"
   ],
   "outputs": [
    {
     "output_type": "stream",
     "name": "stderr",
     "text": [
      "/home/yvonnechow/.local/lib/python3.6/site-packages/ipykernel_launcher.py:40: DataConversionWarning:\n",
      "\n",
      "A column-vector y was passed when a 1d array was expected. Please change the shape of y to (n_samples,), for example using ravel().\n",
      "\n"
     ]
    },
    {
     "output_type": "stream",
     "name": "stdout",
     "text": [
      "Run times: 1\n",
      "Train Accuracy ::  0.21505538659622173\n",
      "Test Accuracy  ::  0.18705065782658242\n"
     ]
    },
    {
     "output_type": "stream",
     "name": "stderr",
     "text": [
      "/home/yvonnechow/.local/lib/python3.6/site-packages/ipykernel_launcher.py:40: DataConversionWarning:\n",
      "\n",
      "A column-vector y was passed when a 1d array was expected. Please change the shape of y to (n_samples,), for example using ravel().\n",
      "\n"
     ]
    },
    {
     "output_type": "stream",
     "name": "stdout",
     "text": [
      "Run times: 2\n",
      "Train Accuracy ::  0.21477123892823052\n",
      "Test Accuracy  ::  0.18761006940847405\n"
     ]
    },
    {
     "output_type": "stream",
     "name": "stderr",
     "text": [
      "/home/yvonnechow/.local/lib/python3.6/site-packages/ipykernel_launcher.py:40: DataConversionWarning:\n",
      "\n",
      "A column-vector y was passed when a 1d array was expected. Please change the shape of y to (n_samples,), for example using ravel().\n",
      "\n"
     ]
    },
    {
     "output_type": "stream",
     "name": "stdout",
     "text": [
      "Run times: 3\n",
      "Train Accuracy ::  0.21504206717428465\n",
      "Test Accuracy  ::  0.18635657308608722\n"
     ]
    },
    {
     "output_type": "stream",
     "name": "stderr",
     "text": [
      "/home/yvonnechow/.local/lib/python3.6/site-packages/ipykernel_launcher.py:40: DataConversionWarning:\n",
      "\n",
      "A column-vector y was passed when a 1d array was expected. Please change the shape of y to (n_samples,), for example using ravel().\n",
      "\n"
     ]
    },
    {
     "output_type": "stream",
     "name": "stdout",
     "text": [
      "Run times: 4\n",
      "Train Accuracy ::  0.21503762736697227\n",
      "Test Accuracy  ::  0.18739252045996063\n"
     ]
    },
    {
     "output_type": "stream",
     "name": "stderr",
     "text": [
      "/home/yvonnechow/.local/lib/python3.6/site-packages/ipykernel_launcher.py:40: DataConversionWarning:\n",
      "\n",
      "A column-vector y was passed when a 1d array was expected. Please change the shape of y to (n_samples,), for example using ravel().\n",
      "\n"
     ]
    },
    {
     "output_type": "stream",
     "name": "stdout",
     "text": [
      "Run times: 5\n",
      "Train Accuracy ::  0.2151530623570937\n",
      "Test Accuracy  ::  0.18490624676266446\n"
     ]
    },
    {
     "output_type": "stream",
     "name": "stderr",
     "text": [
      "/home/yvonnechow/.local/lib/python3.6/site-packages/ipykernel_launcher.py:40: DataConversionWarning:\n",
      "\n",
      "A column-vector y was passed when a 1d array was expected. Please change the shape of y to (n_samples,), for example using ravel().\n",
      "\n"
     ]
    },
    {
     "output_type": "stream",
     "name": "stdout",
     "text": [
      "Run times: 6\n",
      "Train Accuracy ::  0.21475791950629342\n",
      "Test Accuracy  ::  0.18660520045581686\n"
     ]
    },
    {
     "output_type": "stream",
     "name": "stderr",
     "text": [
      "/home/yvonnechow/.local/lib/python3.6/site-packages/ipykernel_launcher.py:40: DataConversionWarning:\n",
      "\n",
      "A column-vector y was passed when a 1d array was expected. Please change the shape of y to (n_samples,), for example using ravel().\n",
      "\n"
     ]
    },
    {
     "output_type": "stream",
     "name": "stdout",
     "text": [
      "Run times: 7\n",
      "Train Accuracy ::  0.21520634004484204\n",
      "Test Accuracy  ::  0.18680203045685279\n"
     ]
    },
    {
     "output_type": "stream",
     "name": "stderr",
     "text": [
      "/home/yvonnechow/.local/lib/python3.6/site-packages/ipykernel_launcher.py:40: DataConversionWarning:\n",
      "\n",
      "A column-vector y was passed when a 1d array was expected. Please change the shape of y to (n_samples,), for example using ravel().\n",
      "\n"
     ]
    },
    {
     "output_type": "stream",
     "name": "stdout",
     "text": [
      "Run times: 8\n",
      "Train Accuracy ::  0.21539725175927366\n",
      "Test Accuracy  ::  0.18624261887496116\n"
     ]
    },
    {
     "output_type": "stream",
     "name": "stderr",
     "text": [
      "/home/yvonnechow/.local/lib/python3.6/site-packages/ipykernel_launcher.py:40: DataConversionWarning:\n",
      "\n",
      "A column-vector y was passed when a 1d array was expected. Please change the shape of y to (n_samples,), for example using ravel().\n",
      "\n"
     ]
    },
    {
     "output_type": "stream",
     "name": "stdout",
     "text": [
      "Run times: 9\n",
      "Train Accuracy ::  0.21462472528692256\n",
      "Test Accuracy  ::  0.18734072309126695\n"
     ]
    },
    {
     "output_type": "stream",
     "name": "stderr",
     "text": [
      "/home/yvonnechow/.local/lib/python3.6/site-packages/ipykernel_launcher.py:40: DataConversionWarning:\n",
      "\n",
      "A column-vector y was passed when a 1d array was expected. Please change the shape of y to (n_samples,), for example using ravel().\n",
      "\n"
     ]
    },
    {
     "output_type": "stream",
     "name": "stdout",
     "text": [
      "Run times: 10\n",
      "Train Accuracy ::  0.2143450174262437\n",
      "Test Accuracy  ::  0.18863565730860873\n",
      "Average Train Accuracy ::  0.21493906364463786\n",
      "Average Test Accuracy  ::  0.1868942297731275\n",
      "Model save successfully!\n"
     ]
    }
   ],
   "metadata": {
    "ExecuteTime": {
     "end_time": "2020-01-06T05:23:55.174838Z",
     "start_time": "2020-01-06T05:23:14.153277Z"
    },
    "hidden": true,
    "scrolled": true
   }
  },
  {
   "cell_type": "code",
   "execution_count": 20,
   "source": [
    "# FN+sonin\r\n",
    "\r\n",
    "x_feature = ['FN1','FN2','FN1_sonin_index','FN2_sonin_index']\r\n",
    "y_feature = ['BirthYear']\r\n",
    "    \r\n",
    "age_test = basic_RFClassifier(reconcatedata, x_feature, y_feature, 10)\r\n",
    "\r\n",
    "# Save the model to disk\r\n",
    "filename = './concate_age_model/age_predicton_FNsonin.sav'\r\n",
    "pickle.dump(age_test, open(filename, 'wb'))\r\n",
    "print(\"Model save successfully!\")"
   ],
   "outputs": [
    {
     "output_type": "stream",
     "name": "stderr",
     "text": [
      "/home/yvonnechow/.local/lib/python3.6/site-packages/ipykernel_launcher.py:40: DataConversionWarning:\n",
      "\n",
      "A column-vector y was passed when a 1d array was expected. Please change the shape of y to (n_samples,), for example using ravel().\n",
      "\n"
     ]
    },
    {
     "output_type": "stream",
     "name": "stdout",
     "text": [
      "Run times: 1\n",
      "Train Accuracy ::  0.5561791018269807\n",
      "Test Accuracy  ::  0.1997824510514866\n"
     ]
    },
    {
     "output_type": "stream",
     "name": "stderr",
     "text": [
      "/home/yvonnechow/.local/lib/python3.6/site-packages/ipykernel_launcher.py:40: DataConversionWarning:\n",
      "\n",
      "A column-vector y was passed when a 1d array was expected. Please change the shape of y to (n_samples,), for example using ravel().\n",
      "\n"
     ]
    },
    {
     "output_type": "stream",
     "name": "stdout",
     "text": [
      "Run times: 2\n",
      "Train Accuracy ::  0.5565076475680956\n",
      "Test Accuracy  ::  0.2008805552677924\n"
     ]
    },
    {
     "output_type": "stream",
     "name": "stderr",
     "text": [
      "/home/yvonnechow/.local/lib/python3.6/site-packages/ipykernel_launcher.py:40: DataConversionWarning:\n",
      "\n",
      "A column-vector y was passed when a 1d array was expected. Please change the shape of y to (n_samples,), for example using ravel().\n",
      "\n"
     ]
    },
    {
     "output_type": "stream",
     "name": "stdout",
     "text": [
      "Run times: 3\n",
      "Train Accuracy ::  0.5560547872222346\n",
      "Test Accuracy  ::  0.20034186263337822\n"
     ]
    },
    {
     "output_type": "stream",
     "name": "stderr",
     "text": [
      "/home/yvonnechow/.local/lib/python3.6/site-packages/ipykernel_launcher.py:40: DataConversionWarning:\n",
      "\n",
      "A column-vector y was passed when a 1d array was expected. Please change the shape of y to (n_samples,), for example using ravel().\n",
      "\n"
     ]
    },
    {
     "output_type": "stream",
     "name": "stdout",
     "text": [
      "Run times: 4\n",
      "Train Accuracy ::  0.5564188514218483\n",
      "Test Accuracy  ::  0.19934735315445976\n"
     ]
    },
    {
     "output_type": "stream",
     "name": "stderr",
     "text": [
      "/home/yvonnechow/.local/lib/python3.6/site-packages/ipykernel_launcher.py:40: DataConversionWarning:\n",
      "\n",
      "A column-vector y was passed when a 1d array was expected. Please change the shape of y to (n_samples,), for example using ravel().\n",
      "\n"
     ]
    },
    {
     "output_type": "stream",
     "name": "stdout",
     "text": [
      "Run times: 5\n",
      "Train Accuracy ::  0.5580171820542988\n",
      "Test Accuracy  ::  0.19947166683932457\n"
     ]
    },
    {
     "output_type": "stream",
     "name": "stderr",
     "text": [
      "/home/yvonnechow/.local/lib/python3.6/site-packages/ipykernel_launcher.py:40: DataConversionWarning:\n",
      "\n",
      "A column-vector y was passed when a 1d array was expected. Please change the shape of y to (n_samples,), for example using ravel().\n",
      "\n"
     ]
    },
    {
     "output_type": "stream",
     "name": "stdout",
     "text": [
      "Run times: 6\n",
      "Train Accuracy ::  0.5573689701866938\n",
      "Test Accuracy  ::  0.2005490521081529\n"
     ]
    },
    {
     "output_type": "stream",
     "name": "stderr",
     "text": [
      "/home/yvonnechow/.local/lib/python3.6/site-packages/ipykernel_launcher.py:40: DataConversionWarning:\n",
      "\n",
      "A column-vector y was passed when a 1d array was expected. Please change the shape of y to (n_samples,), for example using ravel().\n",
      "\n"
     ]
    },
    {
     "output_type": "stream",
     "name": "stdout",
     "text": [
      "Run times: 7\n",
      "Train Accuracy ::  0.5580127422469865\n",
      "Test Accuracy  ::  0.2010359473738734\n"
     ]
    },
    {
     "output_type": "stream",
     "name": "stderr",
     "text": [
      "/home/yvonnechow/.local/lib/python3.6/site-packages/ipykernel_launcher.py:40: DataConversionWarning:\n",
      "\n",
      "A column-vector y was passed when a 1d array was expected. Please change the shape of y to (n_samples,), for example using ravel().\n",
      "\n"
     ]
    },
    {
     "output_type": "stream",
     "name": "stdout",
     "text": [
      "Run times: 8\n",
      "Train Accuracy ::  0.5571070215552645\n",
      "Test Accuracy  ::  0.19870506578265823\n"
     ]
    },
    {
     "output_type": "stream",
     "name": "stderr",
     "text": [
      "/home/yvonnechow/.local/lib/python3.6/site-packages/ipykernel_launcher.py:40: DataConversionWarning:\n",
      "\n",
      "A column-vector y was passed when a 1d array was expected. Please change the shape of y to (n_samples,), for example using ravel().\n",
      "\n"
     ]
    },
    {
     "output_type": "stream",
     "name": "stdout",
     "text": [
      "Run times: 9\n",
      "Train Accuracy ::  0.556880591382334\n",
      "Test Accuracy  ::  0.2005801305293691\n"
     ]
    },
    {
     "output_type": "stream",
     "name": "stderr",
     "text": [
      "/home/yvonnechow/.local/lib/python3.6/site-packages/ipykernel_launcher.py:40: DataConversionWarning:\n",
      "\n",
      "A column-vector y was passed when a 1d array was expected. Please change the shape of y to (n_samples,), for example using ravel().\n",
      "\n"
     ]
    },
    {
     "output_type": "stream",
     "name": "stdout",
     "text": [
      "Run times: 10\n",
      "Train Accuracy ::  0.5569383088773947\n",
      "Test Accuracy  ::  0.19961669947166685\n",
      "Average Train Accuracy ::  0.5569485204342131\n",
      "Average Test Accuracy  ::  0.2000310784212162\n",
      "Model save successfully!\n"
     ]
    }
   ],
   "metadata": {
    "ExecuteTime": {
     "end_time": "2020-01-06T05:27:42.916984Z",
     "start_time": "2020-01-06T05:23:55.176941Z"
    },
    "hidden": true,
    "scrolled": true
   }
  },
  {
   "cell_type": "code",
   "execution_count": 21,
   "source": [
    "# FN+muin\r\n",
    "\r\n",
    "x_feature = ['FN1','FN2','FN1_muin_index','FN2_muin_index']\r\n",
    "y_feature = ['BirthYear']\r\n",
    "    \r\n",
    "age_test = basic_RFClassifier(reconcatedata, x_feature, y_feature, 10)\r\n",
    "\r\n",
    "# Save the model to disk\r\n",
    "filename = './concate_age_model/age_predicton_FNmuin.sav'\r\n",
    "pickle.dump(age_test, open(filename, 'wb'))\r\n",
    "print(\"Model save successfully!\")"
   ],
   "outputs": [
    {
     "output_type": "stream",
     "name": "stderr",
     "text": [
      "/home/yvonnechow/.local/lib/python3.6/site-packages/ipykernel_launcher.py:40: DataConversionWarning:\n",
      "\n",
      "A column-vector y was passed when a 1d array was expected. Please change the shape of y to (n_samples,), for example using ravel().\n",
      "\n"
     ]
    },
    {
     "output_type": "stream",
     "name": "stdout",
     "text": [
      "Run times: 1\n",
      "Train Accuracy ::  0.5561080649099829\n",
      "Test Accuracy  ::  0.20110846369004454\n"
     ]
    },
    {
     "output_type": "stream",
     "name": "stderr",
     "text": [
      "/home/yvonnechow/.local/lib/python3.6/site-packages/ipykernel_launcher.py:40: DataConversionWarning:\n",
      "\n",
      "A column-vector y was passed when a 1d array was expected. Please change the shape of y to (n_samples,), for example using ravel().\n",
      "\n"
     ]
    },
    {
     "output_type": "stream",
     "name": "stdout",
     "text": [
      "Run times: 2\n",
      "Train Accuracy ::  0.5562013008635425\n",
      "Test Accuracy  ::  0.19938879104941468\n"
     ]
    },
    {
     "output_type": "stream",
     "name": "stderr",
     "text": [
      "/home/yvonnechow/.local/lib/python3.6/site-packages/ipykernel_launcher.py:40: DataConversionWarning:\n",
      "\n",
      "A column-vector y was passed when a 1d array was expected. Please change the shape of y to (n_samples,), for example using ravel().\n",
      "\n"
     ]
    },
    {
     "output_type": "stream",
     "name": "stdout",
     "text": [
      "Run times: 3\n",
      "Train Accuracy ::  0.5583546074100384\n",
      "Test Accuracy  ::  0.19802134051590178\n"
     ]
    },
    {
     "output_type": "stream",
     "name": "stderr",
     "text": [
      "/home/yvonnechow/.local/lib/python3.6/site-packages/ipykernel_launcher.py:40: DataConversionWarning:\n",
      "\n",
      "A column-vector y was passed when a 1d array was expected. Please change the shape of y to (n_samples,), for example using ravel().\n",
      "\n"
     ]
    },
    {
     "output_type": "stream",
     "name": "stdout",
     "text": [
      "Run times: 4\n",
      "Train Accuracy ::  0.5570937021333274\n",
      "Test Accuracy  ::  0.2000621568424324\n"
     ]
    },
    {
     "output_type": "stream",
     "name": "stderr",
     "text": [
      "/home/yvonnechow/.local/lib/python3.6/site-packages/ipykernel_launcher.py:40: DataConversionWarning:\n",
      "\n",
      "A column-vector y was passed when a 1d array was expected. Please change the shape of y to (n_samples,), for example using ravel().\n",
      "\n"
     ]
    },
    {
     "output_type": "stream",
     "name": "stdout",
     "text": [
      "Run times: 5\n",
      "Train Accuracy ::  0.5561036251026705\n",
      "Test Accuracy  ::  0.2002797057909458\n"
     ]
    },
    {
     "output_type": "stream",
     "name": "stderr",
     "text": [
      "/home/yvonnechow/.local/lib/python3.6/site-packages/ipykernel_launcher.py:40: DataConversionWarning:\n",
      "\n",
      "A column-vector y was passed when a 1d array was expected. Please change the shape of y to (n_samples,), for example using ravel().\n",
      "\n"
     ]
    },
    {
     "output_type": "stream",
     "name": "stdout",
     "text": [
      "Run times: 6\n",
      "Train Accuracy ::  0.5566364019801541\n",
      "Test Accuracy  ::  0.19881901999378432\n"
     ]
    },
    {
     "output_type": "stream",
     "name": "stderr",
     "text": [
      "/home/yvonnechow/.local/lib/python3.6/site-packages/ipykernel_launcher.py:40: DataConversionWarning:\n",
      "\n",
      "A column-vector y was passed when a 1d array was expected. Please change the shape of y to (n_samples,), for example using ravel().\n",
      "\n"
     ]
    },
    {
     "output_type": "stream",
     "name": "stdout",
     "text": [
      "Run times: 7\n",
      "Train Accuracy ::  0.5573245721135702\n",
      "Test Accuracy  ::  0.20022790842225216\n"
     ]
    },
    {
     "output_type": "stream",
     "name": "stderr",
     "text": [
      "/home/yvonnechow/.local/lib/python3.6/site-packages/ipykernel_launcher.py:40: DataConversionWarning:\n",
      "\n",
      "A column-vector y was passed when a 1d array was expected. Please change the shape of y to (n_samples,), for example using ravel().\n",
      "\n"
     ]
    },
    {
     "output_type": "stream",
     "name": "stdout",
     "text": [
      "Run times: 8\n",
      "Train Accuracy ::  0.5558638755078029\n",
      "Test Accuracy  ::  0.2007355226354501\n"
     ]
    },
    {
     "output_type": "stream",
     "name": "stderr",
     "text": [
      "/home/yvonnechow/.local/lib/python3.6/site-packages/ipykernel_launcher.py:40: DataConversionWarning:\n",
      "\n",
      "A column-vector y was passed when a 1d array was expected. Please change the shape of y to (n_samples,), for example using ravel().\n",
      "\n"
     ]
    },
    {
     "output_type": "stream",
     "name": "stdout",
     "text": [
      "Run times: 9\n",
      "Train Accuracy ::  0.5572979332696961\n",
      "Test Accuracy  ::  0.1990572878897752\n"
     ]
    },
    {
     "output_type": "stream",
     "name": "stderr",
     "text": [
      "/home/yvonnechow/.local/lib/python3.6/site-packages/ipykernel_launcher.py:40: DataConversionWarning:\n",
      "\n",
      "A column-vector y was passed when a 1d array was expected. Please change the shape of y to (n_samples,), for example using ravel().\n",
      "\n"
     ]
    },
    {
     "output_type": "stream",
     "name": "stdout",
     "text": [
      "Run times: 10\n",
      "Train Accuracy ::  0.5568228738872733\n",
      "Test Accuracy  ::  0.2000310784212162\n",
      "Average Train Accuracy ::  0.5567806957178059\n",
      "Average Test Accuracy  ::  0.19977312752512172\n",
      "Model save successfully!\n"
     ]
    }
   ],
   "metadata": {
    "ExecuteTime": {
     "end_time": "2020-01-06T05:31:30.132741Z",
     "start_time": "2020-01-06T05:27:42.918718Z"
    },
    "hidden": true,
    "scrolled": true
   }
  },
  {
   "cell_type": "code",
   "execution_count": 22,
   "source": [
    "# sonin+muin\r\n",
    "\r\n",
    "x_feature = ['FN1_sonin_index','FN2_sonin_index','FN1_muin_index','FN2_muin_index']\r\n",
    "y_feature = ['BirthYear']\r\n",
    "    \r\n",
    "age_test = basic_RFClassifier(reconcatedata, x_feature, y_feature, 10)\r\n",
    "\r\n",
    "# Save the model to disk\r\n",
    "filename = './concate_age_model/age_predicton_soninmuin.sav'\r\n",
    "pickle.dump(age_test, open(filename, 'wb'))\r\n",
    "print(\"Model save successfully!\")"
   ],
   "outputs": [
    {
     "output_type": "stream",
     "name": "stderr",
     "text": [
      "/home/yvonnechow/.local/lib/python3.6/site-packages/ipykernel_launcher.py:40: DataConversionWarning:\n",
      "\n",
      "A column-vector y was passed when a 1d array was expected. Please change the shape of y to (n_samples,), for example using ravel().\n",
      "\n"
     ]
    },
    {
     "output_type": "stream",
     "name": "stdout",
     "text": [
      "Run times: 1\n",
      "Train Accuracy ::  0.32660554531933317\n",
      "Test Accuracy  ::  0.18190199937843157\n"
     ]
    },
    {
     "output_type": "stream",
     "name": "stderr",
     "text": [
      "/home/yvonnechow/.local/lib/python3.6/site-packages/ipykernel_launcher.py:40: DataConversionWarning:\n",
      "\n",
      "A column-vector y was passed when a 1d array was expected. Please change the shape of y to (n_samples,), for example using ravel().\n",
      "\n"
     ]
    },
    {
     "output_type": "stream",
     "name": "stdout",
     "text": [
      "Run times: 2\n",
      "Train Accuracy ::  0.3273691921770595\n",
      "Test Accuracy  ::  0.18209882937946753\n"
     ]
    },
    {
     "output_type": "stream",
     "name": "stderr",
     "text": [
      "/home/yvonnechow/.local/lib/python3.6/site-packages/ipykernel_launcher.py:40: DataConversionWarning:\n",
      "\n",
      "A column-vector y was passed when a 1d array was expected. Please change the shape of y to (n_samples,), for example using ravel().\n",
      "\n"
     ]
    },
    {
     "output_type": "stream",
     "name": "stdout",
     "text": [
      "Run times: 3\n",
      "Train Accuracy ::  0.32728039603081227\n",
      "Test Accuracy  ::  0.1823370972754584\n"
     ]
    },
    {
     "output_type": "stream",
     "name": "stderr",
     "text": [
      "/home/yvonnechow/.local/lib/python3.6/site-packages/ipykernel_launcher.py:40: DataConversionWarning:\n",
      "\n",
      "A column-vector y was passed when a 1d array was expected. Please change the shape of y to (n_samples,), for example using ravel().\n",
      "\n"
     ]
    },
    {
     "output_type": "stream",
     "name": "stdout",
     "text": [
      "Run times: 4\n",
      "Train Accuracy ::  0.32710724354563014\n",
      "Test Accuracy  ::  0.18259608411892675\n"
     ]
    },
    {
     "output_type": "stream",
     "name": "stderr",
     "text": [
      "/home/yvonnechow/.local/lib/python3.6/site-packages/ipykernel_launcher.py:40: DataConversionWarning:\n",
      "\n",
      "A column-vector y was passed when a 1d array was expected. Please change the shape of y to (n_samples,), for example using ravel().\n",
      "\n"
     ]
    },
    {
     "output_type": "stream",
     "name": "stdout",
     "text": [
      "Run times: 5\n",
      "Train Accuracy ::  0.3272271183430639\n",
      "Test Accuracy  ::  0.18138402569149487\n"
     ]
    },
    {
     "output_type": "stream",
     "name": "stderr",
     "text": [
      "/home/yvonnechow/.local/lib/python3.6/site-packages/ipykernel_launcher.py:40: DataConversionWarning:\n",
      "\n",
      "A column-vector y was passed when a 1d array was expected. Please change the shape of y to (n_samples,), for example using ravel().\n",
      "\n"
     ]
    },
    {
     "output_type": "stream",
     "name": "stdout",
     "text": [
      "Run times: 6\n",
      "Train Accuracy ::  0.3270584056651941\n",
      "Test Accuracy  ::  0.1832798093856832\n"
     ]
    },
    {
     "output_type": "stream",
     "name": "stderr",
     "text": [
      "/home/yvonnechow/.local/lib/python3.6/site-packages/ipykernel_launcher.py:40: DataConversionWarning:\n",
      "\n",
      "A column-vector y was passed when a 1d array was expected. Please change the shape of y to (n_samples,), for example using ravel().\n",
      "\n"
     ]
    },
    {
     "output_type": "stream",
     "name": "stdout",
     "text": [
      "Run times: 7\n",
      "Train Accuracy ::  0.327240437765001\n",
      "Test Accuracy  ::  0.1819745156946027\n"
     ]
    },
    {
     "output_type": "stream",
     "name": "stderr",
     "text": [
      "/home/yvonnechow/.local/lib/python3.6/site-packages/ipykernel_launcher.py:40: DataConversionWarning:\n",
      "\n",
      "A column-vector y was passed when a 1d array was expected. Please change the shape of y to (n_samples,), for example using ravel().\n",
      "\n"
     ]
    },
    {
     "output_type": "stream",
     "name": "stdout",
     "text": [
      "Run times: 8\n",
      "Train Accuracy ::  0.3267476191533287\n",
      "Test Accuracy  ::  0.18192271832590903\n"
     ]
    },
    {
     "output_type": "stream",
     "name": "stderr",
     "text": [
      "/home/yvonnechow/.local/lib/python3.6/site-packages/ipykernel_launcher.py:40: DataConversionWarning:\n",
      "\n",
      "A column-vector y was passed when a 1d array was expected. Please change the shape of y to (n_samples,), for example using ravel().\n",
      "\n"
     ]
    },
    {
     "output_type": "stream",
     "name": "stdout",
     "text": [
      "Run times: 9\n",
      "Train Accuracy ::  0.32679201722645235\n",
      "Test Accuracy  ::  0.18176732621982802\n"
     ]
    },
    {
     "output_type": "stream",
     "name": "stderr",
     "text": [
      "/home/yvonnechow/.local/lib/python3.6/site-packages/ipykernel_launcher.py:40: DataConversionWarning:\n",
      "\n",
      "A column-vector y was passed when a 1d array was expected. Please change the shape of y to (n_samples,), for example using ravel().\n",
      "\n"
     ]
    },
    {
     "output_type": "stream",
     "name": "stdout",
     "text": [
      "Run times: 10\n",
      "Train Accuracy ::  0.32637467533909026\n",
      "Test Accuracy  ::  0.18231637832798095\n",
      "Average Train Accuracy ::  0.3269802650564966\n",
      "Average Test Accuracy  ::  0.18215787837977832\n",
      "Model save successfully!\n"
     ]
    }
   ],
   "metadata": {
    "ExecuteTime": {
     "end_time": "2020-01-06T05:33:17.769302Z",
     "start_time": "2020-01-06T05:31:30.134914Z"
    },
    "hidden": true,
    "scrolled": true
   }
  },
  {
   "cell_type": "code",
   "execution_count": 33,
   "source": [
    "# 6F\r\n",
    "\r\n",
    "x_feature = ['FN1','FN2','FN1_sonin_index','FN2_sonin_index','FN1_muin_index','FN2_muin_index']\r\n",
    "y_feature = ['BirthYear']\r\n",
    "    \r\n",
    "age_test = basic_RFClassifier(reconcatedata, x_feature, y_feature, 10)\r\n",
    "\r\n",
    "# Save the model to disk\r\n",
    "filename = './concate_age_model/age_predicton_6F.sav'\r\n",
    "pickle.dump(age_test, open(filename, 'wb'))\r\n",
    "print(\"Model save successfully!\")"
   ],
   "outputs": [
    {
     "output_type": "stream",
     "name": "stderr",
     "text": [
      "/home/yvonnechow/.local/lib/python3.6/site-packages/ipykernel_launcher.py:40: DataConversionWarning:\n",
      "\n",
      "A column-vector y was passed when a 1d array was expected. Please change the shape of y to (n_samples,), for example using ravel().\n",
      "\n"
     ]
    },
    {
     "output_type": "stream",
     "name": "stdout",
     "text": [
      "Run times: 1\n",
      "Train Accuracy ::  0.555926032810176\n",
      "Test Accuracy  ::  0.2031907179115301\n"
     ]
    },
    {
     "output_type": "stream",
     "name": "stderr",
     "text": [
      "/home/yvonnechow/.local/lib/python3.6/site-packages/ipykernel_launcher.py:40: DataConversionWarning:\n",
      "\n",
      "A column-vector y was passed when a 1d array was expected. Please change the shape of y to (n_samples,), for example using ravel().\n",
      "\n"
     ]
    },
    {
     "output_type": "stream",
     "name": "stdout",
     "text": [
      "Run times: 2\n",
      "Train Accuracy ::  0.5569027904188958\n",
      "Test Accuracy  ::  0.2023723194861701\n"
     ]
    },
    {
     "output_type": "stream",
     "name": "stderr",
     "text": [
      "/home/yvonnechow/.local/lib/python3.6/site-packages/ipykernel_launcher.py:40: DataConversionWarning:\n",
      "\n",
      "A column-vector y was passed when a 1d array was expected. Please change the shape of y to (n_samples,), for example using ravel().\n",
      "\n"
     ]
    },
    {
     "output_type": "stream",
     "name": "stdout",
     "text": [
      "Run times: 3\n",
      "Train Accuracy ::  0.5564366106510977\n",
      "Test Accuracy  ::  0.20312856106909769\n"
     ]
    },
    {
     "output_type": "stream",
     "name": "stderr",
     "text": [
      "/home/yvonnechow/.local/lib/python3.6/site-packages/ipykernel_launcher.py:40: DataConversionWarning:\n",
      "\n",
      "A column-vector y was passed when a 1d array was expected. Please change the shape of y to (n_samples,), for example using ravel().\n",
      "\n"
     ]
    },
    {
     "output_type": "stream",
     "name": "stdout",
     "text": [
      "Run times: 4\n",
      "Train Accuracy ::  0.5570004661797678\n",
      "Test Accuracy  ::  0.2007355226354501\n"
     ]
    },
    {
     "output_type": "stream",
     "name": "stderr",
     "text": [
      "/home/yvonnechow/.local/lib/python3.6/site-packages/ipykernel_launcher.py:40: DataConversionWarning:\n",
      "\n",
      "A column-vector y was passed when a 1d array was expected. Please change the shape of y to (n_samples,), for example using ravel().\n",
      "\n"
     ]
    },
    {
     "output_type": "stream",
     "name": "stdout",
     "text": [
      "Run times: 5\n",
      "Train Accuracy ::  0.5565831242924058\n",
      "Test Accuracy  ::  0.20404019475810628\n"
     ]
    },
    {
     "output_type": "stream",
     "name": "stderr",
     "text": [
      "/home/yvonnechow/.local/lib/python3.6/site-packages/ipykernel_launcher.py:40: DataConversionWarning:\n",
      "\n",
      "A column-vector y was passed when a 1d array was expected. Please change the shape of y to (n_samples,), for example using ravel().\n",
      "\n"
     ]
    },
    {
     "output_type": "stream",
     "name": "stdout",
     "text": [
      "Run times: 6\n",
      "Train Accuracy ::  0.5561302639465447\n",
      "Test Accuracy  ::  0.20271418211954834\n"
     ]
    },
    {
     "output_type": "stream",
     "name": "stderr",
     "text": [
      "/home/yvonnechow/.local/lib/python3.6/site-packages/ipykernel_launcher.py:40: DataConversionWarning:\n",
      "\n",
      "A column-vector y was passed when a 1d array was expected. Please change the shape of y to (n_samples,), for example using ravel().\n",
      "\n"
     ]
    },
    {
     "output_type": "stream",
     "name": "stdout",
     "text": [
      "Run times: 7\n",
      "Train Accuracy ::  0.5569249894554577\n",
      "Test Accuracy  ::  0.20202009737905313\n"
     ]
    },
    {
     "output_type": "stream",
     "name": "stderr",
     "text": [
      "/home/yvonnechow/.local/lib/python3.6/site-packages/ipykernel_launcher.py:40: DataConversionWarning:\n",
      "\n",
      "A column-vector y was passed when a 1d array was expected. Please change the shape of y to (n_samples,), for example using ravel().\n",
      "\n"
     ]
    },
    {
     "output_type": "stream",
     "name": "stdout",
     "text": [
      "Run times: 8\n",
      "Train Accuracy ::  0.5568450729238351\n",
      "Test Accuracy  ::  0.20025898684346835\n"
     ]
    },
    {
     "output_type": "stream",
     "name": "stderr",
     "text": [
      "/home/yvonnechow/.local/lib/python3.6/site-packages/ipykernel_launcher.py:40: DataConversionWarning:\n",
      "\n",
      "A column-vector y was passed when a 1d array was expected. Please change the shape of y to (n_samples,), for example using ravel().\n",
      "\n"
     ]
    },
    {
     "output_type": "stream",
     "name": "stdout",
     "text": [
      "Run times: 9\n",
      "Train Accuracy ::  0.5568317535018981\n",
      "Test Accuracy  ::  0.2026209468558997\n"
     ]
    },
    {
     "output_type": "stream",
     "name": "stderr",
     "text": [
      "/home/yvonnechow/.local/lib/python3.6/site-packages/ipykernel_launcher.py:40: DataConversionWarning:\n",
      "\n",
      "A column-vector y was passed when a 1d array was expected. Please change the shape of y to (n_samples,), for example using ravel().\n",
      "\n"
     ]
    },
    {
     "output_type": "stream",
     "name": "stdout",
     "text": [
      "Run times: 10\n",
      "Train Accuracy ::  0.5562945368171022\n",
      "Test Accuracy  ::  0.202765979488242\n",
      "Average Train Accuracy ::  0.5565875640997181\n",
      "Average Test Accuracy  ::  0.20238475085465657\n",
      "Model save successfully!\n"
     ]
    }
   ],
   "metadata": {
    "ExecuteTime": {
     "end_time": "2020-01-06T08:50:05.787111Z",
     "start_time": "2020-01-06T08:46:16.391762Z"
    },
    "hidden": true,
    "scrolled": true
   }
  },
  {
   "cell_type": "code",
   "execution_count": 34,
   "source": [
    "# Only FN1 features\r\n",
    "\r\n",
    "x_feature = ['FN1','FN1_sonin_index','FN1_muin_index']\r\n",
    "y_feature = ['BirthYear']\r\n",
    "    \r\n",
    "age_test = basic_RFClassifier(reconcatedata, x_feature, y_feature, 10)\r\n",
    "\r\n",
    "# Save the model to disk\r\n",
    "filename = './concate_age_model/age_predicton_FN1Features.sav'\r\n",
    "pickle.dump(age_test, open(filename, 'wb'))\r\n",
    "print(\"Model save successfully!\")"
   ],
   "outputs": [
    {
     "output_type": "stream",
     "name": "stderr",
     "text": [
      "/home/yvonnechow/.local/lib/python3.6/site-packages/ipykernel_launcher.py:40: DataConversionWarning:\n",
      "\n",
      "A column-vector y was passed when a 1d array was expected. Please change the shape of y to (n_samples,), for example using ravel().\n",
      "\n"
     ]
    },
    {
     "output_type": "stream",
     "name": "stdout",
     "text": [
      "Run times: 1\n",
      "Train Accuracy ::  0.20541212511377005\n",
      "Test Accuracy  ::  0.18019268621154044\n"
     ]
    },
    {
     "output_type": "stream",
     "name": "stderr",
     "text": [
      "/home/yvonnechow/.local/lib/python3.6/site-packages/ipykernel_launcher.py:40: DataConversionWarning:\n",
      "\n",
      "A column-vector y was passed when a 1d array was expected. Please change the shape of y to (n_samples,), for example using ravel().\n",
      "\n"
     ]
    },
    {
     "output_type": "stream",
     "name": "stdout",
     "text": [
      "Run times: 2\n",
      "Train Accuracy ::  0.2051590560969654\n",
      "Test Accuracy  ::  0.18198487516834144\n"
     ]
    },
    {
     "output_type": "stream",
     "name": "stderr",
     "text": [
      "/home/yvonnechow/.local/lib/python3.6/site-packages/ipykernel_launcher.py:40: DataConversionWarning:\n",
      "\n",
      "A column-vector y was passed when a 1d array was expected. Please change the shape of y to (n_samples,), for example using ravel().\n",
      "\n"
     ]
    },
    {
     "output_type": "stream",
     "name": "stdout",
     "text": [
      "Run times: 3\n",
      "Train Accuracy ::  0.20570071258907363\n",
      "Test Accuracy  ::  0.18101108463690044\n"
     ]
    },
    {
     "output_type": "stream",
     "name": "stderr",
     "text": [
      "/home/yvonnechow/.local/lib/python3.6/site-packages/ipykernel_launcher.py:40: DataConversionWarning:\n",
      "\n",
      "A column-vector y was passed when a 1d array was expected. Please change the shape of y to (n_samples,), for example using ravel().\n",
      "\n"
     ]
    },
    {
     "output_type": "stream",
     "name": "stdout",
     "text": [
      "Run times: 4\n",
      "Train Accuracy ::  0.20538992607720824\n",
      "Test Accuracy  ::  0.18162229358748574\n"
     ]
    },
    {
     "output_type": "stream",
     "name": "stderr",
     "text": [
      "/home/yvonnechow/.local/lib/python3.6/site-packages/ipykernel_launcher.py:40: DataConversionWarning:\n",
      "\n",
      "A column-vector y was passed when a 1d array was expected. Please change the shape of y to (n_samples,), for example using ravel().\n",
      "\n"
     ]
    },
    {
     "output_type": "stream",
     "name": "stdout",
     "text": [
      "Run times: 5\n",
      "Train Accuracy ::  0.20453748307323463\n",
      "Test Accuracy  ::  0.18377706412514244\n"
     ]
    },
    {
     "output_type": "stream",
     "name": "stderr",
     "text": [
      "/home/yvonnechow/.local/lib/python3.6/site-packages/ipykernel_launcher.py:40: DataConversionWarning:\n",
      "\n",
      "A column-vector y was passed when a 1d array was expected. Please change the shape of y to (n_samples,), for example using ravel().\n",
      "\n"
     ]
    },
    {
     "output_type": "stream",
     "name": "stdout",
     "text": [
      "Run times: 6\n",
      "Train Accuracy ::  0.20548760183808024\n",
      "Test Accuracy  ::  0.18055526779239614\n"
     ]
    },
    {
     "output_type": "stream",
     "name": "stderr",
     "text": [
      "/home/yvonnechow/.local/lib/python3.6/site-packages/ipykernel_launcher.py:40: DataConversionWarning:\n",
      "\n",
      "A column-vector y was passed when a 1d array was expected. Please change the shape of y to (n_samples,), for example using ravel().\n",
      "\n"
     ]
    },
    {
     "output_type": "stream",
     "name": "stdout",
     "text": [
      "Run times: 7\n",
      "Train Accuracy ::  0.2060470175594379\n",
      "Test Accuracy  ::  0.18046203252874754\n"
     ]
    },
    {
     "output_type": "stream",
     "name": "stderr",
     "text": [
      "/home/yvonnechow/.local/lib/python3.6/site-packages/ipykernel_launcher.py:40: DataConversionWarning:\n",
      "\n",
      "A column-vector y was passed when a 1d array was expected. Please change the shape of y to (n_samples,), for example using ravel().\n",
      "\n"
     ]
    },
    {
     "output_type": "stream",
     "name": "stdout",
     "text": [
      "Run times: 8\n",
      "Train Accuracy ::  0.20501254245565742\n",
      "Test Accuracy  ::  0.18170516937739561\n"
     ]
    },
    {
     "output_type": "stream",
     "name": "stderr",
     "text": [
      "/home/yvonnechow/.local/lib/python3.6/site-packages/ipykernel_launcher.py:40: DataConversionWarning:\n",
      "\n",
      "A column-vector y was passed when a 1d array was expected. Please change the shape of y to (n_samples,), for example using ravel().\n",
      "\n"
     ]
    },
    {
     "output_type": "stream",
     "name": "stdout",
     "text": [
      "Run times: 9\n",
      "Train Accuracy ::  0.2054432037649566\n",
      "Test Accuracy  ::  0.1808764114782969\n"
     ]
    },
    {
     "output_type": "stream",
     "name": "stderr",
     "text": [
      "/home/yvonnechow/.local/lib/python3.6/site-packages/ipykernel_launcher.py:40: DataConversionWarning:\n",
      "\n",
      "A column-vector y was passed when a 1d array was expected. Please change the shape of y to (n_samples,), for example using ravel().\n",
      "\n"
     ]
    },
    {
     "output_type": "stream",
     "name": "stdout",
     "text": [
      "Run times: 10\n",
      "Train Accuracy ::  0.2047683530534775\n",
      "Test Accuracy  ::  0.18201595358955766\n",
      "Average Train Accuracy ::  0.20529580216218618\n",
      "Average Test Accuracy  ::  0.18142028384958042\n",
      "Model save successfully!\n"
     ]
    }
   ],
   "metadata": {
    "ExecuteTime": {
     "end_time": "2020-01-06T08:50:45.335435Z",
     "start_time": "2020-01-06T08:50:05.789473Z"
    },
    "hidden": true,
    "scrolled": true
   }
  },
  {
   "cell_type": "code",
   "execution_count": 35,
   "source": [
    "# Only FN2 features\r\n",
    "\r\n",
    "x_feature = ['FN2','FN2_sonin_index','FN2_muin_index']\r\n",
    "y_feature = ['BirthYear']\r\n",
    "    \r\n",
    "age_test = basic_RFClassifier(reconcatedata, x_feature, y_feature, 10)\r\n",
    "\r\n",
    "# Save the model to disk\r\n",
    "filename = './concate_age_model/age_predicton_FN2Features.sav'\r\n",
    "pickle.dump(age_test, open(filename, 'wb'))\r\n",
    "print(\"Model save successfully!\")"
   ],
   "outputs": [
    {
     "output_type": "stream",
     "name": "stderr",
     "text": [
      "/home/yvonnechow/.local/lib/python3.6/site-packages/ipykernel_launcher.py:40: DataConversionWarning:\n",
      "\n",
      "A column-vector y was passed when a 1d array was expected. Please change the shape of y to (n_samples,), for example using ravel().\n",
      "\n"
     ]
    },
    {
     "output_type": "stream",
     "name": "stdout",
     "text": [
      "Run times: 1\n",
      "Train Accuracy ::  0.2147490398916687\n",
      "Test Accuracy  ::  0.18636693255982595\n"
     ]
    },
    {
     "output_type": "stream",
     "name": "stderr",
     "text": [
      "/home/yvonnechow/.local/lib/python3.6/site-packages/ipykernel_launcher.py:40: DataConversionWarning:\n",
      "\n",
      "A column-vector y was passed when a 1d array was expected. Please change the shape of y to (n_samples,), for example using ravel().\n",
      "\n"
     ]
    },
    {
     "output_type": "stream",
     "name": "stdout",
     "text": [
      "Run times: 2\n",
      "Train Accuracy ::  0.2150109885230981\n",
      "Test Accuracy  ::  0.18687454677302393\n"
     ]
    },
    {
     "output_type": "stream",
     "name": "stderr",
     "text": [
      "/home/yvonnechow/.local/lib/python3.6/site-packages/ipykernel_launcher.py:40: DataConversionWarning:\n",
      "\n",
      "A column-vector y was passed when a 1d array was expected. Please change the shape of y to (n_samples,), for example using ravel().\n",
      "\n"
     ]
    },
    {
     "output_type": "stream",
     "name": "stdout",
     "text": [
      "Run times: 3\n",
      "Train Accuracy ::  0.21518414100828023\n",
      "Test Accuracy  ::  0.18767222625090646\n"
     ]
    },
    {
     "output_type": "stream",
     "name": "stderr",
     "text": [
      "/home/yvonnechow/.local/lib/python3.6/site-packages/ipykernel_launcher.py:40: DataConversionWarning:\n",
      "\n",
      "A column-vector y was passed when a 1d array was expected. Please change the shape of y to (n_samples,), for example using ravel().\n",
      "\n"
     ]
    },
    {
     "output_type": "stream",
     "name": "stdout",
     "text": [
      "Run times: 4\n",
      "Train Accuracy ::  0.2150243079450352\n",
      "Test Accuracy  ::  0.18769294519838392\n"
     ]
    },
    {
     "output_type": "stream",
     "name": "stderr",
     "text": [
      "/home/yvonnechow/.local/lib/python3.6/site-packages/ipykernel_launcher.py:40: DataConversionWarning:\n",
      "\n",
      "A column-vector y was passed when a 1d array was expected. Please change the shape of y to (n_samples,), for example using ravel().\n",
      "\n"
     ]
    },
    {
     "output_type": "stream",
     "name": "stdout",
     "text": [
      "Run times: 5\n",
      "Train Accuracy ::  0.21440717472861678\n",
      "Test Accuracy  ::  0.18743395835491558\n"
     ]
    },
    {
     "output_type": "stream",
     "name": "stderr",
     "text": [
      "/home/yvonnechow/.local/lib/python3.6/site-packages/ipykernel_launcher.py:40: DataConversionWarning:\n",
      "\n",
      "A column-vector y was passed when a 1d array was expected. Please change the shape of y to (n_samples,), for example using ravel().\n",
      "\n"
     ]
    },
    {
     "output_type": "stream",
     "name": "stdout",
     "text": [
      "Run times: 6\n",
      "Train Accuracy ::  0.2151663817790308\n",
      "Test Accuracy  ::  0.18551745571324976\n"
     ]
    },
    {
     "output_type": "stream",
     "name": "stderr",
     "text": [
      "/home/yvonnechow/.local/lib/python3.6/site-packages/ipykernel_launcher.py:40: DataConversionWarning:\n",
      "\n",
      "A column-vector y was passed when a 1d array was expected. Please change the shape of y to (n_samples,), for example using ravel().\n",
      "\n"
     ]
    },
    {
     "output_type": "stream",
     "name": "stdout",
     "text": [
      "Run times: 7\n",
      "Train Accuracy ::  0.21463360490154726\n",
      "Test Accuracy  ::  0.18787941572568115\n"
     ]
    },
    {
     "output_type": "stream",
     "name": "stderr",
     "text": [
      "/home/yvonnechow/.local/lib/python3.6/site-packages/ipykernel_launcher.py:40: DataConversionWarning:\n",
      "\n",
      "A column-vector y was passed when a 1d array was expected. Please change the shape of y to (n_samples,), for example using ravel().\n",
      "\n"
     ]
    },
    {
     "output_type": "stream",
     "name": "stdout",
     "text": [
      "Run times: 8\n",
      "Train Accuracy ::  0.21453148933336294\n",
      "Test Accuracy  ::  0.1879519320418523\n"
     ]
    },
    {
     "output_type": "stream",
     "name": "stderr",
     "text": [
      "/home/yvonnechow/.local/lib/python3.6/site-packages/ipykernel_launcher.py:40: DataConversionWarning:\n",
      "\n",
      "A column-vector y was passed when a 1d array was expected. Please change the shape of y to (n_samples,), for example using ravel().\n",
      "\n"
     ]
    },
    {
     "output_type": "stream",
     "name": "stdout",
     "text": [
      "Run times: 9\n",
      "Train Accuracy ::  0.2144737718383022\n",
      "Test Accuracy  ::  0.18868745467730239\n"
     ]
    },
    {
     "output_type": "stream",
     "name": "stderr",
     "text": [
      "/home/yvonnechow/.local/lib/python3.6/site-packages/ipykernel_launcher.py:40: DataConversionWarning:\n",
      "\n",
      "A column-vector y was passed when a 1d array was expected. Please change the shape of y to (n_samples,), for example using ravel().\n",
      "\n"
     ]
    },
    {
     "output_type": "stream",
     "name": "stdout",
     "text": [
      "Run times: 10\n",
      "Train Accuracy ::  0.2144782116456146\n",
      "Test Accuracy  ::  0.1890811146793743\n",
      "Average Train Accuracy ::  0.21476591115945567\n",
      "Average Test Accuracy  ::  0.18751579819745157\n",
      "Model save successfully!\n"
     ]
    }
   ],
   "metadata": {
    "ExecuteTime": {
     "end_time": "2020-01-06T08:51:29.500403Z",
     "start_time": "2020-01-06T08:50:45.337921Z"
    },
    "hidden": true,
    "scrolled": true
   }
  },
  {
   "cell_type": "markdown",
   "source": [
    "# Read model"
   ],
   "metadata": {
    "heading_collapsed": true
   }
  },
  {
   "cell_type": "code",
   "execution_count": 36,
   "source": [
    "# Read model file\r\n",
    "\r\n",
    "filename = './concate_age_model/age_predicton_FN1.sav'\r\n",
    "age_prediction_FN1 = pickle.load(open(filename, 'rb'))\r\n",
    "\r\n",
    "filename = './concate_age_model/age_predicton_FN2.sav'\r\n",
    "age_prediction_FN2 = pickle.load(open(filename, 'rb'))\r\n",
    "\r\n",
    "filename = './concate_age_model/age_predicton_FN12.sav'\r\n",
    "age_prediction_FN12 = pickle.load(open(filename, 'rb'))\r\n",
    "\r\n",
    "filename = './concate_age_model/age_predicton_muin.sav'\r\n",
    "age_prediction_muin = pickle.load(open(filename, 'rb'))\r\n",
    "\r\n",
    "filename = './concate_age_model/age_predicton_sonin.sav'\r\n",
    "age_prediction_sonin = pickle.load(open(filename, 'rb'))\r\n",
    "\r\n",
    "filename = './concate_age_model/age_predicton_soninmuin.sav'\r\n",
    "age_prediction_soninmuin = pickle.load(open(filename, 'rb'))\r\n",
    "\r\n",
    "filename = './concate_age_model/age_predicton_FNsonin.sav'\r\n",
    "age_prediction_FNsonin = pickle.load(open(filename, 'rb'))\r\n",
    "\r\n",
    "filename = './concate_age_model/age_predicton_FNmuin.sav'\r\n",
    "age_prediction_FNmuin = pickle.load(open(filename, 'rb'))\r\n",
    "\r\n",
    "filename = './concate_age_model/age_predicton_6F.sav'\r\n",
    "age_prediction_6F = pickle.load(open(filename, 'rb'))\r\n",
    "\r\n",
    "filename = './concate_age_model/age_predicton_FN1Features.sav'\r\n",
    "age_predicton_FN1Features = pickle.load(open(filename, 'rb'))\r\n",
    "\r\n",
    "filename = './concate_age_model/age_predicton_FN2Features.sav'\r\n",
    "age_predicton_FN2Features = pickle.load(open(filename, 'rb'))\r\n",
    "\r\n",
    "filename = './concate_age_model/age_predicton_FN1sonin1.sav'\r\n",
    "age_predicton_FN1sonin1 = pickle.load(open(filename, 'rb'))\r\n",
    "\r\n",
    "filename = './concate_age_model/age_predicton_FN1muin1.sav'\r\n",
    "age_predicton_FN1muin1 = pickle.load(open(filename, 'rb'))\r\n",
    "\r\n",
    "filename = './concate_age_model/age_predicton_FN2sonin2.sav'\r\n",
    "age_predicton_FN2sonin2 = pickle.load(open(filename, 'rb'))\r\n",
    "\r\n",
    "filename = './concate_age_model/age_predicton_FN2muin2.sav'\r\n",
    "age_predicton_FN2muin2 = pickle.load(open(filename, 'rb'))"
   ],
   "outputs": [],
   "metadata": {
    "ExecuteTime": {
     "end_time": "2020-01-06T08:51:54.726318Z",
     "start_time": "2020-01-06T08:51:49.553590Z"
    },
    "hidden": true
   }
  },
  {
   "cell_type": "markdown",
   "source": [
    "# Check name frequency"
   ],
   "metadata": {}
  },
  {
   "cell_type": "code",
   "execution_count": 11,
   "source": [
    "import datetime\r\n",
    "import random\r\n",
    "def get_test_name_dict_list(test_index,data_df,year_column):\r\n",
    "    test_name_dict_list = {}\r\n",
    "    FN_list = data_df.loc[test_index]['FirstName'].tolist()\r\n",
    "    #year - message / birthyear\r\n",
    "    Year_list = data_df.loc[test_index][year_column].tolist()\r\n",
    "    for index in range(len(FN_list)):\r\n",
    "        FN = FN_list[index]\r\n",
    "        year = Year_list[index]\r\n",
    "        #print(year)\r\n",
    "        if FN in test_name_dict_list:\r\n",
    "            if year not in test_name_dict_list[FN]:\r\n",
    "                test_name_dict_list[FN][year] = 1\r\n",
    "            else:\r\n",
    "                test_name_dict_list[FN][year] += 1\r\n",
    "        else:\r\n",
    "            test_name_dict_list[FN] = {}\r\n",
    "            test_name_dict_list[FN][year] = 1\r\n",
    "            \r\n",
    "    return test_name_dict_list\r\n",
    "\r\n",
    "def get_min_distance(a,b_list):\r\n",
    "    smallest_dist = 999\r\n",
    "    a = 1940 + a * 5\r\n",
    "    \r\n",
    "    min_error_answer = 0\r\n",
    "    for number in b_list:\r\n",
    "        if int(number) > a:\r\n",
    "            year = a + 4\r\n",
    "        else:\r\n",
    "            year = a\r\n",
    "        dist = abs(year - int(number))\r\n",
    "        if(dist < smallest_dist):\r\n",
    "            smallest_dist = dist\r\n",
    "    #print(a,b_list,smallest_dist)\r\n",
    "    return smallest_dist"
   ],
   "outputs": [],
   "metadata": {
    "ExecuteTime": {
     "end_time": "2020-01-08T02:14:40.654238Z",
     "start_time": "2020-01-08T02:14:40.646620Z"
    }
   }
  },
  {
   "cell_type": "code",
   "execution_count": 12,
   "source": [
    "def count_average_error(data_df, predictions):\r\n",
    "    test_name_list = data_df.loc[test_index].FirstName.tolist()\r\n",
    "    # print(len(test_name_list))\r\n",
    "    old_score = 0\r\n",
    "    new_score = 0\r\n",
    "    always_score = 0\r\n",
    "    old_count = 0\r\n",
    "    new_count = 0\r\n",
    "    always_count = 0\r\n",
    "    not_match = []\r\n",
    "\r\n",
    "    dist_error = 0\r\n",
    "    accuracy = 0\r\n",
    "    year_error = [0 for x in range(6,13)]\r\n",
    "    year_count = [0 for x in range(6,13)]\r\n",
    "\r\n",
    "    for test_no,year in enumerate(predictions):\r\n",
    "        name = test_name_list[test_no]\r\n",
    "        if name in test_name_dict_list:\r\n",
    "            year_count[len(test_name_dict_list[name])-1] += 1\r\n",
    "\r\n",
    "            if year in test_name_dict_list[name]:\r\n",
    "                accuracy += 1\r\n",
    "            else:\r\n",
    "                #計算錯誤，把平均絕對值誤差加上去\r\n",
    "                error = get_min_distance(year,test_name_year_dict_list[name]) \r\n",
    "                dist_error += error\r\n",
    "\r\n",
    "                year_error[len(test_name_dict_list[name])-1] += error\r\n",
    "\r\n",
    "                if name in old_name_list:\r\n",
    "                    old_score += error\r\n",
    "                    old_count += 1\r\n",
    "                elif name in new_name_list:\r\n",
    "                    new_score += error\r\n",
    "                    new_count += 1\r\n",
    "\r\n",
    "                elif name in always_name_list:\r\n",
    "                    always_score += error\r\n",
    "                    always_count += 1\r\n",
    "        else:\r\n",
    "            print('arghhh test name not in test_name_dict_list')\r\n",
    "\r\n",
    "    accuracy/=len(predictions)      \r\n",
    "    \r\n",
    "    print('Total test list:', len(predictions))\r\n",
    "    print('Accuracy:', accuracy)\r\n",
    "    print('Mean Year Absolute Error:', dist_error/len(predictions))"
   ],
   "outputs": [],
   "metadata": {
    "ExecuteTime": {
     "end_time": "2020-01-08T02:14:40.679128Z",
     "start_time": "2020-01-08T02:14:40.655539Z"
    }
   }
  },
  {
   "cell_type": "code",
   "execution_count": 13,
   "source": [
    "test_name_dict_list = get_test_name_dict_list(test_index,msadata,'BirthYear')\r\n",
    "test_name_year_dict_list = get_test_name_dict_list(test_index,msadata,'message')\r\n",
    "print('test dataset 有',len(msadata),'個名字,',len(test_name_dict_list),'種名字')"
   ],
   "outputs": [
    {
     "output_type": "stream",
     "name": "stdout",
     "text": [
      "test dataset 有 30565 個名字, 19449 種名字\n"
     ]
    }
   ],
   "metadata": {
    "ExecuteTime": {
     "end_time": "2020-01-08T02:14:40.739250Z",
     "start_time": "2020-01-08T02:14:40.681549Z"
    }
   }
  },
  {
   "cell_type": "code",
   "execution_count": 14,
   "source": [
    "new_name_list = []\r\n",
    "always_name_list = []\r\n",
    "old_name_list = []\r\n",
    "#1~5是old 6~10是new 兩者都有是always\r\n",
    "for name in test_name_dict_list:\r\n",
    "    new_flag = False\r\n",
    "    old_flag = False\r\n",
    "    for year in test_name_dict_list[name]:\r\n",
    "        year = int(year)\r\n",
    "        if year >= 1 and year <= 5:\r\n",
    "            old_flag = True\r\n",
    "        if year >= 6 and year <= 10:\r\n",
    "            new_flag = True\r\n",
    "    if new_flag and old_flag:\r\n",
    "        always_name_list.append(name)\r\n",
    "    elif new_flag:\r\n",
    "        new_name_list.append(name)\r\n",
    "    elif old_flag:\r\n",
    "        old_name_list.append(name)\r\n",
    "    else:\r\n",
    "        print(name,'???')\r\n",
    "        \r\n",
    "print('len new_name_list',len(new_name_list),'len old_name_list',len(old_name_list))\r\n",
    "print('len always_name_list',len(always_name_list))"
   ],
   "outputs": [
    {
     "output_type": "stream",
     "name": "stdout",
     "text": [
      "Yang Kun ???\n",
      " Sheirly ???\n",
      "Chia Liang ???\n",
      "Tai Yoong ???\n",
      "Chee Guang ???\n",
      "Suit Yan ???\n",
      "Ming Kheong ???\n",
      "Yew Fei ???\n",
      "Chia Dong ???\n",
      "Boon Xui ???\n",
      "Xiao Yie ???\n",
      "Yan Fang ???\n",
      "Su Fen ???\n",
      "Xue Zhe ???\n",
      "Zi Kuang ???\n",
      "Peng Wei ???\n",
      "Poh Keong ???\n",
      "Chen Ghee ???\n",
      "Zhin Fong ???\n",
      "Xing Hong ???\n",
      "Hoy Leong ???\n",
      "Kun Yong ???\n",
      "Cheak Soon ???\n",
      "Yan Xian ???\n",
      "Kok Hieng ???\n",
      "Qin Zhi ???\n",
      "Ngee Yong ???\n",
      "Ding Shen ???\n",
      "Chin Lam ???\n",
      "Chong Woei ???\n",
      "Shuoh Jer ???\n",
      "Yong Quan ???\n",
      "Kae Chyi ???\n",
      "Teck Jing ???\n",
      "Lim Neo ???\n",
      "Khai Yeong ???\n",
      "Yi Rei ???\n",
      " Jesllen ???\n",
      "Ling Ching ???\n",
      "Jinq Yee ???\n",
      "Shan Yu ???\n",
      "Chong You ???\n",
      "Kit Shan ???\n",
      "Chee Shin ???\n",
      "Kwang Hui ???\n",
      "Fang Ni ???\n",
      "Jia Peng ???\n",
      "Wen Quan ???\n",
      "Yang Feng ???\n",
      "Woei Seng ???\n",
      "Kian Aik ???\n",
      "Weai Ming ???\n",
      "Khoi Khei ???\n",
      "Yien Haw ???\n",
      "Fu Kai ???\n",
      "Wei Xin ???\n",
      "Shin Lin ???\n",
      " Yithui ???\n",
      "Keh Xin ???\n",
      "Pang Wei ???\n",
      "Jin Hon ???\n",
      "Sheue Hui ???\n",
      "Yi Xue ???\n",
      "Surgoh Jos ???\n",
      "Bon Sheng ???\n",
      "Kim May ???\n",
      "Zhou Yee ???\n",
      " Gavin ???\n",
      "Pei Kean ???\n",
      "Jian Huan ???\n",
      "Chee Vee ???\n",
      "Chyi Yee ???\n",
      "Joon Kit ???\n",
      "Khaa Wei ???\n",
      "Ai Siang ???\n",
      "Ban Hin ???\n",
      "Kee Onn ???\n",
      "Chor Yew ???\n",
      "Bing Seng ???\n",
      "Shui Po ???\n",
      "Jin Chee ???\n",
      "Kwee Wen ???\n",
      "Su Zoe ???\n",
      "Sheng Kiat ???\n",
      "Yi Yoon ???\n",
      "Huey Chyi ???\n",
      "Seng Khai ???\n",
      "Kai Yiap ???\n",
      "Kwee Heng ???\n",
      "Choon Fah ???\n",
      "Buo Chin ???\n",
      "Hock Wei ???\n",
      "Rui Qin ???\n",
      "Seat Nee ???\n",
      "Huei Shr ???\n",
      "Yok Howe ???\n",
      "Dao Xian ???\n",
      "Ta Yew ???\n",
      "Hui Chun ???\n",
      "Swan Jui ???\n",
      "Jun Ject ???\n",
      "Ruo Xuan ???\n",
      "Li Hua ???\n",
      "Shek Kiat ???\n",
      "Hong Yen ???\n",
      "Tiam Wei ???\n",
      "Qing Hoa ???\n",
      "Kah Siang ???\n",
      "Leng Hong ???\n",
      "Cia Hui ???\n",
      "Poh Luan ???\n",
      "Mei Chia ???\n",
      "Qiao Ying ???\n",
      "Che Chong ???\n",
      "Xiu Sin ???\n",
      "Quan Xin ???\n",
      "Jia Rou ???\n",
      "Kiat Siong ???\n",
      "Ze Ping ???\n",
      "Sing Keong ???\n",
      "Yu Kuang ???\n",
      "Yong Yeng ???\n",
      "Tze Shyan ???\n",
      "Chong Jih ???\n",
      "Tze Dd ???\n",
      "Ann Yee ???\n",
      "Chan Soon ???\n",
      "Thiam Lock ???\n",
      "Sze Yeun ???\n",
      "Boon Choi ???\n",
      "Sze Xie ???\n",
      "Ye Zhen ???\n",
      "Shun Xiang ???\n",
      " Cavan ???\n",
      "Moon Yung ???\n",
      "Sok Huei ???\n",
      "Khoe Chu ???\n",
      "Yee Chang ???\n",
      "Xeu Ting ???\n",
      "Ing Fong ???\n",
      "Yew Shaw ???\n",
      "Seen Hwei ???\n",
      "Suet Mui ???\n",
      "Kam How ???\n",
      "Seng Pew ???\n",
      "Pang Ting ???\n",
      "Chiew Min ???\n",
      "Tong Jie ???\n",
      "Sheau Mei ???\n",
      "Kah Jiunn ???\n",
      "Shu Feng ???\n",
      "Siong Kuan ???\n",
      "Hong Ann ???\n",
      "Kui Sin ???\n",
      "Kah Ming ???\n",
      "Sien Yang ???\n",
      "Zhe Chian ???\n",
      "Yan Guan ???\n",
      "Geok Shi ???\n",
      "Lu Yu ???\n",
      "Jin Hock ???\n",
      "Jong Zhen ???\n",
      "Rui Shi ???\n",
      "Ling Kuen ???\n",
      "Yin Teng ???\n",
      " Xiaowei ???\n",
      "Cher Jia ???\n",
      "Khai Wah ???\n",
      "Pick Yuan ???\n",
      "Lee Sheun ???\n",
      "Su Chern ???\n",
      "Shy Kae ???\n",
      "An Ping ???\n",
      "Ban Long ???\n",
      "Mei Cheen ???\n",
      "Huei Huei ???\n",
      "Chyun Jye ???\n",
      "Yik Renn ???\n",
      " Zhenan ???\n",
      "Zhen Fu ???\n",
      "Ming Rui ???\n",
      "Quee Leong ???\n",
      "Han Shi ???\n",
      "Ho Yan ???\n",
      "Su Jia ???\n",
      "Chiew Ling ???\n",
      "Wee Koeng ???\n",
      "Khai Peng ???\n",
      "Ben Shen ???\n",
      " Huaining ???\n",
      "Phei Yi ???\n",
      "Ke Tian ???\n",
      "Yi En ???\n",
      "Hui Hao ???\n",
      "Jin Sin ???\n",
      "Chuan Yin ???\n",
      "Bo Ying ???\n",
      "Kai Choo ???\n",
      "Sin E ???\n",
      "Kang Lun ???\n",
      "Ee Chen ???\n",
      "Huey Yih ???\n",
      "Shie Gee ???\n",
      "Ming Huey ???\n",
      "Dong Yong ???\n",
      "Fong Lee ???\n",
      "Yeong Ting ???\n",
      "Yong Keong ???\n",
      "Bee Sun ???\n",
      "Ren Sin ???\n",
      "Shwu Chin ???\n",
      "Zhen Fatt ???\n",
      "Yi Shuang ???\n",
      "Ching Yi ???\n",
      "Cu Ern ???\n",
      "Huan Song ???\n",
      "Siek Chin ???\n",
      "Soon Qi ???\n",
      "Weng Zhe ???\n",
      "Poh Lian ???\n",
      "Ze Yu ???\n",
      "Gee Rong ???\n",
      "Yan Kai ???\n",
      "Sin Yuen ???\n",
      "Yi Chee ???\n",
      "Shien Fung ???\n",
      " Sheng-guang ???\n",
      "Tian Fatt ???\n",
      "Yee Jiet ???\n",
      "Sin Yoong ???\n",
      "Kian Hao ???\n",
      "Xuan Zong ???\n",
      "Pin Chong ???\n",
      "Sau Cong ???\n",
      "Hong Eing ???\n",
      "Yee Xi ???\n",
      "Wen Jiing ???\n",
      "Ee Sheng ???\n",
      "Teck Thong ???\n",
      "Kwee Hua ???\n",
      "Mun Zong ???\n",
      "Kei Khing ???\n",
      "Joo Chuen ???\n",
      "Peng Nu ???\n",
      "Yu Cong ???\n",
      "Hong Jen ???\n",
      "Han Loong ???\n",
      "Jin Xuan ???\n",
      "Wei Sean ???\n",
      "Jen Yon ???\n",
      "Tsin Yen ???\n",
      "Xiang Loong ???\n",
      "Cuh Wan ???\n",
      "Heng Qin ???\n",
      "San Heng ???\n",
      "Wuh Jet ???\n",
      "Ye Chyi ???\n",
      "Lian Wei ???\n",
      "Wei Kong ???\n",
      "Inn Min ???\n",
      "Do Kyung ???\n",
      "Chong Ping ???\n",
      "Yan Ann ???\n",
      "Ming Jing ???\n",
      "Er Xuan ???\n",
      "Woon Zun ???\n",
      "Ching Huai ???\n",
      "Chi Chang ???\n",
      "Tzu Haw ???\n",
      "Pui Ying ???\n",
      "Zi Wai ???\n",
      "Kien Fai ???\n",
      "Zhen Ji ???\n",
      "Jing Quan ???\n",
      " Chiaki ???\n",
      "Sock Chuan ???\n",
      " Wenwei ???\n",
      "Shu Ning ???\n",
      "Chen Hwa ???\n",
      "Meng Sai ???\n",
      "Wen Jiun ???\n",
      "Sin Er ???\n",
      "Li Lean ???\n",
      "Lok Ying ???\n",
      "Koon Ming ???\n",
      "Wee Zen ???\n",
      "Shu Huey ???\n",
      "Chong Hao ???\n",
      "Kah Lei ???\n",
      "Ping Teck ???\n",
      "Guo Wei ???\n",
      "Chun Qi ???\n",
      "Hao Wei ???\n",
      "Yi Ke ???\n",
      "Sin Chuan ???\n",
      "Jue Ern ???\n",
      "Yong Man ???\n",
      "Kim Jeat ???\n",
      "Qi Siong ???\n",
      "Wern Yau ???\n",
      "Le Xuan ???\n",
      "Sze Tee ???\n",
      "Sien Huay ???\n",
      "Jiang Rui ???\n",
      "Fan Hong ???\n",
      "Guo Xiang ???\n",
      "Wen Jang ???\n",
      "Han Yong ???\n",
      "Pey Shan ???\n",
      "Chee Xin ???\n",
      "Sue Fen ???\n",
      "Chor Sheng ???\n",
      "Hui Zi ???\n",
      "Yong Shin ???\n",
      "Jia Heng ???\n",
      "Pei Then ???\n",
      "Tian Kun ???\n",
      "Shi Jin ???\n",
      "Boon Sian ???\n",
      "Jing Shan ???\n",
      "Yian Ciu ???\n",
      "Zhen Kee ???\n",
      "Yee Tung ???\n",
      "Wen Swan ???\n",
      "Bee Kee ???\n",
      "Chih En ???\n",
      "Zing Ee ???\n",
      "Liu Hang ???\n",
      "Kuang Seng ???\n",
      "Yan Nie ???\n",
      "Boon Jun ???\n",
      "Wen Yen ???\n",
      "Sin Huat ???\n",
      "Chin Poh ???\n",
      "Hong Ghee ???\n",
      "Hong Woon ???\n",
      "Chun Wi ???\n",
      "Shern Yuen ???\n",
      "Gee Hern ???\n",
      "Sze Xuen ???\n",
      "Jen Siang ???\n",
      "Wee Khang ???\n",
      "Keng Hwang ???\n",
      "Yu Rong ???\n",
      "Siok Lee ???\n",
      "Ying Sim ???\n",
      "Chee Kiong ???\n",
      "Khai Kian ???\n",
      "Siau Ying ???\n",
      "Yen Haw ???\n",
      "Kor Sin ???\n",
      "Ching Wen ???\n",
      "Ann Khee ???\n",
      "Tze Yong ???\n",
      "Xi Ming ???\n",
      "Hock Quan ???\n",
      "Tze Cherng ???\n",
      "Lu Sin ???\n",
      "Ing Ping ???\n",
      "Kah Kei ???\n",
      "Lun Lin ???\n",
      "Wan Si ???\n",
      "Yew Xian ???\n",
      "Min Zhuang ???\n",
      "Teng Fong ???\n",
      "Cheah Sheng ???\n",
      "Jia Nee ???\n",
      "Meng Kuan ???\n",
      "Meng Hwee ???\n",
      "Lun Yih ???\n",
      "Cheng Kai ???\n",
      "Chai Mun ???\n",
      "Guo Xiu ???\n",
      "Xuan Jing ???\n",
      "Zong Heng ???\n",
      "Song Tang ???\n",
      "Koh Chin ???\n",
      "Shen Siang ???\n",
      " Jingning ???\n",
      "Jie Si ???\n",
      "Xiang Yuan ???\n",
      "Wei Tang ???\n",
      "Kai Keat ???\n",
      "Zhen Kun ???\n",
      "Chiew May ???\n",
      "Zhi Shien ???\n",
      "Ru Hui ???\n",
      "Sing Choo ???\n",
      "Yong Teck ???\n",
      " Zuosheng ???\n",
      "Jia Chee ???\n",
      "Jing Rui ???\n",
      "Seek Fen ???\n",
      "Huei Yin ???\n",
      "Sheng Hao ???\n",
      "Xin Zhe ???\n",
      "Kean Shing ???\n",
      "Song Deng ???\n",
      "Cia Yie ???\n",
      "Char Heng ???\n",
      "Feng Quan ???\n",
      "Ching Yah ???\n",
      "Lian Wan ???\n",
      "Rong Zhen ???\n",
      "Li Zhi ???\n",
      "Kee Xean ???\n",
      "Jian Woon ???\n",
      "Yu Jie ???\n",
      "Poh Hian ???\n",
      "Tiong Ho ???\n",
      "Chan Chin ???\n",
      "Joe Ann ???\n",
      "Yong Hua ???\n",
      "Joy Min ???\n",
      "Zi Heng ???\n",
      "Kian Chi ???\n",
      "Shi Jen ???\n",
      "Pey San ???\n",
      "Hoe Leong ???\n",
      "Chow Wen ???\n",
      "Heng Yet ???\n",
      "Jit Yan ???\n",
      "Szu Aow ???\n",
      "Mong Wen ???\n",
      "Zheng Rong ???\n",
      "Yuh Ting ???\n",
      "Chun Mui ???\n",
      " Evan ???\n",
      "Fu Yong ???\n",
      "Li Hung ???\n",
      "Li Zhe ???\n",
      "Chin Chung ???\n",
      "Qui Luan ???\n",
      "Lee Jiuan ???\n",
      "Chian Xin ???\n",
      "Ai Yueh ???\n",
      "Choo Lin ???\n",
      "Meon Juen ???\n",
      "Gao Seng ???\n",
      "Zhen Hua ???\n",
      "Kok Chieng ???\n",
      "Guan Hua ???\n",
      "Zhong Yaok ???\n",
      "Chiou Lin ???\n",
      "Yunn Fei ???\n",
      "Loo Ping ???\n",
      "Chien Teng ???\n",
      "Man Chun ???\n",
      "Teck Yin ???\n",
      "Meng Loong ???\n",
      "Kai Chern ???\n",
      "Chin Ong ???\n",
      "Chang Pei ???\n",
      "Fenn Nie ???\n",
      "Sing Tan ???\n",
      "Sear Meng ???\n",
      "Huay Lin ???\n",
      "Min Xian ???\n",
      "Shuet Khuan ???\n",
      "Pui Yoon ???\n",
      "Yaw Wei ???\n",
      "Jyi Chnan ???\n",
      "Junn Yong ???\n",
      "Sheh Yin ???\n",
      "Hwa Xu ???\n",
      " Qiyuan ???\n",
      "Jin Horng ???\n",
      "Soon Qunn ???\n",
      "Jeng Shyang ???\n",
      "Ann Yong ???\n",
      "Chew Bee ???\n",
      "Lek Yee ???\n",
      "Khye Wei ???\n",
      "Zhe Chiang ???\n",
      "Ying Yie ???\n",
      "You Sheng ???\n",
      "Chang May ???\n",
      "Jie Hao ???\n",
      "Eng Yao ???\n",
      "Guan Kuang ???\n",
      "Wen Long ???\n",
      "Fu Sheng ???\n",
      "Fu Jie ???\n",
      "Xing Lei ???\n",
      "Jien Wei ???\n",
      "Hui Zhi ???\n",
      "Kim Xie ???\n",
      "Jaw Chyuan ???\n",
      "Chin Siew ???\n",
      "Wen Leong ???\n",
      "Cuin Cong ???\n",
      "Seok Yong ???\n",
      "Ke Xing ???\n",
      "Kuan Hwee ???\n",
      "Kang Lin ???\n",
      "Teng Liang ???\n",
      "Hong Wang ???\n",
      "Hean Yong ???\n",
      "Jie En ???\n",
      "Tiong Yu ???\n",
      "Kam Cheung ???\n",
      "Lee Mea ???\n",
      "Xia Fong ???\n",
      "Wei Hank ???\n",
      " Vee-dick ???\n",
      "Chin Rong ???\n",
      "Kai Jiun ???\n",
      "Fei Mean ???\n",
      "Jing Ning ???\n",
      "Cia Gui ???\n",
      "See Qing ???\n",
      "Ai Shing ???\n",
      "Siau Ling ???\n",
      "Yew Tong ???\n",
      "Yee Zhun ???\n",
      "Sin Win ???\n",
      "Ya Qi ???\n",
      "Kim Wang ???\n",
      "Kah Han ???\n",
      "Sye Chin ???\n",
      "Juen Pin ???\n",
      "Geok Poh ???\n",
      "Chen Ai ???\n",
      "Wei Ji ???\n",
      "Jie Nan ???\n",
      "Jian Xiang ???\n",
      "Meng Jing ???\n",
      "Chia Phui ???\n",
      "Zhe Chee ???\n",
      "Eik Yuen ???\n",
      "Siak Zhong ???\n",
      "Yi Lu ???\n",
      "Zhy Chi ???\n",
      "Kai Reng ???\n",
      "Ye Hao ???\n",
      "Ji Hao ???\n",
      "Rou Hui ???\n",
      "Ting Wey ???\n",
      "Yi Joe ???\n",
      "Kien Wee ???\n",
      "Dick Tsen ???\n",
      "Kiet Yaow ???\n",
      "Pang Yuan ???\n",
      "Shin En ???\n",
      "Yaw Yi ???\n",
      "Thong Foo ???\n",
      "Sock Sing ???\n",
      "Wern Hueih ???\n",
      "Jun Ren ???\n",
      "Seng Choon ???\n",
      "Chin Peh ???\n",
      "Yun Xing ???\n",
      "Yau Lee ???\n",
      "Sun Dak ???\n",
      "Woon Nam ???\n",
      "Su Tian ???\n",
      "Ee Hao ???\n",
      "Yek Wei ???\n",
      "Jie Jing ???\n",
      "Gin Xiang ???\n",
      "Hau Chon ???\n",
      "Zhen Chen ???\n",
      "Yong Zheng ???\n",
      "Hon Chien ???\n",
      "Tian Shun ???\n",
      "Liew Chong ???\n",
      "Xi Lin ???\n",
      "Yan Ket ???\n",
      "Wen Chuen ???\n",
      "Hong Hua ???\n",
      "Zi Jezz ???\n",
      "Chen Hon ???\n",
      "Yun Shen ???\n",
      "Siaw Tung ???\n",
      "Sow Hui ???\n",
      "Ying Hua ???\n",
      "Inn Yee ???\n",
      "Qi Tze ???\n",
      "Hern Rieh ???\n",
      "Zhen Ann ???\n",
      "Soon Pang ???\n",
      "Tong Min ???\n",
      "Jia Waie ???\n",
      "King Wai ???\n",
      "Wee Kong ???\n",
      "Yi Hen ???\n",
      "Hoe Ren ???\n",
      "Xin Chier ???\n",
      "Zi Hau ???\n",
      "Kah Hung ???\n",
      "Meng Kiat ???\n",
      " Wingsheng ???\n",
      "Yu Zhe ???\n",
      "Wai Xin ???\n",
      "Chi Yang ???\n",
      "Guan Rong ???\n",
      "Kia Kin ???\n",
      "Sam Hoe ???\n",
      "Huai Yeng ???\n",
      "Yee Hwa ???\n",
      " Jacky ???\n",
      "Weng Zhen ???\n",
      "Keng Seong ???\n",
      "Kai Yun ???\n",
      "Pau Ek ???\n",
      "Yi Ziang ???\n",
      "Soon Xuan ???\n",
      "Say Lee ???\n",
      "Yik Hung ???\n",
      "Shey Lin ???\n",
      "Lok Yan ???\n",
      "Guang Huan ???\n",
      "Chu Chin ???\n",
      "Zing En ???\n",
      "Jun Khai ???\n",
      "Shan Ni ???\n",
      "Kar Lok ???\n",
      "Kah Man ???\n",
      "Vin Joe ???\n",
      "Ee Wern ???\n",
      " Melaine ???\n",
      "Sean Hui ???\n",
      "Lie Poon ???\n",
      "Men Ting ???\n",
      "Enn Chee ???\n",
      "Koon How ???\n",
      "Jin Zhao ???\n",
      "Jin Weng ???\n",
      "Ji Ching ???\n",
      "May Chia ???\n",
      "Wai Hou ???\n",
      " Jia-jun ???\n",
      "June Mei ???\n",
      "Li Jun ???\n",
      "Chiaw Pei ???\n",
      "Khai Jing ???\n",
      "Seh Yee ???\n",
      "Tung Wei ???\n",
      "Liang Mei ???\n",
      "Voon Shan ???\n",
      "King Sheng ???\n",
      "Yin Feng ???\n",
      "Lee Wan-qi ???\n",
      "Gah Kit ???\n",
      "Soo Shien ???\n",
      "Teck Guan ???\n",
      "Jy Song ???\n",
      "Mun Horng ???\n",
      "Gim Sheng ???\n",
      "Yeong Cong ???\n",
      "Yuan Kang ???\n",
      "Wei Chern ???\n",
      "Shun Jie ???\n",
      "Wei Ye` ???\n",
      "Hung Chen ???\n",
      "Ding Feng ???\n",
      "Wu Xin ???\n",
      "Pun Min ???\n",
      "Hui Xuen ???\n",
      "Hsueh Che ???\n",
      "Hong Hung ???\n",
      " Herdyi ???\n",
      "Kim Long ???\n",
      "Dick Son ???\n",
      "Ghee Hong ???\n",
      "Hock Jihn ???\n",
      "Tau Zhi ???\n",
      "Beng Siang ???\n",
      "Tah Wai ???\n",
      "Sien Haw ???\n",
      "Chiak Yik ???\n",
      "Tai Hong ???\n",
      "Yin Rong ???\n",
      "Ching Pheng ???\n",
      "Yeong Huei ???\n",
      "Kai Yik ???\n",
      "Tuan Kai ???\n",
      "Hock Joo ???\n",
      "Ee Chek ???\n",
      "Cheong Kim ???\n",
      "Ching Ye ???\n",
      "Khang Jiu ???\n",
      "Hong Shen ???\n",
      " Sixin ???\n",
      "Jia Juen ???\n",
      "Cheng Xi ???\n",
      "Ting Hao ???\n",
      "Yin Huey ???\n",
      "Wee Le ???\n",
      "Jia Ren ???\n",
      "Jiun Siang ???\n",
      "Guan Wen ???\n",
      "Hau Yan ???\n",
      "Jia Ting ???\n",
      "Kim Siong ???\n",
      "Xin Huan ???\n",
      "Tze Ler ???\n",
      "Zhi Shian ???\n",
      "Len Woon ???\n",
      "Zhao Qin ???\n",
      "Yan Chin ???\n",
      " Keat ???\n",
      "Han Boon ???\n",
      "Kuan You ???\n",
      "Tien Hung ???\n",
      "Yi Syuen ???\n",
      "Hui Xing ???\n",
      "Yeik Han ???\n",
      "Boon Ling ???\n",
      " Casem ???\n",
      "Cheng Hann ???\n",
      "Kim Shu ???\n",
      "Qiao Yan ???\n",
      "Shay Lee ???\n",
      "Ji Kang ???\n",
      "Kok Hwee ???\n",
      "Jih Shyan ???\n",
      "Peng Jui ???\n",
      " Peng ???\n",
      "Tsun Shin ???\n",
      "Chien Lin ???\n",
      "Shu Yong ???\n",
      "Vi Shen ???\n",
      "Swee Kwan ???\n",
      "Zhe Syuen ???\n",
      " Tey ???\n",
      "Shir Ya ???\n",
      "Hwa Sheng ???\n",
      "Wan Huey ???\n",
      "Tee Sian ???\n",
      "Faat Peng ???\n",
      "Chi Seng ???\n",
      "Lek Lin ???\n",
      "Kei Pui ???\n",
      "Tzer Khai ???\n",
      "Keng Yie ???\n",
      "Chin Huang ???\n",
      "Yan Qi ???\n",
      "Ker Ying ???\n",
      " Sylvia ???\n",
      "Vi Xin ???\n",
      "Hong Poh ???\n",
      "Kay Kean ???\n",
      "Lok Yie ???\n",
      "Hui Lam ???\n",
      "Jhoo Yhee ???\n",
      "Sau Chern ???\n",
      "Yee Weng ???\n",
      " Veeshen ???\n",
      "Chan Ming ???\n",
      "Zen Wei ???\n",
      "Tze Keen ???\n",
      "May Shian ???\n",
      "Jing Shen ???\n",
      " Zhichern ???\n",
      "Jing Le ???\n",
      " Weiying ???\n",
      "Xian Wen ???\n",
      "Cai Qin ???\n",
      "Xin Jin ???\n",
      " Elean ???\n",
      "Chi Inn ???\n",
      "Li Yun ???\n",
      "Jai Wei ???\n",
      "Zheng Feng ???\n",
      "Woon Ling ???\n",
      "Pier Teng ???\n",
      "Ka Seng ???\n",
      "Lui Kei ???\n",
      "Miao Hua ???\n",
      "Tiam Poh ???\n",
      "Shi En ???\n",
      "Ye Yin ???\n",
      "Shei Ru ???\n",
      " Jialin ???\n",
      "Siow Hui ???\n",
      "Wei Cheang ???\n",
      "Qi Fan ???\n",
      "Ja Ee ???\n",
      "Wee Feng ???\n",
      "Kya Way ???\n",
      "Sue Er ???\n",
      "Swee Huan ???\n",
      "Change Yee ???\n",
      "Yun Jie ???\n",
      "Wan Shian ???\n",
      "Pey Gia ???\n",
      "Yeq En ???\n",
      "Tiong Teng ???\n",
      "He Guang ???\n",
      "Shek Kei ???\n",
      "Quin Siang ???\n",
      "Chye Teck ???\n",
      "Tzer Min ???\n",
      "Jyn Xin ???\n",
      "Kang Chet ???\n",
      "Yuan Zhang ???\n",
      "Sok Tyng ???\n",
      "Chee Ern ???\n",
      "Pei Jin ???\n",
      "Ho Liang ???\n",
      "Yi Yi ???\n",
      "Jian Yong ???\n",
      "Suk Hui ???\n",
      "Jie Qi ???\n",
      "Ying Shien ???\n",
      "Wan Qin ???\n",
      "Zhee Peng ???\n",
      "Meom Hong ???\n",
      "Huey Kee ???\n",
      "Wei Len ???\n",
      "Zhan Qing ???\n",
      "Tian Kian ???\n",
      "Jong Chin ???\n",
      "Siong Lin ???\n",
      "Jin Harn ???\n",
      "Kuang Lim ???\n",
      "Li Kang ???\n",
      "Huay Xuan ???\n",
      "Xue Kai ???\n",
      "Siew Woon ???\n",
      "Rou Yeu ???\n",
      "Zheng Sen ???\n",
      "Bee Zi ???\n",
      "Selk Qi ???\n",
      "Hai Yen ???\n",
      "Miow Ye ???\n",
      "Su Qi ???\n",
      "Siaw Chee ???\n",
      "Yan Run ???\n",
      "Kha Men ???\n",
      "Kok Quan ???\n",
      "Si Tong ???\n",
      "See Yun ???\n",
      " Hang ???\n",
      "Man Xian ???\n",
      "Ze Hao ???\n",
      "Chee Piao ???\n",
      "May Zing ???\n",
      "Joe Ching ???\n",
      "Tian Ming ???\n",
      " Xiaoping ???\n",
      "Joon Wang ???\n",
      "Xue Kee ???\n",
      "Chi Jah ???\n",
      " Jean ???\n",
      "Wan Joe ???\n",
      "Hue Chee ???\n",
      "Lee Shuang ???\n",
      "Pak Sing ???\n",
      "Xin Mei ???\n",
      "Suk Hoon ???\n",
      "Zhi Jiunn ???\n",
      "Sin Mien ???\n",
      "Yeong Fook ???\n",
      "Pei Yu ???\n",
      "Maan Cheh ???\n",
      "Siow Sien ???\n",
      "Yen Harn ???\n",
      "Yen Tiong ???\n",
      "Yoon Hang ???\n",
      "Chui Ting ???\n",
      "Li Chard ???\n",
      "Mei Si ???\n",
      "Chia Joh ???\n",
      "Ke Rui ???\n",
      "Chun Mian ???\n",
      "Win Yeing ???\n",
      "Chiou Min ???\n",
      "Heng Yuan ???\n",
      "Xiu Ying ???\n",
      "Kai Nyeng ???\n",
      "Hua Qing ???\n",
      "Shao Hong ???\n",
      "Yoong Qing ???\n",
      "Shu Wee ???\n",
      "Wee Jieng ???\n",
      "Chii Cing ???\n",
      "Seng Kang ???\n",
      "Siew Zhen ???\n",
      "Ban Yu ???\n",
      "Chai Sia ???\n",
      "Yon Xin ???\n",
      "Yeh Quan ???\n",
      "Chai Yie ???\n",
      "Lih Min ???\n",
      "Zhi Jean ???\n",
      "Lei Li ???\n",
      "Soon How ???\n",
      "Ching Mun ???\n",
      "Da Kang ???\n",
      "Xing Fu ???\n",
      "Su Qing ???\n",
      "Kian Hiap ???\n",
      "Shin Yue ???\n",
      "Dinie Lee ???\n",
      "Meng Zher ???\n",
      "Ai Xiang ???\n",
      "Yi Cong ???\n",
      "Ming Chuan ???\n",
      "Wuan Yi ???\n",
      "Shi Lian ???\n",
      "Meei Yi ???\n",
      "Pock Sien ???\n",
      "Wee Ho ???\n",
      "Shen Long ???\n",
      "Kim Lun ???\n",
      "Sock Teng ???\n",
      "Siok Ting ???\n",
      "Kwi Xiang ???\n",
      "Xin Ler ???\n",
      "See Von ???\n",
      "Xu Ting ???\n",
      "Ing Hong ???\n",
      "Yi Sze ???\n",
      "He Quan ???\n",
      "Yong Yin ???\n",
      "Sheng Yih ???\n",
      "Lin Huat ???\n",
      "Weng Bin ???\n",
      "Hung Yien ???\n",
      "Zhan Hong ???\n",
      "Wei Teen ???\n",
      "Ze Lin ???\n",
      "Kiat Hwee ???\n",
      "Weh Che ???\n",
      "Khai En ???\n",
      "Ler Chin ???\n",
      "Man Shu ???\n",
      "Chok Tung ???\n",
      "Szee Huai ???\n",
      "Hwa Jien ???\n",
      "Fei Tat ???\n",
      "Wai Onn ???\n",
      "Shern Qin ???\n",
      "Haw Han ???\n",
      "Hui Quek ???\n",
      "Jing Xun ???\n",
      "Cheng Yian ???\n",
      " Shangwen ???\n",
      "Cai Ying ???\n",
      "Wee Zu ???\n",
      "Jing Fang ???\n",
      "Hoon Ling ???\n",
      "Kwan Ying ???\n",
      "Fui Qun ???\n",
      "Hiew Kuan ???\n"
     ]
    },
    {
     "output_type": "stream",
     "name": "stdout",
     "text": [
      "Kia Sheng ???\n",
      "Yungshi Chelsey ???\n",
      "Hon Boon ???\n",
      "Jin Zhi ???\n",
      "Zheng Chen ???\n",
      "Bei En ???\n",
      "Suh Fang ???\n",
      "Meng Quan ???\n",
      "Yishin Denise ???\n",
      "Zhi Ting ???\n",
      "Mei Xin ???\n",
      "Kian Woon ???\n",
      "Sie Ying ???\n",
      "Chew Shien ???\n",
      "Wen Fhu ???\n",
      "Hao Jun ???\n",
      "Chen Leng ???\n",
      "Pey Sin ???\n",
      "Shir Leen ???\n",
      "Xi Zhen ???\n",
      "Lye Ping ???\n",
      "Xi En ???\n",
      "Ruoh Lynn ???\n",
      "Leou Chyn ???\n",
      "Ting Jia ???\n",
      "Bing Cun ???\n",
      "Sing Nee ???\n",
      "Bing Fong ???\n",
      "Jia Xuan ???\n",
      "Ching Ann ???\n",
      "Sheng Liang ???\n",
      "Heng Hun ???\n",
      "Fan Jing ???\n",
      "Wen Loong ???\n",
      "Mei Fui ???\n",
      "Wan Seng ???\n",
      "Shiau Zia ???\n",
      "Zheng Yu ???\n",
      "Le Yang ???\n",
      "Hao Wee ???\n",
      "Suh Chyi ???\n",
      "Dick Xiang ???\n",
      "Wey Bing ???\n",
      "Ai Qi ???\n",
      "Siew Min ???\n",
      "Zhi Fu ???\n",
      "Ying Tong ???\n",
      "Khar Zhin ???\n",
      "Yong Chuen ???\n",
      "Bao Ning ???\n",
      "Sin Yuan ???\n",
      "Wen Bin ???\n",
      "Xing Tian ???\n",
      "Feng Yi ???\n",
      "Chiu Min ???\n",
      "Pey Tyng ???\n",
      "Poh Thian ???\n",
      "Chin Fang ???\n",
      "Whye Khan ???\n",
      "Kuan Ming ???\n",
      "Vern Sing ???\n",
      "Yok Min ???\n",
      " Zheyi ???\n",
      " Ching ???\n",
      "Hee Ping ???\n",
      "Kang Mei ???\n",
      "Sze Hance ???\n",
      "Yu En ???\n",
      "Lu Juan ???\n",
      "Ching Lam ???\n",
      "Xue Ching ???\n",
      "Xin Syan ???\n",
      "Cau Yen ???\n",
      "Lien Jing ???\n",
      "Cheau May ???\n",
      "Ser Thin ???\n",
      "Ding Yao ???\n",
      "Pei Jing ???\n",
      "Hong Qin ???\n",
      " Teresa ???\n",
      "Chai Yuin ???\n",
      "Liang Jian ???\n",
      "Jing Ni ???\n",
      "Zhern Zhuen ???\n",
      "Tzong Yea ???\n",
      "Ann Ann ???\n",
      "Seng Lin ???\n",
      "Ching Xin ???\n",
      "Shu Lyn ???\n",
      "Jia Jet ???\n",
      "Yu Bei ???\n",
      "Pey Chin ???\n",
      "Li Sian ???\n",
      "Ee Shern ???\n",
      "Rui Hong ???\n",
      "Hao Yi ???\n",
      "Mong Rui ???\n",
      "Yiap Wang ???\n",
      " Weichao ???\n",
      "Kien Hao ???\n",
      "Wern Hur ???\n",
      "Teik Quan ???\n",
      "Qi Ren ???\n",
      "Yi Kiat ???\n",
      "len new_name_list 18398 len old_name_list 0\n",
      "len always_name_list 0\n"
     ]
    }
   ],
   "metadata": {
    "ExecuteTime": {
     "end_time": "2020-01-08T02:14:40.880401Z",
     "start_time": "2020-01-08T02:14:40.740344Z"
    }
   }
  },
  {
   "cell_type": "code",
   "execution_count": 15,
   "source": [
    "test_name_dict_list"
   ],
   "outputs": [
    {
     "output_type": "execute_result",
     "data": {
      "text/plain": [
       "{'Han Sen': {7: 1},\n",
       " 'Yoke Foong': {7: 2, 9: 1},\n",
       " 'Soo San': {7: 1},\n",
       " 'Kian Sin': {7: 2, 10: 1},\n",
       " 'Khan Thai': {7: 1},\n",
       " 'Fuk Chuan': {7: 1},\n",
       " 'Wye Keong': {7: 1},\n",
       " 'Kah Cheng': {7: 1},\n",
       " 'Tak Fei': {7: 1},\n",
       " 'Huo Chong': {7: 1, 6: 1},\n",
       " 'Yong Nam': {7: 1, 9: 1},\n",
       " 'Yuek Mee': {7: 1},\n",
       " 'Wee Hong': {7: 1, 8: 3, 9: 1, 10: 2, 11: 2},\n",
       " 'Kok Leong': {7: 2, 8: 3, 9: 3, 10: 2},\n",
       " 'Yew Shin': {7: 1},\n",
       " 'Chin Gang': {7: 1},\n",
       " 'Yean Sun': {7: 2},\n",
       " 'Tze Ming': {7: 1, 8: 4, 9: 2},\n",
       " 'Kam Hong': {7: 2, 9: 2},\n",
       " 'Ming Khiang': {7: 1},\n",
       " 'Fang Hong': {7: 1},\n",
       " 'Choon Chong': {7: 1, 8: 1, 9: 1},\n",
       " 'Ee Choon': {7: 1, 8: 1},\n",
       " 'Chong Tat': {7: 1, 8: 2},\n",
       " 'Yen Hau': {7: 1},\n",
       " 'Por Jin': {7: 1},\n",
       " 'Kwong Soon': {7: 1},\n",
       " 'Chee Kin': {7: 1, 8: 2, 9: 5, 11: 1},\n",
       " 'Lay Cheng': {7: 1, 8: 2, 10: 1},\n",
       " 'Shan Yong': {7: 1},\n",
       " 'Kun Hao': {7: 1},\n",
       " 'Say Guan': {7: 1},\n",
       " ' Aun': {7: 1},\n",
       " 'Yen Fong': {7: 1, 8: 1, 9: 1},\n",
       " 'Heng Chin': {7: 1},\n",
       " 'Keng Siang': {7: 1},\n",
       " 'Ling King': {7: 2},\n",
       " 'Eng Hock': {7: 1, 8: 3},\n",
       " 'Mei Lin': {7: 1, 8: 4, 9: 2, 10: 1},\n",
       " 'Eng Huat': {7: 1, 10: 1},\n",
       " 'Kit Ching': {7: 2},\n",
       " 'Yu Chieh': {7: 1},\n",
       " 'Siong Choy': {7: 1, 6: 1},\n",
       " 'Voon Chet': {6: 1},\n",
       " 'Wee Lum': {6: 1},\n",
       " 'Chee Way': {6: 1, 8: 1},\n",
       " 'Kiam Howe': {7: 1},\n",
       " 'Weng Soon': {7: 2, 8: 1},\n",
       " 'Hui Lan': {7: 2, 8: 1},\n",
       " 'Pek Yee': {7: 1},\n",
       " ' Peggy': {7: 1, 8: 1, 9: 1, 10: 1, 11: 2},\n",
       " 'Ping Long': {7: 1},\n",
       " 'Siew Fui': {7: 1},\n",
       " 'Hong Guan': {7: 2, 8: 1, 10: 1},\n",
       " 'Then Voon': {7: 1},\n",
       " 'Khoon Inn': {7: 1},\n",
       " 'Chun Fai': {7: 1, 9: 1},\n",
       " 'Wee Liam': {7: 1},\n",
       " 'Kang Lim': {7: 1},\n",
       " 'Char Ann': {7: 1},\n",
       " 'Wei Ter': {7: 1},\n",
       " 'Chee Hoe': {7: 2, 8: 3, 9: 1},\n",
       " 'Siang Teck': {7: 1},\n",
       " 'Liang Chieh': {7: 1},\n",
       " 'Khai Hui': {7: 1},\n",
       " 'Swee Lee': {7: 1},\n",
       " 'Min Hua': {7: 1},\n",
       " 'Yong Wei': {7: 1, 8: 1, 9: 1, 10: 8, 11: 6},\n",
       " 'Chan Siang': {7: 1},\n",
       " 'Chee Chiang': {7: 1, 8: 1},\n",
       " 'Chow Ghee': {7: 1},\n",
       " 'See Leng': {7: 2},\n",
       " 'Ching Chee': {7: 1, 10: 1},\n",
       " 'Shu Chiun': {7: 1},\n",
       " 'Wen Piao': {7: 1},\n",
       " 'Shing Fei': {7: 1, 8: 2},\n",
       " 'Boon Khong': {7: 1},\n",
       " 'Hong Che': {7: 1, 9: 1},\n",
       " 'Liak Kuan': {7: 1},\n",
       " 'Hock Keat': {7: 1},\n",
       " 'Wei Cherng': {7: 1},\n",
       " 'Pang Hong': {7: 1},\n",
       " 'Weng Hung': {7: 1},\n",
       " 'Leng Hong/kang': {7: 1},\n",
       " 'Hong Pin': {7: 1, 9: 1},\n",
       " 'Kheng Huat': {7: 1},\n",
       " 'Chek Jam': {7: 1},\n",
       " 'Kee Hui': {7: 1, 11: 1},\n",
       " 'Wei Deng': {7: 1},\n",
       " 'Chun Seong': {7: 3, 8: 1},\n",
       " 'Pei Leng': {7: 1, 8: 1, 10: 1},\n",
       " 'Ming Chu': {7: 1, 8: 1},\n",
       " 'Aik Wee': {7: 1},\n",
       " 'Voon Yeen': {7: 1},\n",
       " 'Foot Ming': {7: 1},\n",
       " 'Giok Mui': {7: 1},\n",
       " 'Lee Yee': {7: 1, 8: 1, 10: 1},\n",
       " 'May Chan': {7: 2},\n",
       " 'Ik Ee': {7: 1},\n",
       " 'Chee Seng': {7: 2, 8: 9, 9: 1, 10: 4, 11: 2},\n",
       " 'Jean Hooi': {7: 1},\n",
       " \"K'ang Hsin\": {7: 1},\n",
       " 'Sook Fern': {7: 1, 8: 1},\n",
       " 'Huei Lee': {7: 1},\n",
       " 'Chee Aik': {7: 1},\n",
       " 'Yoong San': {7: 1},\n",
       " 'Wee Keong': {7: 1, 9: 1, 10: 2},\n",
       " 'Wuu Shyong': {7: 1},\n",
       " 'Chang Ching': {6: 1},\n",
       " 'Su Chuen': {7: 1},\n",
       " 'Ngee Thiam': {7: 2},\n",
       " 'Hui Min': {7: 1, 8: 2, 9: 4, 10: 12, 11: 2},\n",
       " 'Phooi Sim': {7: 1},\n",
       " 'Ming Jade': {7: 1},\n",
       " 'Yee Hoong': {7: 1},\n",
       " 'Ewe Leong': {7: 1},\n",
       " 'Ai Lin': {7: 3, 8: 4, 9: 5, 10: 2},\n",
       " 'Chiew Hong': {7: 1, 11: 1},\n",
       " 'Yin Keat': {7: 1},\n",
       " 'Hoh Yin': {7: 1},\n",
       " 'Choon Keat': {7: 1, 8: 2, 10: 3},\n",
       " 'Siang Leong': {7: 1},\n",
       " 'Wai Mun': {7: 1, 8: 9, 9: 2, 10: 3},\n",
       " 'Sze Ping': {7: 2, 8: 2, 10: 2},\n",
       " 'Kian Hock': {7: 1, 9: 1},\n",
       " 'Kiang Kiat': {7: 1},\n",
       " 'Boon Kiang': {7: 2},\n",
       " 'Kuan Thye': {7: 1},\n",
       " 'Chee Loong': {7: 3, 10: 1},\n",
       " 'Eu Jin': {7: 1, 8: 4, 9: 2, 10: 1},\n",
       " 'Kam Siew': {7: 1},\n",
       " 'Tan Sing': {7: 1},\n",
       " 'Keng Aik': {7: 2},\n",
       " 'Kwai Fong': {7: 1},\n",
       " 'Lian Ping': {7: 1},\n",
       " 'Kar Loong': {7: 1},\n",
       " 'Hooi Chia': {7: 2},\n",
       " 'Jin Fui': {7: 1},\n",
       " 'Peng Choon': {7: 1},\n",
       " 'Wai Leong': {7: 2, 9: 3, 8: 3, 10: 1},\n",
       " 'Soon Huat': {7: 1, 8: 2, 10: 1, 11: 2},\n",
       " 'Chee Yue': {7: 1},\n",
       " 'Wei Boon': {7: 1, 10: 5, 11: 1},\n",
       " 'Choon Hooi': {7: 1, 9: 2},\n",
       " 'Siew Li': {7: 3, 8: 2, 9: 1, 10: 3},\n",
       " 'Ying Keat': {7: 1},\n",
       " 'Chee Hou': {7: 1, 8: 2, 10: 3},\n",
       " 'Hon Keat': {7: 2},\n",
       " 'Teik Eng': {7: 1},\n",
       " 'Chee Chow': {7: 1},\n",
       " 'Mun Chee': {7: 1},\n",
       " 'Lee Chee': {7: 1},\n",
       " 'Boon Ho': {7: 2},\n",
       " 'Hock Leong': {7: 2},\n",
       " 'Chee Wai': {7: 3, 8: 4, 9: 2, 10: 1},\n",
       " 'Kheng Ho': {7: 1},\n",
       " 'Siow Leng': {7: 1},\n",
       " 'Kok Keong': {7: 1, 8: 2, 9: 1, 10: 6},\n",
       " 'Eng Kiak': {7: 1},\n",
       " 'Boon Han': {7: 2, 8: 1, 9: 4},\n",
       " 'Chen Hoeu': {7: 1},\n",
       " 'Yoke Kien': {7: 1},\n",
       " 'Kok Siak': {7: 1},\n",
       " ' Irene': {7: 1, 8: 3, 9: 1},\n",
       " 'Huay Ling': {7: 3, 9: 1, 10: 1},\n",
       " 'May Ling': {7: 2, 8: 3, 9: 4},\n",
       " 'Ian Tyii': {7: 1},\n",
       " 'Gek Tiang': {7: 1},\n",
       " 'Chye Luan': {7: 1},\n",
       " 'Soo Chen': {7: 1, 10: 1},\n",
       " 'Sek Hai': {7: 1},\n",
       " 'Sau Mei': {7: 1},\n",
       " 'Hseh Ching': {7: 1},\n",
       " 'Lay Khim': {7: 1},\n",
       " 'Miow Ying': {7: 1, 11: 1},\n",
       " 'Boon Yan': {7: 1, 8: 2, 9: 1},\n",
       " 'Mei Sim': {7: 1},\n",
       " 'Chiew Hsien': {7: 1},\n",
       " 'Mei Mei': {7: 3, 9: 1},\n",
       " 'Tze Ping': {7: 1, 9: 1},\n",
       " 'Way Yun': {7: 1},\n",
       " 'Chin Li': {7: 1, 8: 1},\n",
       " 'Kee Heng': {7: 1},\n",
       " 'Tsieu Oi': {7: 1},\n",
       " 'Ming Ling': {7: 1},\n",
       " 'Heng Cheong': {7: 1},\n",
       " 'Gaik Foon': {7: 1},\n",
       " 'Boon Fuang': {7: 1},\n",
       " 'Boon Liang': {7: 1, 9: 1, 10: 2},\n",
       " 'Leong Chai': {7: 1},\n",
       " 'Phaik Cheng': {7: 1},\n",
       " 'Soo Khim': {7: 1},\n",
       " 'Mee Yim': {7: 1},\n",
       " 'Wei Ling': {7: 1, 8: 2, 9: 4, 10: 5, 11: 2},\n",
       " 'Chun Nun': {7: 1},\n",
       " 'Wei Keong': {7: 2, 8: 2, 9: 2},\n",
       " 'Pei Yi': {7: 1, 8: 2, 9: 2, 10: 5, 11: 2},\n",
       " 'Chin Yee': {7: 1, 8: 8, 9: 8, 10: 3},\n",
       " 'Woon Ting': {7: 1},\n",
       " 'Seng Watt': {7: 1},\n",
       " 'Geok Hoon': {7: 1},\n",
       " 'Swee Ping': {7: 2, 8: 1, 9: 1},\n",
       " 'Hui Chin': {7: 1, 9: 8, 10: 5},\n",
       " 'Seow Wei': {7: 1, 8: 2, 9: 1},\n",
       " 'Suil Fun': {7: 1},\n",
       " 'Mai Chik': {7: 1},\n",
       " 'Siew Ping': {7: 2, 8: 1, 9: 4, 11: 1, 10: 1},\n",
       " 'Yew Aik': {7: 1, 8: 1},\n",
       " 'Yoke Nee': {7: 1, 9: 1},\n",
       " 'Chek Mei': {7: 1},\n",
       " 'Kah Luk': {7: 1},\n",
       " 'Su Ling': {7: 1, 8: 3, 9: 3},\n",
       " 'Bee San': {7: 1},\n",
       " 'Shi Min': {7: 1, 9: 4, 10: 9, 11: 2},\n",
       " 'Chui Yean': {7: 1},\n",
       " 'Mei Ying': {7: 2, 8: 3, 10: 4, 9: 1},\n",
       " 'Huey Wen': {7: 1, 11: 1, 10: 2},\n",
       " 'Suat Koon': {7: 1},\n",
       " 'Ghik Eem': {7: 1},\n",
       " 'Soo Chee': {7: 1},\n",
       " 'Booi Chen': {7: 1},\n",
       " 'Yu Hoo': {7: 1},\n",
       " 'Mong Siang': {7: 1},\n",
       " 'Tow Ngau': {6: 1},\n",
       " 'Geok Chew': {6: 1},\n",
       " 'Kin Yew': {6: 1, 7: 1},\n",
       " 'Sek Hoi': {6: 1},\n",
       " 'Chong Sheng': {6: 1, 10: 2},\n",
       " 'Soi Chong': {6: 1},\n",
       " 'Kwee Tian': {6: 1},\n",
       " 'Lay Sun': {6: 1},\n",
       " 'Chei Keat': {6: 1},\n",
       " 'Choo Kim': {6: 1},\n",
       " 'Kok Tye': {6: 1},\n",
       " 'Pek Wah': {6: 1},\n",
       " 'An Bang': {6: 1},\n",
       " 'Chin Wei': {6: 1, 8: 3, 9: 3, 10: 7, 11: 2},\n",
       " 'Khong Sin': {6: 1},\n",
       " 'Kwee Sew': {6: 1},\n",
       " 'Cheng Siong': {6: 1},\n",
       " 'Keng Hua': {6: 1, 7: 1},\n",
       " 'Chuang Kee': {7: 1},\n",
       " 'Oi Yee': {7: 3},\n",
       " 'Su Ming': {7: 1, 8: 1, 9: 2},\n",
       " 'Teck Keong': {7: 1, 8: 1, 9: 1},\n",
       " 'Chee Yuan': {7: 1, 9: 2},\n",
       " 'Wei Chong': {7: 1, 8: 1, 10: 1},\n",
       " 'Lip Fei': {7: 1},\n",
       " 'Sand Dee': {7: 1},\n",
       " 'Siang Yee': {7: 1, 8: 2, 9: 1},\n",
       " 'You Teik': {7: 1},\n",
       " 'Chee Loon': {7: 1, 8: 1},\n",
       " 'Kai Ling': {7: 1, 8: 2, 9: 2, 10: 5},\n",
       " 'Voon Siong': {7: 1},\n",
       " 'Lek Chin': {7: 1},\n",
       " 'Lee Mui': {7: 1},\n",
       " 'Ping Ping': {7: 3, 8: 1, 10: 1},\n",
       " 'U Ghi': {7: 1},\n",
       " 'Shiau Ning': {7: 1},\n",
       " 'Soon Chai': {7: 1, 10: 1},\n",
       " 'Siew Kuen': {7: 1},\n",
       " \"Hon Ch'ng\": {7: 1},\n",
       " 'Joo Ling': {7: 1},\n",
       " 'Heng Hwa': {7: 1, 8: 1},\n",
       " 'Mun Yow': {7: 1},\n",
       " ' Ning': {7: 1, 8: 2, 10: 2, 11: 1},\n",
       " 'Suet Yin': {7: 1, 8: 2},\n",
       " 'Kian Wei': {7: 1, 8: 2, 9: 1, 10: 1, 11: 1},\n",
       " 'Hen Leong': {7: 1},\n",
       " 'Seong Chee': {7: 1},\n",
       " 'Lay Pheng': {7: 1},\n",
       " 'Hui Lye': {7: 1},\n",
       " 'Wan Lin': {7: 1, 9: 3, 10: 1},\n",
       " 'Cheong Lee': {7: 1},\n",
       " 'Kok Chie': {7: 1},\n",
       " 'Chin Ann': {7: 1, 10: 1, 11: 1},\n",
       " 'Yaw Wah': {7: 1},\n",
       " 'Wai Hong': {7: 2, 8: 1, 9: 2, 10: 4, 11: 1},\n",
       " 'Siew Lee': {7: 2, 8: 4, 9: 3},\n",
       " 'Kheng Chu': {7: 1},\n",
       " 'Peng Joo': {7: 1},\n",
       " 'Lip Hoon': {7: 1},\n",
       " 'Hung Chye': {7: 2},\n",
       " 'Ju Lee': {7: 1, 8: 1},\n",
       " 'Wei Chou': {7: 1},\n",
       " 'Wing Heng': {7: 1},\n",
       " 'Su San': {7: 3, 10: 4},\n",
       " 'Chiat Hau': {7: 1},\n",
       " 'Soh Chen': {7: 1},\n",
       " 'Yew Aun': {7: 1},\n",
       " 'Hui Yong': {7: 1},\n",
       " 'Ser En': {7: 1},\n",
       " 'Jun Wei': {7: 1, 8: 4, 9: 3, 10: 7, 11: 3},\n",
       " 'Seng Tat': {7: 1, 9: 1},\n",
       " 'May Ann': {7: 1},\n",
       " 'Siew Ling': {7: 4, 6: 1, 8: 5, 9: 6, 10: 2, 11: 3},\n",
       " 'Wern Lu': {7: 1},\n",
       " 'Joik Lean': {7: 1},\n",
       " 'Soo Hui': {7: 1, 8: 1, 9: 2, 10: 1},\n",
       " 'Kay Chye': {7: 1},\n",
       " 'Boon Leng': {7: 1, 9: 1, 10: 1},\n",
       " 'Sze Joon': {7: 2},\n",
       " 'Ui Lin': {7: 1},\n",
       " 'Siew Yuen': {7: 1, 9: 1},\n",
       " 'Chin Mei': {7: 1, 9: 1},\n",
       " 'Yik Yu': {7: 1},\n",
       " 'Chui Mui': {7: 1},\n",
       " 'Beng Siew': {7: 1},\n",
       " 'Hui Ching': {7: 3, 8: 3, 9: 9, 10: 9},\n",
       " 'Shuan Yuh': {7: 1},\n",
       " 'Kim Fong': {7: 1, 8: 1, 9: 1, 10: 1},\n",
       " 'Yin Hwa': {7: 1},\n",
       " 'Pei Fen': {7: 2, 8: 2, 9: 4, 10: 4, 11: 1},\n",
       " 'Siew Ming': {7: 3},\n",
       " 'Eu Hui': {7: 1, 8: 1},\n",
       " 'Liu Chee': {7: 1},\n",
       " 'Ai Sime': {7: 1},\n",
       " 'Chang Seng': {7: 1},\n",
       " 'Kiang Kuan': {7: 1},\n",
       " 'Soon Yien': {7: 1},\n",
       " 'Ling Chia': {7: 1, 8: 1},\n",
       " 'Boon Poh': {7: 1, 10: 1},\n",
       " 'Liong Joo': {7: 1},\n",
       " 'Yeow Kuan': {7: 1},\n",
       " 'Su Wei': {6: 1, 7: 1, 9: 1, 10: 1},\n",
       " 'Boon Cheng': {6: 1, 7: 1},\n",
       " 'Yen Choon': {6: 1},\n",
       " 'Lea Tien': {6: 1},\n",
       " 'Chin Hui': {6: 1, 8: 5, 7: 1, 9: 2},\n",
       " 'Bok Min': {6: 1},\n",
       " 'Wai Kok': {6: 1, 7: 1},\n",
       " 'Ched Chang': {6: 1},\n",
       " 'Sheng Chyan': {6: 1},\n",
       " 'Yik Chun': {7: 1},\n",
       " 'King Ann': {7: 1},\n",
       " 'Chang Chern': {7: 2},\n",
       " 'Chit Chung': {7: 1},\n",
       " 'Wee Peng': {7: 1, 8: 2},\n",
       " 'Kim Seang': {7: 1},\n",
       " 'Hua Ming': {7: 1},\n",
       " 'Yew Leong': {7: 2},\n",
       " 'Chin Wah': {7: 1, 8: 1},\n",
       " 'Kuet Sang': {7: 1},\n",
       " 'Chun Yew': {7: 1, 10: 1},\n",
       " 'Boon Yeaw': {7: 1},\n",
       " 'Woei Sing': {7: 1, 8: 2},\n",
       " 'Keng Cheong': {7: 1},\n",
       " 'Vee Keat': {7: 1},\n",
       " 'Shin Heong': {7: 1},\n",
       " 'Chong Bin': {7: 1},\n",
       " 'Tak Khoon': {7: 1},\n",
       " 'Yoke Mee': {7: 1},\n",
       " 'Wei Chuan': {7: 1, 8: 1, 9: 2, 10: 3, 11: 1},\n",
       " 'Kee Keng': {7: 1},\n",
       " 'Lye Hin': {7: 1},\n",
       " 'Ming Wei': {7: 2, 8: 2, 9: 5, 10: 6, 11: 1},\n",
       " 'Yew Hoong': {7: 2},\n",
       " 'Ai Ling': {7: 2, 8: 12, 9: 7, 10: 3, 11: 1},\n",
       " 'How Yee': {7: 1, 9: 1},\n",
       " 'Han Wei': {7: 2, 8: 4, 9: 1, 11: 2, 10: 1},\n",
       " 'Chin Aik': {7: 1, 8: 1},\n",
       " 'Hwee Ming': {7: 1},\n",
       " 'Swee Yee': {7: 1, 9: 2, 10: 3},\n",
       " 'Chin Loong': {7: 1},\n",
       " 'Min Hooi': {7: 1},\n",
       " 'Chong Yih': {7: 1},\n",
       " 'Kean Keong': {7: 1, 10: 1},\n",
       " 'Chuan Foong': {7: 1},\n",
       " 'Wei Liat': {7: 1},\n",
       " 'Lai Ying': {7: 1},\n",
       " 'Kel Vin': {7: 1, 8: 1},\n",
       " 'Sim Yee': {7: 1, 8: 3, 9: 1, 11: 1, 10: 1},\n",
       " 'Lai Teng': {7: 1, 9: 2, 10: 1},\n",
       " 'Kok Wai': {7: 2, 8: 8, 9: 4, 10: 1},\n",
       " 'Yoke Khei': {7: 2},\n",
       " 'Seow Yin': {7: 1, 9: 1},\n",
       " 'Yong Sheng': {7: 1, 9: 1, 10: 4, 11: 2},\n",
       " 'Chew Yen': {7: 1, 9: 2},\n",
       " 'Kong Aik': {7: 1},\n",
       " 'Mee Keng': {7: 1, 8: 1},\n",
       " 'Ying Fye': {7: 2},\n",
       " 'Su Peng': {7: 1, 9: 1},\n",
       " 'Lee Fueng': {7: 2},\n",
       " 'Loo Seng': {7: 1},\n",
       " 'Shing Chyi': {7: 2},\n",
       " 'Chee Hong': {7: 4, 8: 10, 9: 3, 10: 3, 11: 1},\n",
       " 'Kim Chuan': {7: 3, 8: 1, 9: 1},\n",
       " 'Chie Chien': {7: 1},\n",
       " 'Yong Siang': {7: 1, 8: 5, 10: 1, 9: 3},\n",
       " 'Kwai Loon': {7: 1},\n",
       " 'Ai Lean': {7: 1},\n",
       " 'Aik Hun': {7: 2},\n",
       " 'Lian Nah': {7: 1, 10: 1},\n",
       " 'Chee Yong': {7: 1, 8: 4, 9: 11, 10: 7, 11: 3},\n",
       " 'Yen Seng': {7: 1},\n",
       " 'Fu Cherng': {7: 1},\n",
       " 'Sin Yee': {7: 1, 8: 3, 9: 14, 10: 27, 11: 2},\n",
       " 'Sau Wern': {7: 1},\n",
       " 'Weng Heng': {7: 1},\n",
       " 'Yee Keat': {7: 1},\n",
       " 'Thiaw Seng': {7: 2},\n",
       " 'Sook Ping': {7: 1},\n",
       " 'Wei Mun': {7: 1, 8: 1, 9: 1},\n",
       " 'Li Hsien': {7: 1},\n",
       " 'Chun Keet': {7: 1, 8: 1},\n",
       " 'Teh Kian': {7: 1},\n",
       " 'Chiew Ping': {7: 1, 9: 1, 10: 2},\n",
       " 'Thiam Hock': {7: 1, 8: 1},\n",
       " 'Kah Pang': {7: 1},\n",
       " 'Yip Chean': {7: 1},\n",
       " 'Kien Yew': {7: 1},\n",
       " 'Sued Szer': {7: 1},\n",
       " 'Wey Jade': {7: 1},\n",
       " 'Sau Koon': {7: 1},\n",
       " 'Jen Win': {7: 1},\n",
       " 'Hwee Lin': {7: 1},\n",
       " 'Weng Keong': {7: 1, 8: 2, 9: 2},\n",
       " 'Mei Chwee': {7: 1},\n",
       " 'Yien Li': {7: 1, 9: 1},\n",
       " 'Chun Tong': {7: 2},\n",
       " 'Hooi Hoon': {7: 1},\n",
       " 'Wai Marn': {7: 1},\n",
       " 'Peng Aun': {7: 1},\n",
       " 'Chong Tean': {7: 1},\n",
       " 'Ming Tao': {7: 2, 10: 1},\n",
       " 'Yee Koy': {7: 1},\n",
       " 'Swee Lim': {7: 1},\n",
       " 'Ee Lock': {7: 1},\n",
       " 'San Nee': {7: 1, 9: 1},\n",
       " 'Jack Sin': {7: 1},\n",
       " 'Wee Fong': {7: 1, 9: 2, 10: 1},\n",
       " 'Boon Leong': {7: 3, 8: 2, 9: 1},\n",
       " ' Ing': {7: 1},\n",
       " 'Seng Hong': {7: 1, 8: 1, 10: 1},\n",
       " 'Yeow Mein': {7: 1},\n",
       " 'Mei Yi': {7: 1, 8: 1, 10: 1},\n",
       " 'Sin Liang': {7: 1},\n",
       " 'Yew Chiong': {7: 2},\n",
       " 'Yee On': {7: 1},\n",
       " 'Chong Hann': {7: 1},\n",
       " 'See Kai': {7: 1},\n",
       " 'Sook Mei': {7: 1, 10: 1},\n",
       " 'Hooi Cheng': {7: 1, 8: 3},\n",
       " 'Kay Ming': {7: 1, 8: 1},\n",
       " 'Tah Lung': {7: 1},\n",
       " 'Teik Huat': {7: 1},\n",
       " 'Kar Wei': {7: 1, 9: 1, 10: 1},\n",
       " 'Kar Yi': {7: 2, 11: 1},\n",
       " 'Wei Chang': {7: 1, 10: 1},\n",
       " 'Eng Teng': {7: 1},\n",
       " 'Jyh Yeong': {7: 1},\n",
       " 'Li Teen': {7: 1, 9: 1},\n",
       " 'Yee Liang': {7: 1, 8: 1, 9: 1, 10: 1},\n",
       " 'Yuen Yee': {7: 1, 8: 3},\n",
       " 'Ooi Keong': {7: 1},\n",
       " 'Wei Kang': {7: 1, 8: 1, 9: 2, 10: 6, 11: 4},\n",
       " 'Poh Ghee': {7: 1},\n",
       " 'Yee Chuin': {7: 1},\n",
       " 'Chuan Chee': {7: 1},\n",
       " 'Chooi Tow': {7: 1},\n",
       " 'Chai Wen': {7: 2, 8: 2},\n",
       " 'Hak Yong': {7: 1},\n",
       " 'Beng Hooi': {7: 1, 9: 1},\n",
       " 'Siong Hu': {7: 1},\n",
       " 'Wai Yuen': {7: 2, 9: 1},\n",
       " 'Wen Sun': {7: 1},\n",
       " 'Guey Hwang': {7: 1},\n",
       " 'Chang Keong': {7: 1},\n",
       " 'Hon Yean': {7: 2},\n",
       " 'Kuang Shan': {7: 1},\n",
       " 'Jen Meng': {7: 1},\n",
       " 'Ye Him': {7: 1},\n",
       " 'Ken Wei': {7: 1, 8: 1},\n",
       " 'Chin Jee': {7: 1},\n",
       " 'Hock Soon': {7: 1, 8: 1, 10: 1},\n",
       " 'Kean Phoay': {7: 1},\n",
       " 'Chih Fung': {7: 1},\n",
       " 'Ing Lung': {7: 2},\n",
       " 'Heng Keong': {7: 1},\n",
       " 'Kher Hui': {7: 1},\n",
       " 'Chui Choon': {7: 2},\n",
       " 'Tat Mun': {7: 1, 11: 1},\n",
       " 'Keng Hoe': {7: 1},\n",
       " 'Jong Sim': {7: 1},\n",
       " 'Hee Huo': {7: 1},\n",
       " 'Lip Thian': {7: 1},\n",
       " 'Yeong Meau': {7: 1},\n",
       " 'Wee Ping': {7: 1, 8: 2, 9: 2},\n",
       " 'Sin Yaa': {7: 1},\n",
       " 'Seh Kian': {7: 1},\n",
       " 'Shuh Poh': {7: 1},\n",
       " 'Song Yong': {7: 1},\n",
       " 'Woei Horng': {7: 1},\n",
       " 'Kee Yeong': {7: 1},\n",
       " 'Phin Khoon': {7: 1},\n",
       " 'Yee Lien': {7: 2},\n",
       " 'Khun Ngai': {7: 1},\n",
       " 'Yong Hung': {7: 1, 10: 1},\n",
       " 'Shing Onn': {7: 1},\n",
       " 'Chuan Yan': {7: 1},\n",
       " 'Kong Weng': {7: 1, 8: 1, 9: 1},\n",
       " 'Sim Ying': {7: 1},\n",
       " 'Sue Ann': {7: 1, 8: 2},\n",
       " 'Chien Chern': {7: 1},\n",
       " 'Hong Wei': {7: 1, 10: 6, 9: 4, 11: 2},\n",
       " 'Chung Sun': {7: 1},\n",
       " 'Yen Chen': {7: 1},\n",
       " 'Chai Khoon': {7: 1},\n",
       " 'Yun Siang': {7: 1},\n",
       " 'Hock Choon': {7: 1},\n",
       " 'Pei Eng': {7: 1, 9: 1},\n",
       " 'Gee Fern': {7: 1},\n",
       " 'Boon Keat': {7: 1, 8: 5, 9: 6, 10: 3},\n",
       " 'Leung Kiat': {7: 1},\n",
       " 'Kuan Eeik': {7: 1},\n",
       " 'Soon Nyean': {7: 2},\n",
       " 'Jai Shen': {7: 1},\n",
       " 'En Yen': {7: 1},\n",
       " 'Chiak Theng': {7: 1},\n",
       " 'Ju Sern': {7: 1},\n",
       " 'Poi Kiat': {7: 1},\n",
       " 'Soon Lye': {7: 1},\n",
       " 'Chee Wei': {7: 3, 8: 6, 9: 8, 10: 6, 11: 2},\n",
       " 'Hwei Syn': {7: 2},\n",
       " 'Mew Sang': {7: 1},\n",
       " 'Siau Mei': {7: 1, 8: 1},\n",
       " 'Nam Soon': {7: 1},\n",
       " 'Juen Hoong': {7: 1},\n",
       " 'Chun Wei': {7: 1, 8: 4, 9: 9, 10: 3, 11: 7},\n",
       " 'Kok Kien': {7: 1, 8: 1},\n",
       " 'Wei Chew': {7: 1},\n",
       " 'Hann Peng': {7: 1},\n",
       " 'Choon Hu': {7: 1},\n",
       " 'Ping Jing': {7: 1},\n",
       " 'Seia Boon': {7: 1},\n",
       " 'Farn Sern': {7: 1, 9: 1},\n",
       " 'Shan Hai': {7: 1},\n",
       " 'Inn Sin': {7: 1},\n",
       " 'Chia Seng': {7: 1, 11: 1},\n",
       " 'Wei Pheng': {7: 1},\n",
       " 'Kar Bun': {7: 1},\n",
       " 'Yean Hooi': {7: 1},\n",
       " 'You Yin': {7: 1},\n",
       " 'Kah Loon': {7: 1, 8: 1, 10: 1},\n",
       " 'Kok Ping': {7: 1, 8: 3},\n",
       " 'Keat Chong': {7: 1},\n",
       " 'Wen Ping': {7: 3, 10: 1},\n",
       " 'Kwong Jee': {7: 1},\n",
       " 'Tick Leong': {7: 1},\n",
       " 'Ken Huei': {7: 1},\n",
       " 'Weng Wai': {7: 1, 8: 1, 9: 2, 10: 3},\n",
       " 'Wei Sheong': {7: 1, 9: 2},\n",
       " 'Teck Yunn': {7: 1},\n",
       " 'Boon Chong': {7: 2, 10: 2, 9: 1, 11: 2},\n",
       " ' Faith': {7: 1},\n",
       " 'Chia Lip': {7: 1},\n",
       " 'Chun Sean': {7: 1, 8: 1},\n",
       " 'Tau Sen': {7: 1, 8: 1},\n",
       " 'Choon Wei': {7: 1, 8: 2, 9: 1},\n",
       " 'Yee Ngay': {7: 1},\n",
       " 'Chee Soon': {7: 1, 8: 1, 10: 1},\n",
       " 'Lee Lee': {7: 1, 9: 3, 11: 1},\n",
       " 'Hung Liang': {7: 1},\n",
       " 'Aun Thiam': {7: 1},\n",
       " 'Ee Jin': {7: 1, 8: 1},\n",
       " 'Chun Keong': {7: 1, 11: 1},\n",
       " 'Shuh Jiun': {7: 1},\n",
       " 'Chin Yeow': {7: 1},\n",
       " 'Mee Fong': {7: 1, 8: 1},\n",
       " 'Chuan Fon': {7: 1},\n",
       " 'Chen Haw': {7: 1, 9: 3},\n",
       " 'Eng Gee': {7: 1},\n",
       " 'Seng Han': {7: 1},\n",
       " 'Han Kiong': {7: 1},\n",
       " 'Kok King': {7: 1, 9: 1, 11: 1},\n",
       " 'Heng Wah': {7: 1},\n",
       " 'Gim Hian': {7: 1},\n",
       " 'Eu Wing': {7: 1},\n",
       " 'Shung Lek': {7: 1},\n",
       " 'Wei Keat': {7: 1, 8: 1, 9: 2, 10: 2, 11: 1},\n",
       " 'Chin Leong': {7: 1, 9: 1},\n",
       " 'Choon Shon': {7: 1},\n",
       " 'Hon Chung': {7: 1},\n",
       " 'Kian Hung': {7: 2},\n",
       " 'Boon Hui': {7: 3, 9: 1, 11: 2, 10: 1},\n",
       " 'Kee Leng': {7: 1, 8: 1},\n",
       " 'Wai Weng': {7: 1, 6: 1, 10: 1, 11: 1},\n",
       " 'Mei Sze': {7: 1},\n",
       " 'Liang Hai': {7: 1, 9: 1},\n",
       " 'Nyen Tsun': {7: 1},\n",
       " 'Howe Ching': {7: 1},\n",
       " 'King Hong': {7: 1},\n",
       " 'Fang Chun': {7: 1},\n",
       " 'Kar Fai': {7: 1, 11: 1},\n",
       " 'Kok Yee': {7: 1, 10: 3, 9: 1},\n",
       " 'Kean Li': {7: 1},\n",
       " 'Vun Chee': {7: 1},\n",
       " 'Chi Khoon': {7: 2},\n",
       " 'Wen Chun': {7: 2, 9: 1, 11: 1},\n",
       " 'Kean Hooi': {7: 1},\n",
       " 'Zi Jiun': {7: 1},\n",
       " 'Ming Yauk': {7: 1},\n",
       " 'Vee Ronn': {7: 1},\n",
       " 'Gee Hoe': {7: 1},\n",
       " 'Leong Sak': {7: 1},\n",
       " 'Chian Lee': {7: 1},\n",
       " 'Chian Soon': {7: 1},\n",
       " 'Cheh Cheng': {7: 1},\n",
       " 'See Kum': {7: 1},\n",
       " 'Aik Heng': {7: 1},\n",
       " 'Tze Loong': {7: 1},\n",
       " 'Yien Hua': {7: 1},\n",
       " 'Hoo Eng': {7: 1},\n",
       " 'Boon Sim': {7: 1},\n",
       " 'Yun Fern': {7: 1},\n",
       " 'Hway Boon': {6: 1},\n",
       " 'Yu Ghee': {8: 1},\n",
       " 'Shuen Shin': {8: 1},\n",
       " 'Wan Wah': {7: 1},\n",
       " 'Gaik Hoon': {7: 1},\n",
       " 'See Wai': {7: 1, 8: 1},\n",
       " 'Ker Lin': {7: 1},\n",
       " 'Pei Yee': {7: 1, 8: 8, 9: 4, 10: 12, 11: 4},\n",
       " 'Yap Liang': {7: 2},\n",
       " 'Leck Yuan': {7: 1},\n",
       " 'Chee Peng': {7: 1, 9: 2, 10: 1},\n",
       " 'Kah Wai': {7: 1, 8: 2, 9: 1, 10: 2},\n",
       " 'Aik Yen': {7: 1, 10: 1},\n",
       " 'Chen Nee': {7: 1},\n",
       " 'Hui Ling': {7: 2, 8: 7, 9: 14, 10: 7, 11: 2},\n",
       " 'Hui Ping': {7: 1, 8: 2, 9: 5, 10: 2, 11: 1},\n",
       " 'Siew Pei': {7: 1, 8: 2, 9: 1},\n",
       " 'Geok Eng': {7: 1},\n",
       " 'Kiat Neo': {7: 1},\n",
       " 'Lih Sze': {7: 1},\n",
       " 'Shu Ling': {7: 2, 9: 1, 11: 1},\n",
       " 'Pei Fun': {7: 1},\n",
       " 'Yin Mand': {7: 1},\n",
       " 'Sook Sin': {7: 1},\n",
       " 'Phaik Harn': {7: 2},\n",
       " 'Siow Lan': {7: 1, 8: 1},\n",
       " 'Mei Fong': {7: 2, 8: 2, 9: 3},\n",
       " 'Chin On': {7: 1},\n",
       " 'Shiu Chin': {7: 1},\n",
       " 'Gee Sien': {7: 1},\n",
       " 'Teik Wang': {7: 1},\n",
       " 'Mei Lam': {7: 1},\n",
       " 'Sok Gee': {7: 1},\n",
       " 'Yew Fai': {7: 2},\n",
       " 'Shing Fern': {7: 1},\n",
       " 'Poh Choon': {7: 1, 9: 1},\n",
       " 'Weng Tat': {7: 1},\n",
       " 'Yu Fong': {7: 1},\n",
       " 'Pei Lee': {7: 2, 8: 1, 10: 1},\n",
       " 'Yun Yi': {7: 1, 9: 1, 10: 1},\n",
       " 'Pei Sze': {7: 1, 8: 2, 9: 1, 10: 4},\n",
       " 'Chai Fong': {7: 1},\n",
       " 'Sze Wei': {7: 2, 8: 4, 9: 1, 10: 4, 11: 3},\n",
       " 'Hui Wen': {7: 3, 8: 1, 9: 7, 10: 5, 11: 5},\n",
       " 'Lee Yuen': {7: 1, 8: 1, 11: 1},\n",
       " 'Ming Ai': {7: 1},\n",
       " 'Kie Chieh': {7: 1},\n",
       " 'Geng Ying': {7: 1},\n",
       " 'Siao Yan': {7: 1},\n",
       " 'Sook Ling': {7: 1, 9: 1, 10: 1},\n",
       " 'Pooi Leng': {7: 1, 8: 1},\n",
       " 'Bee Tin': {7: 1, 8: 1, 10: 1},\n",
       " 'Sze Ying': {7: 1, 8: 3, 9: 3, 10: 1},\n",
       " 'Mei Ann': {7: 1},\n",
       " 'Pheng Wee': {7: 1},\n",
       " 'Chong Chien': {7: 1},\n",
       " 'Chiew Moi': {7: 1, 9: 1},\n",
       " 'Chye Chian': {7: 1},\n",
       " 'Kwee Sia': {7: 1},\n",
       " 'See Hia': {7: 1},\n",
       " 'Siew Peng': {7: 2, 8: 1, 10: 1},\n",
       " 'Kok Chien': {7: 2, 8: 1, 9: 1},\n",
       " 'Yee Keong': {7: 1},\n",
       " 'Jade Ling': {7: 1},\n",
       " 'Yoke Teng': {7: 1, 10: 2},\n",
       " 'Yoke Ching': {7: 1, 10: 1},\n",
       " 'Peck Karlf': {7: 1},\n",
       " 'Lee Ling': {7: 3, 8: 2, 9: 4},\n",
       " 'Mien Sze': {7: 1},\n",
       " 'Siow Wei': {7: 1, 8: 2, 9: 2},\n",
       " 'Lee Hui': {7: 1, 8: 2, 10: 2},\n",
       " 'Poh Huat': {7: 1},\n",
       " 'Wee Chong': {7: 1, 9: 2},\n",
       " 'Tze Huey': {7: 1, 9: 1, 11: 1},\n",
       " 'Pei Ling': {7: 3, 8: 20, 9: 5, 10: 11, 11: 4},\n",
       " 'Pei Fern': {7: 1, 8: 1},\n",
       " 'Lee Fong': {7: 1, 9: 1},\n",
       " 'Shir Ling': {7: 1, 10: 1},\n",
       " 'Kar Lyn': {7: 1},\n",
       " 'Chin Fei': {7: 1, 8: 1, 9: 1, 10: 1},\n",
       " 'Pek See': {7: 1},\n",
       " 'Pei Chien': {7: 1},\n",
       " 'Yeot Ly': {7: 1},\n",
       " ' Lorraine': {7: 1},\n",
       " 'Chiou Wen': {7: 1, 10: 1},\n",
       " 'Kean Heng': {7: 1},\n",
       " 'Foong Yee': {7: 1, 8: 1, 9: 1},\n",
       " 'Choy Lin': {7: 1},\n",
       " 'Con Nee': {7: 1},\n",
       " 'Sit Wan': {7: 1},\n",
       " 'Ee Pei': {7: 1},\n",
       " 'Woen Chein': {7: 1},\n",
       " 'Yee Lee': {7: 1, 8: 1, 9: 3},\n",
       " 'Geok Hwee': {7: 1},\n",
       " 'Siok Leong': {7: 1},\n",
       " 'Yah Siang': {7: 1},\n",
       " 'Tak King': {7: 1},\n",
       " 'Siew Phaik': {7: 1},\n",
       " 'Ban Fatt': {7: 1},\n",
       " 'Kian Boon': {7: 1, 8: 1},\n",
       " 'Yew Yin': {7: 1, 10: 1, 9: 1},\n",
       " 'Ser Sze': {7: 1},\n",
       " 'Choon Charng': {7: 1},\n",
       " 'Mei Lan': {7: 1},\n",
       " 'Lai Ching': {7: 1, 8: 1},\n",
       " 'Tze Yee': {7: 1, 8: 4},\n",
       " 'Boon Bee': {7: 1, 8: 1},\n",
       " 'Yong Chern': {7: 1},\n",
       " 'Pau Li': {7: 1},\n",
       " 'Lin Lee': {7: 1},\n",
       " 'Chin Ling': {7: 2, 9: 2, 10: 2},\n",
       " 'Jun Ling': {7: 1, 8: 1},\n",
       " 'Lu Kian': {7: 1},\n",
       " 'Yeah Li': {7: 1},\n",
       " 'Kid Ming': {7: 1},\n",
       " 'Li Mei': {7: 1, 9: 2, 10: 2},\n",
       " 'Nyuk Foong': {7: 1},\n",
       " 'Yit Mee': {7: 1},\n",
       " 'Ting Ling': {7: 2, 8: 2},\n",
       " 'Su Leng': {7: 1},\n",
       " 'Yee Chin': {7: 1, 8: 3, 9: 2, 10: 3, 11: 1},\n",
       " 'Yau Fatt': {7: 1},\n",
       " 'Lih Liang': {7: 1},\n",
       " 'Fui Fueng': {7: 1},\n",
       " 'Kian Yeik': {7: 1, 10: 1},\n",
       " 'Jade Yen': {7: 1},\n",
       " 'Ghee Tiong': {7: 1},\n",
       " 'Siew Teng': {7: 1, 9: 1, 8: 3, 10: 2},\n",
       " 'Shee Yean': {7: 1},\n",
       " 'Chong Long': {7: 1},\n",
       " 'Ming Ming': {7: 1, 8: 1, 10: 1},\n",
       " 'Eu Jing': {7: 1},\n",
       " 'Kai Thee': {7: 1},\n",
       " 'Suh Shya': {7: 1},\n",
       " 'Pooi Kuan': {7: 1},\n",
       " 'Yee Tat': {7: 1},\n",
       " 'Hee Kok': {7: 1},\n",
       " 'Guan Chee': {7: 1},\n",
       " 'Chee Fook': {7: 1},\n",
       " 'Young Ping': {7: 1},\n",
       " 'Liy Shen': {7: 1},\n",
       " 'Lick Hou': {7: 1},\n",
       " 'Chee Jiang': {7: 1},\n",
       " 'Puay Eng': {7: 1},\n",
       " 'Su Yin': {7: 1, 8: 4, 9: 4},\n",
       " 'Tik Hin': {7: 1},\n",
       " 'Ai Te': {7: 1},\n",
       " 'Ka Bian': {7: 1},\n",
       " 'Lee Tin': {7: 1},\n",
       " 'Soo Eng': {7: 1},\n",
       " 'Yen Yen': {7: 3, 8: 4, 9: 1, 10: 3, 11: 1},\n",
       " 'Seok Wan': {7: 1},\n",
       " 'Kok How': {7: 1, 8: 3, 9: 1},\n",
       " 'Aik Loon': {7: 1},\n",
       " 'Pei Chyn': {7: 1},\n",
       " 'Poh Chen': {7: 1},\n",
       " 'Yoke Cheng': {7: 1, 10: 2},\n",
       " 'Ming Ding': {7: 1},\n",
       " 'Ming Tong': {7: 1},\n",
       " 'Chiang Sun': {7: 1},\n",
       " 'Ah Moy': {7: 1},\n",
       " 'Jong Li': {6: 1},\n",
       " 'Mei Ling': {6: 1, 7: 4, 8: 10, 9: 6, 10: 5, 11: 2},\n",
       " 'Wan Ting': {6: 1, 9: 3, 10: 7, 11: 3},\n",
       " 'Wan Teng': {7: 1, 10: 2, 11: 1},\n",
       " 'Hong Chau': {6: 1},\n",
       " 'Chea Beng': {6: 1},\n",
       " 'Hoong Jon': {6: 1},\n",
       " 'Tee Hean': {6: 1},\n",
       " 'Too Khong': {6: 1},\n",
       " 'Swee Ho': {6: 1},\n",
       " 'Eng Teck': {6: 1},\n",
       " 'Kam Fatt': {6: 1},\n",
       " 'Kok Guan': {6: 1},\n",
       " 'Heng Siong': {6: 1, 9: 1},\n",
       " ' Kin': {7: 1},\n",
       " 'Fock Keong': {6: 1},\n",
       " 'Yong Chuan': {6: 1, 9: 1},\n",
       " 'Leng Chon': {6: 1},\n",
       " ' Chyan': {6: 1},\n",
       " 'Chan Meng': {6: 1},\n",
       " 'Kim Poh': {6: 1, 8: 1, 9: 1},\n",
       " 'Joo Chia': {6: 1},\n",
       " 'Kong Tee': {6: 1},\n",
       " 'Shaw Chong': {6: 1},\n",
       " 'Lan Seng': {6: 1},\n",
       " 'Lik Neo': {6: 1},\n",
       " 'Huay Fern': {6: 1, 9: 1},\n",
       " 'Chin Kuan': {7: 1, 8: 2},\n",
       " ' Eugene': {6: 1, 10: 1, 9: 1},\n",
       " 'Sin Lin': {8: 2},\n",
       " 'Kim Loong': {8: 1, 7: 1, 9: 1, 10: 1},\n",
       " 'Kwang Fook': {8: 1},\n",
       " 'Tet Khong': {8: 1},\n",
       " 'Eng Hong': {8: 4, 9: 1, 10: 2},\n",
       " 'Pei Kee': {8: 2, 10: 1},\n",
       " 'Mei Hua': {8: 1, 10: 1, 11: 1},\n",
       " 'Ann Jee': {8: 1, 9: 1},\n",
       " 'Chow Ming': {8: 1},\n",
       " 'Han Choo': {8: 1},\n",
       " 'Pey Wei': {8: 1},\n",
       " 'Yik Fei': {8: 1},\n",
       " 'Boon Ping': {8: 5, 7: 2, 9: 2, 11: 3},\n",
       " 'Yee Ping': {8: 1, 7: 1, 9: 3, 10: 1},\n",
       " 'Choon Seong': {8: 1, 7: 1},\n",
       " 'Hoon Boon': {8: 1},\n",
       " 'Siau Ping': {8: 1},\n",
       " 'Chao Chiang': {8: 1},\n",
       " 'Lai Min': {8: 3},\n",
       " 'Yee Yung': {8: 1, 9: 1},\n",
       " 'Chee Wan': {8: 2, 9: 2},\n",
       " 'Chen Hwee': {8: 1},\n",
       " 'Kin Fhung': {8: 1},\n",
       " 'Teck Yaw': {8: 1},\n",
       " 'Chaing Hong': {8: 1},\n",
       " 'Kuan Hon': {8: 2},\n",
       " 'Soon Hoong': {8: 1},\n",
       " 'Sook Har': {8: 2},\n",
       " 'Kwee Juat': {8: 1},\n",
       " 'Chiou Ni': {8: 1},\n",
       " 'Yan Yan': {8: 1, 9: 1},\n",
       " 'Tat Keong': {8: 1},\n",
       " 'Yee Howe': {8: 1, 9: 1},\n",
       " 'Keat Seong': {8: 3},\n",
       " 'Hon Mun': {8: 3, 9: 1, 10: 1},\n",
       " 'Khin Fui': {8: 1},\n",
       " 'Mei Leng': {8: 1, 7: 1, 9: 1, 10: 1},\n",
       " 'Li Tse': {8: 1},\n",
       " 'Ching Kwang': {8: 1},\n",
       " 'Chun Hwa': {8: 1},\n",
       " 'Bee Hong': {8: 1},\n",
       " ' Sokyi': {8: 1},\n",
       " 'Wee Wee': {8: 4, 11: 3},\n",
       " ' Christina': {8: 1},\n",
       " 'Wye Jin': {8: 1},\n",
       " 'Ai Wai': {8: 1},\n",
       " 'Jin Hui': {8: 1, 7: 1, 10: 2, 11: 1},\n",
       " 'Lin Jin': {8: 1},\n",
       " 'Siew Chee': {8: 1},\n",
       " 'Eak John': {8: 1},\n",
       " 'Hui Shin': {8: 2, 10: 1},\n",
       " 'Hui Lee': {8: 6, 9: 1},\n",
       " 'Ee Yuen': {8: 1},\n",
       " 'Soo Nee': {8: 1},\n",
       " 'Ming Hong': {8: 1, 7: 1, 10: 1, 11: 1},\n",
       " 'May Kim': {8: 1},\n",
       " 'Keat Min': {8: 1},\n",
       " 'Khoon Poh': {8: 1},\n",
       " 'Jin Keat': {8: 2},\n",
       " 'Ching Weun': {8: 1},\n",
       " 'Joo Lynn': {8: 1},\n",
       " 'Kee Lim': {8: 1},\n",
       " 'Aik Poh': {8: 1},\n",
       " 'Boon Yeow': {8: 1},\n",
       " 'Ee Ling': {8: 7, 10: 4},\n",
       " 'Heng Mian': {8: 1},\n",
       " 'Wei Li': {8: 2, 10: 5},\n",
       " 'Poh Chin': {8: 3, 9: 1, 10: 1},\n",
       " 'Jay Sin': {8: 1},\n",
       " 'York Tee': {8: 1},\n",
       " 'Wai Git': {8: 1, 9: 1},\n",
       " 'Chuan Chin': {7: 3},\n",
       " 'Siew Wah': {7: 1},\n",
       " 'Li Ling': {7: 3, 8: 6, 9: 2, 10: 1, 11: 5},\n",
       " 'Boon Hock': {7: 3, 8: 1, 10: 3},\n",
       " 'Yee Ling': {7: 1, 8: 7, 9: 10, 10: 7, 11: 2},\n",
       " 'Chee Fei': {7: 1, 10: 1},\n",
       " 'Yeong Fei': {7: 1},\n",
       " 'Shou Han': {7: 1},\n",
       " 'Shih Wei': {7: 1},\n",
       " 'Paey Lun': {7: 1},\n",
       " 'Woei Hau': {7: 1},\n",
       " 'Yeong Chyang': {7: 1},\n",
       " 'Wei Han': {7: 2, 8: 5, 9: 2, 10: 3, 11: 1},\n",
       " 'Huai Huai': {7: 1},\n",
       " 'Chern Nam': {7: 1},\n",
       " 'Chun Yee': {7: 1, 9: 1, 10: 1},\n",
       " 'Ooi Wai': {7: 1},\n",
       " 'Sinn Ming': {7: 1},\n",
       " 'Tian Soon': {7: 1},\n",
       " 'Hong Wee': {7: 1, 9: 1, 11: 1},\n",
       " 'Siang Hoe': {7: 1, 10: 1},\n",
       " 'Yee Leen': {7: 1, 8: 1},\n",
       " 'Weng Lohk': {7: 1},\n",
       " 'Han Foon': {7: 2},\n",
       " 'Kian Min': {7: 1, 9: 1, 10: 2},\n",
       " 'Heng Sek': {7: 1},\n",
       " 'Yin Tien': {7: 1},\n",
       " 'Inn Sann': {7: 1},\n",
       " 'Kah Heng': {7: 1, 9: 3, 10: 2},\n",
       " 'Poh Gaik': {7: 1},\n",
       " 'Tzit Wei': {7: 1},\n",
       " 'Chia Wei': {7: 3, 8: 1, 9: 3, 11: 1},\n",
       " 'Boon Kiong': {7: 2},\n",
       " 'Su Suan': {7: 1},\n",
       " 'Aik Meng': {7: 1, 10: 1},\n",
       " 'Chiau Ping': {7: 1},\n",
       " 'Yat Juyn': {7: 1},\n",
       " 'Choon Siang': {7: 1, 8: 1, 9: 1, 11: 1},\n",
       " 'Qian Xing': {7: 1},\n",
       " 'Yih Yan': {7: 1, 8: 1},\n",
       " 'Chai Ling': {7: 2, 8: 3, 10: 3},\n",
       " 'Chin Hong': {7: 1, 9: 3, 8: 1, 10: 2},\n",
       " 'Fang Fang': {7: 1, 8: 1, 10: 1},\n",
       " 'Gee Kuang': {7: 1},\n",
       " 'Chung Yeun': {7: 1},\n",
       " 'Sheau Therd': {7: 1},\n",
       " 'Swee Shin': {7: 1, 8: 1},\n",
       " 'Wei Fei': {7: 1},\n",
       " 'Hui Hong': {7: 1, 10: 2},\n",
       " 'Gaik Kian': {7: 1},\n",
       " 'Tze Chian': {7: 1},\n",
       " 'Phooi Imm': {7: 1},\n",
       " 'Ming Tze': {7: 1},\n",
       " 'Chung Kiang': {7: 1, 10: 1},\n",
       " 'Hon Yam': {7: 1},\n",
       " 'Fong Yow': {7: 1},\n",
       " 'Chee Yen': {7: 1, 8: 1, 9: 2, 10: 1},\n",
       " 'Chiao Li': {7: 1},\n",
       " 'Yee Boon': {7: 1, 10: 3, 9: 1},\n",
       " 'Zchun Wei': {7: 1},\n",
       " 'Tien Yee': {7: 1},\n",
       " 'Seng Yew': {7: 1, 8: 1, 11: 1},\n",
       " 'Ooi Mei': {7: 1, 8: 1},\n",
       " 'Heng Hong': {7: 1},\n",
       " 'Sook Wai': {7: 1},\n",
       " 'Lih Jiun': {7: 1, 9: 1},\n",
       " 'Nee Shen': {7: 1},\n",
       " 'Pak Sung': {7: 1},\n",
       " 'Yun Li': {7: 1, 9: 1},\n",
       " 'Yen Toa': {7: 2},\n",
       " 'Po Ling': {7: 1},\n",
       " 'Lui Chuan': {7: 1},\n",
       " 'Chew Vun': {7: 1},\n",
       " 'Ching Chuan': {7: 1, 10: 2, 9: 1},\n",
       " 'Sook Lee': {7: 1, 8: 1},\n",
       " 'Seow Hui': {7: 1, 9: 1},\n",
       " 'Chen Fud': {7: 1},\n",
       " 'Wei Ming': {7: 2, 8: 1, 9: 4, 10: 12, 11: 2},\n",
       " 'Wee Heng': {7: 1},\n",
       " 'Kiat Sing': {7: 1},\n",
       " 'Chern Hoong': {7: 1},\n",
       " 'Kian Teck': {7: 1},\n",
       " 'Mei Yee': {7: 3, 8: 5, 9: 2, 10: 3, 11: 1},\n",
       " 'Kok Kuen': {7: 1},\n",
       " ' Y-kong': {7: 1},\n",
       " 'Pui Lan': {7: 1},\n",
       " 'Chee Keong': {7: 4, 8: 11, 9: 2, 10: 5, 11: 1},\n",
       " 'Teong Yau': {7: 1},\n",
       " 'Say Hwai': {7: 1},\n",
       " ' Belinda': {7: 1},\n",
       " 'Lay Bun': {7: 1},\n",
       " 'Poh Wan': {7: 1, 10: 1},\n",
       " 'Kwai Yong': {7: 1},\n",
       " 'Chia Chia': {7: 1, 8: 1},\n",
       " 'Wei Shi': {7: 1, 10: 2, 11: 1},\n",
       " 'Sin Guan': {7: 1},\n",
       " 'Sin Wee': {7: 1},\n",
       " 'Kok Hooi': {7: 1},\n",
       " 'Kia Chik': {7: 1},\n",
       " 'Weng Thai': {7: 1},\n",
       " 'Sue Ching': {7: 1, 9: 1},\n",
       " 'Fei Sian': {7: 1},\n",
       " 'Kah Ping': {7: 1, 10: 2},\n",
       " 'Chia Ling': {7: 1, 8: 2, 9: 2, 10: 5},\n",
       " 'Jye Yng': {7: 1},\n",
       " 'Khoon Wee': {7: 1},\n",
       " 'Nga Guan': {7: 1},\n",
       " 'Siao May': {7: 1},\n",
       " 'Siew Chen': {7: 2, 8: 1, 9: 3},\n",
       " 'Peck Li': {7: 1},\n",
       " 'Chee Kai': {7: 1, 8: 1, 10: 1},\n",
       " 'Yoke Kiat': {7: 1},\n",
       " 'Lai Ling': {7: 1, 8: 1},\n",
       " ' Lichard': {7: 1, 8: 2},\n",
       " 'Choong Seong': {7: 1},\n",
       " 'Chin Siang': {7: 1, 8: 2, 9: 1},\n",
       " 'Kim Wing': {7: 1},\n",
       " 'Mei Yin': {7: 3, 8: 2, 10: 1},\n",
       " 'Chiew Liang': {7: 1},\n",
       " 'Boo Ching': {7: 1},\n",
       " 'Jay Sean': {7: 1},\n",
       " 'Chee Kiat': {7: 1, 8: 1, 10: 3},\n",
       " 'Keow Lim': {7: 1},\n",
       " 'Chong Ting': {7: 1},\n",
       " ...}"
      ]
     },
     "metadata": {},
     "execution_count": 15
    }
   ],
   "metadata": {
    "ExecuteTime": {
     "end_time": "2020-01-08T02:14:40.919105Z",
     "start_time": "2020-01-08T02:14:40.881552Z"
    }
   }
  },
  {
   "cell_type": "code",
   "execution_count": 32,
   "source": [
    "# filename = './data_output/test_name_category_list'\r\n",
    "# pickle.dump(test_name_dict_list,open(filename, 'wb'))\r\n",
    "\r\n",
    "# filename = './data_output/test_name_year_list'\r\n",
    "# pickle.dump(test_name_year_dict_list,open(filename, 'wb'))"
   ],
   "outputs": [],
   "metadata": {
    "ExecuteTime": {
     "end_time": "2019-12-18T09:24:58.657407Z",
     "start_time": "2019-12-18T09:24:58.510519Z"
    }
   }
  },
  {
   "cell_type": "code",
   "execution_count": 16,
   "source": [
    "with open('./pkl_data/test_name_category_list', 'rb') as handle:\r\n",
    "    test_name_dict_list = pickle.loads(handle.read())\r\n",
    "    \r\n",
    "with open('./pkl_data/test_name_year_list', 'rb') as handle:\r\n",
    "    test_name_year_dict_list = pickle.loads(handle.read())"
   ],
   "outputs": [],
   "metadata": {
    "ExecuteTime": {
     "end_time": "2020-01-08T02:14:41.092065Z",
     "start_time": "2020-01-08T02:14:40.920042Z"
    }
   }
  },
  {
   "cell_type": "markdown",
   "source": [
    "# Check Result"
   ],
   "metadata": {}
  },
  {
   "cell_type": "code",
   "execution_count": 43,
   "source": [
    "# FN1\r\n",
    "\r\n",
    "x_feature = ['FN1']\r\n",
    "y_feature = ['BirthYear']\r\n",
    "\r\n",
    "result = age_prediction_FN1.predict(msadata[x_feature])\r\n",
    "prob = age_prediction_FN1.predict_proba(msadata[x_feature])\r\n",
    "\r\n",
    "count_average_error(msadata,result)\r\n",
    "\r\n",
    "# Save the result and model\r\n",
    "filename = './concate_age_model_result/age_predicton_FN1'\r\n",
    "pickle.dump(result, open(filename, 'wb'))\r\n",
    "print(\"Result save successfully!\")\r\n",
    "\r\n",
    "filename = './concate_age_model_prob/age_predicton_FN1'\r\n",
    "pickle.dump(prob, open(filename, 'wb'))\r\n",
    "print(\"Prob save successfully!\")"
   ],
   "outputs": [
    {
     "output_type": "stream",
     "name": "stdout",
     "text": [
      "Total test list: 30565\n",
      "Accuracy: 0.1288728938328153\n",
      "Mean Year Absolute Error: 15.700147227220677\n",
      "Result save successfully!\n",
      "Prob save successfully!\n"
     ]
    }
   ],
   "metadata": {
    "ExecuteTime": {
     "end_time": "2020-01-06T08:52:15.743358Z",
     "start_time": "2020-01-06T08:52:13.353521Z"
    }
   }
  },
  {
   "cell_type": "code",
   "execution_count": 44,
   "source": [
    "# FN2\r\n",
    "\r\n",
    "x_feature = ['FN2']\r\n",
    "y_feature = ['BirthYear']\r\n",
    "\r\n",
    "result = age_prediction_FN2.predict(msadata[x_feature])\r\n",
    "prob = age_prediction_FN2.predict_proba(msadata[x_feature])\r\n",
    "\r\n",
    "count_average_error(msadata,result)\r\n",
    "\r\n",
    "# Save the result and model\r\n",
    "filename = './concate_age_model_result/age_prediction_FN2'\r\n",
    "pickle.dump(result, open(filename, 'wb'))\r\n",
    "print(\"Result save successfully!\")\r\n",
    "\r\n",
    "filename = './concate_age_model_prob/age_prediction_FN2'\r\n",
    "pickle.dump(prob, open(filename, 'wb'))\r\n",
    "print(\"Prob save successfully!\")"
   ],
   "outputs": [
    {
     "output_type": "stream",
     "name": "stdout",
     "text": [
      "Total test list: 30565\n",
      "Accuracy: 0.019859316211352854\n",
      "Mean Year Absolute Error: 10.652053001799445\n",
      "Result save successfully!\n",
      "Prob save successfully!\n"
     ]
    }
   ],
   "metadata": {
    "ExecuteTime": {
     "end_time": "2020-01-06T08:52:18.264856Z",
     "start_time": "2020-01-06T08:52:15.745786Z"
    }
   }
  },
  {
   "cell_type": "code",
   "execution_count": 45,
   "source": [
    "# FN12\r\n",
    "\r\n",
    "x_feature = ['FN1','FN2']\r\n",
    "y_feature = ['BirthYear']\r\n",
    "\r\n",
    "result = age_prediction_FN12.predict(msadata[x_feature])\r\n",
    "prob = age_prediction_FN12.predict_proba(msadata[x_feature])\r\n",
    "\r\n",
    "count_average_error(msadata,result)\r\n",
    "\r\n",
    "# Save the result and model\r\n",
    "filename = './concate_age_model_result/age_prediction_FN12'\r\n",
    "pickle.dump(result, open(filename, 'wb'))\r\n",
    "print(\"Result save successfully!\")\r\n",
    "\r\n",
    "filename = './concate_age_model_prob/age_prediction_FN12'\r\n",
    "pickle.dump(prob, open(filename, 'wb'))\r\n",
    "print(\"Prob save successfully!\")"
   ],
   "outputs": [
    {
     "output_type": "stream",
     "name": "stdout",
     "text": [
      "Total test list: 30565\n",
      "Accuracy: 0.2864387371176182\n",
      "Mean Year Absolute Error: 4.5822345820382795\n",
      "Result save successfully!\n",
      "Prob save successfully!\n"
     ]
    }
   ],
   "metadata": {
    "ExecuteTime": {
     "end_time": "2020-01-06T08:52:20.260890Z",
     "start_time": "2020-01-06T08:52:18.267372Z"
    }
   }
  },
  {
   "cell_type": "code",
   "execution_count": 46,
   "source": [
    "# sonin\r\n",
    "\r\n",
    "x_feature = ['FN1_sonin_index','FN2_sonin_index']\r\n",
    "y_feature = ['BirthYear']\r\n",
    "\r\n",
    "result = age_prediction_sonin.predict(msadata[x_feature])\r\n",
    "prob = age_prediction_sonin.predict_proba(msadata[x_feature])\r\n",
    "\r\n",
    "count_average_error(msadata,result)\r\n",
    "\r\n",
    "# Save the result and model\r\n",
    "filename = './concate_age_model_result/age_prediction_sonin'\r\n",
    "pickle.dump(result, open(filename, 'wb'))\r\n",
    "print(\"Result save successfully!\")\r\n",
    "\r\n",
    "filename = './concate_age_model_prob/age_prediction_sonin'\r\n",
    "pickle.dump(prob, open(filename, 'wb'))\r\n",
    "print(\"Prob save successfully!\")"
   ],
   "outputs": [
    {
     "output_type": "stream",
     "name": "stdout",
     "text": [
      "Total test list: 30565\n",
      "Accuracy: 0.18328153116309504\n",
      "Mean Year Absolute Error: 11.183739571405201\n",
      "Result save successfully!\n",
      "Prob save successfully!\n"
     ]
    }
   ],
   "metadata": {
    "ExecuteTime": {
     "end_time": "2020-01-06T08:52:22.535395Z",
     "start_time": "2020-01-06T08:52:20.263267Z"
    }
   }
  },
  {
   "cell_type": "code",
   "execution_count": 47,
   "source": [
    "# muin\r\n",
    "\r\n",
    "x_feature = ['FN1_muin_index','FN2_muin_index']\r\n",
    "y_feature = ['BirthYear']\r\n",
    "\r\n",
    "result = age_prediction_muin.predict(msadata[x_feature])\r\n",
    "prob = age_prediction_muin.predict_proba(msadata[x_feature])\r\n",
    "\r\n",
    "count_average_error(msadata,result)\r\n",
    "\r\n",
    "# Save the result and model\r\n",
    "filename = './concate_age_model_result/age_prediction_muin'\r\n",
    "pickle.dump(result, open(filename, 'wb'))\r\n",
    "print(\"Result save successfully!\")\r\n",
    "\r\n",
    "filename = './concate_age_model_prob/age_prediction_muin'\r\n",
    "pickle.dump(prob, open(filename, 'wb'))\r\n",
    "print(\"Prob save successfully!\")"
   ],
   "outputs": [
    {
     "output_type": "stream",
     "name": "stdout",
     "text": [
      "Total test list: 30565\n",
      "Accuracy: 0.14745624079829872\n",
      "Mean Year Absolute Error: 16.36077212497955\n",
      "Result save successfully!\n",
      "Prob save successfully!\n"
     ]
    }
   ],
   "metadata": {
    "ExecuteTime": {
     "end_time": "2020-01-06T08:52:24.879406Z",
     "start_time": "2020-01-06T08:52:22.537388Z"
    }
   }
  },
  {
   "cell_type": "code",
   "execution_count": 48,
   "source": [
    "# soninmuin\r\n",
    "\r\n",
    "x_feature = ['FN1_sonin_index','FN2_sonin_index','FN1_muin_index','FN2_muin_index']\r\n",
    "y_feature = ['BirthYear']\r\n",
    "\r\n",
    "result = age_prediction_soninmuin.predict(msadata[x_feature])\r\n",
    "prob = age_prediction_soninmuin.predict_proba(msadata[x_feature])\r\n",
    "\r\n",
    "count_average_error(msadata,result)\r\n",
    "\r\n",
    "# Save the result and model\r\n",
    "filename = './concate_age_model_result/age_prediction_soninmuin'\r\n",
    "pickle.dump(result, open(filename, 'wb'))\r\n",
    "print(\"Result save successfully!\")\r\n",
    "\r\n",
    "filename = './concate_age_model_prob/age_prediction_soninmuin'\r\n",
    "pickle.dump(prob, open(filename, 'wb'))\r\n",
    "print(\"Prob save successfully!\")"
   ],
   "outputs": [
    {
     "output_type": "stream",
     "name": "stdout",
     "text": [
      "Total test list: 30565\n",
      "Accuracy: 0.14336659577948635\n",
      "Mean Year Absolute Error: 14.7213479469982\n",
      "Result save successfully!\n",
      "Prob save successfully!\n"
     ]
    }
   ],
   "metadata": {
    "ExecuteTime": {
     "end_time": "2020-01-06T08:52:27.226732Z",
     "start_time": "2020-01-06T08:52:24.881544Z"
    }
   }
  },
  {
   "cell_type": "code",
   "execution_count": 49,
   "source": [
    "# FN1sonin1\r\n",
    "\r\n",
    "x_feature = ['FN1','FN1_sonin_index']\r\n",
    "y_feature = ['BirthYear']\r\n",
    "\r\n",
    "result = age_predicton_FN1sonin1.predict(msadata[x_feature])\r\n",
    "prob = age_predicton_FN1sonin1.predict_proba(msadata[x_feature])\r\n",
    "\r\n",
    "count_average_error(msadata,result)\r\n",
    "\r\n",
    "# Save the result and model\r\n",
    "filename = './concate_age_model_result/age_predicton_FN1sonin1'\r\n",
    "pickle.dump(result, open(filename, 'wb'))\r\n",
    "print(\"Result save successfully!\")\r\n",
    "\r\n",
    "filename = './concate_age_model_prob/age_predicton_FN1sonin1'\r\n",
    "pickle.dump(prob, open(filename, 'wb'))\r\n",
    "print(\"Prob save successfully!\")"
   ],
   "outputs": [
    {
     "output_type": "stream",
     "name": "stdout",
     "text": [
      "Total test list: 30565\n",
      "Accuracy: 0.1785048257811222\n",
      "Mean Year Absolute Error: 12.630721413381318\n",
      "Result save successfully!\n",
      "Prob save successfully!\n"
     ]
    }
   ],
   "metadata": {
    "ExecuteTime": {
     "end_time": "2020-01-06T08:52:29.597099Z",
     "start_time": "2020-01-06T08:52:27.228899Z"
    }
   }
  },
  {
   "cell_type": "code",
   "execution_count": 50,
   "source": [
    "# FN1muin1\r\n",
    "\r\n",
    "x_feature = ['FN1','FN1_muin_index']\r\n",
    "y_feature = ['BirthYear']\r\n",
    "\r\n",
    "result = age_predicton_FN1muin1.predict(msadata[x_feature])\r\n",
    "prob = age_predicton_FN1muin1.predict_proba(msadata[x_feature])\r\n",
    "\r\n",
    "count_average_error(msadata,result)\r\n",
    "\r\n",
    "# Save the result and model\r\n",
    "filename = './concate_age_model_result/age_predicton_FN1muin1'\r\n",
    "pickle.dump(result, open(filename, 'wb'))\r\n",
    "print(\"Result save successfully!\")\r\n",
    "\r\n",
    "filename = './concate_age_model_prob/age_predicton_FN1muin1'\r\n",
    "pickle.dump(prob, open(filename, 'wb'))\r\n",
    "print(\"Prob save successfully!\")"
   ],
   "outputs": [
    {
     "output_type": "stream",
     "name": "stdout",
     "text": [
      "Total test list: 30565\n",
      "Accuracy: 0.1754294127269753\n",
      "Mean Year Absolute Error: 12.700768853263536\n",
      "Result save successfully!\n",
      "Prob save successfully!\n"
     ]
    }
   ],
   "metadata": {
    "ExecuteTime": {
     "end_time": "2020-01-06T08:52:31.890251Z",
     "start_time": "2020-01-06T08:52:29.600893Z"
    }
   }
  },
  {
   "cell_type": "code",
   "execution_count": 51,
   "source": [
    "# FN2sonin2\r\n",
    "\r\n",
    "x_feature = ['FN2','FN2_sonin_index']\r\n",
    "y_feature = ['BirthYear']\r\n",
    "\r\n",
    "result = age_predicton_FN2sonin2.predict(msadata[x_feature])\r\n",
    "prob = age_predicton_FN2sonin2.predict_proba(msadata[x_feature])\r\n",
    "\r\n",
    "count_average_error(msadata,result)\r\n",
    "\r\n",
    "# Save the result and model\r\n",
    "filename = './concate_age_model_result/age_predicton_FN2sonin2'\r\n",
    "pickle.dump(result, open(filename, 'wb'))\r\n",
    "print(\"Result save successfully!\")\r\n",
    "\r\n",
    "filename = './concate_age_model_prob/age_predicton_FN2sonin2'\r\n",
    "pickle.dump(prob, open(filename, 'wb'))\r\n",
    "print(\"Prob save successfully!\")"
   ],
   "outputs": [
    {
     "output_type": "stream",
     "name": "stdout",
     "text": [
      "Total test list: 30565\n",
      "Accuracy: 0.29874038933420577\n",
      "Mean Year Absolute Error: 5.303320791755276\n",
      "Result save successfully!\n",
      "Prob save successfully!\n"
     ]
    }
   ],
   "metadata": {
    "ExecuteTime": {
     "end_time": "2020-01-06T08:52:33.879818Z",
     "start_time": "2020-01-06T08:52:31.892228Z"
    }
   }
  },
  {
   "cell_type": "code",
   "execution_count": 52,
   "source": [
    "# FN2muin2\n",
    "\n",
    "x_feature = ['FN2','FN2_muin_index']\n",
    "y_feature = ['BirthYear']\n",
    "\n",
    "result = age_predicton_FN2muin2.predict(msadata[x_feature])\n",
    "prob = age_predicton_FN2muin2.predict_proba(msadata[x_feature])\n",
    "\n",
    "count_average_error(msadata,result)\n",
    "\n",
    "# Save the result and model\n",
    "filename = './concate_age_model_result/age_predicton_FN2muin2'\n",
    "pickle.dump(result, open(filename, 'wb'))\n",
    "print(\"Result save successfully!\")\n",
    "\n",
    "filename = './concate_age_model_prob/age_predicton_FN2muin2'\n",
    "pickle.dump(prob, open(filename, 'wb'))\n",
    "print(\"Prob save successfully!\")"
   ],
   "outputs": [
    {
     "output_type": "stream",
     "name": "stdout",
     "text": [
      "Total test list: 30565\n",
      "Accuracy: 0.27286111565516113\n",
      "Mean Year Absolute Error: 6.639522329461803\n",
      "Result save successfully!\n",
      "Prob save successfully!\n"
     ]
    }
   ],
   "metadata": {
    "ExecuteTime": {
     "end_time": "2020-01-06T08:52:35.957212Z",
     "start_time": "2020-01-06T08:52:33.881671Z"
    }
   }
  },
  {
   "cell_type": "code",
   "execution_count": 53,
   "source": [
    "# FNsonin\n",
    "\n",
    "x_feature = ['FN1','FN2','FN1_sonin_index','FN2_sonin_index']\n",
    "y_feature = ['BirthYear']\n",
    "\n",
    "result = age_prediction_FNsonin.predict(msadata[x_feature])\n",
    "prob = age_prediction_FNsonin.predict_proba(msadata[x_feature])\n",
    "\n",
    "count_average_error(msadata,result)\n",
    "\n",
    "# Save the result and model\n",
    "filename = './concate_age_model_result/age_prediction_FNsonin'\n",
    "pickle.dump(result, open(filename, 'wb'))\n",
    "print(\"Result save successfully!\")\n",
    "\n",
    "filename = './concate_age_model_prob/age_prediction_FNsonin'\n",
    "pickle.dump(prob, open(filename, 'wb'))\n",
    "print(\"Prob save successfully!\")"
   ],
   "outputs": [
    {
     "output_type": "stream",
     "name": "stdout",
     "text": [
      "Total test list: 30565\n",
      "Accuracy: 0.26383117945362344\n",
      "Mean Year Absolute Error: 8.399738262718795\n",
      "Result save successfully!\n",
      "Prob save successfully!\n"
     ]
    }
   ],
   "metadata": {
    "ExecuteTime": {
     "end_time": "2020-01-06T08:52:38.022938Z",
     "start_time": "2020-01-06T08:52:35.959146Z"
    }
   }
  },
  {
   "cell_type": "code",
   "execution_count": 54,
   "source": [
    "# FNmuin\n",
    "\n",
    "x_feature = ['FN1','FN2','FN1_muin_index','FN2_muin_index']\n",
    "y_feature = ['BirthYear']\n",
    "\n",
    "result = age_prediction_FNmuin.predict(msadata[x_feature])\n",
    "prob = age_prediction_FNmuin.predict_proba(msadata[x_feature])\n",
    "\n",
    "count_average_error(msadata,result)\n",
    "\n",
    "# Save the result and model\n",
    "filename = './concate_age_model_result/age_prediction_FNmuin'\n",
    "pickle.dump(result, open(filename, 'wb'))\n",
    "print(\"Result save successfully!\")\n",
    "\n",
    "filename = './concate_age_model_prob/age_prediction_FNmuin'\n",
    "pickle.dump(prob, open(filename, 'wb'))\n",
    "print(\"Prob save successfully!\")"
   ],
   "outputs": [
    {
     "output_type": "stream",
     "name": "stdout",
     "text": [
      "Total test list: 30565\n",
      "Accuracy: 0.23304433175200392\n",
      "Mean Year Absolute Error: 8.886962211680027\n",
      "Result save successfully!\n",
      "Prob save successfully!\n"
     ]
    }
   ],
   "metadata": {
    "ExecuteTime": {
     "end_time": "2020-01-06T08:52:40.237469Z",
     "start_time": "2020-01-06T08:52:38.024883Z"
    }
   }
  },
  {
   "cell_type": "code",
   "execution_count": 55,
   "source": [
    "# 6F\n",
    "\n",
    "x_feature = ['FN1','FN2','FN1_sonin_index','FN2_sonin_index','FN1_muin_index','FN2_muin_index']\n",
    "y_feature = ['BirthYear']\n",
    "\n",
    "result = age_prediction_6F.predict(msadata[x_feature])\n",
    "prob = age_prediction_6F.predict_proba(msadata[x_feature])\n",
    "\n",
    "count_average_error(msadata,result)\n",
    "\n",
    "# Save the result and model\n",
    "filename = './concate_age_model_result/age_prediction_6F'\n",
    "pickle.dump(result, open(filename, 'wb'))\n",
    "print(\"Result save successfully!\")\n",
    "\n",
    "filename = './concate_age_model_prob/age_prediction_6F'\n",
    "pickle.dump(prob, open(filename, 'wb'))\n",
    "print(\"Prob save successfully!\")"
   ],
   "outputs": [
    {
     "output_type": "stream",
     "name": "stdout",
     "text": [
      "Total test list: 30565\n",
      "Accuracy: 0.2495664976280059\n",
      "Mean Year Absolute Error: 9.914837232128251\n",
      "Result save successfully!\n",
      "Prob save successfully!\n"
     ]
    }
   ],
   "metadata": {
    "ExecuteTime": {
     "end_time": "2020-01-06T08:52:42.287244Z",
     "start_time": "2020-01-06T08:52:40.239211Z"
    }
   }
  },
  {
   "cell_type": "code",
   "execution_count": 56,
   "source": [
    "# Only FN1 features\n",
    "\n",
    "x_feature = ['FN1','FN1_sonin_index','FN1_muin_index']\n",
    "y_feature = ['BirthYear']\n",
    "\n",
    "result = age_predicton_FN1Features.predict(msadata[x_feature])\n",
    "prob = age_predicton_FN1Features.predict_proba(msadata[x_feature])\n",
    "\n",
    "count_average_error(msadata,result)\n",
    "\n",
    "# Save the result and model\n",
    "filename = './concate_age_model_result/age_predicton_FN1Features'\n",
    "pickle.dump(result, open(filename, 'wb'))\n",
    "print(\"Result save successfully!\")\n",
    "\n",
    "filename = './concate_age_model_prob/age_predicton_FN1Features'\n",
    "pickle.dump(prob, open(filename, 'wb'))\n",
    "print(\"Prob save successfully!\")"
   ],
   "outputs": [
    {
     "output_type": "stream",
     "name": "stdout",
     "text": [
      "Total test list: 30565\n",
      "Accuracy: 0.21426468182561753\n",
      "Mean Year Absolute Error: 10.224472435792574\n",
      "Result save successfully!\n",
      "Prob save successfully!\n"
     ]
    }
   ],
   "metadata": {
    "ExecuteTime": {
     "end_time": "2020-01-06T08:52:44.475748Z",
     "start_time": "2020-01-06T08:52:42.289046Z"
    }
   }
  },
  {
   "cell_type": "code",
   "execution_count": 57,
   "source": [
    "# Only FN2 features\r\n",
    "\r\n",
    "x_feature = ['FN2','FN2_sonin_index','FN2_muin_index']\r\n",
    "y_feature = ['BirthYear']\r\n",
    "\r\n",
    "result = age_predicton_FN2Features.predict(msadata[x_feature])\r\n",
    "prob = age_predicton_FN2Features.predict_proba(msadata[x_feature])\r\n",
    "\r\n",
    "count_average_error(msadata,result)\r\n",
    "\r\n",
    "# Save the result and model\r\n",
    "filename = './concate_age_model_result/age_predicton_FN2Features'\r\n",
    "pickle.dump(result, open(filename, 'wb'))\r\n",
    "print(\"Result save successfully!\")\r\n",
    "\r\n",
    "filename = './concate_age_model_prob/age_predicton_FN2Features'\r\n",
    "pickle.dump(prob, open(filename, 'wb'))\r\n",
    "print(\"Prob save successfully!\")"
   ],
   "outputs": [
    {
     "output_type": "stream",
     "name": "stdout",
     "text": [
      "Total test list: 30565\n",
      "Accuracy: 0.3354163258629151\n",
      "Mean Year Absolute Error: 5.77114346474726\n",
      "Result save successfully!\n",
      "Prob save successfully!\n"
     ]
    }
   ],
   "metadata": {
    "ExecuteTime": {
     "end_time": "2020-01-06T08:52:46.416376Z",
     "start_time": "2020-01-06T08:52:44.477514Z"
    }
   }
  },
  {
   "cell_type": "markdown",
   "source": [
    "# W2V"
   ],
   "metadata": {}
  },
  {
   "cell_type": "code",
   "execution_count": 17,
   "source": [
    "#使用word to vector\r\n",
    "from gensim.models import word2vec\r\n",
    "\r\n",
    "with open('../TaiwaneseDataset/data_output/graduate/files/pinyin_wordvec_list', 'rb') as handle:\r\n",
    "    moe_model = pickle.load(handle)"
   ],
   "outputs": [],
   "metadata": {
    "ExecuteTime": {
     "end_time": "2020-01-08T02:14:42.219804Z",
     "start_time": "2020-01-08T02:14:41.093174Z"
    }
   }
  },
  {
   "cell_type": "code",
   "execution_count": 18,
   "source": [
    "%%time \r\n",
    "\r\n",
    "def add_word_vector(word,n):\r\n",
    "    if word in moe_model:\r\n",
    "        return moe_model[word][n]\r\n",
    "    else:\r\n",
    "        return 0\r\n",
    "    \r\n",
    "w_feature = []\r\n",
    "x_feature = []\r\n",
    "FirstName1_list = msadata.FirstName1.str.lower().tolist()\r\n",
    "FirstName2_list = msadata.FirstName2.str.lower().tolist()\r\n",
    "\r\n",
    "for i in range(0,100):\r\n",
    "    tmp1_list = []\r\n",
    "    tmp2_list = []\r\n",
    "    for word in FirstName1_list:\r\n",
    "        tmp1_list.append(add_word_vector(word,i))\r\n",
    "    for word in FirstName2_list:\r\n",
    "        tmp2_list.append(add_word_vector(word,i))\r\n",
    "\r\n",
    "    msadata['FN1_wv_' + str(i)] = tmp1_list\r\n",
    "    msadata['FN2_wv_' + str(i)] = tmp2_list\r\n",
    "    \r\n",
    "    x_feature.append('FN1_wv_' + str(i))\r\n",
    "    x_feature.append('FN2_wv_' + str(i))\r\n",
    "    w_feature.append('FN1_wv_' + str(i))\r\n",
    "    w_feature.append('FN2_wv_' + str(i))\r\n",
    "\r\n",
    "%xdel tmp1_list\r\n",
    "%xdel tmp2_list"
   ],
   "outputs": [
    {
     "output_type": "stream",
     "name": "stdout",
     "text": [
      "CPU times: user 2.35 s, sys: 37.6 ms, total: 2.39 s\n",
      "Wall time: 2.39 s\n"
     ]
    }
   ],
   "metadata": {
    "ExecuteTime": {
     "end_time": "2020-01-08T02:14:44.620302Z",
     "start_time": "2020-01-08T02:14:42.221661Z"
    }
   }
  },
  {
   "cell_type": "code",
   "execution_count": 60,
   "source": [
    "# SAVE DATA INTO CSV FILE\n",
    "msadata.to_csv('MY_TESTDATA_W2V.csv', index = False)"
   ],
   "outputs": [],
   "metadata": {
    "ExecuteTime": {
     "end_time": "2020-01-06T09:39:55.516450Z",
     "start_time": "2020-01-06T09:39:43.340708Z"
    }
   }
  },
  {
   "cell_type": "code",
   "execution_count": 19,
   "source": [
    "# READ MY DATA INTO CSV FILE\n",
    "msadata = pd.read_csv('MY_TESTDATA_W2V.csv', parse_dates = True)"
   ],
   "outputs": [
    {
     "output_type": "stream",
     "name": "stderr",
     "text": [
      "/home/yvonnechow/.local/lib/python3.6/site-packages/IPython/core/interactiveshell.py:3058: DtypeWarning:\n",
      "\n",
      "Columns (3) have mixed types. Specify dtype option on import or set low_memory=False.\n",
      "\n"
     ]
    }
   ],
   "metadata": {
    "ExecuteTime": {
     "end_time": "2020-01-08T02:14:51.073344Z",
     "start_time": "2020-01-08T02:14:44.621482Z"
    }
   }
  },
  {
   "cell_type": "code",
   "execution_count": 74,
   "source": [
    "%%time\n",
    "\n",
    "# W2V\n",
    "\n",
    "x_f = ['w2v']\n",
    "\n",
    "x_feature = get_x_feature(x_f)\n",
    "y_feature = ['BirthYear']\n",
    "    \n",
    "age_test = basic_RFClassifier(reconcatedata, x_feature, y_feature, 10)\n",
    "\n",
    "# Save the model to disk\n",
    "filename = './concate_age_model/age_predicton_w2v.sav'\n",
    "pickle.dump(age_test, open(filename, 'wb'))\n",
    "\n",
    "print(\"Model save successfully!\")"
   ],
   "outputs": [
    {
     "output_type": "stream",
     "name": "stderr",
     "text": [
      "/home/yvonnechow/.local/lib/python3.6/site-packages/ipykernel_launcher.py:40: DataConversionWarning:\n",
      "\n",
      "A column-vector y was passed when a 1d array was expected. Please change the shape of y to (n_samples,), for example using ravel().\n",
      "\n"
     ]
    },
    {
     "output_type": "stream",
     "name": "stdout",
     "text": [
      "Run times: 1\n",
      "Train Accuracy ::  0.5536617310808711\n",
      "Test Accuracy  ::  0.2116129700611209\n"
     ]
    },
    {
     "output_type": "stream",
     "name": "stderr",
     "text": [
      "/home/yvonnechow/.local/lib/python3.6/site-packages/ipykernel_launcher.py:40: DataConversionWarning:\n",
      "\n",
      "A column-vector y was passed when a 1d array was expected. Please change the shape of y to (n_samples,), for example using ravel().\n",
      "\n"
     ]
    },
    {
     "output_type": "stream",
     "name": "stdout",
     "text": [
      "Run times: 2\n",
      "Train Accuracy ::  0.5549448353941439\n",
      "Test Accuracy  ::  0.2098829379467523\n"
     ]
    },
    {
     "output_type": "stream",
     "name": "stderr",
     "text": [
      "/home/yvonnechow/.local/lib/python3.6/site-packages/ipykernel_launcher.py:40: DataConversionWarning:\n",
      "\n",
      "A column-vector y was passed when a 1d array was expected. Please change the shape of y to (n_samples,), for example using ravel().\n",
      "\n"
     ]
    },
    {
     "output_type": "stream",
     "name": "stdout",
     "text": [
      "Run times: 3\n",
      "Train Accuracy ::  0.5547761227162741\n",
      "Test Accuracy  ::  0.20993473531544599\n"
     ]
    },
    {
     "output_type": "stream",
     "name": "stderr",
     "text": [
      "/home/yvonnechow/.local/lib/python3.6/site-packages/ipykernel_launcher.py:40: DataConversionWarning:\n",
      "\n",
      "A column-vector y was passed when a 1d array was expected. Please change the shape of y to (n_samples,), for example using ravel().\n",
      "\n"
     ]
    },
    {
     "output_type": "stream",
     "name": "stdout",
     "text": [
      "Run times: 4\n",
      "Train Accuracy ::  0.5548826780917708\n",
      "Test Accuracy  ::  0.21010048689526573\n"
     ]
    },
    {
     "output_type": "stream",
     "name": "stderr",
     "text": [
      "/home/yvonnechow/.local/lib/python3.6/site-packages/ipykernel_launcher.py:40: DataConversionWarning:\n",
      "\n",
      "A column-vector y was passed when a 1d array was expected. Please change the shape of y to (n_samples,), for example using ravel().\n",
      "\n"
     ]
    },
    {
     "output_type": "stream",
     "name": "stdout",
     "text": [
      "Run times: 5\n",
      "Train Accuracy ::  0.5541057118121073\n",
      "Test Accuracy  ::  0.21209986532684139\n"
     ]
    },
    {
     "output_type": "stream",
     "name": "stderr",
     "text": [
      "/home/yvonnechow/.local/lib/python3.6/site-packages/ipykernel_launcher.py:40: DataConversionWarning:\n",
      "\n",
      "A column-vector y was passed when a 1d array was expected. Please change the shape of y to (n_samples,), for example using ravel().\n",
      "\n"
     ]
    },
    {
     "output_type": "stream",
     "name": "stdout",
     "text": [
      "Run times: 6\n",
      "Train Accuracy ::  0.5546473683042156\n",
      "Test Accuracy  ::  0.2078421216202217\n"
     ]
    },
    {
     "output_type": "stream",
     "name": "stderr",
     "text": [
      "/home/yvonnechow/.local/lib/python3.6/site-packages/ipykernel_launcher.py:40: DataConversionWarning:\n",
      "\n",
      "A column-vector y was passed when a 1d array was expected. Please change the shape of y to (n_samples,), for example using ravel().\n",
      "\n"
     ]
    },
    {
     "output_type": "stream",
     "name": "stdout",
     "text": [
      "Run times: 7\n",
      "Train Accuracy ::  0.5549137567429574\n",
      "Test Accuracy  ::  0.21003833005283332\n"
     ]
    },
    {
     "output_type": "stream",
     "name": "stderr",
     "text": [
      "/home/yvonnechow/.local/lib/python3.6/site-packages/ipykernel_launcher.py:40: DataConversionWarning:\n",
      "\n",
      "A column-vector y was passed when a 1d array was expected. Please change the shape of y to (n_samples,), for example using ravel().\n",
      "\n"
     ]
    },
    {
     "output_type": "stream",
     "name": "stdout",
     "text": [
      "Run times: 8\n",
      "Train Accuracy ::  0.5542122671876041\n",
      "Test Accuracy  ::  0.20940640215477055\n"
     ]
    },
    {
     "output_type": "stream",
     "name": "stderr",
     "text": [
      "/home/yvonnechow/.local/lib/python3.6/site-packages/ipykernel_launcher.py:40: DataConversionWarning:\n",
      "\n",
      "A column-vector y was passed when a 1d array was expected. Please change the shape of y to (n_samples,), for example using ravel().\n",
      "\n"
     ]
    },
    {
     "output_type": "stream",
     "name": "stdout",
     "text": [
      "Run times: 9\n",
      "Train Accuracy ::  0.5557262414811197\n",
      "Test Accuracy  ::  0.21003833005283332\n"
     ]
    },
    {
     "output_type": "stream",
     "name": "stderr",
     "text": [
      "/home/yvonnechow/.local/lib/python3.6/site-packages/ipykernel_launcher.py:40: DataConversionWarning:\n",
      "\n",
      "A column-vector y was passed when a 1d array was expected. Please change the shape of y to (n_samples,), for example using ravel().\n",
      "\n"
     ]
    },
    {
     "output_type": "stream",
     "name": "stdout",
     "text": [
      "Run times: 10\n",
      "Train Accuracy ::  0.5550247519257664\n",
      "Test Accuracy  ::  0.20987257847301358\n",
      "Average Train Accuracy ::  0.5546895464736831\n",
      "Average Test Accuracy  ::  0.2100828757899099\n",
      "Model save successfully!\n",
      "CPU times: user 1h 30min 40s, sys: 9.02 s, total: 1h 30min 49s\n",
      "Wall time: 6min 10s\n"
     ]
    }
   ],
   "metadata": {
    "ExecuteTime": {
     "end_time": "2020-01-06T09:58:31.036984Z",
     "start_time": "2020-01-06T09:52:20.587374Z"
    },
    "scrolled": true
   }
  },
  {
   "cell_type": "code",
   "execution_count": 75,
   "source": [
    "%%time\n",
    "\n",
    "# W2V+6F\n",
    "\n",
    "x_f = ['w2v']\n",
    "\n",
    "x_feature = get_x_feature(x_f)\n",
    "x_feature = x_feature + ['FN1','FN2','FN1_muin_index','FN2_muin_index','FN1_sonin_index','FN2_sonin_index']\n",
    "y_feature = ['BirthYear']\n",
    "    \n",
    "age_test = basic_RFClassifier(reconcatedata, x_feature, y_feature, 10)\n",
    "\n",
    "# Save the model to disk\n",
    "filename = './concate_age_model/age_predicton_w2v6F.sav'\n",
    "pickle.dump(age_test, open(filename, 'wb'))\n",
    "print(\"Model save successfully!\")"
   ],
   "outputs": [
    {
     "output_type": "stream",
     "name": "stderr",
     "text": [
      "/home/yvonnechow/.local/lib/python3.6/site-packages/ipykernel_launcher.py:40: DataConversionWarning:\n",
      "\n",
      "A column-vector y was passed when a 1d array was expected. Please change the shape of y to (n_samples,), for example using ravel().\n",
      "\n"
     ]
    },
    {
     "output_type": "stream",
     "name": "stdout",
     "text": [
      "Run times: 1\n",
      "Train Accuracy ::  0.557138100206451\n",
      "Test Accuracy  ::  0.2107324147933285\n"
     ]
    },
    {
     "output_type": "stream",
     "name": "stderr",
     "text": [
      "/home/yvonnechow/.local/lib/python3.6/site-packages/ipykernel_launcher.py:40: DataConversionWarning:\n",
      "\n",
      "A column-vector y was passed when a 1d array was expected. Please change the shape of y to (n_samples,), for example using ravel().\n",
      "\n"
     ]
    },
    {
     "output_type": "stream",
     "name": "stdout",
     "text": [
      "Run times: 2\n",
      "Train Accuracy ::  0.5557972783981175\n",
      "Test Accuracy  ::  0.2110949963741842\n"
     ]
    },
    {
     "output_type": "stream",
     "name": "stderr",
     "text": [
      "/home/yvonnechow/.local/lib/python3.6/site-packages/ipykernel_launcher.py:40: DataConversionWarning:\n",
      "\n",
      "A column-vector y was passed when a 1d array was expected. Please change the shape of y to (n_samples,), for example using ravel().\n",
      "\n"
     ]
    },
    {
     "output_type": "stream",
     "name": "stdout",
     "text": [
      "Run times: 3\n",
      "Train Accuracy ::  0.5569249894554577\n",
      "Test Accuracy  ::  0.21144721848130116\n"
     ]
    },
    {
     "output_type": "stream",
     "name": "stderr",
     "text": [
      "/home/yvonnechow/.local/lib/python3.6/site-packages/ipykernel_launcher.py:40: DataConversionWarning:\n",
      "\n",
      "A column-vector y was passed when a 1d array was expected. Please change the shape of y to (n_samples,), for example using ravel().\n",
      "\n"
     ]
    },
    {
     "output_type": "stream",
     "name": "stdout",
     "text": [
      "Run times: 4\n",
      "Train Accuracy ::  0.5565032077607832\n",
      "Test Accuracy  ::  0.21262819848751682\n"
     ]
    },
    {
     "output_type": "stream",
     "name": "stderr",
     "text": [
      "/home/yvonnechow/.local/lib/python3.6/site-packages/ipykernel_launcher.py:40: DataConversionWarning:\n",
      "\n",
      "A column-vector y was passed when a 1d array was expected. Please change the shape of y to (n_samples,), for example using ravel().\n",
      "\n"
     ]
    },
    {
     "output_type": "stream",
     "name": "stdout",
     "text": [
      "Run times: 5\n",
      "Train Accuracy ::  0.5574044886451928\n",
      "Test Accuracy  ::  0.2098829379467523\n"
     ]
    },
    {
     "output_type": "stream",
     "name": "stderr",
     "text": [
      "/home/yvonnechow/.local/lib/python3.6/site-packages/ipykernel_launcher.py:40: DataConversionWarning:\n",
      "\n",
      "A column-vector y was passed when a 1d array was expected. Please change the shape of y to (n_samples,), for example using ravel().\n",
      "\n"
     ]
    },
    {
     "output_type": "stream",
     "name": "stdout",
     "text": [
      "Run times: 6\n",
      "Train Accuracy ::  0.5570093457943925\n",
      "Test Accuracy  ::  0.20987257847301358\n"
     ]
    },
    {
     "output_type": "stream",
     "name": "stderr",
     "text": [
      "/home/yvonnechow/.local/lib/python3.6/site-packages/ipykernel_launcher.py:40: DataConversionWarning:\n",
      "\n",
      "A column-vector y was passed when a 1d array was expected. Please change the shape of y to (n_samples,), for example using ravel().\n",
      "\n"
     ]
    },
    {
     "output_type": "stream",
     "name": "stdout",
     "text": [
      "Run times: 7\n",
      "Train Accuracy ::  0.557382289608631\n",
      "Test Accuracy  ::  0.20953071583963534\n"
     ]
    },
    {
     "output_type": "stream",
     "name": "stderr",
     "text": [
      "/home/yvonnechow/.local/lib/python3.6/site-packages/ipykernel_launcher.py:40: DataConversionWarning:\n",
      "\n",
      "A column-vector y was passed when a 1d array was expected. Please change the shape of y to (n_samples,), for example using ravel().\n",
      "\n"
     ]
    },
    {
     "output_type": "stream",
     "name": "stdout",
     "text": [
      "Run times: 8\n",
      "Train Accuracy ::  0.5567296379337137\n",
      "Test Accuracy  ::  0.20954107531337407\n"
     ]
    },
    {
     "output_type": "stream",
     "name": "stderr",
     "text": [
      "/home/yvonnechow/.local/lib/python3.6/site-packages/ipykernel_launcher.py:40: DataConversionWarning:\n",
      "\n",
      "A column-vector y was passed when a 1d array was expected. Please change the shape of y to (n_samples,), for example using ravel().\n",
      "\n"
     ]
    },
    {
     "output_type": "stream",
     "name": "stdout",
     "text": [
      "Run times: 9\n",
      "Train Accuracy ::  0.55717361866495\n",
      "Test Accuracy  ::  0.20965502952450016\n"
     ]
    },
    {
     "output_type": "stream",
     "name": "stderr",
     "text": [
      "/home/yvonnechow/.local/lib/python3.6/site-packages/ipykernel_launcher.py:40: DataConversionWarning:\n",
      "\n",
      "A column-vector y was passed when a 1d array was expected. Please change the shape of y to (n_samples,), for example using ravel().\n",
      "\n"
     ]
    },
    {
     "output_type": "stream",
     "name": "stdout",
     "text": [
      "Run times: 10\n",
      "Train Accuracy ::  0.5557395609030568\n",
      "Test Accuracy  ::  0.2140474463897234\n",
      "Average Train Accuracy ::  0.5567802517370747\n",
      "Average Test Accuracy  ::  0.21084326116233293\n",
      "Model save successfully!\n",
      "CPU times: user 1h 28min 18s, sys: 7.24 s, total: 1h 28min 25s\n",
      "Wall time: 6min 12s\n"
     ]
    }
   ],
   "metadata": {
    "ExecuteTime": {
     "end_time": "2020-01-06T10:04:43.305796Z",
     "start_time": "2020-01-06T09:58:31.039313Z"
    },
    "scrolled": true
   }
  },
  {
   "cell_type": "markdown",
   "source": [
    "# Read W2V Model"
   ],
   "metadata": {}
  },
  {
   "cell_type": "code",
   "execution_count": 76,
   "source": [
    "# Read model file\n",
    "\n",
    "filename = './concate_age_model/age_predicton_w2v.sav'\n",
    "age_predicton_w2v = pickle.load(open(filename, 'rb'))\n",
    "\n",
    "filename = './concate_age_model/age_predicton_w2v6F.sav'\n",
    "age_predicton_w2v6F = pickle.load(open(filename, 'rb'))"
   ],
   "outputs": [],
   "metadata": {
    "ExecuteTime": {
     "end_time": "2020-01-06T10:04:44.893647Z",
     "start_time": "2020-01-06T10:04:43.308028Z"
    }
   }
  },
  {
   "cell_type": "markdown",
   "source": [
    "# Test W2V Result"
   ],
   "metadata": {}
  },
  {
   "cell_type": "code",
   "execution_count": 77,
   "source": [
    "%%time\n",
    "# Only character\n",
    "x_f = ['w2v']\n",
    "\n",
    "y_feature = 'BirthYear'\n",
    "x_feature = get_x_feature(x_f)\n",
    "\n",
    "result = age_predicton_w2v.predict(msadata[x_feature])\n",
    "prob = age_predicton_w2v.predict_proba(msadata[x_feature])\n",
    "\n",
    "count_average_error(msadata,result)"
   ],
   "outputs": [
    {
     "output_type": "stream",
     "name": "stdout",
     "text": [
      "Total test list: 30565\n",
      "Accuracy: 0.13643055782758057\n",
      "Mean Year Absolute Error: 18.6885653525274\n",
      "CPU times: user 6.35 s, sys: 56.3 ms, total: 6.4 s\n",
      "Wall time: 2.32 s\n"
     ]
    }
   ],
   "metadata": {
    "ExecuteTime": {
     "end_time": "2020-01-06T10:04:47.214623Z",
     "start_time": "2020-01-06T10:04:44.895681Z"
    }
   }
  },
  {
   "cell_type": "code",
   "execution_count": 78,
   "source": [
    "%%time\n",
    "# Only character+6F\n",
    "x_f = ['w2v']\n",
    "\n",
    "y_feature = 'BirthYear'\n",
    "x_feature = get_x_feature(x_f)\n",
    "x_feature = x_feature + ['FN1','FN2','FN1_muin_index','FN2_muin_index','FN1_sonin_index','FN2_sonin_index']\n",
    "\n",
    "result = age_predicton_w2v6F.predict(msadata[x_feature])\n",
    "prob = age_predicton_w2v6F.predict_proba(msadata[x_feature])\n",
    "\n",
    "count_average_error(msadata,result)"
   ],
   "outputs": [
    {
     "output_type": "stream",
     "name": "stdout",
     "text": [
      "Total test list: 30565\n",
      "Accuracy: 0.2185833469654834\n",
      "Mean Year Absolute Error: 11.544315393423851\n",
      "CPU times: user 5.74 s, sys: 64.2 ms, total: 5.81 s\n",
      "Wall time: 2.18 s\n"
     ]
    }
   ],
   "metadata": {
    "ExecuteTime": {
     "end_time": "2020-01-06T10:04:49.400044Z",
     "start_time": "2020-01-06T10:04:47.216231Z"
    }
   }
  },
  {
   "cell_type": "code",
   "execution_count": null,
   "source": [],
   "outputs": [],
   "metadata": {}
  }
 ],
 "metadata": {
  "kernelspec": {
   "name": "python3",
   "display_name": "Python 3.8.5 64-bit"
  },
  "language_info": {
   "codemirror_mode": {
    "name": "ipython",
    "version": 3
   },
   "file_extension": ".py",
   "mimetype": "text/x-python",
   "name": "python",
   "nbconvert_exporter": "python",
   "pygments_lexer": "ipython3",
   "version": "3.8.5"
  },
  "interpreter": {
   "hash": "ee6b50256cf51eaff9b002b4e0d36bd87519314d49e8d201117cf9d724322922"
  }
 },
 "nbformat": 4,
 "nbformat_minor": 2
}