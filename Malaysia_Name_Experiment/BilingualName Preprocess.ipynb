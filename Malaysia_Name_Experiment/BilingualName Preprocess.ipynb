{
 "cells": [
  {
   "cell_type": "code",
   "execution_count": 1,
   "source": [
    "# -!- coding: utf-8 -!-\r\n",
    "## load library\r\n",
    "%matplotlib inline\r\n",
    "\r\n",
    "import pandas as pd\r\n",
    "import numpy as np\r\n",
    "import gensim\r\n",
    "from gensim.models import word2vec, Word2Vec\r\n",
    "from scipy import stats\r\n",
    "import matplotlib.pyplot as plt\r\n",
    "from wordcloud import WordCloud\r\n",
    "\r\n",
    "FONT_PATH = './util_files/font/simkai.ttf'\r\n",
    "\r\n",
    "import warnings\r\n",
    "# warnings.simplefilter(action='ignore', category=FutureWarning)\r\n",
    "warnings.simplefilter(action = 'ignore')\r\n",
    "\r\n",
    "import csv, os, sys, math\r\n",
    "import linecache\r\n",
    "import pickle\r\n",
    "import random\r\n",
    "import datetime\r\n",
    "\r\n",
    "#簡轉繁用 \r\n",
    "#https://pypi.python.org/pypi/hanziconv/0.2.1\r\n",
    "from hanziconv import HanziConv \r\n",
    "\r\n",
    "#https://stackoverflow.com/questions/14519177/python-exception-handling-line-number\r\n",
    "def PrintException():\r\n",
    "    exc_type, exc_obj, tb = sys.exc_info()\r\n",
    "    f = tb.tb_frame\r\n",
    "    lineno = tb.tb_lineno\r\n",
    "    filename = f.f_code.co_filename\r\n",
    "    linecache.checkcache(filename)\r\n",
    "    line = linecache.getline(filename, lineno, f.f_globals)\r\n",
    "    print ('EXCEPTION IN ({}, LINE {} \"{}\"): {}'.format(filename, lineno, line.strip(), exc_obj))"
   ],
   "outputs": [],
   "metadata": {
    "ExecuteTime": {
     "end_time": "2019-11-19T06:44:57.229633Z",
     "start_time": "2019-11-19T06:44:56.086310Z"
    }
   }
  },
  {
   "cell_type": "code",
   "execution_count": 2,
   "source": [
    "# READ TAIWAN DATA\r\n",
    "taiwandata = pd.read_csv('./NameData/TaiwanDataset.csv', parse_dates = True)"
   ],
   "outputs": [],
   "metadata": {
    "ExecuteTime": {
     "end_time": "2019-11-19T06:44:57.238087Z",
     "start_time": "2019-11-19T06:44:57.231253Z"
    }
   }
  },
  {
   "cell_type": "code",
   "execution_count": 3,
   "source": [
    "taiwandata.head()"
   ],
   "outputs": [
    {
     "output_type": "execute_result",
     "data": {
      "text/html": [
       "<div>\n",
       "<style scoped>\n",
       "    .dataframe tbody tr th:only-of-type {\n",
       "        vertical-align: middle;\n",
       "    }\n",
       "\n",
       "    .dataframe tbody tr th {\n",
       "        vertical-align: top;\n",
       "    }\n",
       "\n",
       "    .dataframe thead th {\n",
       "        text-align: right;\n",
       "    }\n",
       "</style>\n",
       "<table border=\"1\" class=\"dataframe\">\n",
       "  <thead>\n",
       "    <tr style=\"text-align: right;\">\n",
       "      <th></th>\n",
       "      <th>C_Name</th>\n",
       "      <th>E_Name</th>\n",
       "      <th>Gender</th>\n",
       "      <th>Year</th>\n",
       "      <th>CN_Surname</th>\n",
       "      <th>CN_Firstname</th>\n",
       "      <th>EN_Surname</th>\n",
       "      <th>EN_Firstname</th>\n",
       "    </tr>\n",
       "  </thead>\n",
       "  <tbody>\n",
       "    <tr>\n",
       "      <th>0</th>\n",
       "      <td>紀明德</td>\n",
       "      <td>Ming-Te Chi</td>\n",
       "      <td>M</td>\n",
       "      <td>1978</td>\n",
       "      <td>紀</td>\n",
       "      <td>明德</td>\n",
       "      <td>Chi</td>\n",
       "      <td>Ming-Te</td>\n",
       "    </tr>\n",
       "    <tr>\n",
       "      <th>1</th>\n",
       "      <td>胡毓忠</td>\n",
       "      <td>Yuh-Jong Hu</td>\n",
       "      <td>M</td>\n",
       "      <td>1958</td>\n",
       "      <td>胡</td>\n",
       "      <td>毓忠</td>\n",
       "      <td>Hu</td>\n",
       "      <td>Yuh-Jong</td>\n",
       "    </tr>\n",
       "    <tr>\n",
       "      <th>2</th>\n",
       "      <td>郭桐惟</td>\n",
       "      <td>Tung-Wei Kuo</td>\n",
       "      <td>M</td>\n",
       "      <td>1987</td>\n",
       "      <td>郭</td>\n",
       "      <td>桐惟</td>\n",
       "      <td>Kuo</td>\n",
       "      <td>Tung-Wei</td>\n",
       "    </tr>\n",
       "    <tr>\n",
       "      <th>3</th>\n",
       "      <td>張宏慶</td>\n",
       "      <td>Hung-Ching Jang</td>\n",
       "      <td>M</td>\n",
       "      <td>1962</td>\n",
       "      <td>張</td>\n",
       "      <td>宏慶</td>\n",
       "      <td>Jang</td>\n",
       "      <td>Hung-Ching</td>\n",
       "    </tr>\n",
       "    <tr>\n",
       "      <th>4</th>\n",
       "      <td>廖文宏</td>\n",
       "      <td>Wen-Hung Liao</td>\n",
       "      <td>M</td>\n",
       "      <td>1965</td>\n",
       "      <td>廖</td>\n",
       "      <td>文宏</td>\n",
       "      <td>Liao</td>\n",
       "      <td>Wen-Hung</td>\n",
       "    </tr>\n",
       "  </tbody>\n",
       "</table>\n",
       "</div>"
      ],
      "text/plain": [
       "  C_Name           E_Name Gender  Year CN_Surname CN_Firstname EN_Surname  \\\n",
       "0    紀明德      Ming-Te Chi      M  1978          紀           明德        Chi   \n",
       "1    胡毓忠      Yuh-Jong Hu      M  1958          胡           毓忠         Hu   \n",
       "2    郭桐惟     Tung-Wei Kuo      M  1987          郭           桐惟        Kuo   \n",
       "3    張宏慶  Hung-Ching Jang      M  1962          張           宏慶       Jang   \n",
       "4    廖文宏    Wen-Hung Liao      M  1965          廖           文宏       Liao   \n",
       "\n",
       "  EN_Firstname  \n",
       "0      Ming-Te  \n",
       "1     Yuh-Jong  \n",
       "2     Tung-Wei  \n",
       "3   Hung-Ching  \n",
       "4     Wen-Hung  "
      ]
     },
     "metadata": {},
     "execution_count": 3
    }
   ],
   "metadata": {
    "ExecuteTime": {
     "end_time": "2019-11-19T06:44:57.253342Z",
     "start_time": "2019-11-19T06:44:57.239245Z"
    }
   }
  },
  {
   "cell_type": "code",
   "execution_count": 4,
   "source": [
    "#Read files\r\n",
    "\r\n",
    "with open('./pkl_data/special_word_dict', 'rb') as handle:\r\n",
    "    special_word_dict = pickle.loads(handle.read())\r\n",
    "\r\n",
    "with open('./pkl_data/radical_list', 'rb') as handle:\r\n",
    "    radical_list = pickle.loads(handle.read())\r\n",
    "\r\n",
    "with open('./pkl_data/Totalname_list', 'rb') as handle:\r\n",
    "    Totalname_list = pickle.loads(handle.read())\r\n",
    "    \r\n",
    "with open('./pkl_data/son_in_list', 'rb') as handle:\r\n",
    "    son_in_list = pickle.loads(handle.read())\r\n",
    "     \r\n",
    "with open('./pkl_data/mu_in_list', 'rb') as handle:\r\n",
    "    mu_in_list = pickle.loads(handle.read())"
   ],
   "outputs": [],
   "metadata": {
    "ExecuteTime": {
     "end_time": "2019-11-19T06:44:59.443296Z",
     "start_time": "2019-11-19T06:44:58.270546Z"
    }
   }
  },
  {
   "cell_type": "code",
   "execution_count": 5,
   "source": [
    "#Read uni-gram classifier\r\n",
    "with open('./pkl_data/Character_feature_dic', 'rb') as handle:\r\n",
    "    Character_feature_dic = pickle.loads(handle.read())\r\n",
    "    \r\n",
    "def checkPronoun(word, mode):\r\n",
    "    #mode 1 = sonin\r\n",
    "    #mode 2 = muin\r\n",
    "    vowel = ['A', 'E', 'I', 'O', 'U', 'a', 'e', 'i', 'o', 'u']\r\n",
    "    result = ''\r\n",
    "    \r\n",
    "    for len_word in word.split(): \r\n",
    "        con = ''\r\n",
    "        vow = ''\r\n",
    "        length = len(len_word)\r\n",
    "\r\n",
    "        for index in range(length):\r\n",
    "            current = len_word[index]\r\n",
    "            if current not in vowel:\r\n",
    "                con += current\r\n",
    "               \r\n",
    "            else:\r\n",
    "                vow = len_word[index:]  \r\n",
    "                break\r\n",
    "                \r\n",
    "    if mode == 'sonin':\r\n",
    "        if len(word) >= 1:\r\n",
    "            return con\r\n",
    "        else:\r\n",
    "            return -1\r\n",
    "\r\n",
    "    elif mode == 'muin':\r\n",
    "        if len(word) >= 1:\r\n",
    "            return vow\r\n",
    "        else:\r\n",
    "            return -1\r\n",
    "\r\n",
    "def add_pin_in_index_column(pin_yin, mode):\r\n",
    "    #mode 1 = sonin\r\n",
    "    #mode 2 = muin\r\n",
    "    if pin_yin == None:\r\n",
    "        return -1\r\n",
    "    try:\r\n",
    "        if mode == 'muin':\r\n",
    "            if pin_yin in mu_in_list:\r\n",
    "                return mu_in_list.index(pin_yin)\r\n",
    "            else:\r\n",
    "                mu_in_list.append(pin_yin)\r\n",
    "                return mu_in_list.index(pin_yin)\r\n",
    "\r\n",
    "        if mode == 'sonin':\r\n",
    "            if pin_yin in son_in_list:\r\n",
    "                return son_in_list.index(pin_yin)\r\n",
    "            else:\r\n",
    "                son_in_list.append(pin_yin)\r\n",
    "                return son_in_list.index(pin_yin)\r\n",
    "\r\n",
    "    except Exception as e:\r\n",
    "        print (e)\r\n",
    "        print (fileName)\r\n",
    "        PrintException() \r\n",
    "\r\n",
    "def character_to_index(name,n):\r\n",
    "    if n == 1:\r\n",
    "        if name[0] in Totalname_list:\r\n",
    "            return Totalname_list.index(name[0])\r\n",
    "        else:\r\n",
    "            Totalname_list.append(name[0])\r\n",
    "            return Totalname_list.index(name[0])\r\n",
    "    if n == 2 and len(name) == 2:\r\n",
    "        if name[1] in Totalname_list:\r\n",
    "            return Totalname_list.index(name[1])\r\n",
    "        else:\r\n",
    "            Totalname_list.append(name[1])\r\n",
    "            return Totalname_list.index(name[1])\r\n",
    "    return -1\r\n",
    "\r\n",
    "def gender_index(gender):\r\n",
    "    if gender == 'M':\r\n",
    "        return 1\r\n",
    "    elif gender == 'F':\r\n",
    "        return 0"
   ],
   "outputs": [],
   "metadata": {
    "ExecuteTime": {
     "end_time": "2019-11-19T06:44:59.468604Z",
     "start_time": "2019-11-19T06:44:59.445783Z"
    }
   }
  },
  {
   "cell_type": "code",
   "execution_count": 6,
   "source": [
    "def separateFN(FN):\n",
    "    if '-' in FN:\n",
    "        return FN.split('-')\n",
    "    else:\n",
    "        FN = '-' + FN\n",
    "        return FN.split('-')"
   ],
   "outputs": [],
   "metadata": {
    "ExecuteTime": {
     "end_time": "2019-11-19T06:44:59.781643Z",
     "start_time": "2019-11-19T06:44:59.777700Z"
    }
   }
  },
  {
   "cell_type": "code",
   "execution_count": 7,
   "source": [
    "taiwandata = taiwandata.drop('CN_Surname', 1)\n",
    "taiwandata = taiwandata.drop('CN_Firstname', 1)\n",
    "\n",
    "taiwandata['EN_Firstname'] = taiwandata.EN_Firstname.apply(lambda x: separateFN(x))\n",
    "\n",
    "taiwandata['Age'] = 2019 - taiwandata['Year']\n",
    "taiwandata['Gender_index'] = taiwandata.Gender.apply(lambda x: gender_index(x))\n",
    "\n",
    "taiwandata['FirstName1'] = taiwandata.EN_Firstname.apply(lambda x: x[0])\n",
    "taiwandata['FirstName2'] = taiwandata.EN_Firstname.apply(lambda x: x[1])\n",
    "\n",
    "taiwandata['FN1'] = taiwandata.EN_Firstname.apply(lambda x: character_to_index(x,1))\n",
    "taiwandata['FN2'] = taiwandata.EN_Firstname.apply(lambda x: character_to_index(x,2))\n",
    "\n",
    "taiwandata['EN_Firstname'] = taiwandata['FirstName1']  + ' ' + taiwandata['FirstName2'].apply(lambda x: x)\n",
    "\n",
    "taiwandata['FN1_sonin'] = taiwandata.FirstName1.apply(lambda x: checkPronoun(x,'sonin'))\n",
    "taiwandata['FN1_muin'] = taiwandata.FirstName1.apply(lambda x: checkPronoun(x,'muin'))\n",
    "\n",
    "taiwandata['FN2_sonin'] = taiwandata.FirstName2.apply(lambda x: checkPronoun(x,'sonin'))\n",
    "taiwandata['FN2_muin'] = taiwandata.FirstName2.apply(lambda x: checkPronoun(x,'muin'))\n",
    "    \n",
    "taiwandata['FN1_sonin_index'] = taiwandata.FN1_sonin.apply(lambda x: add_pin_in_index_column(x,'sonin'))\n",
    "taiwandata['FN2_sonin_index'] = taiwandata.FN2_sonin.apply(lambda x: add_pin_in_index_column(x,'sonin'))\n",
    "\n",
    "taiwandata['FN1_muin_index'] = taiwandata.FN1_muin.apply(lambda x: add_pin_in_index_column(x,'muin'))\n",
    "taiwandata['FN2_muin_index'] = taiwandata.FN2_muin.apply(lambda x: add_pin_in_index_column(x,'muin'))"
   ],
   "outputs": [],
   "metadata": {
    "ExecuteTime": {
     "end_time": "2019-11-19T06:45:00.294926Z",
     "start_time": "2019-11-19T06:45:00.070032Z"
    }
   }
  },
  {
   "cell_type": "code",
   "execution_count": 8,
   "source": [
    "taiwandata['FN1_muin'] = taiwandata['FN1_muin'].fillna(-1)\n",
    "taiwandata['FN1_sonin'] = taiwandata['FN1_sonin'].fillna(-1)\n",
    "\n",
    "taiwandata['FN2_muin'] = taiwandata['FN2_muin'].fillna(-1)\n",
    "taiwandata['FN2_sonin'] = taiwandata['FN2_sonin'].fillna(-1)\n"
   ],
   "outputs": [],
   "metadata": {
    "ExecuteTime": {
     "end_time": "2019-11-19T06:45:01.209534Z",
     "start_time": "2019-11-19T06:45:01.204591Z"
    }
   }
  },
  {
   "cell_type": "code",
   "execution_count": 9,
   "source": [
    "taiwandata.head()"
   ],
   "outputs": [
    {
     "output_type": "execute_result",
     "data": {
      "text/html": [
       "<div>\n",
       "<style scoped>\n",
       "    .dataframe tbody tr th:only-of-type {\n",
       "        vertical-align: middle;\n",
       "    }\n",
       "\n",
       "    .dataframe tbody tr th {\n",
       "        vertical-align: top;\n",
       "    }\n",
       "\n",
       "    .dataframe thead th {\n",
       "        text-align: right;\n",
       "    }\n",
       "</style>\n",
       "<table border=\"1\" class=\"dataframe\">\n",
       "  <thead>\n",
       "    <tr style=\"text-align: right;\">\n",
       "      <th></th>\n",
       "      <th>C_Name</th>\n",
       "      <th>E_Name</th>\n",
       "      <th>Gender</th>\n",
       "      <th>Year</th>\n",
       "      <th>EN_Surname</th>\n",
       "      <th>EN_Firstname</th>\n",
       "      <th>Age</th>\n",
       "      <th>Gender_index</th>\n",
       "      <th>FirstName1</th>\n",
       "      <th>FirstName2</th>\n",
       "      <th>FN1</th>\n",
       "      <th>FN2</th>\n",
       "      <th>FN1_sonin</th>\n",
       "      <th>FN1_muin</th>\n",
       "      <th>FN2_sonin</th>\n",
       "      <th>FN2_muin</th>\n",
       "      <th>FN1_sonin_index</th>\n",
       "      <th>FN2_sonin_index</th>\n",
       "      <th>FN1_muin_index</th>\n",
       "      <th>FN2_muin_index</th>\n",
       "    </tr>\n",
       "  </thead>\n",
       "  <tbody>\n",
       "    <tr>\n",
       "      <th>0</th>\n",
       "      <td>紀明德</td>\n",
       "      <td>Ming-Te Chi</td>\n",
       "      <td>M</td>\n",
       "      <td>1978</td>\n",
       "      <td>Chi</td>\n",
       "      <td>Ming Te</td>\n",
       "      <td>41</td>\n",
       "      <td>1</td>\n",
       "      <td>Ming</td>\n",
       "      <td>Te</td>\n",
       "      <td>8578</td>\n",
       "      <td>8830</td>\n",
       "      <td>M</td>\n",
       "      <td>ing</td>\n",
       "      <td>T</td>\n",
       "      <td>e</td>\n",
       "      <td>55</td>\n",
       "      <td>57</td>\n",
       "      <td>22</td>\n",
       "      <td>142</td>\n",
       "    </tr>\n",
       "    <tr>\n",
       "      <th>1</th>\n",
       "      <td>胡毓忠</td>\n",
       "      <td>Yuh-Jong Hu</td>\n",
       "      <td>M</td>\n",
       "      <td>1958</td>\n",
       "      <td>Hu</td>\n",
       "      <td>Yuh Jong</td>\n",
       "      <td>61</td>\n",
       "      <td>1</td>\n",
       "      <td>Yuh</td>\n",
       "      <td>Jong</td>\n",
       "      <td>8579</td>\n",
       "      <td>8844</td>\n",
       "      <td>Y</td>\n",
       "      <td>uh</td>\n",
       "      <td>J</td>\n",
       "      <td>ong</td>\n",
       "      <td>56</td>\n",
       "      <td>61</td>\n",
       "      <td>168</td>\n",
       "      <td>23</td>\n",
       "    </tr>\n",
       "    <tr>\n",
       "      <th>2</th>\n",
       "      <td>郭桐惟</td>\n",
       "      <td>Tung-Wei Kuo</td>\n",
       "      <td>M</td>\n",
       "      <td>1987</td>\n",
       "      <td>Kuo</td>\n",
       "      <td>Tung Wei</td>\n",
       "      <td>32</td>\n",
       "      <td>1</td>\n",
       "      <td>Tung</td>\n",
       "      <td>Wei</td>\n",
       "      <td>8580</td>\n",
       "      <td>8639</td>\n",
       "      <td>T</td>\n",
       "      <td>ung</td>\n",
       "      <td>W</td>\n",
       "      <td>ei</td>\n",
       "      <td>57</td>\n",
       "      <td>59</td>\n",
       "      <td>169</td>\n",
       "      <td>60</td>\n",
       "    </tr>\n",
       "    <tr>\n",
       "      <th>3</th>\n",
       "      <td>張宏慶</td>\n",
       "      <td>Hung-Ching Jang</td>\n",
       "      <td>M</td>\n",
       "      <td>1962</td>\n",
       "      <td>Jang</td>\n",
       "      <td>Hung Ching</td>\n",
       "      <td>57</td>\n",
       "      <td>1</td>\n",
       "      <td>Hung</td>\n",
       "      <td>Ching</td>\n",
       "      <td>8581</td>\n",
       "      <td>8620</td>\n",
       "      <td>H</td>\n",
       "      <td>ung</td>\n",
       "      <td>Ch</td>\n",
       "      <td>ing</td>\n",
       "      <td>58</td>\n",
       "      <td>62</td>\n",
       "      <td>169</td>\n",
       "      <td>22</td>\n",
       "    </tr>\n",
       "    <tr>\n",
       "      <th>4</th>\n",
       "      <td>廖文宏</td>\n",
       "      <td>Wen-Hung Liao</td>\n",
       "      <td>M</td>\n",
       "      <td>1965</td>\n",
       "      <td>Liao</td>\n",
       "      <td>Wen Hung</td>\n",
       "      <td>54</td>\n",
       "      <td>1</td>\n",
       "      <td>Wen</td>\n",
       "      <td>Hung</td>\n",
       "      <td>8582</td>\n",
       "      <td>8581</td>\n",
       "      <td>W</td>\n",
       "      <td>en</td>\n",
       "      <td>H</td>\n",
       "      <td>ung</td>\n",
       "      <td>59</td>\n",
       "      <td>58</td>\n",
       "      <td>76</td>\n",
       "      <td>169</td>\n",
       "    </tr>\n",
       "  </tbody>\n",
       "</table>\n",
       "</div>"
      ],
      "text/plain": [
       "  C_Name           E_Name Gender  Year EN_Surname EN_Firstname  Age  \\\n",
       "0    紀明德      Ming-Te Chi      M  1978        Chi      Ming Te   41   \n",
       "1    胡毓忠      Yuh-Jong Hu      M  1958         Hu     Yuh Jong   61   \n",
       "2    郭桐惟     Tung-Wei Kuo      M  1987        Kuo     Tung Wei   32   \n",
       "3    張宏慶  Hung-Ching Jang      M  1962       Jang   Hung Ching   57   \n",
       "4    廖文宏    Wen-Hung Liao      M  1965       Liao     Wen Hung   54   \n",
       "\n",
       "   Gender_index FirstName1 FirstName2   FN1   FN2 FN1_sonin FN1_muin  \\\n",
       "0             1       Ming         Te  8578  8830         M      ing   \n",
       "1             1        Yuh       Jong  8579  8844         Y       uh   \n",
       "2             1       Tung        Wei  8580  8639         T      ung   \n",
       "3             1       Hung      Ching  8581  8620         H      ung   \n",
       "4             1        Wen       Hung  8582  8581         W       en   \n",
       "\n",
       "  FN2_sonin FN2_muin  FN1_sonin_index  FN2_sonin_index  FN1_muin_index  \\\n",
       "0         T        e               55               57              22   \n",
       "1         J      ong               56               61             168   \n",
       "2         W       ei               57               59             169   \n",
       "3        Ch      ing               58               62             169   \n",
       "4         H      ung               59               58              76   \n",
       "\n",
       "   FN2_muin_index  \n",
       "0             142  \n",
       "1              23  \n",
       "2              60  \n",
       "3              22  \n",
       "4             169  "
      ]
     },
     "metadata": {},
     "execution_count": 9
    }
   ],
   "metadata": {
    "ExecuteTime": {
     "end_time": "2019-11-19T06:45:01.915882Z",
     "start_time": "2019-11-19T06:45:01.897427Z"
    }
   }
  },
  {
   "cell_type": "code",
   "execution_count": 10,
   "source": [
    "#每5年一區間的欄位\n",
    "def year_to_range(start, rang, year):\n",
    "    y = int((year - start) / rang)\n",
    "    #2010\n",
    "    if y == 22:\n",
    "        y = 21\n",
    "    return y"
   ],
   "outputs": [],
   "metadata": {
    "ExecuteTime": {
     "end_time": "2019-11-19T06:45:04.166388Z",
     "start_time": "2019-11-19T06:45:04.163716Z"
    }
   }
  },
  {
   "cell_type": "code",
   "execution_count": 11,
   "source": [
    "taiwandata['YearRange'] = taiwandata['Year'].apply(lambda x: year_to_range(1900, 5, x))\n",
    "# taiwandata['YearRange'].value_counts()"
   ],
   "outputs": [],
   "metadata": {
    "ExecuteTime": {
     "end_time": "2019-11-19T06:45:04.415777Z",
     "start_time": "2019-11-19T06:45:04.412268Z"
    }
   }
  },
  {
   "cell_type": "code",
   "execution_count": 12,
   "source": [
    "for i in range(22):\n",
    "    print(i)\n",
    "    print(1900 + 5 * i, '~', 1904 + 5 * i)\n",
    "    YearTotalName_len = len(taiwandata[taiwandata['YearRange'].apply(lambda x: x == i)])\n",
    "    print('Year total name:', YearTotalName_len,'\\n')"
   ],
   "outputs": [
    {
     "output_type": "stream",
     "name": "stdout",
     "text": [
      "0\n",
      "1900 ~ 1904\n",
      "Year total name: 1 \n",
      "\n",
      "1\n",
      "1905 ~ 1909\n",
      "Year total name: 0 \n",
      "\n",
      "2\n",
      "1910 ~ 1914\n",
      "Year total name: 0 \n",
      "\n",
      "3\n",
      "1915 ~ 1919\n",
      "Year total name: 1 \n",
      "\n",
      "4\n",
      "1920 ~ 1924\n",
      "Year total name: 2 \n",
      "\n",
      "5\n",
      "1925 ~ 1929\n",
      "Year total name: 3 \n",
      "\n",
      "6\n",
      "1930 ~ 1934\n",
      "Year total name: 5 \n",
      "\n",
      "7\n",
      "1935 ~ 1939\n",
      "Year total name: 5 \n",
      "\n",
      "8\n",
      "1940 ~ 1944\n",
      "Year total name: 6 \n",
      "\n",
      "9\n",
      "1945 ~ 1949\n",
      "Year total name: 18 \n",
      "\n",
      "10\n",
      "1950 ~ 1954\n",
      "Year total name: 57 \n",
      "\n",
      "11\n",
      "1955 ~ 1959\n",
      "Year total name: 83 \n",
      "\n",
      "12\n",
      "1960 ~ 1964\n",
      "Year total name: 82 \n",
      "\n",
      "13\n",
      "1965 ~ 1969\n",
      "Year total name: 102 \n",
      "\n",
      "14\n",
      "1970 ~ 1974\n",
      "Year total name: 100 \n",
      "\n",
      "15\n",
      "1975 ~ 1979\n",
      "Year total name: 107 \n",
      "\n",
      "16\n",
      "1980 ~ 1984\n",
      "Year total name: 111 \n",
      "\n",
      "17\n",
      "1985 ~ 1989\n",
      "Year total name: 111 \n",
      "\n",
      "18\n",
      "1990 ~ 1994\n",
      "Year total name: 82 \n",
      "\n",
      "19\n",
      "1995 ~ 1999\n",
      "Year total name: 71 \n",
      "\n",
      "20\n",
      "2000 ~ 2004\n",
      "Year total name: 49 \n",
      "\n",
      "21\n",
      "2005 ~ 2009\n",
      "Year total name: 6 \n",
      "\n"
     ]
    }
   ],
   "metadata": {
    "ExecuteTime": {
     "end_time": "2019-11-19T06:45:05.053010Z",
     "start_time": "2019-11-19T06:45:05.024133Z"
    }
   }
  },
  {
   "cell_type": "code",
   "execution_count": 13,
   "source": [
    "YearRange = []\r\n",
    "for i in range(22):\r\n",
    "    YearRange.append(len(taiwandata[taiwandata.YearRange.apply(lambda x: x == i)]))\r\n",
    "    \r\n",
    "x = [1900 + x * 5 for x in range(len(YearRange))]\r\n",
    "y = YearRange\r\n",
    "\r\n",
    "plt.figure(figsize = (20,8))\r\n",
    "plt.plot(x, y, 's-', color = 'b', label = \"Age-Interval\")\r\n",
    "plt.title(\"Age-interval for 5 years\")\r\n",
    "plt.xlabel(\"Year Range\", fontsize = 15, labelpad = 10)\r\n",
    "plt.ylabel(\"Count\", fontsize = 15, labelpad = 10)\r\n",
    "\r\n",
    "plt.scatter(x, y)\r\n",
    "\r\n",
    "for i,j in zip(x, y):\r\n",
    "\r\n",
    "    label = \"{:.0f}\".format(i) + \",\" + \"{:.0f}\".format(j)\r\n",
    "    plt.annotate(label, # this is the text\r\n",
    "                 (i, j), # this is the point to label\r\n",
    "                 textcoords = \"offset points\", # how to position the text\r\n",
    "                 xytext = (0,10), # distance from text to points (x,y)\r\n",
    "                 ha = 'center') # horizontal alignment can be left, right or center"
   ],
   "outputs": [
    {
     "output_type": "display_data",
     "data": {
      "image/png": "[encoded data removed]",
      "text/plain": [
       "<Figure size 1440x576 with 1 Axes>"
      ]
     },
     "metadata": {
      "needs_background": "light"
     }
    }
   ],
   "metadata": {
    "ExecuteTime": {
     "end_time": "2019-11-19T06:45:05.970986Z",
     "start_time": "2019-11-19T06:45:05.616423Z"
    }
   }
  },
  {
   "cell_type": "code",
   "execution_count": 14,
   "source": [
    "# SAVE TAIWAN DATA INTO CSV FILE\r\n",
    "taiwandata.to_csv('EnglishTaiwanFeatureData.csv', index = False)"
   ],
   "outputs": [],
   "metadata": {
    "ExecuteTime": {
     "end_time": "2019-11-19T06:45:07.425193Z",
     "start_time": "2019-11-19T06:45:07.396255Z"
    }
   }
  },
  {
   "cell_type": "code",
   "execution_count": 15,
   "source": [
    "# # GENERATE NEW TOTAL_LIST\r\n",
    "with open('./pkl_data/Totalname_list', 'wb') as handle:\r\n",
    "    pickle.dump(Totalname_list, handle)"
   ],
   "outputs": [],
   "metadata": {
    "ExecuteTime": {
     "end_time": "2019-11-19T06:45:10.670331Z",
     "start_time": "2019-11-19T06:45:10.654331Z"
    }
   }
  },
  {
   "cell_type": "markdown",
   "source": [
    "# Resample Data"
   ],
   "metadata": {}
  },
  {
   "cell_type": "code",
   "execution_count": 16,
   "source": [
    "resample_taiwandata  = taiwandata"
   ],
   "outputs": [],
   "metadata": {
    "ExecuteTime": {
     "end_time": "2019-11-19T06:45:13.460344Z",
     "start_time": "2019-11-19T06:45:13.458352Z"
    }
   }
  },
  {
   "cell_type": "code",
   "execution_count": 17,
   "source": [
    "# Get names of indexes for which column Year has value smaller than 1940\r\n",
    "indexNames = resample_taiwandata[(resample_taiwandata['Year'] < 1940)].index"
   ],
   "outputs": [],
   "metadata": {
    "ExecuteTime": {
     "end_time": "2019-11-19T06:45:13.889935Z",
     "start_time": "2019-11-19T06:45:13.886151Z"
    }
   }
  },
  {
   "cell_type": "code",
   "execution_count": 18,
   "source": [
    "resample_taiwandata.drop(indexNames, inplace = True)"
   ],
   "outputs": [],
   "metadata": {
    "ExecuteTime": {
     "end_time": "2019-11-19T06:45:14.122044Z",
     "start_time": "2019-11-19T06:45:14.118293Z"
    }
   }
  },
  {
   "cell_type": "code",
   "execution_count": 19,
   "source": [
    "resample_taiwandata['YearRange'] = resample_taiwandata['Year'].apply(lambda x: year_to_range(1940, 5, x))\n",
    "# taiwandata['YearRange'].value_counts()"
   ],
   "outputs": [],
   "metadata": {
    "ExecuteTime": {
     "end_time": "2019-11-19T06:45:14.442275Z",
     "start_time": "2019-11-19T06:45:14.437962Z"
    }
   }
  },
  {
   "cell_type": "code",
   "execution_count": 20,
   "source": [
    "for i in range(14):\n",
    "    print(i)\n",
    "    print(1940 + 5 * i, '~', 1944 + 5 * i)\n",
    "    YearTotalName_len = len(resample_taiwandata[resample_taiwandata['YearRange'].apply(lambda x: x == i)])\n",
    "    print('Year total name:', YearTotalName_len,'\\n')"
   ],
   "outputs": [
    {
     "output_type": "stream",
     "name": "stdout",
     "text": [
      "0\n",
      "1940 ~ 1944\n",
      "Year total name: 6 \n",
      "\n",
      "1\n",
      "1945 ~ 1949\n",
      "Year total name: 18 \n",
      "\n",
      "2\n",
      "1950 ~ 1954\n",
      "Year total name: 57 \n",
      "\n",
      "3\n",
      "1955 ~ 1959\n",
      "Year total name: 83 \n",
      "\n",
      "4\n",
      "1960 ~ 1964\n",
      "Year total name: 82 \n",
      "\n",
      "5\n",
      "1965 ~ 1969\n",
      "Year total name: 102 \n",
      "\n",
      "6\n",
      "1970 ~ 1974\n",
      "Year total name: 100 \n",
      "\n",
      "7\n",
      "1975 ~ 1979\n",
      "Year total name: 107 \n",
      "\n",
      "8\n",
      "1980 ~ 1984\n",
      "Year total name: 111 \n",
      "\n",
      "9\n",
      "1985 ~ 1989\n",
      "Year total name: 111 \n",
      "\n",
      "10\n",
      "1990 ~ 1994\n",
      "Year total name: 82 \n",
      "\n",
      "11\n",
      "1995 ~ 1999\n",
      "Year total name: 71 \n",
      "\n",
      "12\n",
      "2000 ~ 2004\n",
      "Year total name: 49 \n",
      "\n",
      "13\n",
      "2005 ~ 2009\n",
      "Year total name: 6 \n",
      "\n"
     ]
    }
   ],
   "metadata": {
    "ExecuteTime": {
     "end_time": "2019-11-19T06:45:14.977415Z",
     "start_time": "2019-11-19T06:45:14.947802Z"
    }
   }
  },
  {
   "cell_type": "code",
   "execution_count": 21,
   "source": [
    "YearRange = []\n",
    "for i in range(14):\n",
    "    YearRange.append(len(taiwandata[taiwandata.YearRange.apply(lambda x: x == i)]))\n",
    "    \n",
    "x = [1940 + x * 5 for x in range(len(YearRange))]\n",
    "y = YearRange\n",
    "\n",
    "plt.figure(figsize = (20,8))\n",
    "plt.plot(x, y, 's-', color = 'b', label = \"Age-Interval\")\n",
    "plt.title(\"Age-interval for 5 years\")\n",
    "plt.xlabel(\"Year Range\", fontsize = 15, labelpad = 10)\n",
    "plt.ylabel(\"Count\", fontsize = 15, labelpad = 10)\n",
    "\n",
    "plt.scatter(x, y)\n",
    "\n",
    "for i,j in zip(x, y):\n",
    "\n",
    "    label = \"{:.0f}\".format(i) + \",\" + \"{:.0f}\".format(j)\n",
    "    plt.annotate(label, # this is the text\n",
    "                 (i, j), # this is the point to label\n",
    "                 textcoords = \"offset points\", # how to position the text\n",
    "                 xytext = (0,10), # distance from text to points (x,y)\n",
    "                 ha = 'center') # horizontal alignment can be left, right or center"
   ],
   "outputs": [
    {
     "output_type": "display_data",
     "data": {
      "image/png": "[encoded data removed]",
      "text/plain": [
       "<Figure size 1440x576 with 1 Axes>"
      ]
     },
     "metadata": {
      "needs_background": "light"
     }
    }
   ],
   "metadata": {
    "ExecuteTime": {
     "end_time": "2019-11-19T06:45:15.818338Z",
     "start_time": "2019-11-19T06:45:15.532087Z"
    }
   }
  },
  {
   "cell_type": "code",
   "execution_count": 22,
   "source": [
    "# SAVE RESAMPLE TAIWAN DATA INTO CSV FILE\n",
    "resample_taiwandata.to_csv('EnglishResample_TaiwanFeatureData.csv', index = False)"
   ],
   "outputs": [],
   "metadata": {
    "ExecuteTime": {
     "end_time": "2019-11-19T06:45:16.517185Z",
     "start_time": "2019-11-19T06:45:16.483863Z"
    }
   }
  },
  {
   "cell_type": "code",
   "execution_count": null,
   "source": [],
   "outputs": [],
   "metadata": {}
  }
 ],
 "metadata": {
  "kernelspec": {
   "display_name": "Python 3",
   "language": "python",
   "name": "python3"
  },
  "language_info": {
   "codemirror_mode": {
    "name": "ipython",
    "version": 3
   },
   "file_extension": ".py",
   "mimetype": "text/x-python",
   "name": "python",
   "nbconvert_exporter": "python",
   "pygments_lexer": "ipython3",
   "version": "3.6.8"
  }
 },
 "nbformat": 4,
 "nbformat_minor": 2
}