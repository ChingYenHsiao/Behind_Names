{
 "cells": [
  {
   "cell_type": "code",
   "execution_count": 1,
   "source": [
    "# -!- coding: utf-8 -!-\r\n",
    "## load library\r\n",
    "%matplotlib inline\r\n",
    "\r\n",
    "import pandas as pd\r\n",
    "import numpy as np\r\n",
    "import gensim\r\n",
    "from gensim.models import word2vec, Word2Vec\r\n",
    "from scipy import stats\r\n",
    "import matplotlib.pyplot as plt\r\n",
    "from wordcloud import WordCloud\r\n",
    "\r\n",
    "FONT_PATH = './util_files/font/simkai.ttf'\r\n",
    "\r\n",
    "import warnings\r\n",
    "# warnings.simplefilter(action='ignore', category=FutureWarning)\r\n",
    "warnings.simplefilter(action = 'ignore')\r\n",
    "\r\n",
    "import csv, os, sys, math\r\n",
    "import linecache\r\n",
    "import pickle\r\n",
    "import random\r\n",
    "import datetime\r\n",
    "\r\n",
    "#簡轉繁用 \r\n",
    "#https://pypi.python.org/pypi/hanziconv/0.2.1\r\n",
    "from hanziconv import HanziConv \r\n",
    "\r\n",
    "#https://stackoverflow.com/questions/14519177/python-exception-handling-line-number\r\n",
    "def PrintException():\r\n",
    "    exc_type, exc_obj, tb = sys.exc_info()\r\n",
    "    f = tb.tb_frame\r\n",
    "    lineno = tb.tb_lineno\r\n",
    "    filename = f.f_code.co_filename\r\n",
    "    linecache.checkcache(filename)\r\n",
    "    line = linecache.getline(filename, lineno, f.f_globals)\r\n",
    "    print ('EXCEPTION IN ({}, LINE {} \"{}\"): {}'.format(filename, lineno, line.strip(), exc_obj))"
   ],
   "outputs": [],
   "metadata": {
    "ExecuteTime": {
     "end_time": "2019-12-10T06:55:24.918345Z",
     "start_time": "2019-12-10T06:55:23.761463Z"
    }
   }
  },
  {
   "cell_type": "code",
   "execution_count": 2,
   "source": [
    "# READ IPA DATA\r\n",
    "ethnicsdata = pd.read_csv('./IPA/withChiEthics.csv', parse_dates = True)"
   ],
   "outputs": [],
   "metadata": {
    "ExecuteTime": {
     "end_time": "2019-12-10T06:55:24.982622Z",
     "start_time": "2019-12-10T06:55:24.922841Z"
    }
   }
  },
  {
   "cell_type": "code",
   "execution_count": 3,
   "source": [
    "#Read files\r\n",
    "\r\n",
    "with open('./pkl_data/special_word_dict', 'rb') as handle:\r\n",
    "    special_word_dict = pickle.loads(handle.read())\r\n",
    "\r\n",
    "with open('./pkl_data/Totalname_list', 'rb') as handle:\r\n",
    "    Totalname_list = pickle.loads(handle.read())\r\n",
    "    \r\n",
    "with open('./pkl_data/son_in_list', 'rb') as handle:\r\n",
    "    son_in_list = pickle.loads(handle.read())\r\n",
    "    \r\n",
    "with open('./pkl_data/mu_in_list', 'rb') as handle:\r\n",
    "    mu_in_list = pickle.loads(handle.read())"
   ],
   "outputs": [],
   "metadata": {
    "ExecuteTime": {
     "end_time": "2019-12-10T06:55:26.127952Z",
     "start_time": "2019-12-10T06:55:24.984191Z"
    }
   }
  },
  {
   "cell_type": "code",
   "execution_count": 4,
   "source": [
    "ethnicsdata['Ethnic'].value_counts()"
   ],
   "outputs": [
    {
     "output_type": "execute_result",
     "data": {
      "text/plain": [
       "Hokkien                            9676\n",
       "Cantonese                          5525\n",
       "Teochew                            4076\n",
       "Hakka                              3012\n",
       "Hokkien/Teochew                    2617\n",
       "Mandarin                           1884\n",
       "Hokkien/Teochew/Hainanese/Hakka    1814\n",
       "Others                              479\n",
       "Hokkien/Hakka                       464\n",
       "Hokchew                             290\n",
       "Foochow                             280\n",
       "Korean                              219\n",
       "Hainanese                           202\n",
       "Cantonese/Hakka                     149\n",
       "Hokkien/Teochew/Cantonese/Hakka      55\n",
       "Vietnamese                           38\n",
       "English                              29\n",
       "Japanese                             25\n",
       "Taishan                               8\n",
       "Indonesia                             1\n",
       "Name: Ethnic, dtype: int64"
      ]
     },
     "metadata": {},
     "execution_count": 4
    }
   ],
   "metadata": {
    "ExecuteTime": {
     "end_time": "2019-12-10T06:55:26.137116Z",
     "start_time": "2019-12-10T06:55:26.129363Z"
    }
   }
  },
  {
   "cell_type": "code",
   "execution_count": 5,
   "source": [
    "ethnicsdata.head()"
   ],
   "outputs": [
    {
     "output_type": "execute_result",
     "data": {
      "text/html": [
       "<div>\n",
       "<style scoped>\n",
       "    .dataframe tbody tr th:only-of-type {\n",
       "        vertical-align: middle;\n",
       "    }\n",
       "\n",
       "    .dataframe tbody tr th {\n",
       "        vertical-align: top;\n",
       "    }\n",
       "\n",
       "    .dataframe thead th {\n",
       "        text-align: right;\n",
       "    }\n",
       "</style>\n",
       "<table border=\"1\" class=\"dataframe\">\n",
       "  <thead>\n",
       "    <tr style=\"text-align: right;\">\n",
       "      <th></th>\n",
       "      <th>LastName</th>\n",
       "      <th>FirstName</th>\n",
       "      <th>Degree</th>\n",
       "      <th>IntakeDate</th>\n",
       "      <th>IntakeYear</th>\n",
       "      <th>DTitle</th>\n",
       "      <th>Year</th>\n",
       "      <th>Age</th>\n",
       "      <th>Race</th>\n",
       "      <th>Name</th>\n",
       "      <th>IPAName</th>\n",
       "      <th>姓氏</th>\n",
       "      <th>Ethnic</th>\n",
       "    </tr>\n",
       "  </thead>\n",
       "  <tbody>\n",
       "    <tr>\n",
       "      <th>0</th>\n",
       "      <td>TEOH</td>\n",
       "      <td>HAN SEN</td>\n",
       "      <td>BACHELOR OF INFORMATION TECHNOLOGY (HONOURS) (...</td>\n",
       "      <td>1997-05-25</td>\n",
       "      <td>1997.0</td>\n",
       "      <td>BACHELOR</td>\n",
       "      <td>1977.0</td>\n",
       "      <td>42.0</td>\n",
       "      <td>Chinese</td>\n",
       "      <td>TEOH HAN SEN</td>\n",
       "      <td>hɑn sɛn</td>\n",
       "      <td>張</td>\n",
       "      <td>Hokkien/Teochew</td>\n",
       "    </tr>\n",
       "    <tr>\n",
       "      <th>1</th>\n",
       "      <td>LIM</td>\n",
       "      <td>YOKE FOONG</td>\n",
       "      <td>BACHELOR OF INFORMATION TECHNOLOGY (HONOURS) (...</td>\n",
       "      <td>1997-05-25</td>\n",
       "      <td>1997.0</td>\n",
       "      <td>BACHELOR</td>\n",
       "      <td>1977.0</td>\n",
       "      <td>42.0</td>\n",
       "      <td>Chinese</td>\n",
       "      <td>LIM YOKE FOONG</td>\n",
       "      <td>joʊk fuŋ</td>\n",
       "      <td>林</td>\n",
       "      <td>Hokkien</td>\n",
       "    </tr>\n",
       "    <tr>\n",
       "      <th>2</th>\n",
       "      <td>ANG</td>\n",
       "      <td>SOO SAN</td>\n",
       "      <td>BACHELOR OF INFORMATION TECHNOLOGY (HONOURS) (...</td>\n",
       "      <td>1997-05-25</td>\n",
       "      <td>1997.0</td>\n",
       "      <td>BACHELOR</td>\n",
       "      <td>1977.0</td>\n",
       "      <td>42.0</td>\n",
       "      <td>Chinese</td>\n",
       "      <td>ANG SOO SAN</td>\n",
       "      <td>su sæn</td>\n",
       "      <td>洪</td>\n",
       "      <td>Teochew</td>\n",
       "    </tr>\n",
       "    <tr>\n",
       "      <th>3</th>\n",
       "      <td>CALVIN TAN</td>\n",
       "      <td>KIAN SIN</td>\n",
       "      <td>BACHELOR OF INFORMATION TECHNOLOGY (HONOURS) (...</td>\n",
       "      <td>1997-05-25</td>\n",
       "      <td>1997.0</td>\n",
       "      <td>BACHELOR</td>\n",
       "      <td>1977.0</td>\n",
       "      <td>42.0</td>\n",
       "      <td>Chinese</td>\n",
       "      <td>CALVIN TAN KIAN SIN</td>\n",
       "      <td>ˈkiən sɪn</td>\n",
       "      <td>陳</td>\n",
       "      <td>Hokkien</td>\n",
       "    </tr>\n",
       "    <tr>\n",
       "      <th>4</th>\n",
       "      <td>CHAN</td>\n",
       "      <td>KHAN THAI</td>\n",
       "      <td>BACHELOR OF INFORMATION TECHNOLOGY (HONOURS) (...</td>\n",
       "      <td>1997-05-25</td>\n",
       "      <td>1997.0</td>\n",
       "      <td>BACHELOR</td>\n",
       "      <td>1977.0</td>\n",
       "      <td>42.0</td>\n",
       "      <td>Chinese</td>\n",
       "      <td>CHAN KHAN THAI</td>\n",
       "      <td>kɑn taɪ</td>\n",
       "      <td>陳</td>\n",
       "      <td>Cantonese</td>\n",
       "    </tr>\n",
       "  </tbody>\n",
       "</table>\n",
       "</div>"
      ],
      "text/plain": [
       "     LastName   FirstName                                             Degree  \\\n",
       "0        TEOH     HAN SEN  BACHELOR OF INFORMATION TECHNOLOGY (HONOURS) (...   \n",
       "1         LIM  YOKE FOONG  BACHELOR OF INFORMATION TECHNOLOGY (HONOURS) (...   \n",
       "2         ANG     SOO SAN  BACHELOR OF INFORMATION TECHNOLOGY (HONOURS) (...   \n",
       "3  CALVIN TAN    KIAN SIN  BACHELOR OF INFORMATION TECHNOLOGY (HONOURS) (...   \n",
       "4        CHAN   KHAN THAI  BACHELOR OF INFORMATION TECHNOLOGY (HONOURS) (...   \n",
       "\n",
       "   IntakeDate  IntakeYear    DTitle    Year   Age     Race  \\\n",
       "0  1997-05-25      1997.0  BACHELOR  1977.0  42.0  Chinese   \n",
       "1  1997-05-25      1997.0  BACHELOR  1977.0  42.0  Chinese   \n",
       "2  1997-05-25      1997.0  BACHELOR  1977.0  42.0  Chinese   \n",
       "3  1997-05-25      1997.0  BACHELOR  1977.0  42.0  Chinese   \n",
       "4  1997-05-25      1997.0  BACHELOR  1977.0  42.0  Chinese   \n",
       "\n",
       "                  Name    IPAName 姓氏           Ethnic  \n",
       "0         TEOH HAN SEN    hɑn sɛn  張  Hokkien/Teochew  \n",
       "1       LIM YOKE FOONG   joʊk fuŋ  林          Hokkien  \n",
       "2          ANG SOO SAN     su sæn  洪          Teochew  \n",
       "3  CALVIN TAN KIAN SIN  ˈkiən sɪn  陳          Hokkien  \n",
       "4       CHAN KHAN THAI    kɑn taɪ  陳        Cantonese  "
      ]
     },
     "metadata": {},
     "execution_count": 5
    }
   ],
   "metadata": {
    "ExecuteTime": {
     "end_time": "2019-12-10T06:55:26.160091Z",
     "start_time": "2019-12-10T06:55:26.138151Z"
    }
   }
  },
  {
   "cell_type": "code",
   "execution_count": 6,
   "source": [
    "def separateFN(FN):\r\n",
    "    if ' ' in FN:\r\n",
    "        return FN.split(' ')\r\n",
    "    else:\r\n",
    "        FN = ' ' + FN\r\n",
    "        return FN.split(' ')"
   ],
   "outputs": [],
   "metadata": {
    "ExecuteTime": {
     "end_time": "2019-12-10T06:55:26.171317Z",
     "start_time": "2019-12-10T06:55:26.169221Z"
    }
   }
  },
  {
   "cell_type": "code",
   "execution_count": 7,
   "source": [
    "#Read uni-gram classifier\r\n",
    "with open('./pkl_data/Character_feature_dic', 'rb') as handle:\r\n",
    "    Character_feature_dic = pickle.loads(handle.read())\r\n",
    "    \r\n",
    "def checkPronoun(word, mode):\r\n",
    "    #mode 1 = sonin\r\n",
    "    #mode 2 = muin\r\n",
    "    vowel = ['A', 'E', 'I', 'O', 'U', 'a', 'e', 'i', 'o', 'u']\r\n",
    "    result = ''\r\n",
    "    \r\n",
    "    for len_word in word.split(): \r\n",
    "        con = ''\r\n",
    "        vow = ''\r\n",
    "        length = len(len_word)\r\n",
    "\r\n",
    "        for index in range(length):\r\n",
    "            current = len_word[index]\r\n",
    "            if current not in vowel:\r\n",
    "                con += current\r\n",
    "               \r\n",
    "            else:\r\n",
    "                vow = len_word[index:]  \r\n",
    "                break\r\n",
    "                \r\n",
    "    if mode == 'sonin':\r\n",
    "        if len(word) >= 1:\r\n",
    "            return con.capitalize()\r\n",
    "        else:\r\n",
    "            return -1\r\n",
    "\r\n",
    "    elif mode == 'muin':\r\n",
    "        if len(word) >= 1:\r\n",
    "            return vow.lower()\r\n",
    "        else:\r\n",
    "            return -1\r\n",
    "\r\n",
    "def add_pin_in_index_column(pin_yin, mode):\r\n",
    "    #mode 1 = sonin\r\n",
    "    #mode 2 = muin\r\n",
    "    if pin_yin == None:\r\n",
    "        return -1\r\n",
    "    try:\r\n",
    "        if mode == 'muin':\r\n",
    "            if pin_yin in mu_in_list:\r\n",
    "                return mu_in_list.index(pin_yin)\r\n",
    "            else:\r\n",
    "                mu_in_list.append(pin_yin)\r\n",
    "                return mu_in_list.index(pin_yin)\r\n",
    "\r\n",
    "        if mode == 'sonin':\r\n",
    "            if pin_yin in son_in_list:\r\n",
    "                return son_in_list.index(pin_yin)\r\n",
    "            else:\r\n",
    "                son_in_list.append(pin_yin)\r\n",
    "                return son_in_list.index(pin_yin)\r\n",
    "\r\n",
    "    except Exception as e:\r\n",
    "        print (e)\r\n",
    "        print (fileName)\r\n",
    "        PrintException() \r\n",
    "\r\n",
    "def character_to_index(name, n):\r\n",
    "    if n == 1:\r\n",
    "        if name[0] in Totalname_list:\r\n",
    "            return Totalname_list.index(name[0])\r\n",
    "        else:\r\n",
    "            Totalname_list.append(name[0])\r\n",
    "            return Totalname_list.index(name[0])\r\n",
    "    if n == 2 and len(name) == 2:\r\n",
    "        if name[1] in Totalname_list:\r\n",
    "            return Totalname_list.index(name[1])\r\n",
    "        else:\r\n",
    "            Totalname_list.append(name[1])\r\n",
    "            return Totalname_list.index(name[1])\r\n",
    "    return -1"
   ],
   "outputs": [],
   "metadata": {
    "ExecuteTime": {
     "end_time": "2019-12-10T06:55:26.189941Z",
     "start_time": "2019-12-10T06:55:26.172232Z"
    }
   }
  },
  {
   "cell_type": "code",
   "execution_count": 8,
   "source": [
    "ethnicsdata = ethnicsdata[ethnicsdata['DTitle'].str.contains(\"DOCTOR\") == False]\r\n",
    "ethnicsdata = ethnicsdata.drop('Degree', 1)\r\n",
    "ethnicsdata = ethnicsdata.drop('DTitle', 1)\r\n",
    "ethnicsdata = ethnicsdata.drop('IntakeDate', 1)\r\n",
    "ethnicsdata = ethnicsdata.drop('IntakeYear', 1)\r\n",
    "\r\n",
    "ethnicsdata['FirstName'] = ethnicsdata.FirstName.apply(lambda x: x.capitalize())\r\n",
    "ethnicsdata['FirstName'] = ethnicsdata.FirstName.apply(lambda x: separateFN(x))\r\n",
    "ethnicsdata['FirstName1'] = ethnicsdata.FirstName.apply(lambda x: x[0].capitalize())\r\n",
    "ethnicsdata['FirstName2'] = ethnicsdata.FirstName.apply(lambda x: x[1].capitalize())\r\n",
    "\r\n",
    "ethnicsdata['FN1'] = ethnicsdata.FirstName.apply(lambda x: character_to_index(x,1))\r\n",
    "ethnicsdata['FN2'] = ethnicsdata.FirstName.apply(lambda x: character_to_index(x,2))\r\n",
    "\r\n",
    "ethnicsdata['FirstName'] = ethnicsdata['FirstName1']  + ' ' + ethnicsdata['FirstName2'].apply(lambda x: x)\r\n",
    "\r\n",
    "ethnicsdata['FN1_sonin'] = ethnicsdata.FirstName1.apply(lambda x: checkPronoun(x,'sonin'))\r\n",
    "ethnicsdata['FN1_muin'] = ethnicsdata.FirstName1.apply(lambda x: checkPronoun(x,'muin'))\r\n",
    "\r\n",
    "ethnicsdata['FN2_sonin'] = ethnicsdata.FirstName2.apply(lambda x: checkPronoun(x,'sonin'))\r\n",
    "ethnicsdata['FN2_muin'] = ethnicsdata.FirstName2.apply(lambda x: checkPronoun(x,'muin'))\r\n",
    "\r\n",
    "ethnicsdata['FN1_sonin_index'] = ethnicsdata.FN1_sonin.apply(lambda x: add_pin_in_index_column(x,'sonin'))\r\n",
    "ethnicsdata['FN2_sonin_index'] = ethnicsdata.FN2_sonin.apply(lambda x: add_pin_in_index_column(x,'sonin'))\r\n",
    "\r\n",
    "ethnicsdata['FN1_muin_index'] = ethnicsdata.FN1_muin.apply(lambda x: add_pin_in_index_column(x,'muin'))\r\n",
    "ethnicsdata['FN2_muin_index'] = ethnicsdata.FN2_muin.apply(lambda x: add_pin_in_index_column(x,'muin'))"
   ],
   "outputs": [],
   "metadata": {
    "ExecuteTime": {
     "end_time": "2019-12-10T06:55:34.289258Z",
     "start_time": "2019-12-10T06:55:26.191106Z"
    }
   }
  },
  {
   "cell_type": "code",
   "execution_count": 9,
   "source": [
    "ethnicsdata.head()"
   ],
   "outputs": [
    {
     "output_type": "execute_result",
     "data": {
      "text/html": [
       "<div>\n",
       "<style scoped>\n",
       "    .dataframe tbody tr th:only-of-type {\n",
       "        vertical-align: middle;\n",
       "    }\n",
       "\n",
       "    .dataframe tbody tr th {\n",
       "        vertical-align: top;\n",
       "    }\n",
       "\n",
       "    .dataframe thead th {\n",
       "        text-align: right;\n",
       "    }\n",
       "</style>\n",
       "<table border=\"1\" class=\"dataframe\">\n",
       "  <thead>\n",
       "    <tr style=\"text-align: right;\">\n",
       "      <th></th>\n",
       "      <th>LastName</th>\n",
       "      <th>FirstName</th>\n",
       "      <th>Year</th>\n",
       "      <th>Age</th>\n",
       "      <th>Race</th>\n",
       "      <th>Name</th>\n",
       "      <th>IPAName</th>\n",
       "      <th>姓氏</th>\n",
       "      <th>Ethnic</th>\n",
       "      <th>FirstName1</th>\n",
       "      <th>...</th>\n",
       "      <th>FN1</th>\n",
       "      <th>FN2</th>\n",
       "      <th>FN1_sonin</th>\n",
       "      <th>FN1_muin</th>\n",
       "      <th>FN2_sonin</th>\n",
       "      <th>FN2_muin</th>\n",
       "      <th>FN1_sonin_index</th>\n",
       "      <th>FN2_sonin_index</th>\n",
       "      <th>FN1_muin_index</th>\n",
       "      <th>FN2_muin_index</th>\n",
       "    </tr>\n",
       "  </thead>\n",
       "  <tbody>\n",
       "    <tr>\n",
       "      <th>0</th>\n",
       "      <td>TEOH</td>\n",
       "      <td>Han Sen</td>\n",
       "      <td>1977.0</td>\n",
       "      <td>42.0</td>\n",
       "      <td>Chinese</td>\n",
       "      <td>TEOH HAN SEN</td>\n",
       "      <td>hɑn sɛn</td>\n",
       "      <td>張</td>\n",
       "      <td>Hokkien/Teochew</td>\n",
       "      <td>Han</td>\n",
       "      <td>...</td>\n",
       "      <td>8682</td>\n",
       "      <td>10448</td>\n",
       "      <td>H</td>\n",
       "      <td>an</td>\n",
       "      <td>S</td>\n",
       "      <td>en</td>\n",
       "      <td>55</td>\n",
       "      <td>57</td>\n",
       "      <td>80</td>\n",
       "      <td>76</td>\n",
       "    </tr>\n",
       "    <tr>\n",
       "      <th>1</th>\n",
       "      <td>LIM</td>\n",
       "      <td>Yoke Foong</td>\n",
       "      <td>1977.0</td>\n",
       "      <td>42.0</td>\n",
       "      <td>Chinese</td>\n",
       "      <td>LIM YOKE FOONG</td>\n",
       "      <td>joʊk fuŋ</td>\n",
       "      <td>林</td>\n",
       "      <td>Hokkien</td>\n",
       "      <td>Yoke</td>\n",
       "      <td>...</td>\n",
       "      <td>8973</td>\n",
       "      <td>10449</td>\n",
       "      <td>Y</td>\n",
       "      <td>oke</td>\n",
       "      <td>F</td>\n",
       "      <td>oong</td>\n",
       "      <td>56</td>\n",
       "      <td>60</td>\n",
       "      <td>230</td>\n",
       "      <td>250</td>\n",
       "    </tr>\n",
       "    <tr>\n",
       "      <th>2</th>\n",
       "      <td>ANG</td>\n",
       "      <td>Soo San</td>\n",
       "      <td>1977.0</td>\n",
       "      <td>42.0</td>\n",
       "      <td>Chinese</td>\n",
       "      <td>ANG SOO SAN</td>\n",
       "      <td>su sæn</td>\n",
       "      <td>洪</td>\n",
       "      <td>Teochew</td>\n",
       "      <td>Soo</td>\n",
       "      <td>...</td>\n",
       "      <td>8974</td>\n",
       "      <td>10450</td>\n",
       "      <td>S</td>\n",
       "      <td>oo</td>\n",
       "      <td>S</td>\n",
       "      <td>an</td>\n",
       "      <td>57</td>\n",
       "      <td>57</td>\n",
       "      <td>231</td>\n",
       "      <td>80</td>\n",
       "    </tr>\n",
       "    <tr>\n",
       "      <th>3</th>\n",
       "      <td>CALVIN TAN</td>\n",
       "      <td>Kian Sin</td>\n",
       "      <td>1977.0</td>\n",
       "      <td>42.0</td>\n",
       "      <td>Chinese</td>\n",
       "      <td>CALVIN TAN KIAN SIN</td>\n",
       "      <td>ˈkiən sɪn</td>\n",
       "      <td>陳</td>\n",
       "      <td>Hokkien</td>\n",
       "      <td>Kian</td>\n",
       "      <td>...</td>\n",
       "      <td>8975</td>\n",
       "      <td>10451</td>\n",
       "      <td>K</td>\n",
       "      <td>ian</td>\n",
       "      <td>S</td>\n",
       "      <td>in</td>\n",
       "      <td>58</td>\n",
       "      <td>57</td>\n",
       "      <td>21</td>\n",
       "      <td>75</td>\n",
       "    </tr>\n",
       "    <tr>\n",
       "      <th>4</th>\n",
       "      <td>CHAN</td>\n",
       "      <td>Khan Thai</td>\n",
       "      <td>1977.0</td>\n",
       "      <td>42.0</td>\n",
       "      <td>Chinese</td>\n",
       "      <td>CHAN KHAN THAI</td>\n",
       "      <td>kɑn taɪ</td>\n",
       "      <td>陳</td>\n",
       "      <td>Cantonese</td>\n",
       "      <td>Khan</td>\n",
       "      <td>...</td>\n",
       "      <td>8976</td>\n",
       "      <td>10452</td>\n",
       "      <td>Kh</td>\n",
       "      <td>an</td>\n",
       "      <td>Th</td>\n",
       "      <td>ai</td>\n",
       "      <td>59</td>\n",
       "      <td>73</td>\n",
       "      <td>80</td>\n",
       "      <td>64</td>\n",
       "    </tr>\n",
       "  </tbody>\n",
       "</table>\n",
       "<p>5 rows × 21 columns</p>\n",
       "</div>"
      ],
      "text/plain": [
       "     LastName   FirstName    Year   Age     Race                 Name  \\\n",
       "0        TEOH     Han Sen  1977.0  42.0  Chinese         TEOH HAN SEN   \n",
       "1         LIM  Yoke Foong  1977.0  42.0  Chinese       LIM YOKE FOONG   \n",
       "2         ANG     Soo San  1977.0  42.0  Chinese          ANG SOO SAN   \n",
       "3  CALVIN TAN    Kian Sin  1977.0  42.0  Chinese  CALVIN TAN KIAN SIN   \n",
       "4        CHAN   Khan Thai  1977.0  42.0  Chinese       CHAN KHAN THAI   \n",
       "\n",
       "     IPAName 姓氏           Ethnic FirstName1  ...   FN1    FN2  FN1_sonin  \\\n",
       "0    hɑn sɛn  張  Hokkien/Teochew        Han  ...  8682  10448          H   \n",
       "1   joʊk fuŋ  林          Hokkien       Yoke  ...  8973  10449          Y   \n",
       "2     su sæn  洪          Teochew        Soo  ...  8974  10450          S   \n",
       "3  ˈkiən sɪn  陳          Hokkien       Kian  ...  8975  10451          K   \n",
       "4    kɑn taɪ  陳        Cantonese       Khan  ...  8976  10452         Kh   \n",
       "\n",
       "  FN1_muin FN2_sonin FN2_muin FN1_sonin_index  FN2_sonin_index  \\\n",
       "0       an         S       en              55               57   \n",
       "1      oke         F     oong              56               60   \n",
       "2       oo         S       an              57               57   \n",
       "3      ian         S       in              58               57   \n",
       "4       an        Th       ai              59               73   \n",
       "\n",
       "   FN1_muin_index  FN2_muin_index  \n",
       "0              80              76  \n",
       "1             230             250  \n",
       "2             231              80  \n",
       "3              21              75  \n",
       "4              80              64  \n",
       "\n",
       "[5 rows x 21 columns]"
      ]
     },
     "metadata": {},
     "execution_count": 9
    }
   ],
   "metadata": {
    "ExecuteTime": {
     "end_time": "2019-12-10T06:55:34.305854Z",
     "start_time": "2019-12-10T06:55:34.290812Z"
    }
   }
  },
  {
   "cell_type": "code",
   "execution_count": 10,
   "source": [
    "#每5年一區間的欄位\r\n",
    "def year_to_range(start, rang, year):\r\n",
    "    y = int((year - start) / rang)\r\n",
    "    #2010\r\n",
    "    if y == 13:\r\n",
    "        y = 12\r\n",
    "    return y"
   ],
   "outputs": [],
   "metadata": {
    "ExecuteTime": {
     "end_time": "2019-12-10T06:55:34.311632Z",
     "start_time": "2019-12-10T06:55:34.307226Z"
    }
   }
  },
  {
   "cell_type": "code",
   "execution_count": 11,
   "source": [
    "ethnicsdata['YearRange'] = ethnicsdata['Year'].apply(lambda x: year_to_range(1940, 5, x))\r\n",
    "# ethnicsdata['YearRange'].value_counts()"
   ],
   "outputs": [],
   "metadata": {
    "ExecuteTime": {
     "end_time": "2019-12-10T06:55:34.338006Z",
     "start_time": "2019-12-10T06:55:34.313040Z"
    }
   }
  },
  {
   "cell_type": "code",
   "execution_count": 12,
   "source": [
    "ethnicsdata['YearRange']"
   ],
   "outputs": [
    {
     "output_type": "execute_result",
     "data": {
      "text/plain": [
       "0         7\n",
       "1         7\n",
       "2         7\n",
       "3         7\n",
       "4         7\n",
       "         ..\n",
       "30890    11\n",
       "30891    11\n",
       "30892    11\n",
       "30893     9\n",
       "30894     9\n",
       "Name: YearRange, Length: 30715, dtype: int64"
      ]
     },
     "metadata": {},
     "execution_count": 12
    }
   ],
   "metadata": {
    "ExecuteTime": {
     "end_time": "2019-12-10T06:55:34.345499Z",
     "start_time": "2019-12-10T06:55:34.339205Z"
    }
   }
  },
  {
   "cell_type": "code",
   "execution_count": 13,
   "source": [
    "for i in range(6, 13):\r\n",
    "    print(i)\r\n",
    "    print(1940 + 5 * i, '~', 1944 + 5 * i)\r\n",
    "    YearTotalName_len = len(ethnicsdata[ethnicsdata['YearRange'].apply(lambda x: x == i)])\r\n",
    "    print('Year total name:', YearTotalName_len,'\\n')"
   ],
   "outputs": [
    {
     "output_type": "stream",
     "name": "stdout",
     "text": [
      "6\n",
      "1970 ~ 1974\n",
      "Year total name: 90 \n",
      "\n",
      "7\n",
      "1975 ~ 1979\n",
      "Year total name: 2783 \n",
      "\n",
      "8\n",
      "1980 ~ 1984\n",
      "Year total name: 8306 \n",
      "\n",
      "9\n",
      "1985 ~ 1989\n",
      "Year total name: 7692 \n",
      "\n",
      "10\n",
      "1990 ~ 1994\n",
      "Year total name: 9266 \n",
      "\n",
      "11\n",
      "1995 ~ 1999\n",
      "Year total name: 2578 \n",
      "\n",
      "12\n",
      "2000 ~ 2004\n",
      "Year total name: 0 \n",
      "\n"
     ]
    }
   ],
   "metadata": {
    "ExecuteTime": {
     "end_time": "2019-12-10T06:55:34.403891Z",
     "start_time": "2019-12-10T06:55:34.346568Z"
    }
   }
  },
  {
   "cell_type": "code",
   "execution_count": 14,
   "source": [
    "YearRange = []\r\n",
    "for i in range(6, 12):\r\n",
    "    YearRange.append(len(ethnicsdata[ethnicsdata.YearRange.apply(lambda x: x == i)]))\r\n",
    "    \r\n",
    "x = [1970 + x * 5 for x in range(len(YearRange))]\r\n",
    "y = YearRange\r\n",
    "\r\n",
    "plt.figure(figsize = (20,8))\r\n",
    "plt.plot(x, y, 's-', color = 'b', label = \"Age-Interval\")\r\n",
    "plt.title(\"Age-interval for 5 years\")\r\n",
    "plt.xlabel(\"Year Range\", fontsize = 15, labelpad = 10)\r\n",
    "plt.ylabel(\"Count\", fontsize = 15, labelpad = 10)\r\n",
    "\r\n",
    "plt.scatter(x, y)\r\n",
    "\r\n",
    "for i,j in zip(x, y):\r\n",
    "\r\n",
    "    label = \"{:.0f}\".format(i) + \",\" + \"{:.0f}\".format(j)\r\n",
    "    plt.annotate(label, # this is the text\r\n",
    "                 (i, j), # this is the point to label\r\n",
    "                 textcoords = \"offset points\", # how to position the text\r\n",
    "                 xytext = (0,10), # distance from text to points (x,y)\r\n",
    "                 ha = 'center') # horizontal alignment can be left, right or center"
   ],
   "outputs": [
    {
     "output_type": "display_data",
     "data": {
      "image/png": "[encoded data removed]",
      "text/plain": [
       "<Figure size 1440x576 with 1 Axes>"
      ]
     },
     "metadata": {
      "needs_background": "light"
     }
    }
   ],
   "metadata": {
    "ExecuteTime": {
     "end_time": "2019-12-10T06:55:34.694216Z",
     "start_time": "2019-12-10T06:55:34.404979Z"
    }
   }
  },
  {
   "cell_type": "code",
   "execution_count": 15,
   "source": [
    "# SAVE MY DATA INTO CSV FILE\r\n",
    "ethnicsdata.to_csv('./NameData/EnglishReconcateRealTaiwan.csv', index = False)"
   ],
   "outputs": [],
   "metadata": {
    "ExecuteTime": {
     "end_time": "2019-12-10T06:55:35.301958Z",
     "start_time": "2019-12-10T06:55:34.695357Z"
    }
   }
  },
  {
   "cell_type": "code",
   "execution_count": 15,
   "source": [
    "# # GENERATE NEW TOTAL_LIST\r\n",
    "# with open('./pkl_data/Totalname_list', 'wb') as handle:\r\n",
    "#     pickle.dump(Totalname_list, handle)"
   ],
   "outputs": [],
   "metadata": {
    "ExecuteTime": {
     "end_time": "2019-11-24T18:07:40.131305Z",
     "start_time": "2019-11-24T18:07:40.129332Z"
    }
   }
  }
 ],
 "metadata": {
  "kernelspec": {
   "display_name": "Python 3",
   "language": "python",
   "name": "python3"
  },
  "language_info": {
   "codemirror_mode": {
    "name": "ipython",
    "version": 3
   },
   "file_extension": ".py",
   "mimetype": "text/x-python",
   "name": "python",
   "nbconvert_exporter": "python",
   "pygments_lexer": "ipython3",
   "version": "3.6.8"
  }
 },
 "nbformat": 4,
 "nbformat_minor": 2
}