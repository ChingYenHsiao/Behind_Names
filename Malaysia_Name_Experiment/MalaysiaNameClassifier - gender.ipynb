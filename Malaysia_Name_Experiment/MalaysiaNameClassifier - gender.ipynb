{
 "cells": [
  {
   "cell_type": "code",
   "execution_count": 2,
   "source": [
    "import pandas as pd\r\n",
    "import csv\r\n",
    "import os\r\n",
    "\r\n",
    "import linecache\r\n",
    "import sys\r\n",
    "\r\n",
    "import matplotlib.pyplot as plt\r\n",
    "import math\r\n",
    "from plotly.offline import download_plotlyjs, init_notebook_mode, plot, iplot\r\n",
    "\r\n",
    "import plotly.graph_objs as go\r\n",
    "\r\n",
    "#from prettytable import PrettyTable\r\n",
    "\r\n",
    "#簡轉繁用 \r\n",
    "#https://pypi.python.org/pypi/hanziconv/0.2.1\r\n",
    "from hanziconv import HanziConv\r\n",
    "\r\n",
    "import matplotlib_venn \r\n",
    "from matplotlib_venn import venn2, venn2_circles\r\n",
    "\r\n",
    "\r\n",
    "import numpy as np\r\n",
    "from sklearn.model_selection import train_test_split\r\n",
    "\r\n",
    "from sklearn.metrics import mean_squared_error\r\n",
    "from numpy import mean, sqrt, square, arange\r\n",
    "\r\n",
    "import pickle\r\n",
    "\r\n",
    "import random\r\n",
    "import datetime\r\n",
    "import operator\r\n",
    "\r\n",
    "#https://stackoverflow.com/questions/14519177/python-exception-handling-line-number\r\n",
    "def PrintException():\r\n",
    "    exc_type, exc_obj, tb = sys.exc_info()\r\n",
    "    f = tb.tb_frame\r\n",
    "    lineno = tb.tb_lineno\r\n",
    "    filename = f.f_code.co_filename\r\n",
    "    linecache.checkcache(filename)\r\n",
    "    line = linecache.getline(filename, lineno, f.f_globals)\r\n",
    "    print ('EXCEPTION IN ({}, LINE {} \"{}\"): {}'.format(filename, lineno, line.strip(), exc_obj))\r\n"
   ],
   "outputs": [],
   "metadata": {
    "ExecuteTime": {
     "end_time": "2019-11-24T17:49:36.589565Z",
     "start_time": "2019-11-24T17:49:35.269074Z"
    }
   }
  },
  {
   "cell_type": "code",
   "execution_count": 23,
   "source": [
    "# READ TAIWAN DATA WITH FEATURES\r\n",
    "mysdata = pd.read_csv('./NameData/EthnicChineseMalaysian.csv', parse_dates = True)"
   ],
   "outputs": [],
   "metadata": {
    "ExecuteTime": {
     "end_time": "2019-11-24T18:08:12.822025Z",
     "start_time": "2019-11-24T18:08:12.754489Z"
    }
   }
  },
  {
   "cell_type": "code",
   "execution_count": 24,
   "source": [
    "mysdata.head()"
   ],
   "outputs": [
    {
     "output_type": "execute_result",
     "data": {
      "text/html": [
       "<div>\n",
       "<style scoped>\n",
       "    .dataframe tbody tr th:only-of-type {\n",
       "        vertical-align: middle;\n",
       "    }\n",
       "\n",
       "    .dataframe tbody tr th {\n",
       "        vertical-align: top;\n",
       "    }\n",
       "\n",
       "    .dataframe thead th {\n",
       "        text-align: right;\n",
       "    }\n",
       "</style>\n",
       "<table border=\"1\" class=\"dataframe\">\n",
       "  <thead>\n",
       "    <tr style=\"text-align: right;\">\n",
       "      <th></th>\n",
       "      <th>LastName</th>\n",
       "      <th>FirstName</th>\n",
       "      <th>Year</th>\n",
       "      <th>Age</th>\n",
       "      <th>Race</th>\n",
       "      <th>Name</th>\n",
       "      <th>IPAName</th>\n",
       "      <th>姓氏</th>\n",
       "      <th>Ethnic</th>\n",
       "      <th>FirstName1</th>\n",
       "      <th>...</th>\n",
       "      <th>FN2</th>\n",
       "      <th>FN1_sonin</th>\n",
       "      <th>FN1_muin</th>\n",
       "      <th>FN2_sonin</th>\n",
       "      <th>FN2_muin</th>\n",
       "      <th>FN1_sonin_index</th>\n",
       "      <th>FN2_sonin_index</th>\n",
       "      <th>FN1_muin_index</th>\n",
       "      <th>FN2_muin_index</th>\n",
       "      <th>YearRange</th>\n",
       "    </tr>\n",
       "  </thead>\n",
       "  <tbody>\n",
       "    <tr>\n",
       "      <th>0</th>\n",
       "      <td>TEOH</td>\n",
       "      <td>Han Sen</td>\n",
       "      <td>1977.0</td>\n",
       "      <td>42.0</td>\n",
       "      <td>Chinese</td>\n",
       "      <td>TEOH HAN SEN</td>\n",
       "      <td>hɑn sɛn</td>\n",
       "      <td>張</td>\n",
       "      <td>Hokkien/Teochew</td>\n",
       "      <td>Han</td>\n",
       "      <td>...</td>\n",
       "      <td>10448</td>\n",
       "      <td>H</td>\n",
       "      <td>an</td>\n",
       "      <td>S</td>\n",
       "      <td>en</td>\n",
       "      <td>55</td>\n",
       "      <td>57</td>\n",
       "      <td>80</td>\n",
       "      <td>76</td>\n",
       "      <td>1</td>\n",
       "    </tr>\n",
       "    <tr>\n",
       "      <th>1</th>\n",
       "      <td>LIM</td>\n",
       "      <td>Yoke Foong</td>\n",
       "      <td>1977.0</td>\n",
       "      <td>42.0</td>\n",
       "      <td>Chinese</td>\n",
       "      <td>LIM YOKE FOONG</td>\n",
       "      <td>joʊk fuŋ</td>\n",
       "      <td>林</td>\n",
       "      <td>Hokkien</td>\n",
       "      <td>Yoke</td>\n",
       "      <td>...</td>\n",
       "      <td>10449</td>\n",
       "      <td>Y</td>\n",
       "      <td>oke</td>\n",
       "      <td>F</td>\n",
       "      <td>oong</td>\n",
       "      <td>56</td>\n",
       "      <td>60</td>\n",
       "      <td>230</td>\n",
       "      <td>250</td>\n",
       "      <td>1</td>\n",
       "    </tr>\n",
       "    <tr>\n",
       "      <th>2</th>\n",
       "      <td>ANG</td>\n",
       "      <td>Soo San</td>\n",
       "      <td>1977.0</td>\n",
       "      <td>42.0</td>\n",
       "      <td>Chinese</td>\n",
       "      <td>ANG SOO SAN</td>\n",
       "      <td>su sæn</td>\n",
       "      <td>洪</td>\n",
       "      <td>Teochew</td>\n",
       "      <td>Soo</td>\n",
       "      <td>...</td>\n",
       "      <td>10450</td>\n",
       "      <td>S</td>\n",
       "      <td>oo</td>\n",
       "      <td>S</td>\n",
       "      <td>an</td>\n",
       "      <td>57</td>\n",
       "      <td>57</td>\n",
       "      <td>231</td>\n",
       "      <td>80</td>\n",
       "      <td>1</td>\n",
       "    </tr>\n",
       "    <tr>\n",
       "      <th>3</th>\n",
       "      <td>CALVIN TAN</td>\n",
       "      <td>Kian Sin</td>\n",
       "      <td>1977.0</td>\n",
       "      <td>42.0</td>\n",
       "      <td>Chinese</td>\n",
       "      <td>CALVIN TAN KIAN SIN</td>\n",
       "      <td>ˈkiən sɪn</td>\n",
       "      <td>陳</td>\n",
       "      <td>Hokkien</td>\n",
       "      <td>Kian</td>\n",
       "      <td>...</td>\n",
       "      <td>10451</td>\n",
       "      <td>K</td>\n",
       "      <td>ian</td>\n",
       "      <td>S</td>\n",
       "      <td>in</td>\n",
       "      <td>58</td>\n",
       "      <td>57</td>\n",
       "      <td>21</td>\n",
       "      <td>75</td>\n",
       "      <td>1</td>\n",
       "    </tr>\n",
       "    <tr>\n",
       "      <th>4</th>\n",
       "      <td>CHAN</td>\n",
       "      <td>Khan Thai</td>\n",
       "      <td>1977.0</td>\n",
       "      <td>42.0</td>\n",
       "      <td>Chinese</td>\n",
       "      <td>CHAN KHAN THAI</td>\n",
       "      <td>kɑn taɪ</td>\n",
       "      <td>陳</td>\n",
       "      <td>Cantonese</td>\n",
       "      <td>Khan</td>\n",
       "      <td>...</td>\n",
       "      <td>10452</td>\n",
       "      <td>Kh</td>\n",
       "      <td>an</td>\n",
       "      <td>Th</td>\n",
       "      <td>ai</td>\n",
       "      <td>59</td>\n",
       "      <td>73</td>\n",
       "      <td>80</td>\n",
       "      <td>64</td>\n",
       "      <td>1</td>\n",
       "    </tr>\n",
       "  </tbody>\n",
       "</table>\n",
       "<p>5 rows × 22 columns</p>\n",
       "</div>"
      ],
      "text/plain": [
       "     LastName   FirstName    Year   Age     Race                 Name  \\\n",
       "0        TEOH     Han Sen  1977.0  42.0  Chinese         TEOH HAN SEN   \n",
       "1         LIM  Yoke Foong  1977.0  42.0  Chinese       LIM YOKE FOONG   \n",
       "2         ANG     Soo San  1977.0  42.0  Chinese          ANG SOO SAN   \n",
       "3  CALVIN TAN    Kian Sin  1977.0  42.0  Chinese  CALVIN TAN KIAN SIN   \n",
       "4        CHAN   Khan Thai  1977.0  42.0  Chinese       CHAN KHAN THAI   \n",
       "\n",
       "     IPAName 姓氏           Ethnic FirstName1  ...    FN2  FN1_sonin  FN1_muin  \\\n",
       "0    hɑn sɛn  張  Hokkien/Teochew        Han  ...  10448          H        an   \n",
       "1   joʊk fuŋ  林          Hokkien       Yoke  ...  10449          Y       oke   \n",
       "2     su sæn  洪          Teochew        Soo  ...  10450          S        oo   \n",
       "3  ˈkiən sɪn  陳          Hokkien       Kian  ...  10451          K       ian   \n",
       "4    kɑn taɪ  陳        Cantonese       Khan  ...  10452         Kh        an   \n",
       "\n",
       "  FN2_sonin FN2_muin FN1_sonin_index FN2_sonin_index  FN1_muin_index  \\\n",
       "0         S       en              55              57              80   \n",
       "1         F     oong              56              60             230   \n",
       "2         S       an              57              57             231   \n",
       "3         S       in              58              57              21   \n",
       "4        Th       ai              59              73              80   \n",
       "\n",
       "   FN2_muin_index  YearRange  \n",
       "0              76          1  \n",
       "1             250          1  \n",
       "2              80          1  \n",
       "3              75          1  \n",
       "4              64          1  \n",
       "\n",
       "[5 rows x 22 columns]"
      ]
     },
     "metadata": {},
     "execution_count": 24
    }
   ],
   "metadata": {
    "ExecuteTime": {
     "end_time": "2019-11-24T18:08:14.147572Z",
     "start_time": "2019-11-24T18:08:14.128202Z"
    }
   }
  },
  {
   "cell_type": "code",
   "execution_count": 14,
   "source": [
    "with open('./pkl_data/Totalname_list', 'rb') as handle:\r\n",
    "    Totalname_list = pickle.loads(handle.read())\r\n",
    "    \r\n",
    "with open('./pkl_data/son_in_list', 'rb') as handle:\r\n",
    "    son_in_list = pickle.loads(handle.read())\r\n",
    "\r\n",
    "with open('./pkl_data/moe_data_dict', 'rb') as handle:\r\n",
    "    moe_data_dict = pickle.loads(handle.read())\r\n",
    "    \r\n",
    "with open('./pkl_data/mu_in_list', 'rb') as handle:\r\n",
    "    mu_in_list = pickle.loads(handle.read())"
   ],
   "outputs": [],
   "metadata": {
    "ExecuteTime": {
     "end_time": "2019-11-24T17:53:55.923975Z",
     "start_time": "2019-11-24T17:53:54.924722Z"
    }
   }
  },
  {
   "cell_type": "code",
   "execution_count": 5,
   "source": [
    "Path = './NameData/resampled_gender.csv'\r\n",
    "resampled_gender = pd.read_csv(Path, dtype = 'str')"
   ],
   "outputs": [],
   "metadata": {
    "ExecuteTime": {
     "end_time": "2019-11-24T17:49:56.972120Z",
     "start_time": "2019-11-24T17:49:56.717940Z"
    }
   }
  },
  {
   "cell_type": "code",
   "execution_count": 6,
   "source": [
    "resampled_gender = resampled_gender.drop('userID',1)\r\n",
    "resampled_gender = resampled_gender.drop('FN2_radical',1)\r\n",
    "resampled_gender = resampled_gender.drop('FN1_radical',1)\r\n",
    "resampled_gender = resampled_gender.drop('FN2_radical_index',1)\r\n",
    "resampled_gender = resampled_gender.drop('FN1_radical_index',1)\r\n",
    "resampled_gender = resampled_gender.drop('天格',1)\r\n",
    "resampled_gender = resampled_gender.drop('人格',1)\r\n",
    "resampled_gender = resampled_gender.drop('地格',1)\r\n",
    "resampled_gender = resampled_gender.drop('外格',1)\r\n",
    "resampled_gender = resampled_gender.drop('總格',1)"
   ],
   "outputs": [],
   "metadata": {
    "ExecuteTime": {
     "end_time": "2019-11-24T17:50:01.800309Z",
     "start_time": "2019-11-24T17:50:01.607417Z"
    }
   }
  },
  {
   "cell_type": "code",
   "execution_count": 7,
   "source": [
    "resampled_gender.head()"
   ],
   "outputs": [
    {
     "output_type": "execute_result",
     "data": {
      "text/html": [
       "<div>\n",
       "<style scoped>\n",
       "    .dataframe tbody tr th:only-of-type {\n",
       "        vertical-align: middle;\n",
       "    }\n",
       "\n",
       "    .dataframe tbody tr th {\n",
       "        vertical-align: top;\n",
       "    }\n",
       "\n",
       "    .dataframe thead th {\n",
       "        text-align: right;\n",
       "    }\n",
       "</style>\n",
       "<table border=\"1\" class=\"dataframe\">\n",
       "  <thead>\n",
       "    <tr style=\"text-align: right;\">\n",
       "      <th></th>\n",
       "      <th>FirstName</th>\n",
       "      <th>LastName</th>\n",
       "      <th>gender</th>\n",
       "      <th>message</th>\n",
       "      <th>name</th>\n",
       "      <th>FN1</th>\n",
       "      <th>FN2</th>\n",
       "      <th>mgender</th>\n",
       "      <th>FN1_sonin</th>\n",
       "      <th>FN1_muin</th>\n",
       "      <th>FN2_sonin</th>\n",
       "      <th>FN2_muin</th>\n",
       "      <th>FN1_sonin_index</th>\n",
       "      <th>FN2_sonin_index</th>\n",
       "      <th>FN1_muin_index</th>\n",
       "      <th>FN2_muin_index</th>\n",
       "    </tr>\n",
       "  </thead>\n",
       "  <tbody>\n",
       "    <tr>\n",
       "      <th>0</th>\n",
       "      <td>民任</td>\n",
       "      <td>吳</td>\n",
       "      <td>1</td>\n",
       "      <td>1947</td>\n",
       "      <td>吳民任</td>\n",
       "      <td>335</td>\n",
       "      <td>297</td>\n",
       "      <td>1</td>\n",
       "      <td>m</td>\n",
       "      <td>ín</td>\n",
       "      <td>r</td>\n",
       "      <td>èn</td>\n",
       "      <td>11</td>\n",
       "      <td>26</td>\n",
       "      <td>113</td>\n",
       "      <td>97</td>\n",
       "    </tr>\n",
       "    <tr>\n",
       "      <th>1</th>\n",
       "      <td>昭呈</td>\n",
       "      <td>劉</td>\n",
       "      <td>1</td>\n",
       "      <td>1965</td>\n",
       "      <td>劉昭呈</td>\n",
       "      <td>462</td>\n",
       "      <td>111</td>\n",
       "      <td>1</td>\n",
       "      <td>zh</td>\n",
       "      <td>āo</td>\n",
       "      <td>ch</td>\n",
       "      <td>éng</td>\n",
       "      <td>8</td>\n",
       "      <td>21</td>\n",
       "      <td>84</td>\n",
       "      <td>56</td>\n",
       "    </tr>\n",
       "    <tr>\n",
       "      <th>2</th>\n",
       "      <td>恩田</td>\n",
       "      <td>莊</td>\n",
       "      <td>1</td>\n",
       "      <td>1959</td>\n",
       "      <td>莊恩田</td>\n",
       "      <td>86</td>\n",
       "      <td>202</td>\n",
       "      <td>1</td>\n",
       "      <td>NaN</td>\n",
       "      <td>ēn</td>\n",
       "      <td>t</td>\n",
       "      <td>ián</td>\n",
       "      <td>2</td>\n",
       "      <td>0</td>\n",
       "      <td>98</td>\n",
       "      <td>54</td>\n",
       "    </tr>\n",
       "    <tr>\n",
       "      <th>3</th>\n",
       "      <td>呈祥</td>\n",
       "      <td>林</td>\n",
       "      <td>1</td>\n",
       "      <td>1951</td>\n",
       "      <td>林呈祥</td>\n",
       "      <td>111</td>\n",
       "      <td>165</td>\n",
       "      <td>1</td>\n",
       "      <td>ch</td>\n",
       "      <td>éng</td>\n",
       "      <td>x</td>\n",
       "      <td>iáng</td>\n",
       "      <td>21</td>\n",
       "      <td>16</td>\n",
       "      <td>56</td>\n",
       "      <td>14</td>\n",
       "    </tr>\n",
       "    <tr>\n",
       "      <th>4</th>\n",
       "      <td>碧山</td>\n",
       "      <td>廖</td>\n",
       "      <td>1</td>\n",
       "      <td>1944</td>\n",
       "      <td>廖碧山</td>\n",
       "      <td>1287</td>\n",
       "      <td>447</td>\n",
       "      <td>1</td>\n",
       "      <td>b</td>\n",
       "      <td>ì</td>\n",
       "      <td>sh</td>\n",
       "      <td>ān</td>\n",
       "      <td>7</td>\n",
       "      <td>5</td>\n",
       "      <td>156</td>\n",
       "      <td>120</td>\n",
       "    </tr>\n",
       "  </tbody>\n",
       "</table>\n",
       "</div>"
      ],
      "text/plain": [
       "  FirstName LastName gender message name   FN1  FN2 mgender FN1_sonin  \\\n",
       "0        民任        吳      1    1947  吳民任   335  297       1         m   \n",
       "1        昭呈        劉      1    1965  劉昭呈   462  111       1        zh   \n",
       "2        恩田        莊      1    1959  莊恩田    86  202       1       NaN   \n",
       "3        呈祥        林      1    1951  林呈祥   111  165       1        ch   \n",
       "4        碧山        廖      1    1944  廖碧山  1287  447       1         b   \n",
       "\n",
       "  FN1_muin FN2_sonin FN2_muin FN1_sonin_index FN2_sonin_index FN1_muin_index  \\\n",
       "0       ín         r       èn              11              26            113   \n",
       "1       āo        ch      éng               8              21             84   \n",
       "2       ēn         t      ián               2               0             98   \n",
       "3      éng         x     iáng              21              16             56   \n",
       "4        ì        sh       ān               7               5            156   \n",
       "\n",
       "  FN2_muin_index  \n",
       "0             97  \n",
       "1             56  \n",
       "2             54  \n",
       "3             14  \n",
       "4            120  "
      ]
     },
     "metadata": {},
     "execution_count": 7
    }
   ],
   "metadata": {
    "ExecuteTime": {
     "end_time": "2019-11-24T17:50:08.123663Z",
     "start_time": "2019-11-24T17:50:08.106890Z"
    }
   }
  },
  {
   "cell_type": "markdown",
   "source": [
    "# Separate muin"
   ],
   "metadata": {}
  },
  {
   "cell_type": "code",
   "execution_count": 8,
   "source": [
    "mu_in_character = [['ā', 'ē','ī','ō','ū'], ['ǎ','ě','ǐ','ǒ','ǔ'], ['á','é','í','ó','ú'], ['à','è','ì','ò','ù']]\r\n",
    "in_1 = ['ā', 'ē','ī','ō','ū']\r\n",
    "in_2 = ['ǎ','ě','ǐ','ǒ','ǔ']\r\n",
    "in_3 = ['á','é','í','ó','ú']\r\n",
    "in_4 = ['à','è','ì','ò','ù']\r\n",
    "in_5 = ['a','e','i','o','u']\r\n",
    "in_s = ['ề', 'ǘ', 'ǚ', 'ǜ']\r\n",
    "mu_dict = {}"
   ],
   "outputs": [],
   "metadata": {
    "ExecuteTime": {
     "end_time": "2019-11-24T17:51:44.693711Z",
     "start_time": "2019-11-24T17:51:44.687790Z"
    }
   }
  },
  {
   "cell_type": "code",
   "execution_count": 9,
   "source": [
    "mu_dict = {}\r\n",
    "for mc in mu_in_character :\r\n",
    "    for index,m in enumerate(mc):\r\n",
    "        if index==0:\r\n",
    "            mu_dict[m]='a'\r\n",
    "        if index==1:\r\n",
    "            mu_dict[m]='e'\r\n",
    "        if index==2:\r\n",
    "            mu_dict[m]='i'\r\n",
    "        if index==3:\r\n",
    "            mu_dict[m]='o'\r\n",
    "        if index==4:\r\n",
    "            mu_dict[m]='u'\r\n",
    "mu_dict['ề'] = 'e'\r\n",
    "mu_dict['ǘ'] = 'u'\r\n",
    "mu_dict['ǚ'] = 'u'\r\n",
    "mu_dict['ǜ'] = 'u'\r\n",
    "            \r\n",
    "# mu_dict"
   ],
   "outputs": [],
   "metadata": {
    "ExecuteTime": {
     "end_time": "2019-11-24T17:51:50.664162Z",
     "start_time": "2019-11-24T17:51:50.658201Z"
    }
   }
  },
  {
   "cell_type": "code",
   "execution_count": 10,
   "source": [
    "muin_dict = {}\r\n",
    "\r\n",
    "for i in range(5):\r\n",
    "    muin_dict[in_1[i]] = 1\r\n",
    "    muin_dict[in_2[i]] = 2\r\n",
    "    muin_dict[in_3[i]] = 3\r\n",
    "    muin_dict[in_4[i]] = 4\r\n",
    "    #muin_dict[in_5[i]] = 5\r\n",
    "muin_dict['ề'] = 6\r\n",
    "muin_dict['ǘ'] = 7\r\n",
    "muin_dict['ǚ'] = 8\r\n",
    "muin_dict['ǜ'] = 9\r\n",
    "# muin_dict"
   ],
   "outputs": [],
   "metadata": {
    "ExecuteTime": {
     "end_time": "2019-11-24T17:51:57.137548Z",
     "start_time": "2019-11-24T17:51:57.132575Z"
    }
   }
  },
  {
   "cell_type": "code",
   "execution_count": 11,
   "source": [
    "resampled_gender['FN1_muin'] = resampled_gender['FN1_muin'].fillna(-1)\r\n",
    "resampled_gender['FN2_muin'] = resampled_gender['FN2_muin'].fillna(-1)"
   ],
   "outputs": [],
   "metadata": {
    "ExecuteTime": {
     "end_time": "2019-11-24T17:52:04.686818Z",
     "start_time": "2019-11-24T17:52:04.672143Z"
    }
   }
  },
  {
   "cell_type": "code",
   "execution_count": null,
   "source": [
    "def seperate_pinjer(df,FN):\r\n",
    "    mu_list = df[FN+'_muin'].tolist()\r\n",
    "    new_mu_list = []\r\n",
    "    for index,i in enumerate(mu_list):\r\n",
    "        changed = False\r\n",
    "        if i ==-1 or i=='-1':\r\n",
    "            new_mu_list.append(i)\r\n",
    "            continue\r\n",
    "        for mu in muin_dict:\r\n",
    "            if mu in i:\r\n",
    "                #print(index,mu,i,muin_dict[mu])\r\n",
    "                new_mu_list.append(i.replace(mu,mu_dict[mu]))\r\n",
    "                changed = True\r\n",
    "                break\r\n",
    "        if changed == False :\r\n",
    "            print(i)\r\n",
    "            new_mu_list.append(i)\r\n",
    "    df[FN+'_mu_in'] = new_mu_list\r\n",
    "    return df\r\n",
    "\r\n",
    "resampled_gender = seperate_pinjer(resampled_gender , 'FN1')\r\n",
    "resampled_gender = seperate_pinjer(resampled_gender , 'FN2')\r\n"
   ],
   "outputs": [],
   "metadata": {
    "ExecuteTime": {
     "end_time": "2019-11-24T17:52:11.005775Z",
     "start_time": "2019-11-24T17:52:10.298972Z"
    }
   }
  },
  {
   "cell_type": "code",
   "execution_count": 15,
   "source": [
    "def add_pin_in_column(character, mode):\r\n",
    "    #mode 1 = sonin\r\n",
    "    #mode 2 = muin\r\n",
    "    if character == -1:\r\n",
    "        return -1\r\n",
    "    term = Totalname_list[character]\r\n",
    "    try:\r\n",
    "        if term not in moe_data_dict:\r\n",
    "            term = HanziConv.toTraditional(term)\r\n",
    "        if term in moe_data_dict:\r\n",
    "            for hete in moe_data_dict[term]['heteronyms']:\r\n",
    "                if 'pinyin' in hete and  moe_data_dict[term]['title']!='啐':\r\n",
    "                    word_p = hete['pinyin']\r\n",
    "                    if '（'  in (hete['pinyin']):\r\n",
    "                        if '（讀音）' in hete['pinyin']:\r\n",
    "                            word_p = hete['pinyin'].replace('（讀音）','')\r\n",
    "                        if '（語音）' in hete['pinyin']:\r\n",
    "                            word_p = hete['pinyin'].replace('（語音）','')   \r\n",
    "                        if '(' in word_p:\r\n",
    "                            print(word_p + \"!!\")  \r\n",
    "                    for mu in mu_in_list:\r\n",
    "                        if mu in word_p:\r\n",
    "                            if mode == 'sonin':\r\n",
    "                                return word_p[:word_p.index(mu)]\r\n",
    "                            else:\r\n",
    "                                return mu                                    \r\n",
    "            #找不到字音，看是否是哪個字的異體字\r\n",
    "            for hete in moe_data_dict[term]['heteronyms']:\r\n",
    "                for define in hete['definitions']:\r\n",
    "                    if '異體字' in define['def']:\r\n",
    "                        d =  define['def']\r\n",
    "                        alt_term = d[  d.index('「')+1 : d.index('」') ]\r\n",
    "                        #print(alt_term,term)\r\n",
    "                        for hete2 in moe_data_dict[alt_term]['heteronyms']:\r\n",
    "                            if 'pinyin' in hete2 and  moe_data_dict[alt_term]['title']!='啐':\r\n",
    "                                word_p = hete2['pinyin']\r\n",
    "                                if '（'  in (hete2['pinyin']):\r\n",
    "                                    if '（讀音）' in hete2['pinyin']:\r\n",
    "                                        word_p = hete2['pinyin'].replace('（讀音）','')\r\n",
    "                                    if '（語音）' in hete2['pinyin']:\r\n",
    "                                        word_p = hete2['pinyin'].replace('（語音）','')   \r\n",
    "                                    if '(' in word_p:\r\n",
    "                                        print(word_p + \"!!\")\r\n",
    "                                for mu in mu_in_list:\r\n",
    "                                    if mu in word_p:\r\n",
    "                                        if mode == 'sonin':\r\n",
    "                                            return word_p[:word_p.index(mu)]\r\n",
    "                                        else:\r\n",
    "                                            return mu     \r\n",
    "            #print('在字典內但沒有拼音：',term)\r\n",
    "        else:\r\n",
    "            #print('不在字典內：',term)\r\n",
    "            if term in special_word_dict:\r\n",
    "                word_p = special_word_dict[term]['pinyin']\r\n",
    "                for mu in mu_in_list:\r\n",
    "                    if mu in word_p:\r\n",
    "                        if mode == 'sonin':\r\n",
    "                            return word_p[:word_p.index(mu)]\r\n",
    "                        else:\r\n",
    "                            return mu   \r\n",
    "            else:\r\n",
    "                #print('拼音不明：',term)\r\n",
    "                if term not in unkown_dict:\r\n",
    "                    unkown_dict[term] = 1 \r\n",
    "                else:\r\n",
    "                    unkown_dict[term] += 1\r\n",
    "\r\n",
    "#             if len(moe_df[moe_df.字詞名.apply(lambda x: x==term)])>0:\r\n",
    "#                 print('不在字典內：',term)\r\n",
    "    except Exception as e:\r\n",
    "        print (e)\r\n",
    "        PrintException() \r\n",
    "\r\n",
    "def add_pin_in_index_column(pin_yin, mode):\r\n",
    "    #mode 1 = sonin\r\n",
    "    #mode 2 = muin\r\n",
    "    if pin_yin == None:\r\n",
    "        return -1\r\n",
    "    try:\r\n",
    "        if mode == 'muin':\r\n",
    "            if pin_yin in mu_in_list:\r\n",
    "                return mu_in_list.index(pin_yin)\r\n",
    "            else:\r\n",
    "                mu_in_list.append(pin_yin)\r\n",
    "                return mu_in_list.index(pin_yin)\r\n",
    "\r\n",
    "        if mode == 'sonin':\r\n",
    "            if pin_yin in son_in_list:\r\n",
    "                return son_in_list.index(pin_yin)\r\n",
    "            else:\r\n",
    "                son_in_list.append(pin_yin)\r\n",
    "                return son_in_list.index(pin_yin)\r\n",
    "\r\n",
    "    except Exception as e:\r\n",
    "        print (e)\r\n",
    "        print (fileName)\r\n",
    "        PrintException()"
   ],
   "outputs": [],
   "metadata": {
    "ExecuteTime": {
     "end_time": "2019-11-24T17:54:05.533372Z",
     "start_time": "2019-11-24T17:54:05.515778Z"
    }
   }
  },
  {
   "cell_type": "code",
   "execution_count": 17,
   "source": [
    "# Only use 'mu' without then 'in'\r\n",
    "resampled_gender['FN1_muin'] = resampled_gender['FN1_mu_in']\r\n",
    "resampled_gender['FN2_muin'] = resampled_gender['FN2_mu_in']\r\n",
    "resampled_gender = resampled_gender.drop('FN1_mu_in',1)\r\n",
    "resampled_gender = resampled_gender.drop('FN2_mu_in',1)\r\n",
    "\r\n",
    "resampled_gender['FN1_muin_index'] = resampled_gender.FN1_muin.apply(lambda x: add_pin_in_index_column(x,'muin'))\r\n",
    "resampled_gender['FN2_muin_index'] = resampled_gender.FN2_muin.apply(lambda x: add_pin_in_index_column(x,'muin'))"
   ],
   "outputs": [],
   "metadata": {
    "ExecuteTime": {
     "end_time": "2019-11-24T17:54:34.243928Z",
     "start_time": "2019-11-24T17:54:33.859725Z"
    }
   }
  },
  {
   "cell_type": "code",
   "execution_count": 18,
   "source": [
    "resampled_gender.head()"
   ],
   "outputs": [
    {
     "output_type": "execute_result",
     "data": {
      "text/html": [
       "<div>\n",
       "<style scoped>\n",
       "    .dataframe tbody tr th:only-of-type {\n",
       "        vertical-align: middle;\n",
       "    }\n",
       "\n",
       "    .dataframe tbody tr th {\n",
       "        vertical-align: top;\n",
       "    }\n",
       "\n",
       "    .dataframe thead th {\n",
       "        text-align: right;\n",
       "    }\n",
       "</style>\n",
       "<table border=\"1\" class=\"dataframe\">\n",
       "  <thead>\n",
       "    <tr style=\"text-align: right;\">\n",
       "      <th></th>\n",
       "      <th>FirstName</th>\n",
       "      <th>LastName</th>\n",
       "      <th>gender</th>\n",
       "      <th>message</th>\n",
       "      <th>name</th>\n",
       "      <th>FN1</th>\n",
       "      <th>FN2</th>\n",
       "      <th>mgender</th>\n",
       "      <th>FN1_sonin</th>\n",
       "      <th>FN1_muin</th>\n",
       "      <th>FN2_sonin</th>\n",
       "      <th>FN2_muin</th>\n",
       "      <th>FN1_sonin_index</th>\n",
       "      <th>FN2_sonin_index</th>\n",
       "      <th>FN1_muin_index</th>\n",
       "      <th>FN2_muin_index</th>\n",
       "    </tr>\n",
       "  </thead>\n",
       "  <tbody>\n",
       "    <tr>\n",
       "      <th>0</th>\n",
       "      <td>民任</td>\n",
       "      <td>吳</td>\n",
       "      <td>1</td>\n",
       "      <td>1947</td>\n",
       "      <td>吳民任</td>\n",
       "      <td>335</td>\n",
       "      <td>297</td>\n",
       "      <td>1</td>\n",
       "      <td>m</td>\n",
       "      <td>in</td>\n",
       "      <td>r</td>\n",
       "      <td>en</td>\n",
       "      <td>11</td>\n",
       "      <td>26</td>\n",
       "      <td>75</td>\n",
       "      <td>76</td>\n",
       "    </tr>\n",
       "    <tr>\n",
       "      <th>1</th>\n",
       "      <td>昭呈</td>\n",
       "      <td>劉</td>\n",
       "      <td>1</td>\n",
       "      <td>1965</td>\n",
       "      <td>劉昭呈</td>\n",
       "      <td>462</td>\n",
       "      <td>111</td>\n",
       "      <td>1</td>\n",
       "      <td>zh</td>\n",
       "      <td>ao</td>\n",
       "      <td>ch</td>\n",
       "      <td>eng</td>\n",
       "      <td>8</td>\n",
       "      <td>21</td>\n",
       "      <td>74</td>\n",
       "      <td>25</td>\n",
       "    </tr>\n",
       "    <tr>\n",
       "      <th>2</th>\n",
       "      <td>恩田</td>\n",
       "      <td>莊</td>\n",
       "      <td>1</td>\n",
       "      <td>1959</td>\n",
       "      <td>莊恩田</td>\n",
       "      <td>86</td>\n",
       "      <td>202</td>\n",
       "      <td>1</td>\n",
       "      <td>NaN</td>\n",
       "      <td>en</td>\n",
       "      <td>t</td>\n",
       "      <td>ian</td>\n",
       "      <td>2</td>\n",
       "      <td>0</td>\n",
       "      <td>76</td>\n",
       "      <td>21</td>\n",
       "    </tr>\n",
       "    <tr>\n",
       "      <th>3</th>\n",
       "      <td>呈祥</td>\n",
       "      <td>林</td>\n",
       "      <td>1</td>\n",
       "      <td>1951</td>\n",
       "      <td>林呈祥</td>\n",
       "      <td>111</td>\n",
       "      <td>165</td>\n",
       "      <td>1</td>\n",
       "      <td>ch</td>\n",
       "      <td>eng</td>\n",
       "      <td>x</td>\n",
       "      <td>iang</td>\n",
       "      <td>21</td>\n",
       "      <td>16</td>\n",
       "      <td>25</td>\n",
       "      <td>2</td>\n",
       "    </tr>\n",
       "    <tr>\n",
       "      <th>4</th>\n",
       "      <td>碧山</td>\n",
       "      <td>廖</td>\n",
       "      <td>1</td>\n",
       "      <td>1944</td>\n",
       "      <td>廖碧山</td>\n",
       "      <td>1287</td>\n",
       "      <td>447</td>\n",
       "      <td>1</td>\n",
       "      <td>b</td>\n",
       "      <td>i</td>\n",
       "      <td>sh</td>\n",
       "      <td>an</td>\n",
       "      <td>7</td>\n",
       "      <td>5</td>\n",
       "      <td>164</td>\n",
       "      <td>80</td>\n",
       "    </tr>\n",
       "  </tbody>\n",
       "</table>\n",
       "</div>"
      ],
      "text/plain": [
       "  FirstName LastName gender message name   FN1  FN2 mgender FN1_sonin  \\\n",
       "0        民任        吳      1    1947  吳民任   335  297       1         m   \n",
       "1        昭呈        劉      1    1965  劉昭呈   462  111       1        zh   \n",
       "2        恩田        莊      1    1959  莊恩田    86  202       1       NaN   \n",
       "3        呈祥        林      1    1951  林呈祥   111  165       1        ch   \n",
       "4        碧山        廖      1    1944  廖碧山  1287  447       1         b   \n",
       "\n",
       "  FN1_muin FN2_sonin FN2_muin FN1_sonin_index FN2_sonin_index  FN1_muin_index  \\\n",
       "0       in         r       en              11              26              75   \n",
       "1       ao        ch      eng               8              21              74   \n",
       "2       en         t      ian               2               0              76   \n",
       "3      eng         x     iang              21              16              25   \n",
       "4        i        sh       an               7               5             164   \n",
       "\n",
       "   FN2_muin_index  \n",
       "0              76  \n",
       "1              25  \n",
       "2              21  \n",
       "3               2  \n",
       "4              80  "
      ]
     },
     "metadata": {},
     "execution_count": 18
    }
   ],
   "metadata": {
    "ExecuteTime": {
     "end_time": "2019-11-24T17:54:47.268046Z",
     "start_time": "2019-11-24T17:54:47.251957Z"
    }
   }
  },
  {
   "cell_type": "markdown",
   "source": [
    "# RFC Gender"
   ],
   "metadata": {}
  },
  {
   "cell_type": "code",
   "execution_count": 19,
   "source": [
    "from sklearn.model_selection import train_test_split\r\n",
    "from sklearn.ensemble import RandomForestClassifier\r\n",
    "from sklearn.metrics import accuracy_score\r\n",
    "from sklearn.metrics import confusion_matrix\r\n",
    "from sklearn.metrics import classification_report\r\n",
    "\r\n",
    "def dataset_statistics(dataset):\r\n",
    "    \"\"\"\r\n",
    "    Basic statistics of the dataset\r\n",
    "    :param dataset: Pandas dataframe\r\n",
    "    :return: None, print the basic statistics of the dataset\r\n",
    "    \"\"\"\r\n",
    "    print (dataset.describe())\r\n",
    "    \r\n",
    "#http://dataaspirant.com/2017/06/26/random-forest-classifier-python-scikit-learn/\r\n",
    "#Split train and test\r\n",
    "def split_dataset(dataset, train_percentage, feature_headers, target_header):\r\n",
    "    \"\"\"\r\n",
    "    Split the dataset with train_percentage\r\n",
    "    :param dataset:\r\n",
    "    :param train_percentage:\r\n",
    "    :param feature_headers:\r\n",
    "    :param target_header:\r\n",
    "    :return: train_x, test_x, train_y, test_y\r\n",
    "    \"\"\"\r\n",
    "\r\n",
    "    # Split dataset into train and test dataset\r\n",
    "    train_x, test_x, train_y, test_y = train_test_split(dataset[feature_headers], dataset[target_header],\r\n",
    "                                                        train_size = train_percentage)\r\n",
    "    return train_x, test_x, train_y, test_y\r\n",
    "\r\n",
    "def random_forest_classifier(features, target):\r\n",
    "    \"\"\"\r\n",
    "    To train the random forest classifier with features and target data\r\n",
    "    :param features:\r\n",
    "    :param target:\r\n",
    "    :return: trained random forest classifier\r\n",
    "    \"\"\"\r\n",
    "    clf = RandomForestClassifier(n_estimators = 33, n_jobs = -1 , min_samples_leaf = 1)\r\n",
    "    clf.fit(features, target)\r\n",
    "    return clf"
   ],
   "outputs": [],
   "metadata": {
    "ExecuteTime": {
     "end_time": "2019-11-24T17:55:10.092021Z",
     "start_time": "2019-11-24T17:55:10.071190Z"
    }
   }
  },
  {
   "cell_type": "code",
   "execution_count": 20,
   "source": [
    "def basic_RFClassifier(data_df,x_feature,y_feature,Validation_times):\r\n",
    "\r\n",
    "    #N fold cross-validation\r\n",
    "    Train_accuracy_score = 0\r\n",
    "    Test_accuracy_score = 0\r\n",
    "    \r\n",
    "    for i in range(Validation_times):\r\n",
    "        train_x, test_x, train_y, test_y = split_dataset(data_df, 0.7, x_feature, y_feature)\r\n",
    " \r\n",
    "        # Create random forest classifier instance\r\n",
    "        trained_model = random_forest_classifier(train_x, train_y)\r\n",
    "        \r\n",
    "        predictions = trained_model.predict(test_x)\r\n",
    "#         print(predictions)\r\n",
    "\r\n",
    "        # Train and Test Accuracy\r\n",
    "        if(Validation_times!=1):\r\n",
    "            print('Run times:', i+1)\r\n",
    "        print (\"Train Accuracy :: \", accuracy_score(train_y, trained_model.predict(train_x)))\r\n",
    "        print (\"Test Accuracy  :: \", accuracy_score(test_y, predictions))\r\n",
    "        #print (\"Confusion matrix\\n \", confusion_matrix(test_y, predictions))\r\n",
    "\r\n",
    "        Train_accuracy_score += accuracy_score(train_y, trained_model.predict(train_x))\r\n",
    "        Test_accuracy_score += accuracy_score(test_y, predictions)\r\n",
    "        #calculate_error(predictions, test_y )\r\n",
    "        #validate_error(predictions, test_y, test_x , data_df)\r\n",
    "        \r\n",
    "    if(Validation_times != 1):\r\n",
    "        Train_accuracy_score /= Validation_times\r\n",
    "        Test_accuracy_score /= Validation_times\r\n",
    "        print (\"Average Train Accuracy :: \", Train_accuracy_score)\r\n",
    "        print (\"Average Test Accuracy  :: \", Test_accuracy_score)\r\n",
    "    \r\n",
    "    return trained_model"
   ],
   "outputs": [],
   "metadata": {
    "ExecuteTime": {
     "end_time": "2019-11-24T17:55:19.237661Z",
     "start_time": "2019-11-24T17:55:19.230098Z"
    }
   }
  },
  {
   "cell_type": "markdown",
   "source": [
    "# Use 'gender'"
   ],
   "metadata": {}
  },
  {
   "cell_type": "code",
   "execution_count": 21,
   "source": [
    "# 6F\r\n",
    "\r\n",
    "x_feature = ['FN1','FN2','FN1_sonin_index','FN2_sonin_index','FN1_muin_index','FN2_muin_index']\r\n",
    "y_feature = ['gender']\r\n",
    "    \r\n",
    "gender_test = basic_RFClassifier(resampled_gender, x_feature, y_feature, 10)"
   ],
   "outputs": [
    {
     "output_type": "stream",
     "name": "stderr",
     "text": [
      "/usr/local/lib/python3.6/dist-packages/sklearn/model_selection/_split.py:2179: FutureWarning:\n",
      "\n",
      "From version 0.21, test_size will always complement train_size unless both are specified.\n",
      "\n",
      "/home/yvonnechow/.local/lib/python3.6/site-packages/ipykernel_launcher.py:40: DataConversionWarning:\n",
      "\n",
      "A column-vector y was passed when a 1d array was expected. Please change the shape of y to (n_samples,), for example using ravel().\n",
      "\n"
     ]
    },
    {
     "output_type": "stream",
     "name": "stdout",
     "text": [
      "Run times: 1\n",
      "Train Accuracy ::  0.9620487576183778\n",
      "Test Accuracy  ::  0.8573264781491002\n"
     ]
    },
    {
     "output_type": "stream",
     "name": "stderr",
     "text": [
      "/usr/local/lib/python3.6/dist-packages/sklearn/model_selection/_split.py:2179: FutureWarning:\n",
      "\n",
      "From version 0.21, test_size will always complement train_size unless both are specified.\n",
      "\n",
      "/home/yvonnechow/.local/lib/python3.6/site-packages/ipykernel_launcher.py:40: DataConversionWarning:\n",
      "\n",
      "A column-vector y was passed when a 1d array was expected. Please change the shape of y to (n_samples,), for example using ravel().\n",
      "\n"
     ]
    },
    {
     "output_type": "stream",
     "name": "stdout",
     "text": [
      "Run times: 2\n",
      "Train Accuracy ::  0.9613924050632912\n",
      "Test Accuracy  ::  0.8579554777662309\n"
     ]
    },
    {
     "output_type": "stream",
     "name": "stderr",
     "text": [
      "/usr/local/lib/python3.6/dist-packages/sklearn/model_selection/_split.py:2179: FutureWarning:\n",
      "\n",
      "From version 0.21, test_size will always complement train_size unless both are specified.\n",
      "\n",
      "/home/yvonnechow/.local/lib/python3.6/site-packages/ipykernel_launcher.py:40: DataConversionWarning:\n",
      "\n",
      "A column-vector y was passed when a 1d array was expected. Please change the shape of y to (n_samples,), for example using ravel().\n",
      "\n"
     ]
    },
    {
     "output_type": "stream",
     "name": "stdout",
     "text": [
      "Run times: 3\n",
      "Train Accuracy ::  0.9627519924988279\n",
      "Test Accuracy  ::  0.8520756987365312\n"
     ]
    },
    {
     "output_type": "stream",
     "name": "stderr",
     "text": [
      "/usr/local/lib/python3.6/dist-packages/sklearn/model_selection/_split.py:2179: FutureWarning:\n",
      "\n",
      "From version 0.21, test_size will always complement train_size unless both are specified.\n",
      "\n",
      "/home/yvonnechow/.local/lib/python3.6/site-packages/ipykernel_launcher.py:40: DataConversionWarning:\n",
      "\n",
      "A column-vector y was passed when a 1d array was expected. Please change the shape of y to (n_samples,), for example using ravel().\n",
      "\n"
     ]
    },
    {
     "output_type": "stream",
     "name": "stdout",
     "text": [
      "Run times: 4\n",
      "Train Accuracy ::  0.9621894045944679\n",
      "Test Accuracy  ::  0.856068478914839\n"
     ]
    },
    {
     "output_type": "stream",
     "name": "stderr",
     "text": [
      "/usr/local/lib/python3.6/dist-packages/sklearn/model_selection/_split.py:2179: FutureWarning:\n",
      "\n",
      "From version 0.21, test_size will always complement train_size unless both are specified.\n",
      "\n",
      "/home/yvonnechow/.local/lib/python3.6/site-packages/ipykernel_launcher.py:40: DataConversionWarning:\n",
      "\n",
      "A column-vector y was passed when a 1d array was expected. Please change the shape of y to (n_samples,), for example using ravel().\n",
      "\n"
     ]
    },
    {
     "output_type": "stream",
     "name": "stdout",
     "text": [
      "Run times: 5\n",
      "Train Accuracy ::  0.961685419596812\n",
      "Test Accuracy  ::  0.8547010884428158\n"
     ]
    },
    {
     "output_type": "stream",
     "name": "stderr",
     "text": [
      "/usr/local/lib/python3.6/dist-packages/sklearn/model_selection/_split.py:2179: FutureWarning:\n",
      "\n",
      "From version 0.21, test_size will always complement train_size unless both are specified.\n",
      "\n",
      "/home/yvonnechow/.local/lib/python3.6/site-packages/ipykernel_launcher.py:40: DataConversionWarning:\n",
      "\n",
      "A column-vector y was passed when a 1d array was expected. Please change the shape of y to (n_samples,), for example using ravel().\n",
      "\n"
     ]
    },
    {
     "output_type": "stream",
     "name": "stdout",
     "text": [
      "Run times: 6\n",
      "Train Accuracy ::  0.9620135958743554\n",
      "Test Accuracy  ::  0.8588306076683258\n"
     ]
    },
    {
     "output_type": "stream",
     "name": "stderr",
     "text": [
      "/usr/local/lib/python3.6/dist-packages/sklearn/model_selection/_split.py:2179: FutureWarning:\n",
      "\n",
      "From version 0.21, test_size will always complement train_size unless both are specified.\n",
      "\n",
      "/home/yvonnechow/.local/lib/python3.6/site-packages/ipykernel_launcher.py:40: DataConversionWarning:\n",
      "\n",
      "A column-vector y was passed when a 1d array was expected. Please change the shape of y to (n_samples,), for example using ravel().\n",
      "\n"
     ]
    },
    {
     "output_type": "stream",
     "name": "stdout",
     "text": [
      "Run times: 7\n",
      "Train Accuracy ::  0.9620604781997187\n",
      "Test Accuracy  ::  0.8575999562435049\n"
     ]
    },
    {
     "output_type": "stream",
     "name": "stderr",
     "text": [
      "/usr/local/lib/python3.6/dist-packages/sklearn/model_selection/_split.py:2179: FutureWarning:\n",
      "\n",
      "From version 0.21, test_size will always complement train_size unless both are specified.\n",
      "\n",
      "/home/yvonnechow/.local/lib/python3.6/site-packages/ipykernel_launcher.py:40: DataConversionWarning:\n",
      "\n",
      "A column-vector y was passed when a 1d array was expected. Please change the shape of y to (n_samples,), for example using ravel().\n",
      "\n"
     ]
    },
    {
     "output_type": "stream",
     "name": "stdout",
     "text": [
      "Run times: 8\n",
      "Train Accuracy ::  0.962037037037037\n",
      "Test Accuracy  ::  0.8540994366351256\n"
     ]
    },
    {
     "output_type": "stream",
     "name": "stderr",
     "text": [
      "/usr/local/lib/python3.6/dist-packages/sklearn/model_selection/_split.py:2179: FutureWarning:\n",
      "\n",
      "From version 0.21, test_size will always complement train_size unless both are specified.\n",
      "\n",
      "/home/yvonnechow/.local/lib/python3.6/site-packages/ipykernel_launcher.py:40: DataConversionWarning:\n",
      "\n",
      "A column-vector y was passed when a 1d array was expected. Please change the shape of y to (n_samples,), for example using ravel().\n",
      "\n"
     ]
    },
    {
     "output_type": "stream",
     "name": "stdout",
     "text": [
      "Run times: 9\n",
      "Train Accuracy ::  0.9624472573839662\n",
      "Test Accuracy  ::  0.8561505223431604\n"
     ]
    },
    {
     "output_type": "stream",
     "name": "stderr",
     "text": [
      "/usr/local/lib/python3.6/dist-packages/sklearn/model_selection/_split.py:2179: FutureWarning:\n",
      "\n",
      "From version 0.21, test_size will always complement train_size unless both are specified.\n",
      "\n",
      "/home/yvonnechow/.local/lib/python3.6/site-packages/ipykernel_launcher.py:40: DataConversionWarning:\n",
      "\n",
      "A column-vector y was passed when a 1d array was expected. Please change the shape of y to (n_samples,), for example using ravel().\n",
      "\n"
     ]
    },
    {
     "output_type": "stream",
     "name": "stdout",
     "text": [
      "Run times: 10\n",
      "Train Accuracy ::  0.9627051101734646\n",
      "Test Accuracy  ::  0.8568068697697314\n",
      "Average Train Accuracy ::  0.9621331458040319\n",
      "Average Test Accuracy  ::  0.8561614614669365\n"
     ]
    }
   ],
   "metadata": {
    "ExecuteTime": {
     "end_time": "2019-11-24T17:56:20.038781Z",
     "start_time": "2019-11-24T17:56:08.331959Z"
    }
   }
  },
  {
   "cell_type": "code",
   "execution_count": 25,
   "source": [
    "# Read uni-gram classifier\r\n",
    "# 6F\r\n",
    "\r\n",
    "x_feature = ['FN1','FN2','FN1_sonin_index','FN2_sonin_index','FN1_muin_index','FN2_muin_index']\r\n",
    "    \r\n",
    "result = gender_test.predict(mysdata[x_feature])\r\n",
    "prob = gender_test.predict_proba(mysdata[x_feature])"
   ],
   "outputs": [],
   "metadata": {
    "ExecuteTime": {
     "end_time": "2019-11-24T18:08:30.077989Z",
     "start_time": "2019-11-24T18:08:29.863741Z"
    }
   }
  },
  {
   "cell_type": "code",
   "execution_count": null,
   "source": [
    "gender_list = mysdata['GuessedGender'].tolist()"
   ],
   "outputs": [],
   "metadata": {}
  },
  {
   "cell_type": "code",
   "execution_count": null,
   "source": [
    "counter = 0\r\n",
    "not_match = []\r\n",
    "for x in range(len(result)):\r\n",
    "    if gender_list[x] == int(result[x]):\r\n",
    "        counter += 1\r\n",
    "    else:\r\n",
    "        not_match.append(x)\r\n",
    "        \r\n",
    "print(counter)\r\n",
    "print(len(result))\r\n",
    "print(counter/len(result))"
   ],
   "outputs": [],
   "metadata": {}
  }
 ],
 "metadata": {
  "kernelspec": {
   "display_name": "Python 3",
   "language": "python",
   "name": "python3"
  },
  "language_info": {
   "codemirror_mode": {
    "name": "ipython",
    "version": 3
   },
   "file_extension": ".py",
   "mimetype": "text/x-python",
   "name": "python",
   "nbconvert_exporter": "python",
   "pygments_lexer": "ipython3",
   "version": "3.6.8"
  }
 },
 "nbformat": 4,
 "nbformat_minor": 2
}