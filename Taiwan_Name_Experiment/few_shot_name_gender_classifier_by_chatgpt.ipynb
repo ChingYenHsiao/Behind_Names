{
 "cells": [
  {
   "attachments": {},
   "cell_type": "markdown",
   "metadata": {},
   "source": [
    "# data prepare"
   ]
  },
  {
   "cell_type": "code",
   "execution_count": 137,
   "metadata": {},
   "outputs": [],
   "source": [
    "import pandas as pd"
   ]
  },
  {
   "cell_type": "code",
   "execution_count": 16,
   "metadata": {},
   "outputs": [],
   "source": [
    "name_df = pd.read_csv(r\"name_data\\name_with_gender_data.csv\")"
   ]
  },
  {
   "cell_type": "code",
   "execution_count": 135,
   "metadata": {},
   "outputs": [
    {
     "data": {
      "text/html": [
       "<div>\n",
       "<style scoped>\n",
       "    .dataframe tbody tr th:only-of-type {\n",
       "        vertical-align: middle;\n",
       "    }\n",
       "\n",
       "    .dataframe tbody tr th {\n",
       "        vertical-align: top;\n",
       "    }\n",
       "\n",
       "    .dataframe thead th {\n",
       "        text-align: right;\n",
       "    }\n",
       "</style>\n",
       "<table border=\"1\" class=\"dataframe\">\n",
       "  <thead>\n",
       "    <tr style=\"text-align: right;\">\n",
       "      <th></th>\n",
       "      <th>name</th>\n",
       "      <th>gender</th>\n",
       "      <th>message</th>\n",
       "      <th>BirthYear</th>\n",
       "    </tr>\n",
       "  </thead>\n",
       "  <tbody>\n",
       "    <tr>\n",
       "      <th>0</th>\n",
       "      <td>丁承先</td>\n",
       "      <td>1</td>\n",
       "      <td>1940</td>\n",
       "      <td>0</td>\n",
       "    </tr>\n",
       "    <tr>\n",
       "      <th>1</th>\n",
       "      <td>丁昞原</td>\n",
       "      <td>1</td>\n",
       "      <td>1940</td>\n",
       "      <td>0</td>\n",
       "    </tr>\n",
       "    <tr>\n",
       "      <th>2</th>\n",
       "      <td>方超</td>\n",
       "      <td>1</td>\n",
       "      <td>1940</td>\n",
       "      <td>0</td>\n",
       "    </tr>\n",
       "    <tr>\n",
       "      <th>3</th>\n",
       "      <td>方九龍</td>\n",
       "      <td>1</td>\n",
       "      <td>1940</td>\n",
       "      <td>0</td>\n",
       "    </tr>\n",
       "    <tr>\n",
       "      <th>4</th>\n",
       "      <td>方大錚</td>\n",
       "      <td>1</td>\n",
       "      <td>1940</td>\n",
       "      <td>0</td>\n",
       "    </tr>\n",
       "    <tr>\n",
       "      <th>...</th>\n",
       "      <td>...</td>\n",
       "      <td>...</td>\n",
       "      <td>...</td>\n",
       "      <td>...</td>\n",
       "    </tr>\n",
       "    <tr>\n",
       "      <th>138773</th>\n",
       "      <td>程麗庭</td>\n",
       "      <td>0</td>\n",
       "      <td>1982</td>\n",
       "      <td>8</td>\n",
       "    </tr>\n",
       "    <tr>\n",
       "      <th>138774</th>\n",
       "      <td>許家榛</td>\n",
       "      <td>0</td>\n",
       "      <td>1979</td>\n",
       "      <td>7</td>\n",
       "    </tr>\n",
       "    <tr>\n",
       "      <th>138775</th>\n",
       "      <td>田崑成</td>\n",
       "      <td>1</td>\n",
       "      <td>1978</td>\n",
       "      <td>7</td>\n",
       "    </tr>\n",
       "    <tr>\n",
       "      <th>138776</th>\n",
       "      <td>筱欣</td>\n",
       "      <td>0</td>\n",
       "      <td>1998</td>\n",
       "      <td>11</td>\n",
       "    </tr>\n",
       "    <tr>\n",
       "      <th>138777</th>\n",
       "      <td>劉思昀</td>\n",
       "      <td>0</td>\n",
       "      <td>2003</td>\n",
       "      <td>12</td>\n",
       "    </tr>\n",
       "  </tbody>\n",
       "</table>\n",
       "<p>138778 rows × 4 columns</p>\n",
       "</div>"
      ],
      "text/plain": [
       "       name  gender  message  BirthYear\n",
       "0       丁承先       1     1940          0\n",
       "1       丁昞原       1     1940          0\n",
       "2        方超       1     1940          0\n",
       "3       方九龍       1     1940          0\n",
       "4       方大錚       1     1940          0\n",
       "...     ...     ...      ...        ...\n",
       "138773  程麗庭       0     1982          8\n",
       "138774  許家榛       0     1979          7\n",
       "138775  田崑成       1     1978          7\n",
       "138776   筱欣       0     1998         11\n",
       "138777  劉思昀       0     2003         12\n",
       "\n",
       "[138778 rows x 4 columns]"
      ]
     },
     "execution_count": 135,
     "metadata": {},
     "output_type": "execute_result"
    }
   ],
   "source": [
    "name_df"
   ]
  },
  {
   "attachments": {},
   "cell_type": "markdown",
   "metadata": {},
   "source": [
    "# Few shot Classifier by ask chatgpt"
   ]
  },
  {
   "cell_type": "code",
   "execution_count": 12,
   "metadata": {},
   "outputs": [],
   "source": [
    "import openai # OpenAI API\n",
    "import time\n",
    "openai.api_key  = \"\""
   ]
  },
  {
   "cell_type": "code",
   "execution_count": 78,
   "metadata": {},
   "outputs": [],
   "source": [
    "def initialize():\n",
    "    initialMessage = [\n",
    "        {\"role\": \"system\",\n",
    "        \"content\": \"\"\"\n",
    "{\\\"丁承先\\\": {\"gender\":  男, \"age\": 80,},\n",
    "\\\"孫玉燕\\\": {\"gender\":  女, \"age\": 72,},\n",
    "\\\"賴惠玉\\\": {\"gender\":  女, \"age\": 45,},\n",
    "\\\"鄭裕融\\\": {\"gender\":  男, \"age\": 31,},\n",
    "\\\"曾振民\\\": {\"gender\":  男, \"age\": 57,},\n",
    "...}\n",
    "以上是人名的年齡和性別的資料的範例,  請協助我補完我輸入的中文名字的年齡與性別, 年齡的範圍是20~80, 性別是男或女,\n",
    "以json格式回答, 不要作其他解釋與說明, 替每個名字給予一個最常見的數值, 現在開始\"\"\"\n",
    "},\n",
    "]\n",
    "    return initialMessage"
   ]
  },
  {
   "cell_type": "code",
   "execution_count": 79,
   "metadata": {},
   "outputs": [],
   "source": [
    "def updateMessageList(message, role, messageList):\n",
    "\n",
    "    try:\n",
    "        messageList.append({\n",
    "            \"role\": role,\n",
    "            \"content\": message,\n",
    "        })\n",
    "    except Exception as e:\n",
    "        print(e)\n",
    "\n",
    "    return messageList\n",
    "\n",
    "def getResponse(prompt, history=[], messageList={}):\n",
    "\n",
    "    # 將使用者輸入內容更新至訊息紀錄\n",
    "    updateMessageList(prompt, 'user', messageList)\n",
    "\n",
    "    # 與API互動並取得回應\n",
    "    responseDict = openai.ChatCompletion.create(\n",
    "        model='gpt-3.5-turbo',\n",
    "        messages=messageList,\n",
    "    )\n",
    "\n",
    "    # 擷取回覆字串\n",
    "    responseMessage = responseDict['choices'][0]['message']['content']\n",
    "\n",
    "    # 將回覆更新至訊息紀錄\n",
    "    updateMessageList(responseMessage, 'assistant', messageList)\n",
    "\n",
    "    # 將使用者以及機器人的訊息整理為兩個串列\n",
    "    userContext = [content['content']\n",
    "                   for content in messageList if content['role'] == 'user']\n",
    "    assistantContext = [content['content']\n",
    "                        for content in messageList if content['role'] == 'assistant']\n",
    "\n",
    "    # 利用使用者以及機器人訊息構成對話紀錄\n",
    "    response = [(_user, _response) for _user, _response in zip(\n",
    "        userContext[1:], assistantContext[1:])]\n",
    "\n",
    "    # 回傳對話紀錄，由於我們使用自定義的方法進行訊息紀錄，故不需要回傳紀錄\n",
    "    return response, []"
   ]
  },
  {
   "cell_type": "code",
   "execution_count": 6,
   "metadata": {},
   "outputs": [
    {
     "data": {
      "text/plain": [
       "[{'role': 'system',\n",
       "  'content': '\\n{\"丁承先\": {\"gender\":  男, \"age\": 80,},\\n\"孫玉燕\": {\"gender\":  女, \"age\": 72,},\\n\"鄭裕融\": {\"gender\":  男, \"age\": 31,},\\n...}\\n以上是人名的年齡和性別的資料的範例,  請協助我補完我輸入的中文名字的年齡與性別,\\n以json格式回答, 不要作其他解釋與說明, 替每個名字給予一個最常見的數值, 現在開始'}]"
      ]
     },
     "execution_count": 6,
     "metadata": {},
     "output_type": "execute_result"
    }
   ],
   "source": [
    "messageList = initialize()\n",
    "messageList"
   ]
  },
  {
   "cell_type": "code",
   "execution_count": 8,
   "metadata": {},
   "outputs": [],
   "source": [
    "def get_response(sentence, messageList):\n",
    "    messageList.append({\n",
    "        \"role\": \"user\",\n",
    "        \"content\": sentence,\n",
    "    })\n",
    "    \n",
    "    # 與API互動並取得回應\n",
    "    responseDict = openai.ChatCompletion.create(\n",
    "        model='gpt-3.5-turbo',\n",
    "        messages=messageList,\n",
    "    )\n",
    "\n",
    "    # 擷取回覆字串\n",
    "    responseMessage = responseDict['choices'][0]['message']['content']\n",
    "    \n",
    "    return responseMessage"
   ]
  },
  {
   "cell_type": "code",
   "execution_count": 13,
   "metadata": {},
   "outputs": [
    {
     "data": {
      "text/plain": [
       "'{\"陳昱彤\": {\"gender\": \"女\", \"age\": 27}}'"
      ]
     },
     "execution_count": 13,
     "metadata": {},
     "output_type": "execute_result"
    }
   ],
   "source": [
    "responseMessage = get_response(\"陳昱彤\", messageList)\n",
    "responseMessage"
   ]
  },
  {
   "cell_type": "code",
   "execution_count": 23,
   "metadata": {},
   "outputs": [],
   "source": [
    "def str_to_json(responseMessage):\n",
    "    import json\n",
    "    return json.loads(responseMessage)"
   ]
  },
  {
   "cell_type": "code",
   "execution_count": null,
   "metadata": {},
   "outputs": [],
   "source": [
    "predict_result = {}\n",
    "# 每階層取50個人名出來\n",
    "test_df = name_df.groupby('BirthYear').apply(lambda x: x.sample(50)).reset_index(drop=True)"
   ]
  },
  {
   "cell_type": "code",
   "execution_count": 136,
   "metadata": {},
   "outputs": [
    {
     "data": {
      "text/html": [
       "<div>\n",
       "<style scoped>\n",
       "    .dataframe tbody tr th:only-of-type {\n",
       "        vertical-align: middle;\n",
       "    }\n",
       "\n",
       "    .dataframe tbody tr th {\n",
       "        vertical-align: top;\n",
       "    }\n",
       "\n",
       "    .dataframe thead th {\n",
       "        text-align: right;\n",
       "    }\n",
       "</style>\n",
       "<table border=\"1\" class=\"dataframe\">\n",
       "  <thead>\n",
       "    <tr style=\"text-align: right;\">\n",
       "      <th></th>\n",
       "      <th>name</th>\n",
       "      <th>gender</th>\n",
       "      <th>message</th>\n",
       "      <th>BirthYear</th>\n",
       "    </tr>\n",
       "  </thead>\n",
       "  <tbody>\n",
       "    <tr>\n",
       "      <th>0</th>\n",
       "      <td>林克毅</td>\n",
       "      <td>1</td>\n",
       "      <td>1944</td>\n",
       "      <td>0</td>\n",
       "    </tr>\n",
       "    <tr>\n",
       "      <th>1</th>\n",
       "      <td>林文雄</td>\n",
       "      <td>1</td>\n",
       "      <td>1940</td>\n",
       "      <td>0</td>\n",
       "    </tr>\n",
       "    <tr>\n",
       "      <th>2</th>\n",
       "      <td>詹有為</td>\n",
       "      <td>1</td>\n",
       "      <td>1944</td>\n",
       "      <td>0</td>\n",
       "    </tr>\n",
       "    <tr>\n",
       "      <th>3</th>\n",
       "      <td>宣凱兒</td>\n",
       "      <td>0</td>\n",
       "      <td>1944</td>\n",
       "      <td>0</td>\n",
       "    </tr>\n",
       "    <tr>\n",
       "      <th>4</th>\n",
       "      <td>蔡秀繼</td>\n",
       "      <td>1</td>\n",
       "      <td>1944</td>\n",
       "      <td>0</td>\n",
       "    </tr>\n",
       "    <tr>\n",
       "      <th>...</th>\n",
       "      <td>...</td>\n",
       "      <td>...</td>\n",
       "      <td>...</td>\n",
       "      <td>...</td>\n",
       "    </tr>\n",
       "    <tr>\n",
       "      <th>695</th>\n",
       "      <td>洪正洋</td>\n",
       "      <td>1</td>\n",
       "      <td>2005</td>\n",
       "      <td>13</td>\n",
       "    </tr>\n",
       "    <tr>\n",
       "      <th>696</th>\n",
       "      <td>符睿妤</td>\n",
       "      <td>0</td>\n",
       "      <td>2005</td>\n",
       "      <td>13</td>\n",
       "    </tr>\n",
       "    <tr>\n",
       "      <th>697</th>\n",
       "      <td>李芝嫻</td>\n",
       "      <td>0</td>\n",
       "      <td>2006</td>\n",
       "      <td>13</td>\n",
       "    </tr>\n",
       "    <tr>\n",
       "      <th>698</th>\n",
       "      <td>黃韻嘉</td>\n",
       "      <td>0</td>\n",
       "      <td>2005</td>\n",
       "      <td>13</td>\n",
       "    </tr>\n",
       "    <tr>\n",
       "      <th>699</th>\n",
       "      <td>湯進冠</td>\n",
       "      <td>1</td>\n",
       "      <td>2005</td>\n",
       "      <td>13</td>\n",
       "    </tr>\n",
       "  </tbody>\n",
       "</table>\n",
       "<p>700 rows × 4 columns</p>\n",
       "</div>"
      ],
      "text/plain": [
       "    name  gender  message  BirthYear\n",
       "0    林克毅       1     1944          0\n",
       "1    林文雄       1     1940          0\n",
       "2    詹有為       1     1944          0\n",
       "3    宣凱兒       0     1944          0\n",
       "4    蔡秀繼       1     1944          0\n",
       "..   ...     ...      ...        ...\n",
       "695  洪正洋       1     2005         13\n",
       "696  符睿妤       0     2005         13\n",
       "697  李芝嫻       0     2006         13\n",
       "698  黃韻嘉       0     2005         13\n",
       "699  湯進冠       1     2005         13\n",
       "\n",
       "[700 rows x 4 columns]"
      ]
     },
     "execution_count": 136,
     "metadata": {},
     "output_type": "execute_result"
    }
   ],
   "source": [
    "test_df"
   ]
  },
  {
   "cell_type": "code",
   "execution_count": 85,
   "metadata": {},
   "outputs": [
    {
     "name": "stdout",
     "output_type": "stream",
     "text": [
      "車和道 抱歉，請提供詳細姓名，以便我為您提供正確的回答。\n",
      "向後退 請問有什麼需要幫忙的嗎？\n",
      "林逼 抱歉，我無法為此名字提供年齡和性別的資訊，因為「林逼」並非合法的中文名字，也不符合常見的名字用法和稱呼規範。請提供正確的中文名字，以便我能提供正確的回答。\n",
      "樂抹茶 很抱歉，樂抹茶不是一個人名，請您提供正確的人名以便補完年齡和性別的資料，謝謝！\n",
      "元嘎 {\"元嘎\": {\"gender\": \"男\", \"age\": 25}}\n",
      "賴姳蒨 抱歉，我無法提供賴姳蒨的年齡與性別，因為我無法從這個名字分辨出來。\n",
      "陳宓楚 {\"陳宓楚\": {\"gender\": \"女\", \"age\": 25}}\n",
      "鄭亦喬 {\"鄭亦喬\": {\"gender\": \"女\", \"age\": 27}}\n",
      "陳椴子 {\"陳椴子\": {\"gender\": \"男\", \"age\": 40}}\n",
      "廖珮君 {\"廖珮君\": {\"gender\": \"女\", \"age\": 30}}\n",
      "劉功俊 {\"劉功俊\": {\"gender\": \"男\", \"age\": 35}}\n",
      "洪元浩 {\"洪元浩\": {\"gender\": \"男\", \"age\": 40}}\n",
      "廖琳琳 {\"廖琳琳\": {\"gender\":  \"女\", \"age\": 28}}\n",
      "林恩生 {\"林恩生\": {\"gender\": \"男\", \"age\": 40}}\n",
      "賴宇嬅 {\"賴宇嬅\": {\"gender\": \"女\", \"age\": 25}}\n",
      "邱致升 {\"邱致升\": {\"gender\": \"男\", \"age\": 33}}\n",
      "楊惠宇 {\"楊惠宇\": {\"gender\": \"男\", \"age\": 28}}\n",
      "楊柏皓 {\"楊柏皓\": {\"gender\": \"男\", \"age\": 26}}\n",
      "周縝曦 {\"周縝曦\": {\"gender\": \"男\", \"age\": 28}}\n",
      "吳薇 {\"吳薇\":{\"gender\": \"女\", \"age\": 35}}\n",
      "游至誠 {\"游至誠\": {\"gender\": \"男\", \"age\": 31}}\n",
      "蔡逸明 {\"蔡逸明\": {\"gender\": \"男\", \"age\": 35}}\n",
      "賴孟孟 {\"賴孟孟\": {\"gender\": \"女\", \"age\": 25}}\n",
      "洪正洋 {\"洪正洋\": {\"gender\": \"男\", \"age\": 30}}\n",
      "符睿妤 {\"符睿妤\": {\"gender\": \"女\", \"age\": 25}}\n",
      "李芝嫻 {\"李芝嫻\": {\"gender\": \"女\", \"age\": 35}}\n",
      "黃韻嘉 {\"黃韻嘉\": {\"gender\": \"女\", \"age\": 28}}\n",
      "湯進冠 {\"湯進冠\": {\"gender\": \"男\", \"age\": 30}}\n"
     ]
    }
   ],
   "source": [
    "# A ver\n",
    "for name in test_df['name']:\n",
    "    if name in predict_result and predict_result[name] is not None:\n",
    "        continue\n",
    "    messageList = initialize()\n",
    "    responseMessage = get_response(name, messageList)\n",
    "    if \"男,\" in responseMessage or \"女,\" in responseMessage:    \n",
    "        responseMessage = responseMessage.replace(\"男\", \"\\\"男\\\"\").replace(\"女\", \"\\\"女\\\"\")\n",
    "    print(name, responseMessage)\n",
    "    try:\n",
    "        result = str_to_json(responseMessage)\n",
    "        predict_result[name] = result[name]\n",
    "\n",
    "    except:\n",
    "        predict_result[name] = None\n",
    "    time.sleep(6)"
   ]
  },
  {
   "attachments": {},
   "cell_type": "markdown",
   "metadata": {},
   "source": [
    "# validation"
   ]
  },
  {
   "cell_type": "code",
   "execution_count": 138,
   "metadata": {},
   "outputs": [
    {
     "name": "stdout",
     "output_type": "stream",
     "text": [
      "Result\n",
      "age_accuracy: 0.16305916305916307\n",
      "gender_accuracy: 0.8802308802308803\n",
      "avg_age_dist: 16.844260830390926\n"
     ]
    }
   ],
   "source": [
    "import numpy as np\n",
    "# Validation\n",
    "gender_accuracy = 0\n",
    "age_accuracy = 0\n",
    "age_dist = 0\n",
    "valid_predict = 0\n",
    "\n",
    "male_true = 0\n",
    "male_false = 0\n",
    "female_true = 0\n",
    "female_false = 0\n",
    "# 初始化混淆矩陣\n",
    "birth_year_confusion = np.zeros((14, 14))\n",
    "\n",
    "for i, name in enumerate(predict_result):\n",
    "    if predict_result[name] is None:\n",
    "        continue\n",
    "    valid_predict += 1\n",
    "    most_gender = name_df.query(f\"name == '{name}'\")['gender'].mode()[0]\n",
    "    avg_age = name_df.query(f\"name == '{name}'\")['message'].mean()\n",
    "    # print(name, predict_result[name])\n",
    "    if ((predict_result[name]['gender'] == \"男\" and most_gender == 1) or \n",
    "        (predict_result[name]['gender'] == \"女\" and most_gender == 0)\n",
    "        ):\n",
    "        gender_accuracy += 1\n",
    "        if predict_result[name]['gender'] == \"男\":\n",
    "            male_true += 1\n",
    "        else:\n",
    "            female_true += 1\n",
    "    else:\n",
    "        if predict_result[name]['gender'] == \"男\":\n",
    "            male_false += 1\n",
    "        else:\n",
    "            female_false += 1\n",
    "\n",
    "    predict_age = int(predict_result[name]['age'])\n",
    "    age_interval = int((avg_age - 1945)/5)\n",
    "    dis = abs(2021 - predict_age - avg_age)\n",
    "    \n",
    "    \n",
    "    if dis < 5:\n",
    "        age_accuracy += 1\n",
    "    age_dist += dis\n",
    "    birth_year_confusion[age_interval][int((2021 - predict_age - 1945 )/5)] += 1\n",
    "\n",
    "print(\"Result\")\n",
    "print(f\"age_accuracy: {age_accuracy/valid_predict}\")\n",
    "print(f\"gender_accuracy: {gender_accuracy/valid_predict}\")\n",
    "print(f\"avg_age_dist: {age_dist/valid_predict}\")\n"
   ]
  },
  {
   "attachments": {},
   "cell_type": "markdown",
   "metadata": {},
   "source": [
    "confusion matrix"
   ]
  },
  {
   "cell_type": "code",
   "execution_count": 95,
   "metadata": {},
   "outputs": [
    {
     "data": {
      "image/png": "[encoded data removed]",
      "text/plain": [
       "<Figure size 640x480 with 1 Axes>"
      ]
     },
     "metadata": {},
     "output_type": "display_data"
    },
    {
     "data": {
      "image/png": "[encoded data removed]",
      "text/plain": [
       "<Figure size 640x480 with 1 Axes>"
      ]
     },
     "metadata": {},
     "output_type": "display_data"
    }
   ],
   "source": [
    "import matplotlib.pyplot as plt\n",
    "\n",
    "import numpy as np\n",
    "\n",
    "# Compute confusion matrix\n",
    "def gender_confusion_matrix(male_true, male_false, female_false, female_true):\n",
    "    confusion_matrix = np.array([[male_true, male_false], [female_false, female_true]])\n",
    "\n",
    "    fig, ax = plt.subplots()\n",
    "    im = ax.imshow(confusion_matrix, cmap='Blues')\n",
    "\n",
    "    # Show all ticks\n",
    "    ax.set_xticks(np.arange(2))\n",
    "    ax.set_yticks(np.arange(2))\n",
    "\n",
    "    # Label ticks\n",
    "    ax.set_xticklabels(['Predicted Male', 'Predicted Female'])\n",
    "    ax.set_yticklabels(['Actual Male', 'Actual Female'])\n",
    "\n",
    "    # Rotate the tick labels and set their alignment\n",
    "    plt.setp(ax.get_xticklabels(), rotation=45, ha=\"right\",\n",
    "            rotation_mode=\"anchor\")\n",
    "\n",
    "    # Loop over data dimensions and create text annotations.\n",
    "    for i in range(2):\n",
    "        for j in range(2):\n",
    "            text = ax.text(j, i, confusion_matrix[i, j],\n",
    "                        ha=\"center\", va=\"center\", color=\"w\")\n",
    "\n",
    "    ax.set_title(\"Gender Confusion Matrix\")\n",
    "    fig.tight_layout()\n",
    "    plt.show()\n",
    "    \n",
    "gender_confusion_matrix(male_true, male_false, female_false, female_true)\n",
    "\n",
    "\n",
    "male_true_percent = round(male_true/valid_predict, 2) * 100\n",
    "male_false_percent = round(male_false/valid_predict, 2) * 100\n",
    "female_false_percent = round(female_false/valid_predict, 2) * 100\n",
    "female_true_percent = round(female_true/valid_predict, 2) * 100\n",
    "\n",
    "gender_confusion_matrix(male_true_percent, male_false_percent,female_false_percent, female_true_percent)\n"
   ]
  },
  {
   "cell_type": "code",
   "execution_count": 132,
   "metadata": {},
   "outputs": [
    {
     "data": {
      "image/png": "[encoded data removed]",
      "text/plain": [
       "<Figure size 1000x1000 with 2 Axes>"
      ]
     },
     "metadata": {},
     "output_type": "display_data"
    }
   ],
   "source": [
    "\n",
    "num_classes = len(birth_year_confusion)\n",
    "# 將結果整理成矩陣形式\n",
    "confusion_matrix = birth_year_confusion\n",
    "# 繪製confusion matrix\n",
    "plt.imshow(confusion_matrix, cmap='Blues')\n",
    "plt.colorbar()\n",
    "\n",
    "# 添加標籤\n",
    "plt.xticks(range(num_classes))\n",
    "plt.yticks(range(num_classes))\n",
    "plt.xlabel('Predicted')\n",
    "plt.ylabel('Actual')\n",
    "\n",
    "# 添加數值\n",
    "for i in range(num_classes):\n",
    "    for j in range(num_classes):\n",
    "        plt.text(j, i, confusion_matrix[i, j], ha='center', va='center', color='white')\n",
    "\n",
    "fig = plt.gcf()\n",
    "fig.set_size_inches(10, 10)\n",
    "plt.show()"
   ]
  },
  {
   "attachments": {},
   "cell_type": "markdown",
   "metadata": {},
   "source": [
    "# 結果:\n",
    "## gender predict略輸於一般RFC分類器的準確率, 88% vs 93% (RFC模型), 計算成本也比較大, \n",
    "## age predict 深藍色集中在中間的7~10的垂直, 也許是因為prompt不夠好, 模型認知上注意力放在平均, 又告訴他年齡範圍, 所以就會集中在中間, 而不是靠著對年代感的名字的認知去回答\n",
    "\n",
    "不過只是實驗看看模型的認知能力\n",
    "假如搭配langchain或是其他框架, 確實能穩定批次的來回對話進行某些的工作"
   ]
  },
  {
   "cell_type": "code",
   "execution_count": null,
   "metadata": {},
   "outputs": [],
   "source": []
  }
 ],
 "metadata": {
  "kernelspec": {
   "display_name": "Python 3",
   "language": "python",
   "name": "python3"
  },
  "language_info": {
   "codemirror_mode": {
    "name": "ipython",
    "version": 3
   },
   "file_extension": ".py",
   "mimetype": "text/x-python",
   "name": "python",
   "nbconvert_exporter": "python",
   "pygments_lexer": "ipython3",
   "version": "3.9.16"
  },
  "orig_nbformat": 4
 },
 "nbformat": 4,
 "nbformat_minor": 2
}
